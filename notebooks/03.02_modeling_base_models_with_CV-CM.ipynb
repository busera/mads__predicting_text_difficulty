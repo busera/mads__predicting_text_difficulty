{
 "cells": [
  {
   "attachments": {},
   "cell_type": "markdown",
   "metadata": {},
   "source": [
    "v1.2"
   ]
  },
  {
   "attachments": {},
   "cell_type": "markdown",
   "metadata": {
    "cell_id": "efd0a6ae80ff4b0eb7aaa66c202b201f",
    "deepnote_app_coordinates": {
     "h": 5,
     "w": 12,
     "x": 0,
     "y": 31
    },
    "deepnote_cell_type": "markdown",
    "id": "wd0JhzeqBzw0"
   },
   "source": [
    "The objective of this notebook is to: \n",
    "- get a baseline from various models\n",
    "- identify the best performing model(s)\n",
    "- calculate the **confusion matrix (CM)** per model\n"
   ]
  },
  {
   "attachments": {},
   "cell_type": "markdown",
   "metadata": {},
   "source": [
    "# Pre-checks"
   ]
  },
  {
   "cell_type": "code",
   "execution_count": 1,
   "metadata": {
    "colab": {
     "base_uri": "https://localhost:8080/"
    },
    "executionInfo": {
     "elapsed": 4044,
     "status": "ok",
     "timestamp": 1675750810778,
     "user": {
      "displayName": "Andre Buser",
      "userId": "11618601900135679464"
     },
     "user_tz": -60
    },
    "id": "2eUQpe7Ekc-7",
    "outputId": "5459f2d8-e1ac-43d8-e304-f98af688cd9c"
   },
   "outputs": [
    {
     "name": "stdout",
     "output_type": "stream",
     "text": [
      "Not a Goolge Drive Environment.\n"
     ]
    }
   ],
   "source": [
    "## Check for Google Drive Connectivity\n",
    "try:\n",
    "    from google.colab import drive\n",
    "    drive.mount('/content/drive')\n",
    "    google_env = True\n",
    "except:\n",
    "    print(\"Not a Goolge Drive Environment.\")\n",
    "    google_env = False"
   ]
  },
  {
   "cell_type": "code",
   "execution_count": 2,
   "metadata": {
    "id": "CI3ZQWF5kc-8"
   },
   "outputs": [],
   "source": [
    "import time\n",
    "t_start = time.time()"
   ]
  },
  {
   "cell_type": "code",
   "execution_count": 3,
   "metadata": {
    "colab": {
     "base_uri": "https://localhost:8080/"
    },
    "executionInfo": {
     "elapsed": 9,
     "status": "ok",
     "timestamp": 1675750810779,
     "user": {
      "displayName": "Andre Buser",
      "userId": "11618601900135679464"
     },
     "user_tz": -60
    },
    "id": "RIEGBEhBkc-9",
    "outputId": "08f1c67f-4b5e-41c5-a71e-a08e0d32579c"
   },
   "outputs": [
    {
     "name": "stdout",
     "output_type": "stream",
     "text": [
      "========================================================================================================================\n",
      "Fastrun enabled: False\n",
      "========================================================================================================================\n"
     ]
    }
   ],
   "source": [
    "# Use parameters to enable/disable the fastrun\n",
    "\n",
    "FASTRUN = False\n",
    "#FASTRUN = True\n",
    "\n",
    "# Size of the fastrun dataframe\n",
    "sample_fraction = 0.01\n",
    "print(\"===\"*40)\n",
    "print(\"Fastrun enabled:\", FASTRUN)\n",
    "if FASTRUN: print(\"Sample size:\",sample_fraction)\n",
    "print(\"===\"*40)"
   ]
  },
  {
   "cell_type": "markdown",
   "metadata": {
    "cell_id": "ce4b2a40079140debe6cb9f7ba8ba566",
    "deepnote_app_coordinates": {
     "h": 5,
     "w": 12,
     "x": 0,
     "y": 37
    },
    "deepnote_cell_type": "markdown",
    "id": "uZms1pauBzw0"
   },
   "source": [
    "# Setup Environment"
   ]
  },
  {
   "cell_type": "markdown",
   "metadata": {
    "cell_id": "6993a186ce3a4ca9bdeb521dc67fef84",
    "deepnote_app_coordinates": {
     "h": 5,
     "w": 12,
     "x": 0,
     "y": 43
    },
    "deepnote_cell_type": "markdown",
    "id": "FSazCCmDbqKg"
   },
   "source": [
    "## Install Modules"
   ]
  },
  {
   "cell_type": "code",
   "execution_count": 4,
   "metadata": {
    "cell_id": "e808b393977d4a1eba12a8239b2fa1bc",
    "colab": {
     "base_uri": "https://localhost:8080/"
    },
    "deepnote_app_coordinates": {
     "h": 5,
     "w": 12,
     "x": 0,
     "y": 49
    },
    "deepnote_cell_type": "code",
    "deepnote_to_be_reexecuted": false,
    "executionInfo": {
     "elapsed": 13858,
     "status": "ok",
     "timestamp": 1675750824629,
     "user": {
      "displayName": "Andre Buser",
      "userId": "11618601900135679464"
     },
     "user_tz": -60
    },
    "execution_millis": 12053,
    "execution_start": 1674675029196,
    "id": "1Vo8zBrWbqKg",
    "outputId": "11991c2f-13f0-4f69-acc4-dd9355a1ad14",
    "source_hash": "9d62d529"
   },
   "outputs": [],
   "source": [
    "# Required to document module versions\n",
    "#!pip install catboost\n",
    "#!pip install xgboost\n",
    "#!pip install icecream\n",
    "#!pip install watermark\n",
    "#!pip install fastparquet"
   ]
  },
  {
   "cell_type": "markdown",
   "metadata": {
    "cell_id": "cf5fb44122cb45dcb27e113023a329bd",
    "deepnote_app_coordinates": {
     "h": 5,
     "w": 12,
     "x": 0,
     "y": 55
    },
    "deepnote_cell_type": "markdown",
    "id": "hHwYAoFSBzw1"
   },
   "source": [
    "## Import Modules"
   ]
  },
  {
   "cell_type": "code",
   "execution_count": 5,
   "metadata": {
    "cell_id": "b51f954d03a54e45a7fcf884c28fa560",
    "deepnote_app_coordinates": {
     "h": 5,
     "w": 12,
     "x": 0,
     "y": 61
    },
    "deepnote_cell_type": "code",
    "deepnote_to_be_reexecuted": false,
    "execution_millis": 6,
    "execution_start": 1674675041654,
    "id": "nbk1jSYhBzw2",
    "source_hash": "e8c749b7"
   },
   "outputs": [],
   "source": [
    "# Base libraries\n",
    "import os\n",
    "from datetime import date\n",
    "\n",
    "# Scientific libraries\n",
    "import numpy as np\n",
    "import pandas as pd\n",
    "\n",
    "# Visualization\n",
    "import seaborn as sns\n",
    "import matplotlib.pyplot as plt\n",
    "sns.set(rc={'figure.figsize':(15,8)})\n",
    "sns.set(font_scale=0.8)\n",
    "\n",
    "# Helper libraries\n",
    "from watermark import watermark\n",
    "from icecream import ic\n",
    "import gc # garbage collection to optimize memory usage: use \"gc.collect()\"\n",
    "import warnings\n",
    "warnings.filterwarnings('ignore')\n",
    "\n",
    "# Pandas options\n",
    "pd.set_option('display.max_rows', None)\n",
    "pd.set_option('display.max_columns', None)\n",
    "pd.set_option('display.width', None)\n",
    "pd.set_option('display.max_colwidth', None)\n",
    "\n",
    "from IPython.core.interactiveshell import InteractiveShell\n",
    "InteractiveShell.ast_node_interactivity = 'all'\n",
    "\n",
    "# Load magic commands\n",
    "%load_ext watermark"
   ]
  },
  {
   "cell_type": "markdown",
   "metadata": {
    "cell_id": "357d4ec7e4dc4b5cb00a9d4784820af3",
    "deepnote_app_coordinates": {
     "h": 5,
     "w": 12,
     "x": 0,
     "y": 67
    },
    "deepnote_cell_type": "markdown",
    "id": "C46IJ3IeBzw5"
   },
   "source": [
    "## Global Parameters"
   ]
  },
  {
   "cell_type": "code",
   "execution_count": 6,
   "metadata": {
    "cell_id": "12276e6eeba84ec8b054fb0e74567396",
    "deepnote_app_coordinates": {
     "h": 5,
     "w": 12,
     "x": 0,
     "y": 73
    },
    "deepnote_cell_type": "code",
    "deepnote_to_be_reexecuted": false,
    "execution_millis": 0,
    "execution_start": 1674675046415,
    "id": "rVPFKtMUBzw6",
    "source_hash": "f985c896"
   },
   "outputs": [],
   "source": [
    "seed = 42\n",
    "cpu_count = os.cpu_count()\n",
    "cpu_count = cpu_count-2  # to keep machine responsive when fitting the models\n",
    "notebook_no = \"03.02\"\n"
   ]
  },
  {
   "cell_type": "markdown",
   "metadata": {
    "id": "mDx2BguMkc-_"
   },
   "source": [
    "## Global Helper Functions"
   ]
  },
  {
   "cell_type": "code",
   "execution_count": 7,
   "metadata": {
    "id": "Il-pqmRykc-_"
   },
   "outputs": [],
   "source": [
    "import http.client\n",
    "import urllib\n",
    "\n",
    "\n",
    "def send_push(message):\n",
    "    \"\"\"Send push notifications to pushover service.\"\"\"\n",
    "    try:\n",
    "        conn = http.client.HTTPSConnection(\"api.pushover.net:443\")\n",
    "        conn.request(\"POST\", \"/1/messages.json\",\n",
    "                     urllib.parse.urlencode({\n",
    "                         \"token\": \"ahs1q4mwpnxe3645zeaqzas69whq7a\",  # ML Notifications Channel\n",
    "                         \"user\": \"u5vr1qkc9ghudg2ehuug153okeiz1d\",\n",
    "                         \"message\": message,\n",
    "                     }), {\"Content-type\": \"application/x-www-form-urlencoded\"})\n",
    "\n",
    "        conn.getresponse()\n",
    "\n",
    "    except:\n",
    "        print(\"There was a communication issue (pushover).\")\n"
   ]
  },
  {
   "cell_type": "code",
   "execution_count": 8,
   "metadata": {
    "id": "rJ0Sdx7Ukc-_"
   },
   "outputs": [],
   "source": [
    "def fast_run_sampling(df, sample_fraction):\n",
    "    print(\"Labels before sampling:\\n\", df['label'].value_counts())\n",
    "\n",
    "    # Group by label to ensure to get a balanced sample fraction\n",
    "    df = df.groupby('label').sample(frac=sample_fraction, random_state=seed)\n",
    "    print(\"Labels after sampling:\\n\", df['label'].value_counts())\n",
    "\n",
    "    return df\n"
   ]
  },
  {
   "cell_type": "code",
   "execution_count": 9,
   "metadata": {},
   "outputs": [],
   "source": [
    "def calculate_duration(t_start, t_end):\n",
    "    total_runtime = t_end-t_start\n",
    "    total_runtime_min = round((total_runtime/60), 2)\n",
    "    print(str(total_runtime_min)+\" minutes\")\n",
    "\n",
    "    return total_runtime_min\n"
   ]
  },
  {
   "cell_type": "markdown",
   "metadata": {
    "cell_id": "2ef4055272a24692b1340494025c9627",
    "deepnote_app_coordinates": {
     "h": 5,
     "w": 12,
     "x": 0,
     "y": 79
    },
    "deepnote_cell_type": "markdown",
    "id": "6YBbHzbqBzw8"
   },
   "source": [
    "# 3.0 Load Data"
   ]
  },
  {
   "cell_type": "code",
   "execution_count": 10,
   "metadata": {
    "cell_id": "52d9d1ed15894e37b125a6d3360a81b6",
    "deepnote_app_coordinates": {
     "h": 5,
     "w": 12,
     "x": 0,
     "y": 91
    },
    "deepnote_cell_type": "code",
    "deepnote_to_be_reexecuted": false,
    "execution_millis": 14,
    "execution_start": 1674675060547,
    "id": "QUyCYBdWdeWq",
    "source_hash": "8d390177"
   },
   "outputs": [
    {
     "name": "stdout",
     "output_type": "stream",
     "text": [
      "Not a Google Drive Environment. Loading local files.\n"
     ]
    }
   ],
   "source": [
    "# Load Data\n",
    "if google_env:\n",
    "    # Location for \"shared with\" people\n",
    "    # create a shortcut of the shared folder in your Google Drive root folder\n",
    "    ROOT_PATH = \"/content/drive/MyDrive/SIADS696/Environment/\"\n",
    "else:\n",
    "    ROOT_PATH = \"../\"\n",
    "    print(\"Not a Google Drive Environment. Loading local files.\")\n",
    "\n",
    "PATH_DATA = \"data/\"\n",
    "PATH_DATA_RAW = \"data/raw/\"\n",
    "PATH_DATA_INT = \"data/interim/\"\n",
    "PATH_DATA_PRO = \"data/processed/\"\n",
    "PATH_DATA_MOD = \"models/\"\n",
    "PATH_DATA_REP = \"reports/\"\n",
    "\n",
    "# Dictionary to store file names and their corresponding dataframes\n",
    "files = {\n",
    "    \"train_features_clean_stats.parquet.gzip\": \"df_wiki_train_stats\",\n",
    "    \"test_features_clean_stats.parquet.gzip\": \"df_wiki_test_stats\",\n",
    "    \"train_features_rs.parquet.gzip\": \"df_wiki_train_rs\",\n",
    "    \"test_features_rs.parquet.gzip\": \"df_wiki_test_rs\",\n",
    "    \"train_features_nltk.parquet.gzip\": \"df_wiki_train_nltk\",\n",
    "    \"test_features_nltk.parquet.gzip\": \"df_wiki_test_nltk\",\n",
    "    \"train_features_aoa.parquet.gzip\": \"df_wiki_train_aoa\",\n",
    "    \"test_features_aoa.parquet.gzip\": \"df_wiki_test_aoa\",\n",
    "    \"train_features_crb.parquet.gzip\": \"df_wiki_train_crb\",\n",
    "    \"test_features_crb.parquet.gzip\": \"df_wiki_test_crb\",\n",
    "    \"train_features_w2v.parquet.gzip\": \"df_wiki_train_w2v\",\n",
    "    \"test_features_w2v.parquet.gzip\": \"df_wiki_test_w2v\",\n",
    "   # \"train_mNB_predict.parquet.gzip\": \"df_wiki_train_MNB\",  # data leakage risk\n",
    "   # \"test_mNB_predict.parquet.gzip\": \"df_wiki_test_MNB\",    # data leakage risk\n",
    "}\n",
    "\n",
    "# Load data into corresponding dataframes\n",
    "for file, df_name in files.items():\n",
    "    if df_name not in globals():\n",
    "        globals()[df_name] = pd.read_parquet(ROOT_PATH + PATH_DATA_INT + file)\n"
   ]
  },
  {
   "cell_type": "code",
   "execution_count": 11,
   "metadata": {
    "colab": {
     "base_uri": "https://localhost:8080/"
    },
    "executionInfo": {
     "elapsed": 8658,
     "status": "ok",
     "timestamp": 1675750850897,
     "user": {
      "displayName": "Andre Buser",
      "userId": "11618601900135679464"
     },
     "user_tz": -60
    },
    "id": "rMsS3Ko-kc_A",
    "outputId": "ff710b26-84ee-4f5d-9fe0-1599e7ab9ed2"
   },
   "outputs": [],
   "source": [
    "# Combine dataframes into one\n",
    "df_train = pd.DataFrame()\n",
    "df_train = pd.concat([df_train, df_wiki_train_stats], axis=1)\n",
    "df_train = pd.concat([df_train, df_wiki_train_rs], axis=1)\n",
    "df_train = pd.concat([df_train, df_wiki_train_nltk], axis=1)\n",
    "df_train = pd.concat([df_train, df_wiki_train_aoa], axis=1)\n",
    "df_train = pd.concat([df_train, df_wiki_train_crb], axis=1)\n",
    "df_train = pd.concat([df_train, df_wiki_train_w2v], axis=1)\n",
    "\n",
    "if FASTRUN:\n",
    "    df_train = fast_run_sampling(df_train, sample_fraction)\n"
   ]
  },
  {
   "cell_type": "code",
   "execution_count": 12,
   "metadata": {
    "colab": {
     "base_uri": "https://localhost:8080/"
    },
    "executionInfo": {
     "elapsed": 12,
     "status": "ok",
     "timestamp": 1675750850897,
     "user": {
      "displayName": "Andre Buser",
      "userId": "11618601900135679464"
     },
     "user_tz": -60
    },
    "id": "K129SkDFkc_B",
    "outputId": "1622b4c8-43a7-4276-caed-ba1649cac226"
   },
   "outputs": [
    {
     "name": "stderr",
     "output_type": "stream",
     "text": [
      "ic| df_train.shape: (416768, 155)\n"
     ]
    },
    {
     "data": {
      "text/plain": [
       "(416768, 155)"
      ]
     },
     "execution_count": 12,
     "metadata": {},
     "output_type": "execute_result"
    }
   ],
   "source": [
    "ic(df_train.shape)"
   ]
  },
  {
   "cell_type": "markdown",
   "metadata": {
    "cell_id": "7ecad741e37f4885a299146c8cda9633",
    "deepnote_app_coordinates": {
     "h": 5,
     "w": 12,
     "x": 0,
     "y": 115
    },
    "deepnote_cell_type": "markdown",
    "id": "CL9zJrfHr_iA"
   },
   "source": [
    "# 4.0 Base Models"
   ]
  },
  {
   "cell_type": "code",
   "execution_count": 13,
   "metadata": {
    "id": "rDk2gqIRkc_C"
   },
   "outputs": [],
   "source": [
    "# Model selection\n",
    "from sklearn.model_selection import StratifiedKFold\n",
    "\n",
    "# Scaling and pipeline\n",
    "from sklearn.preprocessing import MinMaxScaler\n",
    "from sklearn.pipeline import Pipeline\n",
    "\n",
    "# Linear models\n",
    "from sklearn.linear_model import LogisticRegression\n",
    "\n",
    "# Linear/Stochastic Gradient Descent\n",
    "from sklearn.linear_model import SGDClassifier \n",
    "\n",
    "# Tree models\n",
    "from sklearn.tree import DecisionTreeClassifier\n",
    "\n",
    "# NB models\n",
    "from sklearn.naive_bayes import GaussianNB\n",
    "from sklearn.naive_bayes import MultinomialNB\n",
    "\n",
    "# Neighbors models\n",
    "from sklearn.neighbors import KNeighborsClassifier\n",
    "\n",
    "# Ensemble models\n",
    "from sklearn.ensemble import ExtraTreesClassifier\n",
    "from sklearn.ensemble import RandomForestClassifier\n",
    "from sklearn.ensemble import VotingClassifier\n",
    "from xgboost import XGBClassifier\n",
    "from catboost import CatBoostClassifier\n",
    "\n",
    "from sklearn.model_selection import StratifiedKFold\n",
    "from sklearn.metrics import accuracy_score\n",
    "from sklearn.metrics import roc_curve\n",
    "from sklearn.metrics import auc\n",
    "from sklearn.metrics import confusion_matrix\n",
    "from sklearn.metrics import f1_score\n",
    "from sklearn.metrics import precision_score\n",
    "from sklearn.metrics import recall_score\n",
    "from sklearn.metrics import roc_auc_score"
   ]
  },
  {
   "cell_type": "code",
   "execution_count": 14,
   "metadata": {
    "colab": {
     "base_uri": "https://localhost:8080/"
    },
    "executionInfo": {
     "elapsed": 6,
     "status": "ok",
     "timestamp": 1675750855564,
     "user": {
      "displayName": "Andre Buser",
      "userId": "11618601900135679464"
     },
     "user_tz": -60
    },
    "id": "KclJ1EEQQ-YL",
    "outputId": "c00c52b4-b6ec-49df-d383-66a848c4f56a"
   },
   "outputs": [],
   "source": [
    "# Classifiers for voting classifier\n",
    "clf1 = ExtraTreesClassifier()\n",
    "clf2 = CatBoostClassifier(logging_level='Silent', random_seed=seed)\n",
    "clf3 = RandomForestClassifier(random_state=seed, n_jobs=cpu_count)\n",
    "clf4 = XGBClassifier()\n",
    "\n",
    "eclf1 = VotingClassifier(estimators=[(\n",
    "    'ExTrees', clf1), ('CatBoost', clf2), ('RF', clf3), ('XGB', clf4)], voting='soft')\n"
   ]
  },
  {
   "cell_type": "code",
   "execution_count": 15,
   "metadata": {
    "id": "uNadm0zUkc_C"
   },
   "outputs": [],
   "source": [
    "model_pipeline = {\n",
    "    'Random Forest': RandomForestClassifier(random_state=seed, n_jobs=cpu_count),\n",
    "    #'Extra Trees': ExtraTreesClassifier(),\n",
    "    #'XGBoost': XGBClassifier(),\n",
    "    #'CatBoost': CatBoostClassifier(logging_level='Silent', random_seed=seed),\n",
    "    'Logistic Regression': LogisticRegression(random_state=seed, n_jobs=cpu_count, max_iter=3000),\n",
    "    'Gaussian NB': GaussianNB(),\n",
    "    'Multinomial NB': MultinomialNB(),\n",
    "    'Decision Tree': DecisionTreeClassifier(),\n",
    "    #'Voting CLF': eclf1,\n",
    "    #'MLP Classifier': MLPClassifier(solver='lbfgs', random_state=seed, activation='logistic'),\n",
    "    #'SGDC': SGDClassifier(),\n",
    "    #'Dummy': DummyClassifier(),\n",
    "    'KNeighbors': KNeighborsClassifier(),\n",
    "    #'Lasso': Lasso(),      # produces nan\n",
    "    #'Ridge': Ridge(),      # produces nan\n",
    "    #'ENET': ElasticNet(),  # produces nan\n",
    "}\n",
    "\n",
    "#KNC required a lot computational resources because it \"memorizes all samples\"; \n",
    "#could be disabled later; however we need a algo from this model family"
   ]
  },
  {
   "cell_type": "code",
   "execution_count": 16,
   "metadata": {},
   "outputs": [
    {
     "name": "stderr",
     "output_type": "stream",
     "text": [
      "ic| X.shape: (416768, 151)\n",
      "ic| y.shape: (416768,)\n"
     ]
    }
   ],
   "source": [
    "X_columns_train = df_train.columns.to_list()\n",
    "X_columns_train = list(set(X_columns_train) -\n",
    "                       {\"label\", \"original_text\", \"cleaned_text\", \"stats_language_code\"})\n",
    "\n",
    "X = df_train[X_columns_train].copy()\n",
    "y = df_train[\"label\"]\n",
    "\n",
    "ic(X.shape);\n",
    "ic(y.shape);\n"
   ]
  },
  {
   "cell_type": "code",
   "execution_count": 17,
   "metadata": {},
   "outputs": [],
   "source": [
    "k=10\n",
    "skfold = StratifiedKFold(n_splits=k)\n",
    "rf = RandomForestClassifier(random_state=seed, n_jobs=-1)\n",
    "scaler = MinMaxScaler((0, 1))\n"
   ]
  },
  {
   "cell_type": "code",
   "execution_count": 18,
   "metadata": {
    "colab": {
     "base_uri": "https://localhost:8080/"
    },
    "id": "KE0OUJRjNxg-",
    "outputId": "2a86602a-9bbd-4dd1-a6eb-ad17bd4e2cdd"
   },
   "outputs": [
    {
     "data": {
      "text/plain": [
       "16"
      ]
     },
     "execution_count": 18,
     "metadata": {},
     "output_type": "execute_result"
    },
    {
     "name": "stdout",
     "output_type": "stream",
     "text": [
      "\n",
      "Fitting: Random Forest\n",
      "ACC 0.7486539264550902\n"
     ]
    },
    {
     "data": {
      "text/plain": [
       "48"
      ]
     },
     "execution_count": 18,
     "metadata": {},
     "output_type": "execute_result"
    },
    {
     "name": "stdout",
     "output_type": "stream",
     "text": [
      "\n",
      "Fitting: Logistic Regression\n"
     ]
    },
    {
     "name": "stderr",
     "output_type": "stream",
     "text": [
      "/Users/busera/Miniconda/miniconda3/envs/siads696/lib/python3.9/site-packages/sklearn/linear_model/_logistic.py:458: ConvergenceWarning: lbfgs failed to converge (status=1):\n",
      "STOP: TOTAL NO. of ITERATIONS REACHED LIMIT.\n",
      "\n",
      "Increase the number of iterations (max_iter) or scale the data as shown in:\n",
      "    https://scikit-learn.org/stable/modules/preprocessing.html\n",
      "Please also refer to the documentation for alternative solver options:\n",
      "    https://scikit-learn.org/stable/modules/linear_model.html#logistic-regression\n",
      "  n_iter_i = _check_optimize_result(\n",
      "/Users/busera/Miniconda/miniconda3/envs/siads696/lib/python3.9/site-packages/sklearn/linear_model/_logistic.py:458: ConvergenceWarning: lbfgs failed to converge (status=1):\n",
      "STOP: TOTAL NO. of ITERATIONS REACHED LIMIT.\n",
      "\n",
      "Increase the number of iterations (max_iter) or scale the data as shown in:\n",
      "    https://scikit-learn.org/stable/modules/preprocessing.html\n",
      "Please also refer to the documentation for alternative solver options:\n",
      "    https://scikit-learn.org/stable/modules/linear_model.html#logistic-regression\n",
      "  n_iter_i = _check_optimize_result(\n"
     ]
    },
    {
     "name": "stdout",
     "output_type": "stream",
     "text": [
      "ACC 0.6659988253232807\n"
     ]
    },
    {
     "data": {
      "text/plain": [
       "404"
      ]
     },
     "execution_count": 18,
     "metadata": {},
     "output_type": "execute_result"
    },
    {
     "name": "stdout",
     "output_type": "stream",
     "text": [
      "\n",
      "Fitting: Gaussian NB\n",
      "ACC 0.6199348256420776\n"
     ]
    },
    {
     "data": {
      "text/plain": [
       "0"
      ]
     },
     "execution_count": 18,
     "metadata": {},
     "output_type": "execute_result"
    },
    {
     "name": "stdout",
     "output_type": "stream",
     "text": [
      "\n",
      "Fitting: Multinomial NB\n",
      "ACC 0.6132572455172494\n"
     ]
    },
    {
     "data": {
      "text/plain": [
       "0"
      ]
     },
     "execution_count": 18,
     "metadata": {},
     "output_type": "execute_result"
    },
    {
     "name": "stdout",
     "output_type": "stream",
     "text": [
      "\n",
      "Fitting: Decision Tree\n",
      "ACC 0.6943863266568687\n"
     ]
    },
    {
     "data": {
      "text/plain": [
       "0"
      ]
     },
     "execution_count": 18,
     "metadata": {},
     "output_type": "execute_result"
    },
    {
     "name": "stdout",
     "output_type": "stream",
     "text": [
      "\n",
      "Fitting: KNC\n",
      "ACC 0.6673377009987846\n"
     ]
    }
   ],
   "source": [
    "acc_list = []\n",
    "recall_list = []\n",
    "precision_list = []\n",
    "f1_list = []\n",
    "auc_list = []\n",
    "cm_list = []\n",
    "\n",
    "for name, model in model_pipeline.items():\n",
    "    gc.collect()\n",
    "    print(\"\")\n",
    "    print(\"Fitting:\", name)\n",
    "    \n",
    "    acc_list_temp = []\n",
    "    recall_list_temp = []\n",
    "    precision_list_temp = []\n",
    "    f1_list_temp = []\n",
    "    auc_list_temp = []\n",
    "    cm_list_temp = []\n",
    "    predicted_targets = np.array([])\n",
    "    actual_targets = np.array([])\n",
    "\n",
    "    for train_index, test_index in skfold.split(X, y):\n",
    "        X_train, X_test = X.iloc[train_index, :], X.iloc[test_index, :]\n",
    "        y_train, y_test = y.iloc[train_index], y.iloc[test_index]\n",
    "\n",
    "        # Scaling\n",
    "        X_train = scaler.fit_transform(X_train)\n",
    "        X_test = scaler.transform(X_test)\n",
    "\n",
    "        _ = model.fit(X_train, y_train)\n",
    "        y_pred = model.predict(X_test)\n",
    "\n",
    "        acc_list_temp.append(accuracy_score(y_test, y_pred))\n",
    "        recall_list_temp.append(recall_score(y_test, y_pred))\n",
    "        precision_list_temp.append(precision_score(y_test, y_pred))\n",
    "        f1_list_temp.append(f1_score(y_test, y_pred))\n",
    "        auc_list_temp.append(roc_auc_score(y_test, y_pred))\n",
    "        \n",
    "        # Append targets to calculate confusion matrix later (average values)\n",
    "        predicted_targets = np.append(predicted_targets, y_pred)\n",
    "        actual_targets = np.append(actual_targets, y_test)\n",
    "    \n",
    "    acc_list.append(np.mean(acc_list_temp))\n",
    "    recall_list.append(np.mean(recall_list_temp))\n",
    "    precision_list.append(np.mean(precision_list_temp))\n",
    "    f1_list.append(np.mean(f1_list_temp))\n",
    "    auc_list.append(np.mean(auc_list_temp))\n",
    "\n",
    "    # Calculate confusion matrix with target values from the kfold run\n",
    "    cm_list.append(confusion_matrix(actual_targets, predicted_targets))\n",
    "\n",
    "    if not FASTRUN:\n",
    "        message = (f\"KFOLD cross-validation accuracy score base model {name}:\", np.mean(acc_list_temp))\n",
    "        send_push(message)\n",
    "            \n",
    "    print(\"ACC\", np.mean(acc_list_temp))\n"
   ]
  },
  {
   "cell_type": "code",
   "execution_count": 19,
   "metadata": {
    "id": "ygbEBJwFRrRs"
   },
   "outputs": [],
   "source": [
    "if not FASTRUN:\n",
    "    send_push(\"KFOLD Cross-validation base models finished.\")"
   ]
  },
  {
   "cell_type": "code",
   "execution_count": 20,
   "metadata": {
    "id": "eO6fcdupNxg-"
   },
   "outputs": [],
   "source": [
    "def style_highlight_max(s):\n",
    "    if s.dtype == np.object:\n",
    "        is_max = [False for _ in range(s.shape[0])]\n",
    "    else:\n",
    "        is_max = s == s.max()\n",
    "    return ['background: darkgreen' if cell else '' for cell in is_max]"
   ]
  },
  {
   "cell_type": "code",
   "execution_count": 21,
   "metadata": {
    "id": "2GkLTF5ONxg-"
   },
   "outputs": [
    {
     "data": {
      "text/html": [
       "<style type=\"text/css\">\n",
       "#T_de31a caption {\n",
       "  caption-side: bottom;\n",
       "  font-size: 0.9em;\n",
       "}\n",
       "#T_de31a_row0_col0, #T_de31a_row0_col1, #T_de31a_row0_col2, #T_de31a_row0_col3, #T_de31a_row0_col4, #T_de31a_row0_col5, #T_de31a_row1_col0, #T_de31a_row1_col1, #T_de31a_row1_col2, #T_de31a_row1_col3, #T_de31a_row1_col4, #T_de31a_row1_col5, #T_de31a_row2_col0, #T_de31a_row2_col1, #T_de31a_row2_col2, #T_de31a_row2_col3, #T_de31a_row2_col4, #T_de31a_row2_col5, #T_de31a_row3_col0, #T_de31a_row3_col1, #T_de31a_row3_col2, #T_de31a_row3_col3, #T_de31a_row3_col4, #T_de31a_row3_col5, #T_de31a_row4_col0, #T_de31a_row4_col1, #T_de31a_row4_col2, #T_de31a_row4_col3, #T_de31a_row4_col4, #T_de31a_row4_col5, #T_de31a_row5_col0, #T_de31a_row5_col1, #T_de31a_row5_col2, #T_de31a_row5_col3, #T_de31a_row5_col4, #T_de31a_row5_col5 {\n",
       "  text-align: center;\n",
       "}\n",
       "</style>\n",
       "<table id=\"T_de31a\">\n",
       "  <caption><br>Cross-Validation Scores with kFold=10<br>Fastrun enabled:False</caption>\n",
       "  <thead>\n",
       "    <tr>\n",
       "      <th id=\"T_de31a_level0_col0\" class=\"col_heading level0 col0\" >Model</th>\n",
       "      <th id=\"T_de31a_level0_col1\" class=\"col_heading level0 col1\" >Accuracy</th>\n",
       "      <th id=\"T_de31a_level0_col2\" class=\"col_heading level0 col2\" >Precision</th>\n",
       "      <th id=\"T_de31a_level0_col3\" class=\"col_heading level0 col3\" >Recall</th>\n",
       "      <th id=\"T_de31a_level0_col4\" class=\"col_heading level0 col4\" >F1</th>\n",
       "      <th id=\"T_de31a_level0_col5\" class=\"col_heading level0 col5\" >AUC</th>\n",
       "    </tr>\n",
       "  </thead>\n",
       "  <tbody>\n",
       "    <tr>\n",
       "      <td id=\"T_de31a_row0_col0\" class=\"data row0 col0\" >Random Forest</td>\n",
       "      <td id=\"T_de31a_row0_col1\" class=\"data row0 col1\" >0.749</td>\n",
       "      <td id=\"T_de31a_row0_col2\" class=\"data row0 col2\" >0.742</td>\n",
       "      <td id=\"T_de31a_row0_col3\" class=\"data row0 col3\" >0.763</td>\n",
       "      <td id=\"T_de31a_row0_col4\" class=\"data row0 col4\" >0.752</td>\n",
       "      <td id=\"T_de31a_row0_col5\" class=\"data row0 col5\" >0.749</td>\n",
       "    </tr>\n",
       "    <tr>\n",
       "      <td id=\"T_de31a_row1_col0\" class=\"data row1 col0\" >Logistic Regression</td>\n",
       "      <td id=\"T_de31a_row1_col1\" class=\"data row1 col1\" >0.666</td>\n",
       "      <td id=\"T_de31a_row1_col2\" class=\"data row1 col2\" >0.664</td>\n",
       "      <td id=\"T_de31a_row1_col3\" class=\"data row1 col3\" >0.674</td>\n",
       "      <td id=\"T_de31a_row1_col4\" class=\"data row1 col4\" >0.668</td>\n",
       "      <td id=\"T_de31a_row1_col5\" class=\"data row1 col5\" >0.666</td>\n",
       "    </tr>\n",
       "    <tr>\n",
       "      <td id=\"T_de31a_row2_col0\" class=\"data row2 col0\" >Gaussian NB</td>\n",
       "      <td id=\"T_de31a_row2_col1\" class=\"data row2 col1\" >0.620</td>\n",
       "      <td id=\"T_de31a_row2_col2\" class=\"data row2 col2\" >0.596</td>\n",
       "      <td id=\"T_de31a_row2_col3\" class=\"data row2 col3\" >0.748</td>\n",
       "      <td id=\"T_de31a_row2_col4\" class=\"data row2 col4\" >0.663</td>\n",
       "      <td id=\"T_de31a_row2_col5\" class=\"data row2 col5\" >0.620</td>\n",
       "    </tr>\n",
       "    <tr>\n",
       "      <td id=\"T_de31a_row3_col0\" class=\"data row3 col0\" >Multinomial NB</td>\n",
       "      <td id=\"T_de31a_row3_col1\" class=\"data row3 col1\" >0.613</td>\n",
       "      <td id=\"T_de31a_row3_col2\" class=\"data row3 col2\" >0.632</td>\n",
       "      <td id=\"T_de31a_row3_col3\" class=\"data row3 col3\" >0.542</td>\n",
       "      <td id=\"T_de31a_row3_col4\" class=\"data row3 col4\" >0.583</td>\n",
       "      <td id=\"T_de31a_row3_col5\" class=\"data row3 col5\" >0.613</td>\n",
       "    </tr>\n",
       "    <tr>\n",
       "      <td id=\"T_de31a_row4_col0\" class=\"data row4 col0\" >Decision Tree</td>\n",
       "      <td id=\"T_de31a_row4_col1\" class=\"data row4 col1\" >0.694</td>\n",
       "      <td id=\"T_de31a_row4_col2\" class=\"data row4 col2\" >0.696</td>\n",
       "      <td id=\"T_de31a_row4_col3\" class=\"data row4 col3\" >0.690</td>\n",
       "      <td id=\"T_de31a_row4_col4\" class=\"data row4 col4\" >0.693</td>\n",
       "      <td id=\"T_de31a_row4_col5\" class=\"data row4 col5\" >0.694</td>\n",
       "    </tr>\n",
       "    <tr>\n",
       "      <td id=\"T_de31a_row5_col0\" class=\"data row5 col0\" >KNC</td>\n",
       "      <td id=\"T_de31a_row5_col1\" class=\"data row5 col1\" >0.667</td>\n",
       "      <td id=\"T_de31a_row5_col2\" class=\"data row5 col2\" >0.660</td>\n",
       "      <td id=\"T_de31a_row5_col3\" class=\"data row5 col3\" >0.692</td>\n",
       "      <td id=\"T_de31a_row5_col4\" class=\"data row5 col4\" >0.675</td>\n",
       "      <td id=\"T_de31a_row5_col5\" class=\"data row5 col5\" >0.667</td>\n",
       "    </tr>\n",
       "  </tbody>\n",
       "</table>\n"
      ],
      "text/plain": [
       "<pandas.io.formats.style.Styler at 0x2e7547fa0>"
      ]
     },
     "execution_count": 21,
     "metadata": {},
     "output_type": "execute_result"
    }
   ],
   "source": [
    "result_df = pd.DataFrame({\n",
    "    'Model': model_pipeline.keys(),\n",
    "    'Accuracy': acc_list, \n",
    "    'Precision': precision_list,\n",
    "    'Recall': recall_list,\n",
    "    'F1': f1_list,\n",
    "    'AUC': auc_list})\n",
    "\n",
    "\n",
    "# The highlighting does not work for the moment:  .apply(style_highlight_max)\\  some numpy array arrow\n",
    "# It works for the FASTRUN but not for the full run\n",
    "result_df.style\\\n",
    "    .set_properties(**{'text-align': 'center'})\\\n",
    "    .format(\n",
    "        {\n",
    "            'Accuracy': '{:,.3f}',\n",
    "            'Recall': '{:,.3f}',\n",
    "            'Precision': '{:,.3f}',\n",
    "            'F1': '{:,.3f}',\n",
    "            'AUC': '{:,.3f}',\n",
    "        })\\\n",
    "    .set_caption(f'<br>Cross-Validation Scores with kFold={k}<br>Fastrun enabled:{FASTRUN}')\\\n",
    "    .set_table_styles([{\n",
    "        'selector': 'caption',\n",
    "        'props': 'caption-side: bottom; font-size:0.9em;'}], overwrite=False)\\\n",
    "    .hide_index()\n"
   ]
  },
  {
   "cell_type": "code",
   "execution_count": 22,
   "metadata": {},
   "outputs": [],
   "source": [
    "today = date.today()"
   ]
  },
  {
   "cell_type": "code",
   "execution_count": 23,
   "metadata": {
    "id": "JKeD1Jx9Nxg_"
   },
   "outputs": [
    {
     "data": {
      "image/png": "[encoded data removed]",
      "text/plain": [
       "<Figure size 1400x800 with 6 Axes>"
      ]
     },
     "metadata": {},
     "output_type": "display_data"
    }
   ],
   "source": [
    "# plot confusion matrix\n",
    "fig = plt.figure(figsize = (14,8))\n",
    "\n",
    "# Increase font size\n",
    "sns.set(font_scale=1)\n",
    "\n",
    "# Adjust the subplot layout parameters (space between subplots)\n",
    "fig.subplots_adjust(hspace=0.4, wspace=0.4)\n",
    "\n",
    "model_list = list(model_pipeline.keys())\n",
    "\n",
    "for i in range(len(cm_list)):\n",
    "    cm = cm_list[i]\n",
    "    model = model_list[i]\n",
    "    sub = fig.add_subplot (2, 3, i+1).set_title(model)\n",
    "    cm_plot = sns.heatmap(cm, annot=True, cmap = 'Blues_r', fmt='g', cbar=False); \n",
    "    _ = cm_plot.set_xlabel('Predicted Values');\n",
    "    _ = cm_plot.set_ylabel('Actual Values');\n",
    "\n",
    "# Save the figure\n",
    "plt.savefig(ROOT_PATH+PATH_DATA_REP+f'figures/{today}_base_models_CV{k}_confusion_matrix_{notebook_no}.png')"
   ]
  },
  {
   "cell_type": "code",
   "execution_count": 24,
   "metadata": {},
   "outputs": [
    {
     "name": "stdout",
     "output_type": "stream",
     "text": [
      "30.24 minutes\n"
     ]
    }
   ],
   "source": [
    "t_end = time.time()\n",
    "calculate_duration(t_start, t_end);\n"
   ]
  },
  {
   "attachments": {},
   "cell_type": "markdown",
   "metadata": {},
   "source": [
    "# Export"
   ]
  },
  {
   "cell_type": "code",
   "execution_count": 25,
   "metadata": {},
   "outputs": [],
   "source": [
    "today = date.today()\n",
    "\n",
    "if not FASTRUN:\n",
    "    result_df.to_csv(\n",
    "        ROOT_PATH+PATH_DATA_REP+f\"{today}_base_models_KFOLD{k}_scores_table_{notebook_no}.csv\", index=False)\n",
    "   "
   ]
  },
  {
   "cell_type": "markdown",
   "metadata": {
    "cell_id": "7cff3bd86533418a9c15c4f9dfcccde6",
    "deepnote_app_coordinates": {
     "h": 5,
     "w": 12,
     "x": 0,
     "y": 235
    },
    "deepnote_cell_type": "markdown",
    "id": "ti9wgudgBzw9"
   },
   "source": [
    "# Watermark"
   ]
  },
  {
   "cell_type": "code",
   "execution_count": 26,
   "metadata": {
    "cell_id": "45a6cb036a284a63a571810ee439aeae",
    "deepnote_app_coordinates": {
     "h": 5,
     "w": 12,
     "x": 0,
     "y": 241
    },
    "deepnote_cell_type": "code",
    "deepnote_to_be_reexecuted": true,
    "execution_millis": 42,
    "execution_start": 1674563448577,
    "id": "f7PuaC1JBzw-",
    "source_hash": "ee060237"
   },
   "outputs": [
    {
     "name": "stdout",
     "output_type": "stream",
     "text": [
      "Last updated: 2023-02-27T12:44:35.219241+01:00\n",
      "\n",
      "Python implementation: CPython\n",
      "Python version       : 3.9.0\n",
      "IPython version      : 8.9.0\n",
      "\n",
      "Compiler    : Clang 11.0.0 \n",
      "OS          : Darwin\n",
      "Release     : 22.3.0\n",
      "Machine     : arm64\n",
      "Processor   : arm\n",
      "CPU cores   : 10\n",
      "Architecture: 64bit\n",
      "\n"
     ]
    }
   ],
   "source": [
    "%watermark"
   ]
  },
  {
   "cell_type": "code",
   "execution_count": 27,
   "metadata": {
    "cell_id": "49184b42a9124b75992040c1edb02f3f",
    "deepnote_app_coordinates": {
     "h": 5,
     "w": 12,
     "x": 0,
     "y": 247
    },
    "deepnote_cell_type": "code",
    "deepnote_to_be_reexecuted": true,
    "execution_millis": 37,
    "execution_start": 1674563451701,
    "id": "SU12PVZ2BzxA",
    "source_hash": "82959e25"
   },
   "outputs": [
    {
     "name": "stdout",
     "output_type": "stream",
     "text": [
      "matplotlib: 3.6.3\n",
      "numpy     : 1.23.5\n",
      "seaborn   : 0.12.2\n",
      "pandas    : 1.5.3\n",
      "\n"
     ]
    }
   ],
   "source": [
    "%watermark --iversions"
   ]
  },
  {
   "cell_type": "code",
   "execution_count": 28,
   "metadata": {},
   "outputs": [
    {
     "name": "stdout",
     "output_type": "stream",
     "text": [
      "[NbConvertApp] Converting notebook 03.02_modeling_base_models_with_CM_GC.ipynb to html\n",
      "[NbConvertApp] Writing 745773 bytes to ../reports/html/2023-02-27_03.02_modeling_base_models_with_CM_GC.html\n"
     ]
    }
   ],
   "source": [
    "output_file = f'{ROOT_PATH}{PATH_DATA_REP}/html/{today}_03.02_modeling_base_models_with_CM.html'\n",
    "!jupyter nbconvert --to html \"03.02_modeling_base_models_with_CM.ipynb\" --output {output_file}"
   ]
  }
 ],
 "metadata": {
  "colab": {
   "collapsed_sections": [
    "FSazCCmDbqKg"
   ],
   "provenance": []
  },
  "deepnote": {},
  "deepnote_app_layout": "article",
  "deepnote_execution_queue": [],
  "deepnote_notebook_id": "9a9c04096ce744f096ec4c3e58773e56",
  "deepnote_persisted_session": {
   "createdAt": "2023-01-25T20:01:30.909Z"
  },
  "kernelspec": {
   "display_name": "siads696",
   "language": "python",
   "name": "python3"
  },
  "language_info": {
   "codemirror_mode": {
    "name": "ipython",
    "version": 3
   },
   "file_extension": ".py",
   "mimetype": "text/x-python",
   "name": "python",
   "nbconvert_exporter": "python",
   "pygments_lexer": "ipython3",
   "version": "3.9.0"
  },
  "vscode": {
   "interpreter": {
    "hash": "e06bb46ff2b522e8ed41cde06a3284743bf4ee3b709766dafa5d4f926bdfb013"
   }
  }
 },
 "nbformat": 4,
 "nbformat_minor": 0
}
