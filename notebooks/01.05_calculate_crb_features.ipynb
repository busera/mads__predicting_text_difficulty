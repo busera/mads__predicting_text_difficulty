{
 "cells": [
  {
   "cell_type": "code",
   "execution_count": 1,
   "metadata": {
    "colab": {
     "base_uri": "https://localhost:8080/"
    },
    "executionInfo": {
     "elapsed": 19413,
     "status": "ok",
     "timestamp": 1675456174249,
     "user": {
      "displayName": "V A",
      "userId": "07747803009706112600"
     },
     "user_tz": -60
    },
    "id": "9TYyw4BBysVv",
    "outputId": "ca917e18-8859-4642-d9c3-421386a5dd2f"
   },
   "outputs": [
    {
     "name": "stdout",
     "output_type": "stream",
     "text": [
      "Mounted at /content/drive\n"
     ]
    }
   ],
   "source": [
    "from google.colab import drive\n",
    "drive.mount('/content/drive')"
   ]
  },
  {
   "cell_type": "code",
   "execution_count": 2,
   "metadata": {
    "executionInfo": {
     "elapsed": 7,
     "status": "ok",
     "timestamp": 1675456174250,
     "user": {
      "displayName": "V A",
      "userId": "07747803009706112600"
     },
     "user_tz": -60
    },
    "id": "QS1ULoXuyqVi"
   },
   "outputs": [],
   "source": [
    "import time\n",
    "t_start = time.time()"
   ]
  },
  {
   "cell_type": "markdown",
   "metadata": {
    "id": "Fkm1Nh1PjkGk"
   },
   "source": [
    "# 1.0 Documentation"
   ]
  },
  {
   "cell_type": "markdown",
   "metadata": {
    "id": "1lUw7HbYBzwo"
   },
   "source": [
    "## History"
   ]
  },
  {
   "cell_type": "markdown",
   "metadata": {
    "id": "-ZC4hGisyqVk"
   },
   "source": [
    "| Date | Version | Author | Comments |\n",
    "|:-----|:-------:|:-------|:---------|\n",
    "|2023-01-27 | 1.0 | Andre Buser | - Initial version |\n"
   ]
  },
  {
   "cell_type": "markdown",
   "metadata": {
    "id": "Lvxxm8GgBzwz"
   },
   "source": [
    "## Objective"
   ]
  },
  {
   "cell_type": "markdown",
   "metadata": {
    "id": "wd0JhzeqBzw0"
   },
   "source": [
    "- The objective of this **01.05** notebook is to \n",
    "  - calculate the CRB features"
   ]
  },
  {
   "cell_type": "markdown",
   "metadata": {
    "id": "uZms1pauBzw0"
   },
   "source": [
    "# 2.0 Setup Environment"
   ]
  },
  {
   "cell_type": "markdown",
   "metadata": {
    "id": "FSazCCmDbqKg"
   },
   "source": [
    "## Install Modules"
   ]
  },
  {
   "cell_type": "code",
   "execution_count": 3,
   "metadata": {
    "colab": {
     "base_uri": "https://localhost:8080/"
    },
    "executionInfo": {
     "elapsed": 7696,
     "status": "ok",
     "timestamp": 1675456181940,
     "user": {
      "displayName": "V A",
      "userId": "07747803009706112600"
     },
     "user_tz": -60
    },
    "id": "1Vo8zBrWbqKg",
    "outputId": "a2c221f6-46da-489e-df4b-edcc675ff16c"
   },
   "outputs": [
    {
     "name": "stdout",
     "output_type": "stream",
     "text": [
      "Looking in indexes: https://pypi.org/simple, https://us-python.pkg.dev/colab-wheels/public/simple/\n",
      "Collecting watermark\n",
      "  Downloading watermark-2.3.1-py2.py3-none-any.whl (7.2 kB)\n",
      "Requirement already satisfied: ipython in /usr/local/lib/python3.8/dist-packages (from watermark) (7.9.0)\n",
      "Requirement already satisfied: pickleshare in /usr/local/lib/python3.8/dist-packages (from ipython->watermark) (0.7.5)\n",
      "Requirement already satisfied: prompt-toolkit<2.1.0,>=2.0.0 in /usr/local/lib/python3.8/dist-packages (from ipython->watermark) (2.0.10)\n",
      "Requirement already satisfied: backcall in /usr/local/lib/python3.8/dist-packages (from ipython->watermark) (0.2.0)\n",
      "Requirement already satisfied: pexpect in /usr/local/lib/python3.8/dist-packages (from ipython->watermark) (4.8.0)\n",
      "Requirement already satisfied: setuptools>=18.5 in /usr/local/lib/python3.8/dist-packages (from ipython->watermark) (57.4.0)\n",
      "Requirement already satisfied: traitlets>=4.2 in /usr/local/lib/python3.8/dist-packages (from ipython->watermark) (5.7.1)\n",
      "Requirement already satisfied: decorator in /usr/local/lib/python3.8/dist-packages (from ipython->watermark) (4.4.2)\n",
      "Requirement already satisfied: pygments in /usr/local/lib/python3.8/dist-packages (from ipython->watermark) (2.6.1)\n",
      "Collecting jedi>=0.10\n",
      "  Downloading jedi-0.18.2-py2.py3-none-any.whl (1.6 MB)\n",
      "\u001B[2K     \u001B[90m━━━━━━━━━━━━━━━━━━━━━━━━━━━━━━━━━━━━━━━━\u001B[0m \u001B[32m1.6/1.6 MB\u001B[0m \u001B[31m16.7 MB/s\u001B[0m eta \u001B[36m0:00:00\u001B[0m\n",
      "\u001B[?25hRequirement already satisfied: parso<0.9.0,>=0.8.0 in /usr/local/lib/python3.8/dist-packages (from jedi>=0.10->ipython->watermark) (0.8.3)\n",
      "Requirement already satisfied: wcwidth in /usr/local/lib/python3.8/dist-packages (from prompt-toolkit<2.1.0,>=2.0.0->ipython->watermark) (0.2.6)\n",
      "Requirement already satisfied: six>=1.9.0 in /usr/local/lib/python3.8/dist-packages (from prompt-toolkit<2.1.0,>=2.0.0->ipython->watermark) (1.15.0)\n",
      "Requirement already satisfied: ptyprocess>=0.5 in /usr/local/lib/python3.8/dist-packages (from pexpect->ipython->watermark) (0.7.0)\n",
      "Installing collected packages: jedi, watermark\n",
      "Successfully installed jedi-0.18.2 watermark-2.3.1\n"
     ]
    }
   ],
   "source": [
    "!pip install watermark"
   ]
  },
  {
   "cell_type": "markdown",
   "metadata": {
    "id": "hHwYAoFSBzw1"
   },
   "source": [
    "## Import Modules"
   ]
  },
  {
   "cell_type": "code",
   "execution_count": 4,
   "metadata": {
    "executionInfo": {
     "elapsed": 1464,
     "status": "ok",
     "timestamp": 1675456183400,
     "user": {
      "displayName": "V A",
      "userId": "07747803009706112600"
     },
     "user_tz": -60
    },
    "id": "nbk1jSYhBzw2"
   },
   "outputs": [],
   "source": [
    "# Base libraries\n",
    "import os\n",
    "import re\n",
    "\n",
    "# Scientific libraries\n",
    "import numpy as np\n",
    "import pandas as pd\n",
    "\n",
    "# Visualization\n",
    "import seaborn as sns\n",
    "sns.set(rc={'figure.figsize':(8,4)})\n",
    "sns.set(font_scale=0.8)\n",
    "\n",
    "# Helper libraries\n",
    "from tqdm import tqdm\n",
    "tqdm.pandas()\n",
    "from watermark import watermark\n",
    "import gc # garbage collection to optimize memory usage, use gc.collect()\n",
    "import warnings\n",
    "warnings.filterwarnings('ignore')\n",
    "\n",
    "# Pandas options\n",
    "pd.set_option('display.max_rows', None)\n",
    "pd.set_option('display.max_columns', None)\n",
    "pd.set_option('display.width', None)\n",
    "pd.set_option('display.max_colwidth', None)\n",
    "\n",
    "from IPython.core.interactiveshell import InteractiveShell\n",
    "InteractiveShell.ast_node_interactivity = 'all'\n",
    "\n",
    "# Load magic commands\n",
    "%load_ext watermark"
   ]
  },
  {
   "cell_type": "markdown",
   "metadata": {
    "id": "C46IJ3IeBzw5"
   },
   "source": [
    "## Define Parameters"
   ]
  },
  {
   "cell_type": "code",
   "execution_count": 5,
   "metadata": {
    "executionInfo": {
     "elapsed": 6,
     "status": "ok",
     "timestamp": 1675456183401,
     "user": {
      "displayName": "V A",
      "userId": "07747803009706112600"
     },
     "user_tz": -60
    },
    "id": "9F7cSxhuy1K3"
   },
   "outputs": [],
   "source": [
    "# None"
   ]
  },
  {
   "cell_type": "markdown",
   "metadata": {
    "id": "Qr0ivQ9dyqVo"
   },
   "source": [
    "### Helper Functions"
   ]
  },
  {
   "cell_type": "code",
   "execution_count": 6,
   "metadata": {
    "executionInfo": {
     "elapsed": 5,
     "status": "ok",
     "timestamp": 1675456183401,
     "user": {
      "displayName": "V A",
      "userId": "07747803009706112600"
     },
     "user_tz": -60
    },
    "id": "vjzkyFHKyqVo"
   },
   "outputs": [],
   "source": [
    "import http.client, urllib\n",
    "\n",
    "def send_push(message):\n",
    "\t\"\"\"Send push notifications to pushover service.\"\"\"\n",
    "\tconn = http.client.HTTPSConnection(\"api.pushover.net:443\")\n",
    "\tconn.request(\"POST\", \"/1/messages.json\",\n",
    "\turllib.parse.urlencode({\n",
    "\t\t\"token\": \"ahs1q4mwpnxe3645zeaqzas69whq7a\",  # ML Notifications Channel\n",
    "\t\t\"user\": \"u5vr1qkc9ghudg2ehuug153okeiz1d\",\n",
    "\t\t\"message\": message,\n",
    "\t}), { \"Content-type\": \"application/x-www-form-urlencoded\" })\n",
    "\n",
    "\tconn.getresponse()"
   ]
  },
  {
   "cell_type": "markdown",
   "metadata": {
    "id": "6YBbHzbqBzw8"
   },
   "source": [
    "# 3.0 Load Data"
   ]
  },
  {
   "cell_type": "code",
   "execution_count": 7,
   "metadata": {
    "colab": {
     "base_uri": "https://localhost:8080/"
    },
    "executionInfo": {
     "elapsed": 1958,
     "status": "ok",
     "timestamp": 1675456185354,
     "user": {
      "displayName": "V A",
      "userId": "07747803009706112600"
     },
     "user_tz": -60
    },
    "id": "m9-XZUmGy2_w",
    "outputId": "2b904ce2-ab4d-49b7-ea69-f812f4530273"
   },
   "outputs": [
    {
     "name": "stdout",
     "output_type": "stream",
     "text": [
      "Drive already mounted at /content/drive; to attempt to forcibly remount, call drive.mount(\"/content/drive\", force_remount=True).\n"
     ]
    }
   ],
   "source": [
    "from google.colab import drive\n",
    "drive.mount('/content/drive')"
   ]
  },
  {
   "cell_type": "code",
   "execution_count": 8,
   "metadata": {
    "executionInfo": {
     "elapsed": 4362,
     "status": "ok",
     "timestamp": 1675456189713,
     "user": {
      "displayName": "V A",
      "userId": "07747803009706112600"
     },
     "user_tz": -60
    },
    "id": "ShZVP8gyy275"
   },
   "outputs": [],
   "source": [
    "# Paths: Google Drive Setup\n",
    "try: \n",
    "  # Original Google Drive location (owner)\n",
    "  PATH_DATA = \"/content/drive/MyDrive/MADS/SIADS696/Environment/data/\"\n",
    "  PATH_DATA_RAW = \"/content/drive/MyDrive/MADS/SIADS696/Environment/data/raw/\"\n",
    "  PATH_DATA_INT = \"/content/drive/MyDrive/MADS/SIADS696/Environment/data/interim/\"\n",
    "  PATH_DATA_PRO = \"/content/drive/MyDrive/MADS/SIADS696/Environment/data/processed/\"\n",
    "  PATH_REP = \"/content/drive/MyDrive/MADS/SIADS696/Environment/reports/\"\n",
    "  PATH_FIGS = \"/content/drive/MyDrive/MADS/SIADS696/Environment/reports/figures/\"\n",
    "\n",
    "  df_wiki_train = pd.read_pickle(PATH_DATA_INT+\"train_features_clean_stats.pkl\")\n",
    "  df_wiki_test = pd.read_pickle(PATH_DATA_INT+\"test_features_clean_stats.pkl\")\n",
    "  df_crb = pd.read_csv(PATH_DATA_RAW+\"Concreteness_ratings_Brysbaert_et_al_BRM.txt\", sep='\\t')\n",
    "\n",
    "\n",
    "except:\n",
    "  # Location for \"shared with\" people\n",
    "  # create a shortcut of the shared folder in your Google Drive root folder\n",
    "  print(\"Using shortcut location to load data.\")\n",
    "  PATH_DATA = \"/content/drive/MyDrive/SIADS696/Environment/data/\"\n",
    "  PATH_DATA_RAW = \"/content/drive/MyDrive/SIADS696/Environment/data/raw/\"\n",
    "  PATH_DATA_INT = \"/content/drive/MyDrive/SIADS696/Environment/data/interim/\"\n",
    "  PATH_DATA_PRO = \"/content/drive/MyDrive/SIADS696/Environment/data/processed/\"\n",
    "  PATH_REP = \"/content/drive/MyDrive/SIADS696/Environment/reports/\"\n",
    "  PATH_FIGS = \"/content/drive/MyDrive/SIADS696/Environment/reports/figures/\"\n",
    "\n",
    "  df_wiki_train = pd.read_pickle(PATH_DATA_INT+\"train_features_clean_stats.pkl\")\n",
    "  df_wiki_test = pd.read_pickle(PATH_DATA_INT+\"test_features_clean_stats.pkl\")\n",
    "  df_crb = pd.read_csv(PATH_DATA_RAW+\"Concreteness_ratings_Brysbaert_et_al_BRM.txt\", sep='\\t')"
   ]
  },
  {
   "cell_type": "code",
   "execution_count": 9,
   "metadata": {
    "colab": {
     "base_uri": "https://localhost:8080/"
    },
    "executionInfo": {
     "elapsed": 13,
     "status": "ok",
     "timestamp": 1675456189713,
     "user": {
      "displayName": "V A",
      "userId": "07747803009706112600"
     },
     "user_tz": -60
    },
    "id": "7q3t7GMsyqVp",
    "outputId": "a30a4580-98b3-4477-bad1-a15d97277202"
   },
   "outputs": [
    {
     "data": {
      "text/plain": [
       "(39954, 9)"
      ]
     },
     "execution_count": 9,
     "metadata": {},
     "output_type": "execute_result"
    }
   ],
   "source": [
    "df_crb.shape"
   ]
  },
  {
   "cell_type": "code",
   "execution_count": 10,
   "metadata": {
    "colab": {
     "base_uri": "https://localhost:8080/"
    },
    "executionInfo": {
     "elapsed": 9,
     "status": "ok",
     "timestamp": 1675456189714,
     "user": {
      "displayName": "V A",
      "userId": "07747803009706112600"
     },
     "user_tz": -60
    },
    "id": "FQhHsaGByqVq",
    "outputId": "d20c8eab-826e-4444-f533-239c2c684131"
   },
   "outputs": [
    {
     "data": {
      "text/plain": [
       "(416768, 26)"
      ]
     },
     "execution_count": 10,
     "metadata": {},
     "output_type": "execute_result"
    }
   ],
   "source": [
    "df_wiki_train.shape"
   ]
  },
  {
   "cell_type": "code",
   "execution_count": 11,
   "metadata": {
    "colab": {
     "base_uri": "https://localhost:8080/"
    },
    "executionInfo": {
     "elapsed": 7,
     "status": "ok",
     "timestamp": 1675456189714,
     "user": {
      "displayName": "V A",
      "userId": "07747803009706112600"
     },
     "user_tz": -60
    },
    "id": "i_tOijr8yqVq",
    "outputId": "b08d0870-57c4-486e-ae93-e886cc3a5627"
   },
   "outputs": [
    {
     "data": {
      "text/plain": [
       "(119092, 27)"
      ]
     },
     "execution_count": 11,
     "metadata": {},
     "output_type": "execute_result"
    }
   ],
   "source": [
    "df_wiki_test.shape"
   ]
  },
  {
   "cell_type": "markdown",
   "metadata": {
    "id": "CL9zJrfHr_iA"
   },
   "source": [
    "# 4.0 Data Cleaning and Feature Engineering"
   ]
  },
  {
   "cell_type": "markdown",
   "metadata": {
    "id": "sHXoBXAQyqVq"
   },
   "source": [
    "**Tips on Creating Features**\n",
    "- Linear models learn sums and differences naturally, but can't learn anything more complex.\n",
    "- Ratios seem to be difficult for most models to learn. Ratio combinations often lead to some easy performance gains.\n",
    "- Linear models and neural nets generally do better with normalized features. Neural nets especially need features scaled to values not too far from 0. Tree-based models (like random forests and XGBoost) can sometimes benefit from normalization, but usually much less so.\n",
    "- Tree models can learn to approximate almost any combination of features, but when a combination is especially important they can still benefit from having it explicitly created, especially when data is limited.\n",
    "- Counts are especially helpful for tree models, since these models don't have a natural way of aggregating information across many features at once.\n",
    "[Source](https://www.kaggle.com/code/ryanholbrook/creating-features)"
   ]
  },
  {
   "cell_type": "markdown",
   "metadata": {
    "id": "Odgl0kqIyqVr"
   },
   "source": [
    "### Calculate CRB Features (crb_)"
   ]
  },
  {
   "cell_type": "code",
   "execution_count": 12,
   "metadata": {
    "executionInfo": {
     "elapsed": 369,
     "status": "ok",
     "timestamp": 1675456190078,
     "user": {
      "displayName": "V A",
      "userId": "07747803009706112600"
     },
     "user_tz": -60
    },
    "id": "hkcJsOjiyqVr"
   },
   "outputs": [],
   "source": [
    "df_crb['Word'] = df_crb['Word'].str.lower().str.strip()"
   ]
  },
  {
   "cell_type": "code",
   "execution_count": 13,
   "metadata": {
    "colab": {
     "base_uri": "https://localhost:8080/",
     "height": 206
    },
    "executionInfo": {
     "elapsed": 12,
     "status": "ok",
     "timestamp": 1675456190079,
     "user": {
      "displayName": "V A",
      "userId": "07747803009706112600"
     },
     "user_tz": -60
    },
    "id": "6XaDTlU4yqVr",
    "outputId": "61c2e048-1ed5-425b-d7b4-29aa887706b5"
   },
   "outputs": [
    {
     "data": {
      "text/html": [
       "\n",
       "  <div id=\"df-6537fcc9-fe93-45d0-9c74-801bbc305327\">\n",
       "    <div class=\"colab-df-container\">\n",
       "      <div>\n",
       "<style scoped>\n",
       "    .dataframe tbody tr th:only-of-type {\n",
       "        vertical-align: middle;\n",
       "    }\n",
       "\n",
       "    .dataframe tbody tr th {\n",
       "        vertical-align: top;\n",
       "    }\n",
       "\n",
       "    .dataframe thead th {\n",
       "        text-align: right;\n",
       "    }\n",
       "</style>\n",
       "<table border=\"1\" class=\"dataframe\">\n",
       "  <thead>\n",
       "    <tr style=\"text-align: right;\">\n",
       "      <th></th>\n",
       "      <th>Word</th>\n",
       "      <th>Bigram</th>\n",
       "      <th>Conc.M</th>\n",
       "      <th>Conc.SD</th>\n",
       "      <th>Unknown</th>\n",
       "      <th>Total</th>\n",
       "      <th>Percent_known</th>\n",
       "      <th>SUBTLEX</th>\n",
       "      <th>Dom_Pos</th>\n",
       "    </tr>\n",
       "  </thead>\n",
       "  <tbody>\n",
       "    <tr>\n",
       "      <th>10505</th>\n",
       "      <td>condiment</td>\n",
       "      <td>0</td>\n",
       "      <td>4.72</td>\n",
       "      <td>0.59</td>\n",
       "      <td>0</td>\n",
       "      <td>29</td>\n",
       "      <td>1.00</td>\n",
       "      <td>8</td>\n",
       "      <td>Noun</td>\n",
       "    </tr>\n",
       "    <tr>\n",
       "      <th>5527</th>\n",
       "      <td>dissociative</td>\n",
       "      <td>0</td>\n",
       "      <td>1.71</td>\n",
       "      <td>1.00</td>\n",
       "      <td>3</td>\n",
       "      <td>27</td>\n",
       "      <td>0.89</td>\n",
       "      <td>29</td>\n",
       "      <td>Adjective</td>\n",
       "    </tr>\n",
       "    <tr>\n",
       "      <th>31383</th>\n",
       "      <td>bonelike</td>\n",
       "      <td>0</td>\n",
       "      <td>3.77</td>\n",
       "      <td>1.14</td>\n",
       "      <td>1</td>\n",
       "      <td>27</td>\n",
       "      <td>0.96</td>\n",
       "      <td>0</td>\n",
       "      <td>NaN</td>\n",
       "    </tr>\n",
       "    <tr>\n",
       "      <th>26879</th>\n",
       "      <td>misplace</td>\n",
       "      <td>0</td>\n",
       "      <td>2.52</td>\n",
       "      <td>1.19</td>\n",
       "      <td>0</td>\n",
       "      <td>27</td>\n",
       "      <td>1.00</td>\n",
       "      <td>23</td>\n",
       "      <td>Verb</td>\n",
       "    </tr>\n",
       "    <tr>\n",
       "      <th>19367</th>\n",
       "      <td>contamination</td>\n",
       "      <td>0</td>\n",
       "      <td>2.70</td>\n",
       "      <td>1.38</td>\n",
       "      <td>0</td>\n",
       "      <td>27</td>\n",
       "      <td>1.00</td>\n",
       "      <td>60</td>\n",
       "      <td>Noun</td>\n",
       "    </tr>\n",
       "  </tbody>\n",
       "</table>\n",
       "</div>\n",
       "      <button class=\"colab-df-convert\" onclick=\"convertToInteractive('df-6537fcc9-fe93-45d0-9c74-801bbc305327')\"\n",
       "              title=\"Convert this dataframe to an interactive table.\"\n",
       "              style=\"display:none;\">\n",
       "        \n",
       "  <svg xmlns=\"http://www.w3.org/2000/svg\" height=\"24px\"viewBox=\"0 0 24 24\"\n",
       "       width=\"24px\">\n",
       "    <path d=\"M0 0h24v24H0V0z\" fill=\"none\"/>\n",
       "    <path d=\"M18.56 5.44l.94 2.06.94-2.06 2.06-.94-2.06-.94-.94-2.06-.94 2.06-2.06.94zm-11 1L8.5 8.5l.94-2.06 2.06-.94-2.06-.94L8.5 2.5l-.94 2.06-2.06.94zm10 10l.94 2.06.94-2.06 2.06-.94-2.06-.94-.94-2.06-.94 2.06-2.06.94z\"/><path d=\"M17.41 7.96l-1.37-1.37c-.4-.4-.92-.59-1.43-.59-.52 0-1.04.2-1.43.59L10.3 9.45l-7.72 7.72c-.78.78-.78 2.05 0 2.83L4 21.41c.39.39.9.59 1.41.59.51 0 1.02-.2 1.41-.59l7.78-7.78 2.81-2.81c.8-.78.8-2.07 0-2.86zM5.41 20L4 18.59l7.72-7.72 1.47 1.35L5.41 20z\"/>\n",
       "  </svg>\n",
       "      </button>\n",
       "      \n",
       "  <style>\n",
       "    .colab-df-container {\n",
       "      display:flex;\n",
       "      flex-wrap:wrap;\n",
       "      gap: 12px;\n",
       "    }\n",
       "\n",
       "    .colab-df-convert {\n",
       "      background-color: #E8F0FE;\n",
       "      border: none;\n",
       "      border-radius: 50%;\n",
       "      cursor: pointer;\n",
       "      display: none;\n",
       "      fill: #1967D2;\n",
       "      height: 32px;\n",
       "      padding: 0 0 0 0;\n",
       "      width: 32px;\n",
       "    }\n",
       "\n",
       "    .colab-df-convert:hover {\n",
       "      background-color: #E2EBFA;\n",
       "      box-shadow: 0px 1px 2px rgba(60, 64, 67, 0.3), 0px 1px 3px 1px rgba(60, 64, 67, 0.15);\n",
       "      fill: #174EA6;\n",
       "    }\n",
       "\n",
       "    [theme=dark] .colab-df-convert {\n",
       "      background-color: #3B4455;\n",
       "      fill: #D2E3FC;\n",
       "    }\n",
       "\n",
       "    [theme=dark] .colab-df-convert:hover {\n",
       "      background-color: #434B5C;\n",
       "      box-shadow: 0px 1px 3px 1px rgba(0, 0, 0, 0.15);\n",
       "      filter: drop-shadow(0px 1px 2px rgba(0, 0, 0, 0.3));\n",
       "      fill: #FFFFFF;\n",
       "    }\n",
       "  </style>\n",
       "\n",
       "      <script>\n",
       "        const buttonEl =\n",
       "          document.querySelector('#df-6537fcc9-fe93-45d0-9c74-801bbc305327 button.colab-df-convert');\n",
       "        buttonEl.style.display =\n",
       "          google.colab.kernel.accessAllowed ? 'block' : 'none';\n",
       "\n",
       "        async function convertToInteractive(key) {\n",
       "          const element = document.querySelector('#df-6537fcc9-fe93-45d0-9c74-801bbc305327');\n",
       "          const dataTable =\n",
       "            await google.colab.kernel.invokeFunction('convertToInteractive',\n",
       "                                                     [key], {});\n",
       "          if (!dataTable) return;\n",
       "\n",
       "          const docLinkHtml = 'Like what you see? Visit the ' +\n",
       "            '<a target=\"_blank\" href=https://colab.research.google.com/notebooks/data_table.ipynb>data table notebook</a>'\n",
       "            + ' to learn more about interactive tables.';\n",
       "          element.innerHTML = '';\n",
       "          dataTable['output_type'] = 'display_data';\n",
       "          await google.colab.output.renderOutput(dataTable, element);\n",
       "          const docLink = document.createElement('div');\n",
       "          docLink.innerHTML = docLinkHtml;\n",
       "          element.appendChild(docLink);\n",
       "        }\n",
       "      </script>\n",
       "    </div>\n",
       "  </div>\n",
       "  "
      ],
      "text/plain": [
       "                Word  Bigram  Conc.M  Conc.SD  Unknown  Total  Percent_known  \\\n",
       "10505      condiment       0    4.72     0.59        0     29           1.00   \n",
       "5527    dissociative       0    1.71     1.00        3     27           0.89   \n",
       "31383       bonelike       0    3.77     1.14        1     27           0.96   \n",
       "26879       misplace       0    2.52     1.19        0     27           1.00   \n",
       "19367  contamination       0    2.70     1.38        0     27           1.00   \n",
       "\n",
       "       SUBTLEX    Dom_Pos  \n",
       "10505        8       Noun  \n",
       "5527        29  Adjective  \n",
       "31383        0        NaN  \n",
       "26879       23       Verb  \n",
       "19367       60       Noun  "
      ]
     },
     "execution_count": 13,
     "metadata": {},
     "output_type": "execute_result"
    }
   ],
   "source": [
    "df_crb.sample(5)"
   ]
  },
  {
   "cell_type": "code",
   "execution_count": 14,
   "metadata": {
    "executionInfo": {
     "elapsed": 9,
     "status": "ok",
     "timestamp": 1675456190079,
     "user": {
      "displayName": "V A",
      "userId": "07747803009706112600"
     },
     "user_tz": -60
    },
    "id": "0xzl5nWQyqVr"
   },
   "outputs": [],
   "source": [
    "def calculate_crb_feature(text, column, df_crb, calculation):\n",
    "    word_list = text.split()  # create word list\n",
    "\n",
    "    # Old lemma approach; now checking both AoA columns Word and Alternative Spelling to get the target df\n",
    "    #word_list = [lemmatizer.lemmatize(x) for x in word_list]  # create lemma word\n",
    "\n",
    "    # subset crb dataframe to get only the words (and values)\n",
    "    df_temp = df_crb[df_crb['Word'].isin(word_list)]\n",
    "    \n",
    "    if calculation == 'sum':\n",
    "        result = df_temp[column].sum()\n",
    "        if result <= 0:\n",
    "            return -1  # returning -1 instead 0, because 0 means no matched words\n",
    "        else:\n",
    "          try:\n",
    "            return result.round(2)\n",
    "          except:\n",
    "            print(\"Failed to return SUM\", word_list)\n",
    "            return -1\n",
    "            \n",
    "    elif calculation == 'mean':\n",
    "        result = df_temp[column].mean() # cannot convert to integer here, because of NAN returns: for no matched words\n",
    "        #print(result.round())\n",
    "        if np.isnan(result):\n",
    "            return -1\n",
    "        else:\n",
    "          try:\n",
    "            return result.round(2)\n",
    "          except:\n",
    "            print(\"Failed to return MEAN\", word_list)\n",
    "            return -1"
   ]
  },
  {
   "cell_type": "code",
   "execution_count": 15,
   "metadata": {
    "colab": {
     "base_uri": "https://localhost:8080/"
    },
    "executionInfo": {
     "elapsed": 1716278,
     "status": "ok",
     "timestamp": 1675457906348,
     "user": {
      "displayName": "V A",
      "userId": "07747803009706112600"
     },
     "user_tz": -60
    },
    "id": "jOs0FZfUyqVr",
    "outputId": "e0fd09bc-f4c5-47cf-b410-f0ce24ef75a2"
   },
   "outputs": [
    {
     "name": "stderr",
     "output_type": "stream",
     "text": [
      "100%|██████████| 416768/416768 [22:13<00:00, 312.57it/s]\n",
      "100%|██████████| 119092/119092 [06:22<00:00, 310.96it/s]"
     ]
    },
    {
     "name": "stdout",
     "output_type": "stream",
     "text": [
      "CPU times: user 28min 10s, sys: 18.3 s, total: 28min 28s\n",
      "Wall time: 28min 36s\n"
     ]
    },
    {
     "name": "stderr",
     "output_type": "stream",
     "text": [
      "\n"
     ]
    }
   ],
   "source": [
    "%%time\n",
    "# MBPM1: 11 min\n",
    "\n",
    "df_wiki_train['crb_concm_sum'] = df_wiki_train['cleaned_text'].progress_apply(\n",
    "    lambda x: calculate_crb_feature(x, 'Conc.M', df_crb, 'sum'))\n",
    "\n",
    "df_wiki_test['crb_concm_sum'] = df_wiki_test['cleaned_text'].progress_apply(\n",
    "    lambda x: calculate_crb_feature(x, 'Conc.M', df_crb, 'sum'))"
   ]
  },
  {
   "cell_type": "code",
   "execution_count": null,
   "metadata": {
    "colab": {
     "background_save": true,
     "base_uri": "https://localhost:8080/"
    },
    "id": "buiSUvLYyqVr"
   },
   "outputs": [
    {
     "name": "stderr",
     "output_type": "stream",
     "text": [
      "100%|██████████| 416768/416768 [22:14<00:00, 312.37it/s]\n",
      "100%|██████████| 119092/119092 [05:59<00:00, 331.62it/s]"
     ]
    },
    {
     "name": "stdout",
     "output_type": "stream",
     "text": [
      "CPU times: user 27min 56s, sys: 16.8 s, total: 28min 13s\n",
      "Wall time: 28min 13s\n"
     ]
    },
    {
     "name": "stderr",
     "output_type": "stream",
     "text": [
      "\n"
     ]
    }
   ],
   "source": [
    "%%time\n",
    "# MBPM1: 11 min\n",
    "\n",
    "df_wiki_train['crb_concm_mean'] = df_wiki_train['cleaned_text'].progress_apply(\n",
    "    lambda x: calculate_crb_feature(x, 'Conc.M', df_crb, 'mean'))\n",
    "\n",
    "df_wiki_test['crb_concm_mean'] = df_wiki_test['cleaned_text'].progress_apply(\n",
    "    lambda x: calculate_crb_feature(x, 'Conc.M', df_crb, 'mean'))"
   ]
  },
  {
   "cell_type": "code",
   "execution_count": null,
   "metadata": {
    "colab": {
     "background_save": true
    },
    "id": "oUzKRDQ_yqVs"
   },
   "outputs": [
    {
     "name": "stderr",
     "output_type": "stream",
     "text": [
      "100%|██████████| 416768/416768 [21:18<00:00, 326.08it/s]\n",
      "100%|██████████| 119092/119092 [05:53<00:00, 336.76it/s]"
     ]
    },
    {
     "name": "stdout",
     "output_type": "stream",
     "text": [
      "CPU times: user 27min 3s, sys: 15.9 s, total: 27min 19s\n",
      "Wall time: 27min 11s\n"
     ]
    },
    {
     "name": "stderr",
     "output_type": "stream",
     "text": [
      "\n"
     ]
    }
   ],
   "source": [
    "%%time\n",
    "# MBPM1: 11 min\n",
    "\n",
    "df_wiki_train['crb_concsd_sum'] = df_wiki_train['cleaned_text'].progress_apply(\n",
    "    lambda x: calculate_crb_feature(x, 'Conc.SD', df_crb, 'sum'))\n",
    "\n",
    "df_wiki_test['crb_concsd_sum'] = df_wiki_test['cleaned_text'].progress_apply(\n",
    "    lambda x: calculate_crb_feature(x, 'Conc.SD', df_crb, 'sum'))"
   ]
  },
  {
   "cell_type": "code",
   "execution_count": null,
   "metadata": {
    "colab": {
     "background_save": true
    },
    "id": "MQX8EpOJyqVs"
   },
   "outputs": [
    {
     "name": "stderr",
     "output_type": "stream",
     "text": [
      "100%|██████████| 416768/416768 [21:33<00:00, 322.08it/s]\n",
      "100%|██████████| 119092/119092 [06:18<00:00, 314.41it/s]"
     ]
    },
    {
     "name": "stdout",
     "output_type": "stream",
     "text": [
      "CPU times: user 27min 41s, sys: 16.8 s, total: 27min 58s\n",
      "Wall time: 27min 52s\n"
     ]
    },
    {
     "name": "stderr",
     "output_type": "stream",
     "text": [
      "\n"
     ]
    }
   ],
   "source": [
    "%%time\n",
    "# MBPM1: 11 min\n",
    "\n",
    "df_wiki_train['crb_concsd_mean'] = df_wiki_train['cleaned_text'].progress_apply(\n",
    "    lambda x: calculate_crb_feature(x, 'Conc.SD', df_crb, 'mean'))\n",
    "\n",
    "df_wiki_test['crb_concsd_mean'] = df_wiki_test['cleaned_text'].progress_apply(\n",
    "    lambda x: calculate_crb_feature(x, 'Conc.SD', df_crb, 'mean'))"
   ]
  },
  {
   "cell_type": "code",
   "execution_count": null,
   "metadata": {
    "colab": {
     "background_save": true
    },
    "id": "UOg8nbU-yqVs"
   },
   "outputs": [
    {
     "name": "stderr",
     "output_type": "stream",
     "text": [
      "100%|██████████| 416768/416768 [23:47<00:00, 291.87it/s]\n",
      "100%|██████████| 119092/119092 [05:58<00:00, 332.58it/s]"
     ]
    },
    {
     "name": "stdout",
     "output_type": "stream",
     "text": [
      "CPU times: user 29min 16s, sys: 18.7 s, total: 29min 35s\n",
      "Wall time: 29min 46s\n"
     ]
    },
    {
     "name": "stderr",
     "output_type": "stream",
     "text": [
      "\n"
     ]
    }
   ],
   "source": [
    "%%time\n",
    "# MBPM1: 11 min\n",
    "\n",
    "df_wiki_train['crb_perc_known_sum'] = df_wiki_train['cleaned_text'].progress_apply(\n",
    "    lambda x: calculate_crb_feature(x, 'Percent_known', df_crb, 'sum'))\n",
    "\n",
    "df_wiki_test['crb_perc_known_sum'] = df_wiki_test['cleaned_text'].progress_apply(\n",
    "    lambda x: calculate_crb_feature(x, 'Percent_known', df_crb, 'sum'))"
   ]
  },
  {
   "cell_type": "code",
   "execution_count": null,
   "metadata": {
    "colab": {
     "background_save": true
    },
    "id": "nK4ulhc5yqVs"
   },
   "outputs": [
    {
     "name": "stderr",
     "output_type": "stream",
     "text": [
      "100%|██████████| 416768/416768 [20:50<00:00, 333.40it/s]\n",
      "100%|██████████| 119092/119092 [06:05<00:00, 325.98it/s]"
     ]
    },
    {
     "name": "stdout",
     "output_type": "stream",
     "text": [
      "CPU times: user 26min 47s, sys: 15.7 s, total: 27min 3s\n",
      "Wall time: 26min 55s\n"
     ]
    },
    {
     "name": "stderr",
     "output_type": "stream",
     "text": [
      "\n"
     ]
    }
   ],
   "source": [
    "%%time\n",
    "# MBPM1: 11 min\n",
    "\n",
    "df_wiki_train['crb_perc_known_mean'] = df_wiki_train['cleaned_text'].progress_apply(\n",
    "    lambda x: calculate_crb_feature(x, 'Percent_known', df_crb, 'mean'))\n",
    "\n",
    "df_wiki_test['crb_perc_known_mean'] = df_wiki_test['cleaned_text'].progress_apply(\n",
    "    lambda x: calculate_crb_feature(x, 'Percent_known', df_crb, 'mean'))"
   ]
  },
  {
   "cell_type": "code",
   "execution_count": null,
   "metadata": {
    "colab": {
     "background_save": true
    },
    "id": "pZZiLFo4yqVs"
   },
   "outputs": [
    {
     "name": "stderr",
     "output_type": "stream",
     "text": [
      "100%|██████████| 416768/416768 [21:37<00:00, 321.26it/s]\n",
      "100%|██████████| 119092/119092 [05:59<00:00, 330.81it/s]"
     ]
    },
    {
     "name": "stdout",
     "output_type": "stream",
     "text": [
      "CPU times: user 27min 28s, sys: 16 s, total: 27min 44s\n",
      "Wall time: 27min 37s\n"
     ]
    },
    {
     "name": "stderr",
     "output_type": "stream",
     "text": [
      "\n"
     ]
    }
   ],
   "source": [
    "%%time\n",
    "# MBPM1: 11 min\n",
    "\n",
    "df_wiki_train['crb_subtlex_sum'] = df_wiki_train['cleaned_text'].progress_apply(\n",
    "    lambda x: calculate_crb_feature(x, 'SUBTLEX', df_crb, 'sum'))\n",
    "\n",
    "df_wiki_test['crb_subtlex_sum'] = df_wiki_test['cleaned_text'].progress_apply(\n",
    "    lambda x: calculate_crb_feature(x, 'SUBTLEX', df_crb, 'sum'))"
   ]
  },
  {
   "cell_type": "code",
   "execution_count": null,
   "metadata": {
    "id": "19J4ZkgayqVt"
   },
   "outputs": [],
   "source": [
    "%%time\n",
    "# MBPM1: 11 min\n",
    "\n",
    "df_wiki_train['crb_subtlex_mean'] = df_wiki_train['cleaned_text'].progress_apply(\n",
    "    lambda x: calculate_crb_feature(x, 'SUBTLEX', df_crb, 'mean'))\n",
    "\n",
    "df_wiki_test['crb_subtlex_mean'] = df_wiki_test['cleaned_text'].progress_apply(\n",
    "    lambda x: calculate_crb_feature(x, 'SUBTLEX', df_crb, 'mean'))"
   ]
  },
  {
   "cell_type": "code",
   "execution_count": null,
   "metadata": {
    "id": "zV61HjhcyqVt"
   },
   "outputs": [],
   "source": [
    "df_wiki_train.sample(4).T"
   ]
  },
  {
   "cell_type": "code",
   "execution_count": null,
   "metadata": {
    "id": "JmEH5xakyqVt"
   },
   "outputs": [],
   "source": [
    "df_wiki_test.sample(4).T"
   ]
  },
  {
   "cell_type": "markdown",
   "metadata": {
    "id": "xjBxesfBr_iG"
   },
   "source": [
    "# 5.0 Export"
   ]
  },
  {
   "cell_type": "code",
   "execution_count": null,
   "metadata": {
    "id": "X2lls-xQzZME"
   },
   "outputs": [],
   "source": [
    "columns = df_wiki_train.columns.to_list()\n",
    "feature_columns = sorted([x for x in columns if x.startswith(\"crb_\")])\n",
    "\n",
    "feature_columns"
   ]
  },
  {
   "cell_type": "code",
   "execution_count": null,
   "metadata": {
    "id": "m7-MWOvOyqVt"
   },
   "outputs": [],
   "source": [
    "# Export AoA features\n",
    "df_export = df_wiki_train[feature_columns]\n",
    "df_export.to_csv(PATH_DATA_INT+\"train_features_crb.csv\", index=False)\n",
    "\n",
    "df_export = df_wiki_test[feature_columns]\n",
    "df_export.to_csv(PATH_DATA_INT+\"test_features_crb.csv\", index=False)"
   ]
  },
  {
   "cell_type": "markdown",
   "metadata": {
    "id": "ti9wgudgBzw9"
   },
   "source": [
    "# 6.0 Watermark"
   ]
  },
  {
   "cell_type": "code",
   "execution_count": null,
   "metadata": {
    "id": "f7PuaC1JBzw-"
   },
   "outputs": [],
   "source": [
    "%watermark"
   ]
  },
  {
   "cell_type": "code",
   "execution_count": null,
   "metadata": {
    "id": "SU12PVZ2BzxA"
   },
   "outputs": [],
   "source": [
    "%watermark --iversions"
   ]
  },
  {
   "cell_type": "code",
   "execution_count": null,
   "metadata": {
    "id": "H9A4LQeYyqVu"
   },
   "outputs": [],
   "source": [
    "t_end = time.time()\n",
    "total_runtime = t_end-t_start\n",
    "total_runtime_min = round((total_runtime/60),2)\n",
    "print(str(total_runtime_min)+\" minutes\")"
   ]
  },
  {
   "cell_type": "code",
   "execution_count": null,
   "metadata": {
    "id": "1pfs6UyTyqVu"
   },
   "outputs": [],
   "source": [
    "send_push(f\"01.05 Feature Engingeering: Calculate CRB features finished in: {total_runtime_min} min.\")"
   ]
  }
 ],
 "metadata": {
  "colab": {
   "collapsed_sections": [
    "Fkm1Nh1PjkGk",
    "FSazCCmDbqKg"
   ],
   "name": "",
   "toc_visible": true,
   "version": ""
  },
  "deepnote": {},
  "deepnote_execution_queue": [],
  "deepnote_notebook_id": "946229b10e114987a52132227b87775b",
  "deepnote_persisted_session": {
   "createdAt": "2023-01-25T16:45:43.444Z"
  },
  "kernelspec": {
   "display_name": "Python 3",
   "language": "python",
   "name": "python3"
  },
  "language_info": {
   "codemirror_mode": {
    "name": "ipython",
    "version": 3
   },
   "file_extension": ".py",
   "mimetype": "text/x-python",
   "name": "python",
   "nbconvert_exporter": "python",
   "pygments_lexer": "ipython3",
   "version": "3.9.6"
  },
  "vscode": {
   "interpreter": {
    "hash": "31f2aee4e71d21fbe5cf8b01ff0e069b9275f58929596ceb00d14d90e3e16cd6"
   }
  }
 },
 "nbformat": 4,
 "nbformat_minor": 0
}
