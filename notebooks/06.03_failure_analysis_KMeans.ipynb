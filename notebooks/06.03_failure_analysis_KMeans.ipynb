{
 "cells": [
  {
   "attachments": {},
   "cell_type": "markdown",
   "metadata": {},
   "source": [
    "v1.0"
   ]
  },
  {
   "attachments": {},
   "cell_type": "markdown",
   "metadata": {},
   "source": [
    "The objective of this notebook is to:\n",
    "- perform failure anaylsis with KMeans clustering"
   ]
  },
  {
   "attachments": {},
   "cell_type": "markdown",
   "metadata": {},
   "source": [
    "# Pre-checks"
   ]
  },
  {
   "cell_type": "code",
   "execution_count": 283,
   "metadata": {
    "id": "WYr9Yqm_R0l7",
    "outputId": "140b5e6d-25b2-442b-fcf7-9ad7b542248c"
   },
   "outputs": [
    {
     "name": "stdout",
     "output_type": "stream",
     "text": [
      "Not a Goolge Drive Environment.\n"
     ]
    }
   ],
   "source": [
    "## Check for Google Drive Connectivity\n",
    "try:\n",
    "    from google.colab import drive\n",
    "    drive.mount('/content/drive')\n",
    "    google_env = True\n",
    "except:\n",
    "    print(\"Not a Goolge Drive Environment.\")\n",
    "    google_env = False"
   ]
  },
  {
   "cell_type": "code",
   "execution_count": 284,
   "metadata": {
    "id": "T_FulwOgR0l8"
   },
   "outputs": [],
   "source": [
    "import time\n",
    "t_start = time.time()"
   ]
  },
  {
   "cell_type": "markdown",
   "metadata": {
    "id": "uZms1pauBzw0"
   },
   "source": [
    "# Setup Environment"
   ]
  },
  {
   "cell_type": "markdown",
   "metadata": {
    "id": "FSazCCmDbqKg"
   },
   "source": [
    "## Install Modules"
   ]
  },
  {
   "cell_type": "code",
   "execution_count": 285,
   "metadata": {
    "id": "1Vo8zBrWbqKg"
   },
   "outputs": [],
   "source": [
    "#!pip install icecream\n",
    "#!pip install watermark\n",
    "#!pip install fastparquet"
   ]
  },
  {
   "cell_type": "markdown",
   "metadata": {
    "id": "hHwYAoFSBzw1"
   },
   "source": [
    "## Import Modules"
   ]
  },
  {
   "cell_type": "code",
   "execution_count": 286,
   "metadata": {
    "id": "nbk1jSYhBzw2"
   },
   "outputs": [
    {
     "name": "stdout",
     "output_type": "stream",
     "text": [
      "The watermark extension is already loaded. To reload it, use:\n",
      "  %reload_ext watermark\n"
     ]
    }
   ],
   "source": [
    "# Base libraries\n",
    "import os\n",
    "from datetime import date\n",
    "\n",
    "# Scientific libraries\n",
    "import numpy as np\n",
    "import pandas as pd\n",
    "\n",
    "# Visualization\n",
    "import seaborn as sns\n",
    "import matplotlib.pyplot as plt\n",
    "plt.rcParams[\"figure.figsize\"] = (7,5)\n",
    "\n",
    "sns.set(rc={'figure.figsize':(7,5)})\n",
    "sns.set(font_scale=1.0)\n",
    "\n",
    "# Helper libraries\n",
    "from watermark import watermark\n",
    "from icecream import ic\n",
    "import gc # garbage collection to optimize memory usage: use \"gc.collect()\"\n",
    "import warnings\n",
    "warnings.filterwarnings('ignore')\n",
    "\n",
    "# Pandas options\n",
    "pd.set_option('display.max_rows', None)\n",
    "pd.set_option('display.max_columns', None)\n",
    "pd.set_option('display.width', None)\n",
    "pd.set_option('display.max_colwidth', None)\n",
    "\n",
    "from IPython.core.interactiveshell import InteractiveShell\n",
    "InteractiveShell.ast_node_interactivity = 'all'\n",
    "\n",
    "# Load magic commands\n",
    "%load_ext watermark"
   ]
  },
  {
   "attachments": {},
   "cell_type": "markdown",
   "metadata": {
    "id": "C46IJ3IeBzw5"
   },
   "source": [
    "## Global Parameters"
   ]
  },
  {
   "cell_type": "code",
   "execution_count": 287,
   "metadata": {
    "id": "rVPFKtMUBzw6"
   },
   "outputs": [],
   "source": [
    "seed = 42\n",
    "cpu_count = os.cpu_count()\n",
    "cpu_count = cpu_count-2  # to keep machine responsive when fitting the models\n",
    "notebook_no = \"0x.0x\""
   ]
  },
  {
   "attachments": {},
   "cell_type": "markdown",
   "metadata": {
    "id": "SdUPJZbDR0mA"
   },
   "source": [
    "## Global Helper Functions"
   ]
  },
  {
   "cell_type": "code",
   "execution_count": 288,
   "metadata": {
    "id": "EdpbueLMR0mA"
   },
   "outputs": [],
   "source": [
    "import http.client\n",
    "import urllib\n",
    "\n",
    "\n",
    "def send_push(message):\n",
    "    \"\"\"Send push notifications to pushover service.\"\"\"\n",
    "    try:\n",
    "        conn = http.client.HTTPSConnection(\"api.pushover.net:443\")\n",
    "        conn.request(\"POST\", \"/1/messages.json\",\n",
    "                     urllib.parse.urlencode({\n",
    "                         \"token\": \"ahs1q4mwpnxe3645zeaqzas69whq7a\",  # ML Notifications Channel\n",
    "                         \"user\": \"u5vr1qkc9ghudg2ehuug153okeiz1d\",\n",
    "                         \"message\": message,\n",
    "                     }), {\"Content-type\": \"application/x-www-form-urlencoded\"})\n",
    "\n",
    "        conn.getresponse()\n",
    "\n",
    "    except:\n",
    "        print(\"There was a communication issue (pushover).\")\n"
   ]
  },
  {
   "cell_type": "code",
   "execution_count": 289,
   "metadata": {
    "id": "fYeTVfQeR0mA"
   },
   "outputs": [],
   "source": [
    "def fast_run_sampling(df, sample_fraction):\n",
    "    \"\"\"Return a fraction of the dataset.\"\"\"\n",
    "    print(\"Labels before sampling:\\n\", df['label'].value_counts())\n",
    "    df = df.groupby('label').sample(frac=sample_fraction, random_state=seed) \n",
    "    #df = df.sample(n=sample_size, random_state=seed).reset_index(drop=True)\n",
    "    print(\"Labels after sampling:\\n\", df['label'].value_counts())\n",
    "    return df\n",
    "    "
   ]
  },
  {
   "cell_type": "code",
   "execution_count": 290,
   "metadata": {},
   "outputs": [],
   "source": [
    "def calculate_duration(t_start, t_end):\n",
    "    \"\"\"Return run time in minutes.\"\"\"\n",
    "    total_runtime = t_end-t_start\n",
    "    total_runtime_min = round((total_runtime/60), 2)\n",
    "    print(str(total_runtime_min)+\" minutes\")\n",
    "\n",
    "    return total_runtime_min\n"
   ]
  },
  {
   "cell_type": "markdown",
   "metadata": {
    "id": "6YBbHzbqBzw8"
   },
   "source": [
    "# 3.0 Load Data"
   ]
  },
  {
   "cell_type": "code",
   "execution_count": 291,
   "metadata": {},
   "outputs": [
    {
     "name": "stdout",
     "output_type": "stream",
     "text": [
      "Not a Google Drive Environment. Loading local files.\n"
     ]
    }
   ],
   "source": [
    "# Load Data\n",
    "if google_env:\n",
    "    # Location for \"shared with\" people\n",
    "    # create a shortcut of the shared folder in your Google Drive root folder\n",
    "    ROOT_PATH = \"/content/drive/MyDrive/SIADS696/Environment/\"\n",
    "else:\n",
    "    ROOT_PATH = \"../\"\n",
    "    print(\"Not a Google Drive Environment. Loading local files.\")\n",
    "\n",
    "PATH_DATA = \"data/\"\n",
    "PATH_DATA_RAW = \"data/raw/\"\n",
    "PATH_DATA_INT = \"data/interim/\"\n",
    "PATH_DATA_PRO = \"data/processed/\"\n",
    "PATH_DATA_MOD = \"models/\"\n",
    "PATH_DATA_REP = \"reports/\"\n",
    "PATH_DATA_FIG = \"reports/figures/\"\n",
    "PATH_DATA_HTML = \"reports/html/\""
   ]
  },
  {
   "cell_type": "code",
   "execution_count": 292,
   "metadata": {},
   "outputs": [
    {
     "name": "stderr",
     "output_type": "stream",
     "text": [
      "ic| len(rfecv_selected_feature): 125\n"
     ]
    }
   ],
   "source": [
    "df_rfecv_selected_feature = pd.read_csv(ROOT_PATH+PATH_DATA_INT+\"RFECV10-RF-selected_features-table_04.02.csv\")\n",
    "rfecv_selected_feature = sorted(df_rfecv_selected_feature['Selected Features'].to_list())\n",
    "ic(len(rfecv_selected_feature));"
   ]
  },
  {
   "cell_type": "code",
   "execution_count": 293,
   "metadata": {},
   "outputs": [
    {
     "name": "stderr",
     "output_type": "stream",
     "text": [
      "ic| important_feature_list: ['stats_char_count',\n",
      "                             'w2v_gen_avg_word2vec_mean',\n",
      "                             'aoa_aoa_kup_lem_mean',\n",
      "                             'w2v_ft_sen2vec_mean']\n"
     ]
    }
   ],
   "source": [
    "features_include = 4\n",
    "\n",
    "important_feature = df_rfecv_selected_feature.sort_values('Importance', ascending=False).head(features_include)\n",
    "important_feature_list = important_feature['Selected Features'].to_list()\n",
    "ic(important_feature_list);"
   ]
  },
  {
   "cell_type": "code",
   "execution_count": 294,
   "metadata": {},
   "outputs": [
    {
     "name": "stderr",
     "output_type": "stream",
     "text": [
      "ic| df_all .shape: (416768, 129)\n"
     ]
    }
   ],
   "source": [
    "df_all = pd.read_parquet(\n",
    "    ROOT_PATH+PATH_DATA_INT+\"RF_base_model_RFECV_features_results_for_failure_analysis.parquet.gzip\")\n",
    "\n",
    "ic(df_all .shape);\n"
   ]
  },
  {
   "cell_type": "code",
   "execution_count": 295,
   "metadata": {},
   "outputs": [
    {
     "data": {
      "text/plain": [
       "1    208384\n",
       "0    208384\n",
       "Name: label, dtype: int64"
      ]
     },
     "execution_count": 295,
     "metadata": {},
     "output_type": "execute_result"
    }
   ],
   "source": [
    "df_all['label'].value_counts()"
   ]
  },
  {
   "attachments": {},
   "cell_type": "markdown",
   "metadata": {
    "id": "e2HJrw_6R0mE"
   },
   "source": [
    "# Failure Analysis"
   ]
  },
  {
   "cell_type": "code",
   "execution_count": 296,
   "metadata": {},
   "outputs": [],
   "source": [
    "from sklearn.cluster import KMeans\n",
    "from sklearn.preprocessing import MinMaxScaler\n",
    "from yellowbrick.cluster import KElbowVisualizer"
   ]
  },
  {
   "attachments": {},
   "cell_type": "markdown",
   "metadata": {},
   "source": [
    "## Prepare data / dataframes"
   ]
  },
  {
   "cell_type": "code",
   "execution_count": 297,
   "metadata": {},
   "outputs": [
    {
     "name": "stderr",
     "output_type": "stream",
     "text": [
      "ic| df_failed.shape: (104719, 129)\n"
     ]
    }
   ],
   "source": [
    "# Filter only on failed/incorrect predicitions\n",
    "df_failed = df_all [df_all ['label'] != df_all ['y_pred']]\n",
    "ic(df_failed.shape);"
   ]
  },
  {
   "cell_type": "code",
   "execution_count": 298,
   "metadata": {},
   "outputs": [
    {
     "name": "stderr",
     "output_type": "stream",
     "text": [
      "ic| df_failed['label'].value_counts(): 0    55282\n",
      "                                       1    49437\n",
      "                                       Name: label, dtype: int64\n"
     ]
    },
    {
     "data": {
      "text/plain": [
       "0    55282\n",
       "1    49437\n",
       "Name: label, dtype: int64"
      ]
     },
     "execution_count": 298,
     "metadata": {},
     "output_type": "execute_result"
    }
   ],
   "source": [
    "ic(df_failed['label'].value_counts())"
   ]
  },
  {
   "cell_type": "code",
   "execution_count": 299,
   "metadata": {},
   "outputs": [],
   "source": [
    "# Add some required features to the list, required later in the review of failed samples\n",
    "important_feature_list.append('label')\n",
    "important_feature_list.append('y_pred')\n",
    "important_feature_list.append('original_text')\n",
    "important_feature_list.append('cleaned_text')"
   ]
  },
  {
   "cell_type": "code",
   "execution_count": 300,
   "metadata": {},
   "outputs": [
    {
     "name": "stderr",
     "output_type": "stream",
     "text": [
      "ic| df_failed_selected.shape: (104719, 8)\n"
     ]
    }
   ],
   "source": [
    "# Subset failed samples only with the important features\n",
    "df_failed_selected = df_failed[important_feature_list].copy()\n",
    "ic(df_failed_selected.shape);"
   ]
  },
  {
   "cell_type": "code",
   "execution_count": 301,
   "metadata": {},
   "outputs": [],
   "source": [
    "# Group the DataFrame by the 'feature' column and get the count of \n",
    "# samples for each feature\n",
    "#grouped = df_failed_selected.groupby(['label','stats_char_count']).size().plot(kind='hist', bins=50, figsize=(10,10))\n"
   ]
  },
  {
   "cell_type": "code",
   "execution_count": 302,
   "metadata": {},
   "outputs": [
    {
     "name": "stderr",
     "output_type": "stream",
     "text": [
      "ic| df_failed_selected_0.shape: (55282, 8)\n",
      "ic| df_failed_selected_1.shape: (49437, 8)\n"
     ]
    }
   ],
   "source": [
    "# Select on 0 predicted incorrectly\n",
    "df_failed_selected_0 = df_failed_selected[df_failed_selected['label'] == 0]\n",
    "#df_failed_selected_0 = df_failed_selected_0.replace(-1, np.nan)\n",
    "#df_failed_selected_0 = df_failed_selected_0.dropna()\n",
    "\n",
    "# Select on 1 predicted incorrectly\n",
    "df_failed_selected_1 = df_failed_selected[df_failed_selected['label'] == 1]\n",
    "#df_failed_selected_1 = df_failed_selected_1.replace(-1, np.nan)\n",
    "#df_failed_selected_1 = df_failed_selected_1.dropna()\n",
    "\n",
    "ic(df_failed_selected_0.shape);\n",
    "ic(df_failed_selected_1.shape);"
   ]
  },
  {
   "attachments": {},
   "cell_type": "markdown",
   "metadata": {},
   "source": [
    "## Clustering failed samples (true label 0)"
   ]
  },
  {
   "attachments": {},
   "cell_type": "markdown",
   "metadata": {},
   "source": [
    "Exlploring why the model predicted 1 instead of the true label 0."
   ]
  },
  {
   "cell_type": "code",
   "execution_count": 303,
   "metadata": {},
   "outputs": [
    {
     "name": "stderr",
     "output_type": "stream",
     "text": [
      "ic| X.shape: (55282, 4)\n",
      "ic| y.shape: (55282,)\n"
     ]
    }
   ],
   "source": [
    "# Prepare X and only use the relevant columns/features\n",
    "X_columns_train = df_failed_selected_0.columns.to_list()\n",
    "X_columns_train = list(set(X_columns_train) -{\"label\", \"original_text\", \"cleaned_text\", \"stats_language_code\", \"y_pred\"})\n",
    "\n",
    "X = df_failed_selected_0[X_columns_train].copy()\n",
    "y = df_failed_selected_0[\"label\"]\n",
    "\n",
    "ic(X.shape);\n",
    "ic(y.shape);\n"
   ]
  },
  {
   "cell_type": "code",
   "execution_count": 304,
   "metadata": {},
   "outputs": [],
   "source": [
    "# Normalize data using MinMaxScaler\n",
    "scaler = MinMaxScaler()\n",
    "X_train_scaled = scaler.fit_transform(X)\n"
   ]
  },
  {
   "attachments": {},
   "cell_type": "markdown",
   "metadata": {},
   "source": [
    "### Create Clusters"
   ]
  },
  {
   "cell_type": "code",
   "execution_count": 305,
   "metadata": {},
   "outputs": [
    {
     "data": {
      "image/png": "[encoded data removed]",
      "text/plain": [
       "<Figure size 400x400 with 2 Axes>"
      ]
     },
     "metadata": {},
     "output_type": "display_data"
    }
   ],
   "source": [
    "# Calculate best n_cluster value with Elbow method\n",
    "\n",
    "# Visualization\n",
    "plt.rcParams[\"figure.figsize\"] = (4,4)\n",
    "\n",
    "# Instantiate the clustering model and visualizer\n",
    "model = KMeans()\n",
    "visualizer = KElbowVisualizer(model, k=(2,15))\n",
    "\n",
    "visualizer.fit(X_train_scaled)        # Fit the data to the visualizer\n",
    "\n",
    "# custom_viz = visualizer.ax\n",
    "# custom_viz.set_title(\"New title\")\n",
    "# custom_viz.figure.show()\n",
    "\n",
    "# Finalize and render the figure\n",
    "visualizer.show();\n",
    "#visualizer.show(outpath=\"kelbow_minibatchkmeans.png\")"
   ]
  },
  {
   "cell_type": "code",
   "execution_count": 306,
   "metadata": {},
   "outputs": [
    {
     "name": "stderr",
     "output_type": "stream",
     "text": [
      "ic| best_n: 4\n"
     ]
    }
   ],
   "source": [
    "best_n = visualizer.elbow_value_\n",
    "ic(best_n);"
   ]
  },
  {
   "cell_type": "code",
   "execution_count": 307,
   "metadata": {},
   "outputs": [
    {
     "name": "stdout",
     "output_type": "stream",
     "text": [
      "[2 3 0 ... 2 2 2]\n"
     ]
    }
   ],
   "source": [
    "# Perform KMeans clustering\n",
    "kmeans = KMeans(n_clusters=best_n, random_state=seed).fit(X_train_scaled)\n",
    "\n",
    "# Get cluster labels\n",
    "labels = kmeans.labels_\n",
    "\n",
    "# Print cluster labels\n",
    "print(labels)\n",
    "\n",
    "yhat = kmeans.fit_predict(X_train_scaled);"
   ]
  },
  {
   "cell_type": "code",
   "execution_count": 308,
   "metadata": {},
   "outputs": [
    {
     "data": {
      "image/png": "[encoded data removed]",
      "text/plain": [
       "<Figure size 400x400 with 1 Axes>"
      ]
     },
     "metadata": {},
     "output_type": "display_data"
    }
   ],
   "source": [
    "# Visualization\n",
    "plt.rcParams[\"figure.figsize\"] = (4,4)\n",
    "sns.set(rc={'figure.figsize':(4,4)})\n",
    "sns.set(font_scale=1.0)\n",
    "\n",
    "# retrieve unique clusters\n",
    "clusters = np.unique(yhat)\n",
    "# create scatter plot for samples from each cluster\n",
    "for cluster in clusters:\n",
    "    # get row indexes for samples with this cluster\n",
    "    row_ix = np.where(yhat == cluster)\n",
    "    # create scatter of these samples\n",
    "    plt.scatter(X_train_scaled[row_ix, 0], X_train_scaled[row_ix, 1], label=cluster);\n",
    "\n",
    "plt.title(\"Clusters for mispredicted labels\\n (1 instead of 0)\", y=1, fontsize=11)\n",
    "# add legend to the plot\n",
    "plt.legend()\n",
    "# show the plot\n",
    "plt.show();"
   ]
  },
  {
   "cell_type": "code",
   "execution_count": 309,
   "metadata": {},
   "outputs": [],
   "source": [
    "df_failed_selected_0['cluster'] = yhat"
   ]
  },
  {
   "attachments": {},
   "cell_type": "markdown",
   "metadata": {},
   "source": [
    "### Describe clusters"
   ]
  },
  {
   "cell_type": "code",
   "execution_count": 310,
   "metadata": {},
   "outputs": [
    {
     "name": "stdout",
     "output_type": "stream",
     "text": [
      "Cluster: 0\n"
     ]
    },
    {
     "data": {
      "text/html": [
       "<div>\n",
       "<style scoped>\n",
       "    .dataframe tbody tr th:only-of-type {\n",
       "        vertical-align: middle;\n",
       "    }\n",
       "\n",
       "    .dataframe tbody tr th {\n",
       "        vertical-align: top;\n",
       "    }\n",
       "\n",
       "    .dataframe thead th {\n",
       "        text-align: right;\n",
       "    }\n",
       "</style>\n",
       "<table border=\"1\" class=\"dataframe\">\n",
       "  <thead>\n",
       "    <tr style=\"text-align: right;\">\n",
       "      <th></th>\n",
       "      <th>min</th>\n",
       "      <th>max</th>\n",
       "      <th>mean</th>\n",
       "      <th>std</th>\n",
       "    </tr>\n",
       "  </thead>\n",
       "  <tbody>\n",
       "    <tr>\n",
       "      <th>stats_char_count</th>\n",
       "      <td>109.00000</td>\n",
       "      <td>182.00000</td>\n",
       "      <td>141.194809</td>\n",
       "      <td>19.120930</td>\n",
       "    </tr>\n",
       "    <tr>\n",
       "      <th>w2v_gen_avg_word2vec_mean</th>\n",
       "      <td>-0.27739</td>\n",
       "      <td>0.14392</td>\n",
       "      <td>-0.075853</td>\n",
       "      <td>0.041190</td>\n",
       "    </tr>\n",
       "    <tr>\n",
       "      <th>aoa_aoa_kup_lem_mean</th>\n",
       "      <td>-1.00000</td>\n",
       "      <td>12.58000</td>\n",
       "      <td>6.086767</td>\n",
       "      <td>0.635940</td>\n",
       "    </tr>\n",
       "    <tr>\n",
       "      <th>w2v_ft_sen2vec_mean</th>\n",
       "      <td>-0.00543</td>\n",
       "      <td>0.00317</td>\n",
       "      <td>-0.000305</td>\n",
       "      <td>0.000829</td>\n",
       "    </tr>\n",
       "    <tr>\n",
       "      <th>label</th>\n",
       "      <td>0.00000</td>\n",
       "      <td>0.00000</td>\n",
       "      <td>0.000000</td>\n",
       "      <td>0.000000</td>\n",
       "    </tr>\n",
       "    <tr>\n",
       "      <th>y_pred</th>\n",
       "      <td>1.00000</td>\n",
       "      <td>1.00000</td>\n",
       "      <td>1.000000</td>\n",
       "      <td>0.000000</td>\n",
       "    </tr>\n",
       "    <tr>\n",
       "      <th>cluster</th>\n",
       "      <td>0.00000</td>\n",
       "      <td>0.00000</td>\n",
       "      <td>0.000000</td>\n",
       "      <td>0.000000</td>\n",
       "    </tr>\n",
       "  </tbody>\n",
       "</table>\n",
       "</div>"
      ],
      "text/plain": [
       "                                 min        max        mean        std\n",
       "stats_char_count           109.00000  182.00000  141.194809  19.120930\n",
       "w2v_gen_avg_word2vec_mean   -0.27739    0.14392   -0.075853   0.041190\n",
       "aoa_aoa_kup_lem_mean        -1.00000   12.58000    6.086767   0.635940\n",
       "w2v_ft_sen2vec_mean         -0.00543    0.00317   -0.000305   0.000829\n",
       "label                        0.00000    0.00000    0.000000   0.000000\n",
       "y_pred                       1.00000    1.00000    1.000000   0.000000\n",
       "cluster                      0.00000    0.00000    0.000000   0.000000"
      ]
     },
     "execution_count": 310,
     "metadata": {},
     "output_type": "execute_result"
    },
    {
     "name": "stderr",
     "output_type": "stream",
     "text": [
      "ic| nan_count: 1666\n"
     ]
    },
    {
     "data": {
      "text/plain": [
       "1666"
      ]
     },
     "execution_count": 310,
     "metadata": {},
     "output_type": "execute_result"
    },
    {
     "name": "stdout",
     "output_type": "stream",
     "text": [
      "Cluster: 1\n"
     ]
    },
    {
     "data": {
      "text/html": [
       "<div>\n",
       "<style scoped>\n",
       "    .dataframe tbody tr th:only-of-type {\n",
       "        vertical-align: middle;\n",
       "    }\n",
       "\n",
       "    .dataframe tbody tr th {\n",
       "        vertical-align: top;\n",
       "    }\n",
       "\n",
       "    .dataframe thead th {\n",
       "        text-align: right;\n",
       "    }\n",
       "</style>\n",
       "<table border=\"1\" class=\"dataframe\">\n",
       "  <thead>\n",
       "    <tr style=\"text-align: right;\">\n",
       "      <th></th>\n",
       "      <th>min</th>\n",
       "      <th>max</th>\n",
       "      <th>mean</th>\n",
       "      <th>std</th>\n",
       "    </tr>\n",
       "  </thead>\n",
       "  <tbody>\n",
       "    <tr>\n",
       "      <th>stats_char_count</th>\n",
       "      <td>2.0</td>\n",
       "      <td>345.0</td>\n",
       "      <td>34.076482</td>\n",
       "      <td>43.549922</td>\n",
       "    </tr>\n",
       "    <tr>\n",
       "      <th>w2v_gen_avg_word2vec_mean</th>\n",
       "      <td>-1.0</td>\n",
       "      <td>-1.0</td>\n",
       "      <td>-1.000000</td>\n",
       "      <td>0.000000</td>\n",
       "    </tr>\n",
       "    <tr>\n",
       "      <th>aoa_aoa_kup_lem_mean</th>\n",
       "      <td>-1.0</td>\n",
       "      <td>15.5</td>\n",
       "      <td>1.794723</td>\n",
       "      <td>4.310734</td>\n",
       "    </tr>\n",
       "    <tr>\n",
       "      <th>w2v_ft_sen2vec_mean</th>\n",
       "      <td>-1.0</td>\n",
       "      <td>-1.0</td>\n",
       "      <td>-1.000000</td>\n",
       "      <td>0.000000</td>\n",
       "    </tr>\n",
       "    <tr>\n",
       "      <th>label</th>\n",
       "      <td>0.0</td>\n",
       "      <td>0.0</td>\n",
       "      <td>0.000000</td>\n",
       "      <td>0.000000</td>\n",
       "    </tr>\n",
       "    <tr>\n",
       "      <th>y_pred</th>\n",
       "      <td>1.0</td>\n",
       "      <td>1.0</td>\n",
       "      <td>1.000000</td>\n",
       "      <td>0.000000</td>\n",
       "    </tr>\n",
       "    <tr>\n",
       "      <th>cluster</th>\n",
       "      <td>1.0</td>\n",
       "      <td>1.0</td>\n",
       "      <td>1.000000</td>\n",
       "      <td>0.000000</td>\n",
       "    </tr>\n",
       "  </tbody>\n",
       "</table>\n",
       "</div>"
      ],
      "text/plain": [
       "                           min    max       mean        std\n",
       "stats_char_count           2.0  345.0  34.076482  43.549922\n",
       "w2v_gen_avg_word2vec_mean -1.0   -1.0  -1.000000   0.000000\n",
       "aoa_aoa_kup_lem_mean      -1.0   15.5   1.794723   4.310734\n",
       "w2v_ft_sen2vec_mean       -1.0   -1.0  -1.000000   0.000000\n",
       "label                      0.0    0.0   0.000000   0.000000\n",
       "y_pred                     1.0    1.0   1.000000   0.000000\n",
       "cluster                    1.0    1.0   1.000000   0.000000"
      ]
     },
     "execution_count": 310,
     "metadata": {},
     "output_type": "execute_result"
    },
    {
     "name": "stderr",
     "output_type": "stream",
     "text": [
      "ic| nan_count: 1666\n"
     ]
    },
    {
     "data": {
      "text/plain": [
       "1666"
      ]
     },
     "execution_count": 310,
     "metadata": {},
     "output_type": "execute_result"
    },
    {
     "name": "stdout",
     "output_type": "stream",
     "text": [
      "Cluster: 2\n"
     ]
    },
    {
     "data": {
      "text/html": [
       "<div>\n",
       "<style scoped>\n",
       "    .dataframe tbody tr th:only-of-type {\n",
       "        vertical-align: middle;\n",
       "    }\n",
       "\n",
       "    .dataframe tbody tr th {\n",
       "        vertical-align: top;\n",
       "    }\n",
       "\n",
       "    .dataframe thead th {\n",
       "        text-align: right;\n",
       "    }\n",
       "</style>\n",
       "<table border=\"1\" class=\"dataframe\">\n",
       "  <thead>\n",
       "    <tr style=\"text-align: right;\">\n",
       "      <th></th>\n",
       "      <th>min</th>\n",
       "      <th>max</th>\n",
       "      <th>mean</th>\n",
       "      <th>std</th>\n",
       "    </tr>\n",
       "  </thead>\n",
       "  <tbody>\n",
       "    <tr>\n",
       "      <th>stats_char_count</th>\n",
       "      <td>1.00000</td>\n",
       "      <td>115.00000</td>\n",
       "      <td>83.624163</td>\n",
       "      <td>20.595591</td>\n",
       "    </tr>\n",
       "    <tr>\n",
       "      <th>w2v_gen_avg_word2vec_mean</th>\n",
       "      <td>-1.00000</td>\n",
       "      <td>0.32200</td>\n",
       "      <td>-0.066893</td>\n",
       "      <td>0.055734</td>\n",
       "    </tr>\n",
       "    <tr>\n",
       "      <th>aoa_aoa_kup_lem_mean</th>\n",
       "      <td>-1.00000</td>\n",
       "      <td>19.00000</td>\n",
       "      <td>6.153531</td>\n",
       "      <td>1.091484</td>\n",
       "    </tr>\n",
       "    <tr>\n",
       "      <th>w2v_ft_sen2vec_mean</th>\n",
       "      <td>-0.00725</td>\n",
       "      <td>0.00854</td>\n",
       "      <td>-0.000221</td>\n",
       "      <td>0.001033</td>\n",
       "    </tr>\n",
       "    <tr>\n",
       "      <th>label</th>\n",
       "      <td>0.00000</td>\n",
       "      <td>0.00000</td>\n",
       "      <td>0.000000</td>\n",
       "      <td>0.000000</td>\n",
       "    </tr>\n",
       "    <tr>\n",
       "      <th>y_pred</th>\n",
       "      <td>1.00000</td>\n",
       "      <td>1.00000</td>\n",
       "      <td>1.000000</td>\n",
       "      <td>0.000000</td>\n",
       "    </tr>\n",
       "    <tr>\n",
       "      <th>cluster</th>\n",
       "      <td>2.00000</td>\n",
       "      <td>2.00000</td>\n",
       "      <td>2.000000</td>\n",
       "      <td>0.000000</td>\n",
       "    </tr>\n",
       "  </tbody>\n",
       "</table>\n",
       "</div>"
      ],
      "text/plain": [
       "                               min        max       mean        std\n",
       "stats_char_count           1.00000  115.00000  83.624163  20.595591\n",
       "w2v_gen_avg_word2vec_mean -1.00000    0.32200  -0.066893   0.055734\n",
       "aoa_aoa_kup_lem_mean      -1.00000   19.00000   6.153531   1.091484\n",
       "w2v_ft_sen2vec_mean       -0.00725    0.00854  -0.000221   0.001033\n",
       "label                      0.00000    0.00000   0.000000   0.000000\n",
       "y_pred                     1.00000    1.00000   1.000000   0.000000\n",
       "cluster                    2.00000    2.00000   2.000000   0.000000"
      ]
     },
     "execution_count": 310,
     "metadata": {},
     "output_type": "execute_result"
    },
    {
     "name": "stderr",
     "output_type": "stream",
     "text": [
      "ic| nan_count: 1666\n"
     ]
    },
    {
     "data": {
      "text/plain": [
       "1666"
      ]
     },
     "execution_count": 310,
     "metadata": {},
     "output_type": "execute_result"
    },
    {
     "name": "stdout",
     "output_type": "stream",
     "text": [
      "Cluster: 3\n"
     ]
    },
    {
     "data": {
      "text/html": [
       "<div>\n",
       "<style scoped>\n",
       "    .dataframe tbody tr th:only-of-type {\n",
       "        vertical-align: middle;\n",
       "    }\n",
       "\n",
       "    .dataframe tbody tr th {\n",
       "        vertical-align: top;\n",
       "    }\n",
       "\n",
       "    .dataframe thead th {\n",
       "        text-align: right;\n",
       "    }\n",
       "</style>\n",
       "<table border=\"1\" class=\"dataframe\">\n",
       "  <thead>\n",
       "    <tr style=\"text-align: right;\">\n",
       "      <th></th>\n",
       "      <th>min</th>\n",
       "      <th>max</th>\n",
       "      <th>mean</th>\n",
       "      <th>std</th>\n",
       "    </tr>\n",
       "  </thead>\n",
       "  <tbody>\n",
       "    <tr>\n",
       "      <th>stats_char_count</th>\n",
       "      <td>180.00000</td>\n",
       "      <td>520.00000</td>\n",
       "      <td>221.661277</td>\n",
       "      <td>37.405840</td>\n",
       "    </tr>\n",
       "    <tr>\n",
       "      <th>w2v_gen_avg_word2vec_mean</th>\n",
       "      <td>-0.22263</td>\n",
       "      <td>0.08371</td>\n",
       "      <td>-0.075378</td>\n",
       "      <td>0.037791</td>\n",
       "    </tr>\n",
       "    <tr>\n",
       "      <th>aoa_aoa_kup_lem_mean</th>\n",
       "      <td>4.06000</td>\n",
       "      <td>9.70000</td>\n",
       "      <td>6.180261</td>\n",
       "      <td>0.633012</td>\n",
       "    </tr>\n",
       "    <tr>\n",
       "      <th>w2v_ft_sen2vec_mean</th>\n",
       "      <td>-0.00396</td>\n",
       "      <td>0.00352</td>\n",
       "      <td>-0.000304</td>\n",
       "      <td>0.000765</td>\n",
       "    </tr>\n",
       "    <tr>\n",
       "      <th>label</th>\n",
       "      <td>0.00000</td>\n",
       "      <td>0.00000</td>\n",
       "      <td>0.000000</td>\n",
       "      <td>0.000000</td>\n",
       "    </tr>\n",
       "    <tr>\n",
       "      <th>y_pred</th>\n",
       "      <td>1.00000</td>\n",
       "      <td>1.00000</td>\n",
       "      <td>1.000000</td>\n",
       "      <td>0.000000</td>\n",
       "    </tr>\n",
       "    <tr>\n",
       "      <th>cluster</th>\n",
       "      <td>3.00000</td>\n",
       "      <td>3.00000</td>\n",
       "      <td>3.000000</td>\n",
       "      <td>0.000000</td>\n",
       "    </tr>\n",
       "  </tbody>\n",
       "</table>\n",
       "</div>"
      ],
      "text/plain": [
       "                                 min        max        mean        std\n",
       "stats_char_count           180.00000  520.00000  221.661277  37.405840\n",
       "w2v_gen_avg_word2vec_mean   -0.22263    0.08371   -0.075378   0.037791\n",
       "aoa_aoa_kup_lem_mean         4.06000    9.70000    6.180261   0.633012\n",
       "w2v_ft_sen2vec_mean         -0.00396    0.00352   -0.000304   0.000765\n",
       "label                        0.00000    0.00000    0.000000   0.000000\n",
       "y_pred                       1.00000    1.00000    1.000000   0.000000\n",
       "cluster                      3.00000    3.00000    3.000000   0.000000"
      ]
     },
     "execution_count": 310,
     "metadata": {},
     "output_type": "execute_result"
    },
    {
     "name": "stderr",
     "output_type": "stream",
     "text": [
      "ic| nan_count: 1666\n"
     ]
    },
    {
     "data": {
      "text/plain": [
       "1666"
      ]
     },
     "execution_count": 310,
     "metadata": {},
     "output_type": "execute_result"
    }
   ],
   "source": [
    "for i in range(best_n):\n",
    "    print(\"Cluster:\",i)\n",
    "    df_failed_selected_0[df_failed_selected_0['cluster'] == i].describe().loc[['min', 'max', 'mean', 'std']].T\n",
    "    nan_count = (df_failed_selected_0 == -1).sum().sum()\n",
    "    ic(nan_count);\n",
    "    # df_failed_selected_0[df_failed_selected_0['cluster'] == i]['label'].value_counts()\n",
    "    # df_failed_selected_0[df_failed_selected_0['cluster'] == i].sample(5).T"
   ]
  },
  {
   "cell_type": "code",
   "execution_count": 311,
   "metadata": {},
   "outputs": [
    {
     "data": {
      "image/png": "[encoded data removed]",
      "text/plain": [
       "<Figure size 400x400 with 1 Axes>"
      ]
     },
     "metadata": {},
     "output_type": "display_data"
    }
   ],
   "source": [
    "from matplotlib.table import Table\n",
    "\n",
    "plt.rcParams[\"figure.figsize\"] = (4,4)\n",
    "fig, ax = plt.subplots()\n",
    "\n",
    "# Create bar plot\n",
    "df_failed_selected_0['cluster'].value_counts().plot(kind=\"bar\", ax=ax)\n",
    "\n",
    "ax.set_xlabel(\"Clusters\", labelpad=10, fontsize=10)  # Increase x-axis label distance\n",
    "ax.set_ylabel(\"Mispredicted Labels\", labelpad=10, fontsize=10)   # Increase y-axis label distance\n",
    "ax.set_xticklabels(ax.get_xticklabels(), rotation=0)  # Rotate x-axis tick labels\n",
    "\n",
    "# Create table\n",
    "table_data = [['Cluster', 'Count']]\n",
    "for cluster, count in df_failed_selected_0['cluster'].value_counts().items():\n",
    "    table_data.append([cluster, count])\n",
    "\n",
    "table = Table(ax, bbox=[1.1, 0.1, 0.4, 0.8])\n",
    "table.auto_set_font_size(False)\n",
    "table.set_fontsize(10)\n",
    "for i, row in enumerate(table_data):\n",
    "    for j, cell in enumerate(row):\n",
    "        if i == 0:\n",
    "            cell_color = 'lightgray' # set header row color\n",
    "        else:\n",
    "            cell_color = 'w'\n",
    "        table.add_cell(i, j, width=0.3, height=0.1, text=cell, loc='center', facecolor=cell_color)\n",
    "\n",
    "ax.add_table(table)\n",
    "\n",
    "# Add super-title and adjust spacing\n",
    "fig.suptitle(\"Mispredicted Labels per Cluster\", y=1, fontsize=11)\n",
    "\n",
    "plt.show();\n"
   ]
  },
  {
   "attachments": {},
   "cell_type": "markdown",
   "metadata": {},
   "source": [
    "**Conclusion**: Focusing on the clusters with the most mis-predicted lables: 2 and 0"
   ]
  },
  {
   "attachments": {},
   "cell_type": "markdown",
   "metadata": {},
   "source": [
    "### Show distribution of features"
   ]
  },
  {
   "cell_type": "code",
   "execution_count": 312,
   "metadata": {},
   "outputs": [],
   "source": [
    "def plot_two_distributions(df, cluster1, cluster2, feature, n_bins=10):\n",
    "    data1 = df[df['cluster'] == cluster1][feature]\n",
    "    data2 = df[df['cluster'] == cluster2][feature]\n",
    "\n",
    "\n",
    "    fig, (ax1, ax2) = plt.subplots(ncols=2, figsize=(10, 4), sharey=True, sharex=True)\n",
    "\n",
    "    # Plot histogram for cluster1\n",
    "    n1, bins1, patches1 = ax1.hist(data1, bins=n_bins)\n",
    "    mean_val1 = np.mean(data1)\n",
    "    ax1.axvline(mean_val1, color='r', linestyle='--', linewidth=1, label='Mean')\n",
    "    ax1.legend()\n",
    "    ax1.set_xlabel(feature)\n",
    "    ax1.set_ylabel('Frequency')\n",
    "    ax1.set_title(f'Histogram of Character Count in Cluster {cluster1}')\n",
    "\n",
    "    # Plot histogram for cluster2\n",
    "    n2, bins2, patches2 = ax2.hist(data2, bins=n_bins)\n",
    "    mean_val2 = np.mean(data2)\n",
    "    ax2.axvline(mean_val2, color='r', linestyle='--', linewidth=1, label='Mean')\n",
    "    ax2.legend()\n",
    "    ax2.set_xlabel(feature)\n",
    "    #ax2.set_ylabel('Frequency')\n",
    "    ax2.set_title(f'Histogram of Character Count in Cluster {cluster2}')\n",
    "\n",
    "    plt.tight_layout()\n",
    "    plt.show()\n"
   ]
  },
  {
   "cell_type": "code",
   "execution_count": 313,
   "metadata": {},
   "outputs": [
    {
     "data": {
      "image/png": "[encoded data removed]",
      "text/plain": [
       "<Figure size 1000x400 with 2 Axes>"
      ]
     },
     "metadata": {},
     "output_type": "display_data"
    },
    {
     "data": {
      "image/png": "[encoded data removed]",
      "text/plain": [
       "<Figure size 1000x400 with 2 Axes>"
      ]
     },
     "metadata": {},
     "output_type": "display_data"
    },
    {
     "data": {
      "image/png": "[encoded data removed]",
      "text/plain": [
       "<Figure size 1000x400 with 2 Axes>"
      ]
     },
     "metadata": {},
     "output_type": "display_data"
    },
    {
     "data": {
      "image/png": "[encoded data removed]",
      "text/plain": [
       "<Figure size 1000x400 with 2 Axes>"
      ]
     },
     "metadata": {},
     "output_type": "display_data"
    }
   ],
   "source": [
    "feature_list = list(set(important_feature_list) -{\"label\", \"original_text\", \"cleaned_text\", \"stats_language_code\", \"y_pred\"})\n",
    "\n",
    "for feature in feature_list:\n",
    "    plot_two_distributions(df_failed_selected_0, 0, 2, feature, 20)"
   ]
  },
  {
   "cell_type": "code",
   "execution_count": 314,
   "metadata": {},
   "outputs": [
    {
     "data": {
      "text/html": [
       "<div>\n",
       "<style scoped>\n",
       "    .dataframe tbody tr th:only-of-type {\n",
       "        vertical-align: middle;\n",
       "    }\n",
       "\n",
       "    .dataframe tbody tr th {\n",
       "        vertical-align: top;\n",
       "    }\n",
       "\n",
       "    .dataframe thead tr th {\n",
       "        text-align: left;\n",
       "    }\n",
       "\n",
       "    .dataframe thead tr:last-of-type th {\n",
       "        text-align: right;\n",
       "    }\n",
       "</style>\n",
       "<table border=\"1\" class=\"dataframe\">\n",
       "  <thead>\n",
       "    <tr>\n",
       "      <th></th>\n",
       "      <th colspan=\"6\" halign=\"left\">stats_char_count</th>\n",
       "      <th colspan=\"6\" halign=\"left\">w2v_gen_avg_word2vec_mean</th>\n",
       "      <th colspan=\"6\" halign=\"left\">aoa_aoa_kup_lem_mean</th>\n",
       "    </tr>\n",
       "    <tr>\n",
       "      <th></th>\n",
       "      <th>count</th>\n",
       "      <th>min</th>\n",
       "      <th>max</th>\n",
       "      <th>mean</th>\n",
       "      <th>median</th>\n",
       "      <th>std</th>\n",
       "      <th>count</th>\n",
       "      <th>min</th>\n",
       "      <th>max</th>\n",
       "      <th>mean</th>\n",
       "      <th>median</th>\n",
       "      <th>std</th>\n",
       "      <th>count</th>\n",
       "      <th>min</th>\n",
       "      <th>max</th>\n",
       "      <th>mean</th>\n",
       "      <th>median</th>\n",
       "      <th>std</th>\n",
       "    </tr>\n",
       "    <tr>\n",
       "      <th>cluster</th>\n",
       "      <th></th>\n",
       "      <th></th>\n",
       "      <th></th>\n",
       "      <th></th>\n",
       "      <th></th>\n",
       "      <th></th>\n",
       "      <th></th>\n",
       "      <th></th>\n",
       "      <th></th>\n",
       "      <th></th>\n",
       "      <th></th>\n",
       "      <th></th>\n",
       "      <th></th>\n",
       "      <th></th>\n",
       "      <th></th>\n",
       "      <th></th>\n",
       "      <th></th>\n",
       "      <th></th>\n",
       "    </tr>\n",
       "  </thead>\n",
       "  <tbody>\n",
       "    <tr>\n",
       "      <th>0</th>\n",
       "      <td>22191</td>\n",
       "      <td>109</td>\n",
       "      <td>182</td>\n",
       "      <td>141.194809</td>\n",
       "      <td>139.0</td>\n",
       "      <td>19.120930</td>\n",
       "      <td>22191</td>\n",
       "      <td>-0.27739</td>\n",
       "      <td>0.14392</td>\n",
       "      <td>-0.075853</td>\n",
       "      <td>-0.07636</td>\n",
       "      <td>0.041190</td>\n",
       "      <td>22191</td>\n",
       "      <td>-1.00</td>\n",
       "      <td>12.58</td>\n",
       "      <td>6.086767</td>\n",
       "      <td>6.02</td>\n",
       "      <td>0.635940</td>\n",
       "    </tr>\n",
       "    <tr>\n",
       "      <th>1</th>\n",
       "      <td>523</td>\n",
       "      <td>2</td>\n",
       "      <td>345</td>\n",
       "      <td>34.076482</td>\n",
       "      <td>17.0</td>\n",
       "      <td>43.549922</td>\n",
       "      <td>523</td>\n",
       "      <td>-1.00000</td>\n",
       "      <td>-1.00000</td>\n",
       "      <td>-1.000000</td>\n",
       "      <td>-1.00000</td>\n",
       "      <td>0.000000</td>\n",
       "      <td>523</td>\n",
       "      <td>-1.00</td>\n",
       "      <td>15.50</td>\n",
       "      <td>1.794723</td>\n",
       "      <td>-1.00</td>\n",
       "      <td>4.310734</td>\n",
       "    </tr>\n",
       "    <tr>\n",
       "      <th>2</th>\n",
       "      <td>25394</td>\n",
       "      <td>1</td>\n",
       "      <td>115</td>\n",
       "      <td>83.624163</td>\n",
       "      <td>87.0</td>\n",
       "      <td>20.595591</td>\n",
       "      <td>25394</td>\n",
       "      <td>-1.00000</td>\n",
       "      <td>0.32200</td>\n",
       "      <td>-0.066893</td>\n",
       "      <td>-0.06656</td>\n",
       "      <td>0.055734</td>\n",
       "      <td>25394</td>\n",
       "      <td>-1.00</td>\n",
       "      <td>19.00</td>\n",
       "      <td>6.153531</td>\n",
       "      <td>6.11</td>\n",
       "      <td>1.091484</td>\n",
       "    </tr>\n",
       "    <tr>\n",
       "      <th>3</th>\n",
       "      <td>7174</td>\n",
       "      <td>180</td>\n",
       "      <td>520</td>\n",
       "      <td>221.661277</td>\n",
       "      <td>210.0</td>\n",
       "      <td>37.405840</td>\n",
       "      <td>7174</td>\n",
       "      <td>-0.22263</td>\n",
       "      <td>0.08371</td>\n",
       "      <td>-0.075378</td>\n",
       "      <td>-0.07536</td>\n",
       "      <td>0.037791</td>\n",
       "      <td>7174</td>\n",
       "      <td>4.06</td>\n",
       "      <td>9.70</td>\n",
       "      <td>6.180261</td>\n",
       "      <td>6.12</td>\n",
       "      <td>0.633012</td>\n",
       "    </tr>\n",
       "  </tbody>\n",
       "</table>\n",
       "</div>"
      ],
      "text/plain": [
       "        stats_char_count                                          \\\n",
       "                   count  min  max        mean median        std   \n",
       "cluster                                                            \n",
       "0                  22191  109  182  141.194809  139.0  19.120930   \n",
       "1                    523    2  345   34.076482   17.0  43.549922   \n",
       "2                  25394    1  115   83.624163   87.0  20.595591   \n",
       "3                   7174  180  520  221.661277  210.0  37.405840   \n",
       "\n",
       "        w2v_gen_avg_word2vec_mean                                       \\\n",
       "                            count      min      max      mean   median   \n",
       "cluster                                                                  \n",
       "0                           22191 -0.27739  0.14392 -0.075853 -0.07636   \n",
       "1                             523 -1.00000 -1.00000 -1.000000 -1.00000   \n",
       "2                           25394 -1.00000  0.32200 -0.066893 -0.06656   \n",
       "3                            7174 -0.22263  0.08371 -0.075378 -0.07536   \n",
       "\n",
       "                  aoa_aoa_kup_lem_mean                                          \n",
       "              std                count   min    max      mean median       std  \n",
       "cluster                                                                         \n",
       "0        0.041190                22191 -1.00  12.58  6.086767   6.02  0.635940  \n",
       "1        0.000000                  523 -1.00  15.50  1.794723  -1.00  4.310734  \n",
       "2        0.055734                25394 -1.00  19.00  6.153531   6.11  1.091484  \n",
       "3        0.037791                 7174  4.06   9.70  6.180261   6.12  0.633012  "
      ]
     },
     "execution_count": 314,
     "metadata": {},
     "output_type": "execute_result"
    }
   ],
   "source": [
    "aggregations = {\n",
    "    'stats_char_count': ['count', 'min', 'max', 'mean', 'median', 'std'],\n",
    "    'w2v_gen_avg_word2vec_mean': ['count', 'min', 'max', 'mean', 'median', 'std'],\n",
    "    'aoa_aoa_kup_lem_mean': ['count', 'min', 'max', 'mean', 'median', 'std']\n",
    "}\n",
    "df_grouped = df_failed_selected_0.groupby('cluster').agg(aggregations)\n",
    "df_grouped"
   ]
  },
  {
   "attachments": {},
   "cell_type": "markdown",
   "metadata": {},
   "source": [
    "### Cluster 0"
   ]
  },
  {
   "cell_type": "code",
   "execution_count": 315,
   "metadata": {},
   "outputs": [
    {
     "data": {
      "text/plain": [
       "4.0"
      ]
     },
     "execution_count": 315,
     "metadata": {},
     "output_type": "execute_result"
    }
   ],
   "source": [
    "df_failed_selected_0[(df_failed_selected_0['cluster'] == 0) & (df_failed_selected_0['aoa_aoa_kup_lem_mean'] > -1)]['aoa_aoa_kup_lem_mean'].min()\n"
   ]
  },
  {
   "cell_type": "code",
   "execution_count": 316,
   "metadata": {},
   "outputs": [
    {
     "data": {
      "text/html": [
       "<div>\n",
       "<style scoped>\n",
       "    .dataframe tbody tr th:only-of-type {\n",
       "        vertical-align: middle;\n",
       "    }\n",
       "\n",
       "    .dataframe tbody tr th {\n",
       "        vertical-align: top;\n",
       "    }\n",
       "\n",
       "    .dataframe thead th {\n",
       "        text-align: right;\n",
       "    }\n",
       "</style>\n",
       "<table border=\"1\" class=\"dataframe\">\n",
       "  <thead>\n",
       "    <tr style=\"text-align: right;\">\n",
       "      <th></th>\n",
       "      <th>390849</th>\n",
       "      <th>236573</th>\n",
       "      <th>407231</th>\n",
       "      <th>217147</th>\n",
       "      <th>222358</th>\n",
       "    </tr>\n",
       "  </thead>\n",
       "  <tbody>\n",
       "    <tr>\n",
       "      <th>stats_char_count</th>\n",
       "      <td>163</td>\n",
       "      <td>143</td>\n",
       "      <td>145</td>\n",
       "      <td>114</td>\n",
       "      <td>120</td>\n",
       "    </tr>\n",
       "    <tr>\n",
       "      <th>w2v_gen_avg_word2vec_mean</th>\n",
       "      <td>-0.11252</td>\n",
       "      <td>-0.09259</td>\n",
       "      <td>-0.03051</td>\n",
       "      <td>-0.04039</td>\n",
       "      <td>-0.10951</td>\n",
       "    </tr>\n",
       "    <tr>\n",
       "      <th>aoa_aoa_kup_lem_mean</th>\n",
       "      <td>5.77</td>\n",
       "      <td>6.01</td>\n",
       "      <td>6.56</td>\n",
       "      <td>6.58</td>\n",
       "      <td>5.56</td>\n",
       "    </tr>\n",
       "    <tr>\n",
       "      <th>w2v_ft_sen2vec_mean</th>\n",
       "      <td>-0.00052</td>\n",
       "      <td>0.00005</td>\n",
       "      <td>0.00037</td>\n",
       "      <td>0.00045</td>\n",
       "      <td>0.00187</td>\n",
       "    </tr>\n",
       "    <tr>\n",
       "      <th>label</th>\n",
       "      <td>0</td>\n",
       "      <td>0</td>\n",
       "      <td>0</td>\n",
       "      <td>0</td>\n",
       "      <td>0</td>\n",
       "    </tr>\n",
       "    <tr>\n",
       "      <th>y_pred</th>\n",
       "      <td>1</td>\n",
       "      <td>1</td>\n",
       "      <td>1</td>\n",
       "      <td>1</td>\n",
       "      <td>1</td>\n",
       "    </tr>\n",
       "    <tr>\n",
       "      <th>original_text</th>\n",
       "      <td>With Drake looking like they were going to continue to win , Burton started a plan to purposely lose the fourth Immunity challenge to get rid of the tribe 's weaker players such as Trish and Christa .</td>\n",
       "      <td>More praise was given to its size and future potential based on user-created content . Small criticism was made for certain parts of the gameplay and level creation tools .</td>\n",
       "      <td>The palace is a complex of buildings , with the Papal Apartment , the Catholic Church 's government offices , a handful of chapels , the Vatican Museum and the Vatican library .</td>\n",
       "      <td>A thin film transistor liquid crystal display -LRB- TFT-LCD -RRB- is a technology which is used in LCD monitor and television displays .</td>\n",
       "      <td>After the Yankees took a 4 - 2 lead on a Don Mattingly 2-RBI double in the 6th inning , the Mariners came back to tie the score at 4 - 4 in the 8th inning .</td>\n",
       "    </tr>\n",
       "    <tr>\n",
       "      <th>cleaned_text</th>\n",
       "      <td>with drake looking like they were going to continue to win burton started a plan to purposely lose the fourth immunity challenge to get rid of the tribe weaker players such as trish and christa</td>\n",
       "      <td>more praise was given to its size and future potential based on user created content small criticism was made for certain parts of the gameplay and level creation tools</td>\n",
       "      <td>the palace is a complex of buildings with the papal apartment the catholic church government offices a handful of chapels the vatican museum and the vatican library</td>\n",
       "      <td>a thin film transistor liquid crystal display tft lcd is a technology which is used in lcd monitor and television displays</td>\n",
       "      <td>after the yankees took a 4 2 lead on a don mattingly 2 rbi double in the 6th inning the mariners came back to tie the score at 4 4 in the 8th inning</td>\n",
       "    </tr>\n",
       "    <tr>\n",
       "      <th>cluster</th>\n",
       "      <td>0</td>\n",
       "      <td>0</td>\n",
       "      <td>0</td>\n",
       "      <td>0</td>\n",
       "      <td>0</td>\n",
       "    </tr>\n",
       "  </tbody>\n",
       "</table>\n",
       "</div>"
      ],
      "text/plain": [
       "                                                                                                                                                                                                                             390849  \\\n",
       "stats_char_count                                                                                                                                                                                                                163   \n",
       "w2v_gen_avg_word2vec_mean                                                                                                                                                                                                  -0.11252   \n",
       "aoa_aoa_kup_lem_mean                                                                                                                                                                                                           5.77   \n",
       "w2v_ft_sen2vec_mean                                                                                                                                                                                                        -0.00052   \n",
       "label                                                                                                                                                                                                                             0   \n",
       "y_pred                                                                                                                                                                                                                            1   \n",
       "original_text              With Drake looking like they were going to continue to win , Burton started a plan to purposely lose the fourth Immunity challenge to get rid of the tribe 's weaker players such as Trish and Christa .   \n",
       "cleaned_text                      with drake looking like they were going to continue to win burton started a plan to purposely lose the fourth immunity challenge to get rid of the tribe weaker players such as trish and christa   \n",
       "cluster                                                                                                                                                                                                                           0   \n",
       "\n",
       "                                                                                                                                                                                                 236573  \\\n",
       "stats_char_count                                                                                                                                                                                    143   \n",
       "w2v_gen_avg_word2vec_mean                                                                                                                                                                      -0.09259   \n",
       "aoa_aoa_kup_lem_mean                                                                                                                                                                               6.01   \n",
       "w2v_ft_sen2vec_mean                                                                                                                                                                             0.00005   \n",
       "label                                                                                                                                                                                                 0   \n",
       "y_pred                                                                                                                                                                                                1   \n",
       "original_text              More praise was given to its size and future potential based on user-created content . Small criticism was made for certain parts of the gameplay and level creation tools .   \n",
       "cleaned_text                   more praise was given to its size and future potential based on user created content small criticism was made for certain parts of the gameplay and level creation tools   \n",
       "cluster                                                                                                                                                                                               0   \n",
       "\n",
       "                                                                                                                                                                                                      407231  \\\n",
       "stats_char_count                                                                                                                                                                                         145   \n",
       "w2v_gen_avg_word2vec_mean                                                                                                                                                                           -0.03051   \n",
       "aoa_aoa_kup_lem_mean                                                                                                                                                                                    6.56   \n",
       "w2v_ft_sen2vec_mean                                                                                                                                                                                  0.00037   \n",
       "label                                                                                                                                                                                                      0   \n",
       "y_pred                                                                                                                                                                                                     1   \n",
       "original_text              The palace is a complex of buildings , with the Papal Apartment , the Catholic Church 's government offices , a handful of chapels , the Vatican Museum and the Vatican library .   \n",
       "cleaned_text                            the palace is a complex of buildings with the papal apartment the catholic church government offices a handful of chapels the vatican museum and the vatican library   \n",
       "cluster                                                                                                                                                                                                    0   \n",
       "\n",
       "                                                                                                                                                             217147  \\\n",
       "stats_char_count                                                                                                                                                114   \n",
       "w2v_gen_avg_word2vec_mean                                                                                                                                  -0.04039   \n",
       "aoa_aoa_kup_lem_mean                                                                                                                                           6.58   \n",
       "w2v_ft_sen2vec_mean                                                                                                                                         0.00045   \n",
       "label                                                                                                                                                             0   \n",
       "y_pred                                                                                                                                                            1   \n",
       "original_text              A thin film transistor liquid crystal display -LRB- TFT-LCD -RRB- is a technology which is used in LCD monitor and television displays .   \n",
       "cleaned_text                             a thin film transistor liquid crystal display tft lcd is a technology which is used in lcd monitor and television displays   \n",
       "cluster                                                                                                                                                           0   \n",
       "\n",
       "                                                                                                                                                                                 222358  \n",
       "stats_char_count                                                                                                                                                                    120  \n",
       "w2v_gen_avg_word2vec_mean                                                                                                                                                      -0.10951  \n",
       "aoa_aoa_kup_lem_mean                                                                                                                                                               5.56  \n",
       "w2v_ft_sen2vec_mean                                                                                                                                                             0.00187  \n",
       "label                                                                                                                                                                                 0  \n",
       "y_pred                                                                                                                                                                                1  \n",
       "original_text              After the Yankees took a 4 - 2 lead on a Don Mattingly 2-RBI double in the 6th inning , the Mariners came back to tie the score at 4 - 4 in the 8th inning .  \n",
       "cleaned_text                       after the yankees took a 4 2 lead on a don mattingly 2 rbi double in the 6th inning the mariners came back to tie the score at 4 4 in the 8th inning  \n",
       "cluster                                                                                                                                                                               0  "
      ]
     },
     "execution_count": 316,
     "metadata": {},
     "output_type": "execute_result"
    }
   ],
   "source": [
    "df_failed_selected_0[(df_failed_selected_0['cluster'] == 0) & (df_failed_selected_0['aoa_aoa_kup_lem_mean'] >= 5) & (df_failed_selected_0['aoa_aoa_kup_lem_mean'] <= 7.5) & (df_failed_selected_0['aoa_aoa_kup_lem_mean'] > 1)].sample(5).T\n"
   ]
  },
  {
   "attachments": {},
   "cell_type": "markdown",
   "metadata": {},
   "source": [
    "**Conclusion Cluster 0 (mis-predicted samples - 0 instead of 1)**\n",
    "- For **cluster 0**: For all mis-predicted lables the **stats_char_count** is over 109 (min).\n",
    "- In combination with **aoa_aoa_kup_lem_mean** over 4 (4.0), the true lable is most-likely incorrect and should be a 1 instead of a 0.\n",
    "- This observation is also supported by the sampled sentences."
   ]
  },
  {
   "attachments": {},
   "cell_type": "markdown",
   "metadata": {},
   "source": [
    "### Cluster 2"
   ]
  },
  {
   "cell_type": "code",
   "execution_count": 317,
   "metadata": {},
   "outputs": [
    {
     "data": {
      "text/html": [
       "<div>\n",
       "<style scoped>\n",
       "    .dataframe tbody tr th:only-of-type {\n",
       "        vertical-align: middle;\n",
       "    }\n",
       "\n",
       "    .dataframe tbody tr th {\n",
       "        vertical-align: top;\n",
       "    }\n",
       "\n",
       "    .dataframe thead th {\n",
       "        text-align: right;\n",
       "    }\n",
       "</style>\n",
       "<table border=\"1\" class=\"dataframe\">\n",
       "  <thead>\n",
       "    <tr style=\"text-align: right;\">\n",
       "      <th></th>\n",
       "      <th>296516</th>\n",
       "      <th>284396</th>\n",
       "      <th>406781</th>\n",
       "      <th>414268</th>\n",
       "      <th>253377</th>\n",
       "    </tr>\n",
       "  </thead>\n",
       "  <tbody>\n",
       "    <tr>\n",
       "      <th>stats_char_count</th>\n",
       "      <td>23</td>\n",
       "      <td>7</td>\n",
       "      <td>2</td>\n",
       "      <td>38</td>\n",
       "      <td>49</td>\n",
       "    </tr>\n",
       "    <tr>\n",
       "      <th>w2v_gen_avg_word2vec_mean</th>\n",
       "      <td>-0.03813</td>\n",
       "      <td>-0.11045</td>\n",
       "      <td>-0.10799</td>\n",
       "      <td>-0.15612</td>\n",
       "      <td>-0.04433</td>\n",
       "    </tr>\n",
       "    <tr>\n",
       "      <th>aoa_aoa_kup_lem_mean</th>\n",
       "      <td>-1.0</td>\n",
       "      <td>3.75</td>\n",
       "      <td>-1.0</td>\n",
       "      <td>6.85</td>\n",
       "      <td>5.4</td>\n",
       "    </tr>\n",
       "    <tr>\n",
       "      <th>w2v_ft_sen2vec_mean</th>\n",
       "      <td>-0.00127</td>\n",
       "      <td>-0.0017</td>\n",
       "      <td>0.00081</td>\n",
       "      <td>-0.00245</td>\n",
       "      <td>0.00209</td>\n",
       "    </tr>\n",
       "    <tr>\n",
       "      <th>label</th>\n",
       "      <td>0</td>\n",
       "      <td>0</td>\n",
       "      <td>0</td>\n",
       "      <td>0</td>\n",
       "      <td>0</td>\n",
       "    </tr>\n",
       "    <tr>\n",
       "      <th>y_pred</th>\n",
       "      <td>1</td>\n",
       "      <td>1</td>\n",
       "      <td>1</td>\n",
       "      <td>1</td>\n",
       "      <td>1</td>\n",
       "    </tr>\n",
       "    <tr>\n",
       "      <th>original_text</th>\n",
       "      <td>Río Grande -LRB- M.D. -RRB-</td>\n",
       "      <td>In music</td>\n",
       "      <td>N !</td>\n",
       "      <td>Szombathely , Hungary -LRB- since 1991 -RRB-</td>\n",
       "      <td>At the 2006 census , Airlie Beach had a population of 2,751 .</td>\n",
       "    </tr>\n",
       "    <tr>\n",
       "      <th>cleaned_text</th>\n",
       "      <td>r o grande m d</td>\n",
       "      <td>in music</td>\n",
       "      <td>n</td>\n",
       "      <td>szombathely hungary since 1991</td>\n",
       "      <td>at the 2006 census airlie beach had a population of 2 751</td>\n",
       "    </tr>\n",
       "    <tr>\n",
       "      <th>cluster</th>\n",
       "      <td>2</td>\n",
       "      <td>2</td>\n",
       "      <td>2</td>\n",
       "      <td>2</td>\n",
       "      <td>2</td>\n",
       "    </tr>\n",
       "  </tbody>\n",
       "</table>\n",
       "</div>"
      ],
      "text/plain": [
       "                                                296516    284396   406781  \\\n",
       "stats_char_count                                    23         7        2   \n",
       "w2v_gen_avg_word2vec_mean                     -0.03813  -0.11045 -0.10799   \n",
       "aoa_aoa_kup_lem_mean                              -1.0      3.75     -1.0   \n",
       "w2v_ft_sen2vec_mean                           -0.00127   -0.0017  0.00081   \n",
       "label                                                0         0        0   \n",
       "y_pred                                               1         1        1   \n",
       "original_text              Río Grande -LRB- M.D. -RRB-  In music      N !   \n",
       "cleaned_text                            r o grande m d  in music        n   \n",
       "cluster                                              2         2        2   \n",
       "\n",
       "                                                                 414268  \\\n",
       "stats_char_count                                                     38   \n",
       "w2v_gen_avg_word2vec_mean                                      -0.15612   \n",
       "aoa_aoa_kup_lem_mean                                               6.85   \n",
       "w2v_ft_sen2vec_mean                                            -0.00245   \n",
       "label                                                                 0   \n",
       "y_pred                                                                1   \n",
       "original_text              Szombathely , Hungary -LRB- since 1991 -RRB-   \n",
       "cleaned_text                             szombathely hungary since 1991   \n",
       "cluster                                                               2   \n",
       "\n",
       "                                                                                  253377  \n",
       "stats_char_count                                                                      49  \n",
       "w2v_gen_avg_word2vec_mean                                                       -0.04433  \n",
       "aoa_aoa_kup_lem_mean                                                                 5.4  \n",
       "w2v_ft_sen2vec_mean                                                              0.00209  \n",
       "label                                                                                  0  \n",
       "y_pred                                                                                 1  \n",
       "original_text              At the 2006 census , Airlie Beach had a population of 2,751 .  \n",
       "cleaned_text                   at the 2006 census airlie beach had a population of 2 751  \n",
       "cluster                                                                                2  "
      ]
     },
     "execution_count": 317,
     "metadata": {},
     "output_type": "execute_result"
    }
   ],
   "source": [
    "df_failed_selected_0[(df_failed_selected_0['cluster'] == 2) & (df_failed_selected_0['stats_char_count'] < 50)].sample(5).T\n"
   ]
  },
  {
   "attachments": {},
   "cell_type": "markdown",
   "metadata": {},
   "source": [
    "**Conclusion Cluster 2 (mis-predicted samples - 0 instead of 1)**:\n",
    "- For samples with a **stats_char_count** less than 50 we are most-likely looking at incomplete sentences.\n",
    "- And if not, we would need to explore why the **aoa_aoa_kup_lem_mean** is high or why the value of -1 does not help with the prediction (maybe setting to 0)."
   ]
  },
  {
   "attachments": {},
   "cell_type": "markdown",
   "metadata": {},
   "source": [
    "## Clustering incorrect labels (true label 1)\n"
   ]
  },
  {
   "attachments": {},
   "cell_type": "markdown",
   "metadata": {},
   "source": [
    "Exlploring why the model predicted 0 instead of the true label 1."
   ]
  },
  {
   "cell_type": "code",
   "execution_count": 318,
   "metadata": {},
   "outputs": [
    {
     "name": "stderr",
     "output_type": "stream",
     "text": [
      "ic| X.shape: (49437, 4)\n",
      "ic| y.shape: (49437,)\n"
     ]
    }
   ],
   "source": [
    "# Prepare X and only use the relevant columns/features\n",
    "X_columns_train = df_failed_selected_1.columns.to_list()\n",
    "X_columns_train = list(set(X_columns_train) -{\"label\", \"original_text\", \"cleaned_text\", \"stats_language_code\", \"y_pred\"})\n",
    "\n",
    "X = df_failed_selected_1[X_columns_train].copy()\n",
    "y = df_failed_selected_1[\"label\"]\n",
    "\n",
    "ic(X.shape);\n",
    "ic(y.shape);\n"
   ]
  },
  {
   "cell_type": "code",
   "execution_count": 319,
   "metadata": {},
   "outputs": [],
   "source": [
    "# Normalize data using MinMaxScaler\n",
    "scaler = MinMaxScaler()\n",
    "X_train_scaled = scaler.fit_transform(X)\n"
   ]
  },
  {
   "cell_type": "markdown",
   "metadata": {},
   "source": [
    "### Create Clusters"
   ]
  },
  {
   "cell_type": "code",
   "execution_count": 320,
   "metadata": {},
   "outputs": [
    {
     "data": {
      "image/png": "[encoded data removed]",
      "text/plain": [
       "<Figure size 400x400 with 2 Axes>"
      ]
     },
     "metadata": {},
     "output_type": "display_data"
    }
   ],
   "source": [
    "# Calculate best n_cluster value with Elbow method\n",
    "\n",
    "# Visualization\n",
    "plt.rcParams[\"figure.figsize\"] = (4,4)\n",
    "sns.set(rc={'figure.figsize':(4,4)})\n",
    "sns.set(font_scale=1.0)\n",
    "\n",
    "# Instantiate the clustering model and visualizer\n",
    "model = KMeans()\n",
    "visualizer = KElbowVisualizer(model, k=(2,15))\n",
    "\n",
    "visualizer.fit(X_train_scaled)  # Fit the data to the visualizer\n",
    "\n",
    "# Set title\n",
    "visualizer.ax.set_title('Test')\n",
    "\n",
    "# Finalize and render the figure\n",
    "visualizer.show();\n"
   ]
  },
  {
   "cell_type": "code",
   "execution_count": 321,
   "metadata": {},
   "outputs": [
    {
     "name": "stderr",
     "output_type": "stream",
     "text": [
      "ic| best_n: 7\n"
     ]
    }
   ],
   "source": [
    "best_n = visualizer.elbow_value_\n",
    "ic(best_n);"
   ]
  },
  {
   "cell_type": "code",
   "execution_count": 322,
   "metadata": {},
   "outputs": [
    {
     "name": "stdout",
     "output_type": "stream",
     "text": [
      "[5 5 2 ... 5 5 0]\n"
     ]
    }
   ],
   "source": [
    "# Perform KMeans clustering\n",
    "kmeans = KMeans(n_clusters=best_n, random_state=seed).fit(X_train_scaled)\n",
    "\n",
    "# Get cluster labels\n",
    "labels = kmeans.labels_\n",
    "\n",
    "# Print cluster labels\n",
    "print(labels)\n",
    "\n",
    "yhat = kmeans.fit_predict(X_train_scaled);"
   ]
  },
  {
   "cell_type": "code",
   "execution_count": 323,
   "metadata": {},
   "outputs": [
    {
     "data": {
      "image/png": "[encoded data removed]",
      "text/plain": [
       "<Figure size 400x400 with 1 Axes>"
      ]
     },
     "metadata": {},
     "output_type": "display_data"
    }
   ],
   "source": [
    "# Visualization\n",
    "plt.rcParams[\"figure.figsize\"] = (4,4)\n",
    "sns.set(rc={'figure.figsize':(4,4)})\n",
    "sns.set(font_scale=1.0)\n",
    "\n",
    "# retrieve unique clusters\n",
    "clusters = np.unique(yhat)\n",
    "# create scatter plot for samples from each cluster\n",
    "for cluster in clusters:\n",
    "    # get row indexes for samples with this cluster\n",
    "    row_ix = np.where(yhat == cluster)\n",
    "    # create scatter of these samples\n",
    "    plt.scatter(X_train_scaled[row_ix, 0], X_train_scaled[row_ix, 1], label=cluster);\n",
    "\n",
    "plt.title(\"Clusters for mispredicted labels\\n (0 instead of 1)\", y=1, fontsize=11)\n",
    "# add legend to the plot\n",
    "plt.legend()\n",
    "# show the plot\n",
    "plt.show();"
   ]
  },
  {
   "cell_type": "code",
   "execution_count": 324,
   "metadata": {},
   "outputs": [],
   "source": [
    "df_failed_selected_1['cluster'] = yhat"
   ]
  },
  {
   "attachments": {},
   "cell_type": "markdown",
   "metadata": {},
   "source": [
    "### Describe clusters"
   ]
  },
  {
   "cell_type": "code",
   "execution_count": 325,
   "metadata": {},
   "outputs": [
    {
     "name": "stdout",
     "output_type": "stream",
     "text": [
      "Cluster: 0\n"
     ]
    },
    {
     "data": {
      "text/html": [
       "<div>\n",
       "<style scoped>\n",
       "    .dataframe tbody tr th:only-of-type {\n",
       "        vertical-align: middle;\n",
       "    }\n",
       "\n",
       "    .dataframe tbody tr th {\n",
       "        vertical-align: top;\n",
       "    }\n",
       "\n",
       "    .dataframe thead th {\n",
       "        text-align: right;\n",
       "    }\n",
       "</style>\n",
       "<table border=\"1\" class=\"dataframe\">\n",
       "  <thead>\n",
       "    <tr style=\"text-align: right;\">\n",
       "      <th></th>\n",
       "      <th>min</th>\n",
       "      <th>max</th>\n",
       "      <th>mean</th>\n",
       "      <th>std</th>\n",
       "    </tr>\n",
       "  </thead>\n",
       "  <tbody>\n",
       "    <tr>\n",
       "      <th>stats_char_count</th>\n",
       "      <td>4.00000</td>\n",
       "      <td>72.00000</td>\n",
       "      <td>49.515677</td>\n",
       "      <td>12.990961</td>\n",
       "    </tr>\n",
       "    <tr>\n",
       "      <th>w2v_gen_avg_word2vec_mean</th>\n",
       "      <td>-0.43223</td>\n",
       "      <td>0.10773</td>\n",
       "      <td>-0.087550</td>\n",
       "      <td>0.055203</td>\n",
       "    </tr>\n",
       "    <tr>\n",
       "      <th>aoa_aoa_kup_lem_mean</th>\n",
       "      <td>2.72000</td>\n",
       "      <td>7.12000</td>\n",
       "      <td>5.333706</td>\n",
       "      <td>0.561978</td>\n",
       "    </tr>\n",
       "    <tr>\n",
       "      <th>w2v_ft_sen2vec_mean</th>\n",
       "      <td>-0.00907</td>\n",
       "      <td>0.00556</td>\n",
       "      <td>-0.000461</td>\n",
       "      <td>0.001174</td>\n",
       "    </tr>\n",
       "    <tr>\n",
       "      <th>label</th>\n",
       "      <td>1.00000</td>\n",
       "      <td>1.00000</td>\n",
       "      <td>1.000000</td>\n",
       "      <td>0.000000</td>\n",
       "    </tr>\n",
       "    <tr>\n",
       "      <th>y_pred</th>\n",
       "      <td>0.00000</td>\n",
       "      <td>0.00000</td>\n",
       "      <td>0.000000</td>\n",
       "      <td>0.000000</td>\n",
       "    </tr>\n",
       "    <tr>\n",
       "      <th>cluster</th>\n",
       "      <td>0.00000</td>\n",
       "      <td>0.00000</td>\n",
       "      <td>0.000000</td>\n",
       "      <td>0.000000</td>\n",
       "    </tr>\n",
       "  </tbody>\n",
       "</table>\n",
       "</div>"
      ],
      "text/plain": [
       "                               min       max       mean        std\n",
       "stats_char_count           4.00000  72.00000  49.515677  12.990961\n",
       "w2v_gen_avg_word2vec_mean -0.43223   0.10773  -0.087550   0.055203\n",
       "aoa_aoa_kup_lem_mean       2.72000   7.12000   5.333706   0.561978\n",
       "w2v_ft_sen2vec_mean       -0.00907   0.00556  -0.000461   0.001174\n",
       "label                      1.00000   1.00000   1.000000   0.000000\n",
       "y_pred                     0.00000   0.00000   0.000000   0.000000\n",
       "cluster                    0.00000   0.00000   0.000000   0.000000"
      ]
     },
     "execution_count": 325,
     "metadata": {},
     "output_type": "execute_result"
    },
    {
     "name": "stdout",
     "output_type": "stream",
     "text": [
      "Cluster: 1\n"
     ]
    },
    {
     "data": {
      "text/html": [
       "<div>\n",
       "<style scoped>\n",
       "    .dataframe tbody tr th:only-of-type {\n",
       "        vertical-align: middle;\n",
       "    }\n",
       "\n",
       "    .dataframe tbody tr th {\n",
       "        vertical-align: top;\n",
       "    }\n",
       "\n",
       "    .dataframe thead th {\n",
       "        text-align: right;\n",
       "    }\n",
       "</style>\n",
       "<table border=\"1\" class=\"dataframe\">\n",
       "  <thead>\n",
       "    <tr style=\"text-align: right;\">\n",
       "      <th></th>\n",
       "      <th>min</th>\n",
       "      <th>max</th>\n",
       "      <th>mean</th>\n",
       "      <th>std</th>\n",
       "    </tr>\n",
       "  </thead>\n",
       "  <tbody>\n",
       "    <tr>\n",
       "      <th>stats_char_count</th>\n",
       "      <td>1.0</td>\n",
       "      <td>153.00</td>\n",
       "      <td>17.124046</td>\n",
       "      <td>18.427935</td>\n",
       "    </tr>\n",
       "    <tr>\n",
       "      <th>w2v_gen_avg_word2vec_mean</th>\n",
       "      <td>-1.0</td>\n",
       "      <td>-1.00</td>\n",
       "      <td>-1.000000</td>\n",
       "      <td>0.000000</td>\n",
       "    </tr>\n",
       "    <tr>\n",
       "      <th>aoa_aoa_kup_lem_mean</th>\n",
       "      <td>-1.0</td>\n",
       "      <td>3.06</td>\n",
       "      <td>-0.844389</td>\n",
       "      <td>0.762536</td>\n",
       "    </tr>\n",
       "    <tr>\n",
       "      <th>w2v_ft_sen2vec_mean</th>\n",
       "      <td>-1.0</td>\n",
       "      <td>-1.00</td>\n",
       "      <td>-1.000000</td>\n",
       "      <td>0.000000</td>\n",
       "    </tr>\n",
       "    <tr>\n",
       "      <th>label</th>\n",
       "      <td>1.0</td>\n",
       "      <td>1.00</td>\n",
       "      <td>1.000000</td>\n",
       "      <td>0.000000</td>\n",
       "    </tr>\n",
       "    <tr>\n",
       "      <th>y_pred</th>\n",
       "      <td>0.0</td>\n",
       "      <td>0.00</td>\n",
       "      <td>0.000000</td>\n",
       "      <td>0.000000</td>\n",
       "    </tr>\n",
       "    <tr>\n",
       "      <th>cluster</th>\n",
       "      <td>1.0</td>\n",
       "      <td>1.00</td>\n",
       "      <td>1.000000</td>\n",
       "      <td>0.000000</td>\n",
       "    </tr>\n",
       "  </tbody>\n",
       "</table>\n",
       "</div>"
      ],
      "text/plain": [
       "                           min     max       mean        std\n",
       "stats_char_count           1.0  153.00  17.124046  18.427935\n",
       "w2v_gen_avg_word2vec_mean -1.0   -1.00  -1.000000   0.000000\n",
       "aoa_aoa_kup_lem_mean      -1.0    3.06  -0.844389   0.762536\n",
       "w2v_ft_sen2vec_mean       -1.0   -1.00  -1.000000   0.000000\n",
       "label                      1.0    1.00   1.000000   0.000000\n",
       "y_pred                     0.0    0.00   0.000000   0.000000\n",
       "cluster                    1.0    1.00   1.000000   0.000000"
      ]
     },
     "execution_count": 325,
     "metadata": {},
     "output_type": "execute_result"
    },
    {
     "name": "stdout",
     "output_type": "stream",
     "text": [
      "Cluster: 2\n"
     ]
    },
    {
     "data": {
      "text/html": [
       "<div>\n",
       "<style scoped>\n",
       "    .dataframe tbody tr th:only-of-type {\n",
       "        vertical-align: middle;\n",
       "    }\n",
       "\n",
       "    .dataframe tbody tr th {\n",
       "        vertical-align: top;\n",
       "    }\n",
       "\n",
       "    .dataframe thead th {\n",
       "        text-align: right;\n",
       "    }\n",
       "</style>\n",
       "<table border=\"1\" class=\"dataframe\">\n",
       "  <thead>\n",
       "    <tr style=\"text-align: right;\">\n",
       "      <th></th>\n",
       "      <th>min</th>\n",
       "      <th>max</th>\n",
       "      <th>mean</th>\n",
       "      <th>std</th>\n",
       "    </tr>\n",
       "  </thead>\n",
       "  <tbody>\n",
       "    <tr>\n",
       "      <th>stats_char_count</th>\n",
       "      <td>115.00000</td>\n",
       "      <td>439.00000</td>\n",
       "      <td>142.453199</td>\n",
       "      <td>28.807491</td>\n",
       "    </tr>\n",
       "    <tr>\n",
       "      <th>w2v_gen_avg_word2vec_mean</th>\n",
       "      <td>-0.26768</td>\n",
       "      <td>0.07138</td>\n",
       "      <td>-0.086684</td>\n",
       "      <td>0.042820</td>\n",
       "    </tr>\n",
       "    <tr>\n",
       "      <th>aoa_aoa_kup_lem_mean</th>\n",
       "      <td>-1.00000</td>\n",
       "      <td>9.24000</td>\n",
       "      <td>5.514751</td>\n",
       "      <td>0.603397</td>\n",
       "    </tr>\n",
       "    <tr>\n",
       "      <th>w2v_ft_sen2vec_mean</th>\n",
       "      <td>-0.00536</td>\n",
       "      <td>0.00421</td>\n",
       "      <td>-0.000467</td>\n",
       "      <td>0.000865</td>\n",
       "    </tr>\n",
       "    <tr>\n",
       "      <th>label</th>\n",
       "      <td>1.00000</td>\n",
       "      <td>1.00000</td>\n",
       "      <td>1.000000</td>\n",
       "      <td>0.000000</td>\n",
       "    </tr>\n",
       "    <tr>\n",
       "      <th>y_pred</th>\n",
       "      <td>0.00000</td>\n",
       "      <td>0.00000</td>\n",
       "      <td>0.000000</td>\n",
       "      <td>0.000000</td>\n",
       "    </tr>\n",
       "    <tr>\n",
       "      <th>cluster</th>\n",
       "      <td>2.00000</td>\n",
       "      <td>2.00000</td>\n",
       "      <td>2.000000</td>\n",
       "      <td>0.000000</td>\n",
       "    </tr>\n",
       "  </tbody>\n",
       "</table>\n",
       "</div>"
      ],
      "text/plain": [
       "                                 min        max        mean        std\n",
       "stats_char_count           115.00000  439.00000  142.453199  28.807491\n",
       "w2v_gen_avg_word2vec_mean   -0.26768    0.07138   -0.086684   0.042820\n",
       "aoa_aoa_kup_lem_mean        -1.00000    9.24000    5.514751   0.603397\n",
       "w2v_ft_sen2vec_mean         -0.00536    0.00421   -0.000467   0.000865\n",
       "label                        1.00000    1.00000    1.000000   0.000000\n",
       "y_pred                       0.00000    0.00000    0.000000   0.000000\n",
       "cluster                      2.00000    2.00000    2.000000   0.000000"
      ]
     },
     "execution_count": 325,
     "metadata": {},
     "output_type": "execute_result"
    },
    {
     "name": "stdout",
     "output_type": "stream",
     "text": [
      "Cluster: 3\n"
     ]
    },
    {
     "data": {
      "text/html": [
       "<div>\n",
       "<style scoped>\n",
       "    .dataframe tbody tr th:only-of-type {\n",
       "        vertical-align: middle;\n",
       "    }\n",
       "\n",
       "    .dataframe tbody tr th {\n",
       "        vertical-align: top;\n",
       "    }\n",
       "\n",
       "    .dataframe thead th {\n",
       "        text-align: right;\n",
       "    }\n",
       "</style>\n",
       "<table border=\"1\" class=\"dataframe\">\n",
       "  <thead>\n",
       "    <tr style=\"text-align: right;\">\n",
       "      <th></th>\n",
       "      <th>min</th>\n",
       "      <th>max</th>\n",
       "      <th>mean</th>\n",
       "      <th>std</th>\n",
       "    </tr>\n",
       "  </thead>\n",
       "  <tbody>\n",
       "    <tr>\n",
       "      <th>stats_char_count</th>\n",
       "      <td>1.00000</td>\n",
       "      <td>148.00000</td>\n",
       "      <td>20.052632</td>\n",
       "      <td>13.758873</td>\n",
       "    </tr>\n",
       "    <tr>\n",
       "      <th>w2v_gen_avg_word2vec_mean</th>\n",
       "      <td>-1.00000</td>\n",
       "      <td>0.28126</td>\n",
       "      <td>-0.131009</td>\n",
       "      <td>0.295171</td>\n",
       "    </tr>\n",
       "    <tr>\n",
       "      <th>aoa_aoa_kup_lem_mean</th>\n",
       "      <td>-1.00000</td>\n",
       "      <td>-1.00000</td>\n",
       "      <td>-1.000000</td>\n",
       "      <td>0.000000</td>\n",
       "    </tr>\n",
       "    <tr>\n",
       "      <th>w2v_ft_sen2vec_mean</th>\n",
       "      <td>-0.00785</td>\n",
       "      <td>0.00854</td>\n",
       "      <td>0.000100</td>\n",
       "      <td>0.002424</td>\n",
       "    </tr>\n",
       "    <tr>\n",
       "      <th>label</th>\n",
       "      <td>1.00000</td>\n",
       "      <td>1.00000</td>\n",
       "      <td>1.000000</td>\n",
       "      <td>0.000000</td>\n",
       "    </tr>\n",
       "    <tr>\n",
       "      <th>y_pred</th>\n",
       "      <td>0.00000</td>\n",
       "      <td>0.00000</td>\n",
       "      <td>0.000000</td>\n",
       "      <td>0.000000</td>\n",
       "    </tr>\n",
       "    <tr>\n",
       "      <th>cluster</th>\n",
       "      <td>3.00000</td>\n",
       "      <td>3.00000</td>\n",
       "      <td>3.000000</td>\n",
       "      <td>0.000000</td>\n",
       "    </tr>\n",
       "  </tbody>\n",
       "</table>\n",
       "</div>"
      ],
      "text/plain": [
       "                               min        max       mean        std\n",
       "stats_char_count           1.00000  148.00000  20.052632  13.758873\n",
       "w2v_gen_avg_word2vec_mean -1.00000    0.28126  -0.131009   0.295171\n",
       "aoa_aoa_kup_lem_mean      -1.00000   -1.00000  -1.000000   0.000000\n",
       "w2v_ft_sen2vec_mean       -0.00785    0.00854   0.000100   0.002424\n",
       "label                      1.00000    1.00000   1.000000   0.000000\n",
       "y_pred                     0.00000    0.00000   0.000000   0.000000\n",
       "cluster                    3.00000    3.00000   3.000000   0.000000"
      ]
     },
     "execution_count": 325,
     "metadata": {},
     "output_type": "execute_result"
    },
    {
     "name": "stdout",
     "output_type": "stream",
     "text": [
      "Cluster: 4\n"
     ]
    },
    {
     "data": {
      "text/html": [
       "<div>\n",
       "<style scoped>\n",
       "    .dataframe tbody tr th:only-of-type {\n",
       "        vertical-align: middle;\n",
       "    }\n",
       "\n",
       "    .dataframe tbody tr th {\n",
       "        vertical-align: top;\n",
       "    }\n",
       "\n",
       "    .dataframe thead th {\n",
       "        text-align: right;\n",
       "    }\n",
       "</style>\n",
       "<table border=\"1\" class=\"dataframe\">\n",
       "  <thead>\n",
       "    <tr style=\"text-align: right;\">\n",
       "      <th></th>\n",
       "      <th>min</th>\n",
       "      <th>max</th>\n",
       "      <th>mean</th>\n",
       "      <th>std</th>\n",
       "    </tr>\n",
       "  </thead>\n",
       "  <tbody>\n",
       "    <tr>\n",
       "      <th>stats_char_count</th>\n",
       "      <td>3.00</td>\n",
       "      <td>310.00</td>\n",
       "      <td>45.40380</td>\n",
       "      <td>42.188448</td>\n",
       "    </tr>\n",
       "    <tr>\n",
       "      <th>w2v_gen_avg_word2vec_mean</th>\n",
       "      <td>-1.00</td>\n",
       "      <td>-1.00</td>\n",
       "      <td>-1.00000</td>\n",
       "      <td>0.000000</td>\n",
       "    </tr>\n",
       "    <tr>\n",
       "      <th>aoa_aoa_kup_lem_mean</th>\n",
       "      <td>2.79</td>\n",
       "      <td>18.17</td>\n",
       "      <td>7.16038</td>\n",
       "      <td>2.665387</td>\n",
       "    </tr>\n",
       "    <tr>\n",
       "      <th>w2v_ft_sen2vec_mean</th>\n",
       "      <td>-1.00</td>\n",
       "      <td>-1.00</td>\n",
       "      <td>-1.00000</td>\n",
       "      <td>0.000000</td>\n",
       "    </tr>\n",
       "    <tr>\n",
       "      <th>label</th>\n",
       "      <td>1.00</td>\n",
       "      <td>1.00</td>\n",
       "      <td>1.00000</td>\n",
       "      <td>0.000000</td>\n",
       "    </tr>\n",
       "    <tr>\n",
       "      <th>y_pred</th>\n",
       "      <td>0.00</td>\n",
       "      <td>0.00</td>\n",
       "      <td>0.00000</td>\n",
       "      <td>0.000000</td>\n",
       "    </tr>\n",
       "    <tr>\n",
       "      <th>cluster</th>\n",
       "      <td>4.00</td>\n",
       "      <td>4.00</td>\n",
       "      <td>4.00000</td>\n",
       "      <td>0.000000</td>\n",
       "    </tr>\n",
       "  </tbody>\n",
       "</table>\n",
       "</div>"
      ],
      "text/plain": [
       "                            min     max      mean        std\n",
       "stats_char_count           3.00  310.00  45.40380  42.188448\n",
       "w2v_gen_avg_word2vec_mean -1.00   -1.00  -1.00000   0.000000\n",
       "aoa_aoa_kup_lem_mean       2.79   18.17   7.16038   2.665387\n",
       "w2v_ft_sen2vec_mean       -1.00   -1.00  -1.00000   0.000000\n",
       "label                      1.00    1.00   1.00000   0.000000\n",
       "y_pred                     0.00    0.00   0.00000   0.000000\n",
       "cluster                    4.00    4.00   4.00000   0.000000"
      ]
     },
     "execution_count": 325,
     "metadata": {},
     "output_type": "execute_result"
    },
    {
     "name": "stdout",
     "output_type": "stream",
     "text": [
      "Cluster: 5\n"
     ]
    },
    {
     "data": {
      "text/html": [
       "<div>\n",
       "<style scoped>\n",
       "    .dataframe tbody tr th:only-of-type {\n",
       "        vertical-align: middle;\n",
       "    }\n",
       "\n",
       "    .dataframe tbody tr th {\n",
       "        vertical-align: top;\n",
       "    }\n",
       "\n",
       "    .dataframe thead th {\n",
       "        text-align: right;\n",
       "    }\n",
       "</style>\n",
       "<table border=\"1\" class=\"dataframe\">\n",
       "  <thead>\n",
       "    <tr style=\"text-align: right;\">\n",
       "      <th></th>\n",
       "      <th>min</th>\n",
       "      <th>max</th>\n",
       "      <th>mean</th>\n",
       "      <th>std</th>\n",
       "    </tr>\n",
       "  </thead>\n",
       "  <tbody>\n",
       "    <tr>\n",
       "      <th>stats_char_count</th>\n",
       "      <td>67.00000</td>\n",
       "      <td>115.00000</td>\n",
       "      <td>87.297741</td>\n",
       "      <td>12.740925</td>\n",
       "    </tr>\n",
       "    <tr>\n",
       "      <th>w2v_gen_avg_word2vec_mean</th>\n",
       "      <td>-0.25739</td>\n",
       "      <td>0.08325</td>\n",
       "      <td>-0.085102</td>\n",
       "      <td>0.046310</td>\n",
       "    </tr>\n",
       "    <tr>\n",
       "      <th>aoa_aoa_kup_lem_mean</th>\n",
       "      <td>3.64000</td>\n",
       "      <td>8.21000</td>\n",
       "      <td>5.497575</td>\n",
       "      <td>0.532644</td>\n",
       "    </tr>\n",
       "    <tr>\n",
       "      <th>w2v_ft_sen2vec_mean</th>\n",
       "      <td>-0.00482</td>\n",
       "      <td>0.00411</td>\n",
       "      <td>-0.000437</td>\n",
       "      <td>0.000948</td>\n",
       "    </tr>\n",
       "    <tr>\n",
       "      <th>label</th>\n",
       "      <td>1.00000</td>\n",
       "      <td>1.00000</td>\n",
       "      <td>1.000000</td>\n",
       "      <td>0.000000</td>\n",
       "    </tr>\n",
       "    <tr>\n",
       "      <th>y_pred</th>\n",
       "      <td>0.00000</td>\n",
       "      <td>0.00000</td>\n",
       "      <td>0.000000</td>\n",
       "      <td>0.000000</td>\n",
       "    </tr>\n",
       "    <tr>\n",
       "      <th>cluster</th>\n",
       "      <td>5.00000</td>\n",
       "      <td>5.00000</td>\n",
       "      <td>5.000000</td>\n",
       "      <td>0.000000</td>\n",
       "    </tr>\n",
       "  </tbody>\n",
       "</table>\n",
       "</div>"
      ],
      "text/plain": [
       "                                min        max       mean        std\n",
       "stats_char_count           67.00000  115.00000  87.297741  12.740925\n",
       "w2v_gen_avg_word2vec_mean  -0.25739    0.08325  -0.085102   0.046310\n",
       "aoa_aoa_kup_lem_mean        3.64000    8.21000   5.497575   0.532644\n",
       "w2v_ft_sen2vec_mean        -0.00482    0.00411  -0.000437   0.000948\n",
       "label                       1.00000    1.00000   1.000000   0.000000\n",
       "y_pred                      0.00000    0.00000   0.000000   0.000000\n",
       "cluster                     5.00000    5.00000   5.000000   0.000000"
      ]
     },
     "execution_count": 325,
     "metadata": {},
     "output_type": "execute_result"
    },
    {
     "name": "stdout",
     "output_type": "stream",
     "text": [
      "Cluster: 6\n"
     ]
    },
    {
     "data": {
      "text/html": [
       "<div>\n",
       "<style scoped>\n",
       "    .dataframe tbody tr th:only-of-type {\n",
       "        vertical-align: middle;\n",
       "    }\n",
       "\n",
       "    .dataframe tbody tr th {\n",
       "        vertical-align: top;\n",
       "    }\n",
       "\n",
       "    .dataframe thead th {\n",
       "        text-align: right;\n",
       "    }\n",
       "</style>\n",
       "<table border=\"1\" class=\"dataframe\">\n",
       "  <thead>\n",
       "    <tr style=\"text-align: right;\">\n",
       "      <th></th>\n",
       "      <th>min</th>\n",
       "      <th>max</th>\n",
       "      <th>mean</th>\n",
       "      <th>std</th>\n",
       "    </tr>\n",
       "  </thead>\n",
       "  <tbody>\n",
       "    <tr>\n",
       "      <th>stats_char_count</th>\n",
       "      <td>4.00000</td>\n",
       "      <td>137.00000</td>\n",
       "      <td>49.765082</td>\n",
       "      <td>17.091240</td>\n",
       "    </tr>\n",
       "    <tr>\n",
       "      <th>w2v_gen_avg_word2vec_mean</th>\n",
       "      <td>-1.00000</td>\n",
       "      <td>0.32745</td>\n",
       "      <td>-0.047180</td>\n",
       "      <td>0.059534</td>\n",
       "    </tr>\n",
       "    <tr>\n",
       "      <th>aoa_aoa_kup_lem_mean</th>\n",
       "      <td>5.52000</td>\n",
       "      <td>15.83000</td>\n",
       "      <td>7.216006</td>\n",
       "      <td>1.142928</td>\n",
       "    </tr>\n",
       "    <tr>\n",
       "      <th>w2v_ft_sen2vec_mean</th>\n",
       "      <td>-0.00725</td>\n",
       "      <td>0.00629</td>\n",
       "      <td>-0.000198</td>\n",
       "      <td>0.001365</td>\n",
       "    </tr>\n",
       "    <tr>\n",
       "      <th>label</th>\n",
       "      <td>1.00000</td>\n",
       "      <td>1.00000</td>\n",
       "      <td>1.000000</td>\n",
       "      <td>0.000000</td>\n",
       "    </tr>\n",
       "    <tr>\n",
       "      <th>y_pred</th>\n",
       "      <td>0.00000</td>\n",
       "      <td>0.00000</td>\n",
       "      <td>0.000000</td>\n",
       "      <td>0.000000</td>\n",
       "    </tr>\n",
       "    <tr>\n",
       "      <th>cluster</th>\n",
       "      <td>6.00000</td>\n",
       "      <td>6.00000</td>\n",
       "      <td>6.000000</td>\n",
       "      <td>0.000000</td>\n",
       "    </tr>\n",
       "  </tbody>\n",
       "</table>\n",
       "</div>"
      ],
      "text/plain": [
       "                               min        max       mean        std\n",
       "stats_char_count           4.00000  137.00000  49.765082  17.091240\n",
       "w2v_gen_avg_word2vec_mean -1.00000    0.32745  -0.047180   0.059534\n",
       "aoa_aoa_kup_lem_mean       5.52000   15.83000   7.216006   1.142928\n",
       "w2v_ft_sen2vec_mean       -0.00725    0.00629  -0.000198   0.001365\n",
       "label                      1.00000    1.00000   1.000000   0.000000\n",
       "y_pred                     0.00000    0.00000   0.000000   0.000000\n",
       "cluster                    6.00000    6.00000   6.000000   0.000000"
      ]
     },
     "execution_count": 325,
     "metadata": {},
     "output_type": "execute_result"
    }
   ],
   "source": [
    "for i in range(best_n):\n",
    "    print(\"Cluster:\",i)\n",
    "    df_failed_selected_1[df_failed_selected_1['cluster'] == i].describe().loc[['min', 'max', 'mean', 'std']].T\n",
    "    #nan_count = (df_failed_selected_1 == -1).sum().sum()\n",
    "    #ic(nan_count);\n",
    "    # df_failed_selected_0[df_failed_selected_0['cluster'] == i]['label'].value_counts()\n",
    "    # df_failed_selected_0[df_failed_selected_0['cluster'] == i].sample(5).T"
   ]
  },
  {
   "cell_type": "code",
   "execution_count": 326,
   "metadata": {},
   "outputs": [
    {
     "data": {
      "image/png": "[encoded data removed]",
      "text/plain": [
       "<Figure size 400x400 with 1 Axes>"
      ]
     },
     "metadata": {},
     "output_type": "display_data"
    }
   ],
   "source": [
    "from matplotlib.table import Table\n",
    "\n",
    "plt.rcParams[\"figure.figsize\"] = (4,4)\n",
    "fig, ax = plt.subplots()\n",
    "\n",
    "# Create bar plot\n",
    "df_failed_selected_1['cluster'].value_counts().plot(kind=\"bar\", ax=ax)\n",
    "\n",
    "ax.set_xlabel(\"Clusters\", labelpad=10, fontsize=11)  # Increase x-axis label distance\n",
    "ax.set_ylabel(\"Mispredicted Labels\", labelpad=10, fontsize=11)   # Increase y-axis label distance\n",
    "ax.set_xticklabels(ax.get_xticklabels(), rotation=0)  # Rotate x-axis tick labels\n",
    "\n",
    "# Create table\n",
    "table_data = [['Cluster', 'Count']]\n",
    "for cluster, count in df_failed_selected_1['cluster'].value_counts().items():\n",
    "    table_data.append([cluster, count])\n",
    "\n",
    "table = Table(ax, bbox=[1.1, 0.1, 0.4, 0.8])\n",
    "table.auto_set_font_size(False)\n",
    "table.set_fontsize(10)\n",
    "for i, row in enumerate(table_data):\n",
    "    for j, cell in enumerate(row):\n",
    "        if i == 0:\n",
    "            cell_color = 'lightgray' # set header row color\n",
    "        else:\n",
    "            cell_color = 'w'\n",
    "        table.add_cell(i, j, width=0.3, height=0.1, text=cell, loc='center', facecolor=cell_color)\n",
    "\n",
    "ax.add_table(table)\n",
    "\n",
    "# Add super-title and adjust spacing\n",
    "fig.suptitle(\"Mispredicted Labels per Cluster\", y=1, fontsize=12)\n",
    "\n",
    "plt.show();\n"
   ]
  },
  {
   "attachments": {},
   "cell_type": "markdown",
   "metadata": {},
   "source": [
    "### Show distribution of features"
   ]
  },
  {
   "cell_type": "code",
   "execution_count": 327,
   "metadata": {},
   "outputs": [],
   "source": [
    "def plot_two_distributions(df, cluster1, cluster2, feature, n_bins=10):\n",
    "    data1 = df[df['cluster'] == cluster1][feature]\n",
    "    data2 = df[df['cluster'] == cluster2][feature]\n",
    "\n",
    "\n",
    "    fig, (ax1, ax2) = plt.subplots(ncols=2, figsize=(10, 4), sharey=True, sharex=True)\n",
    "\n",
    "    # Plot histogram for cluster1\n",
    "    n1, bins1, patches1 = ax1.hist(data1, bins=n_bins)\n",
    "    mean_val1 = np.mean(data1)\n",
    "    ax1.axvline(mean_val1, color='r', linestyle='--', linewidth=1, label='Mean')\n",
    "    ax1.legend()\n",
    "    ax1.set_xlabel(feature)\n",
    "    ax1.set_ylabel('Frequency')\n",
    "    ax1.set_title(f'Histogram of Character Count in Cluster {cluster1}')\n",
    "\n",
    "    # Plot histogram for cluster2\n",
    "    n2, bins2, patches2 = ax2.hist(data2, bins=n_bins)\n",
    "    mean_val2 = np.mean(data2)\n",
    "    ax2.axvline(mean_val2, color='r', linestyle='--', linewidth=1, label='Mean')\n",
    "    ax2.legend()\n",
    "    ax2.set_xlabel(feature)\n",
    "    #ax2.set_ylabel('Frequency')\n",
    "    ax2.set_title(f'Histogram of Character Count in Cluster {cluster2}')\n",
    "\n",
    "    plt.tight_layout()\n",
    "    plt.show()\n"
   ]
  },
  {
   "cell_type": "code",
   "execution_count": 328,
   "metadata": {},
   "outputs": [
    {
     "data": {
      "image/png": "[encoded data removed]",
      "text/plain": [
       "<Figure size 1000x400 with 2 Axes>"
      ]
     },
     "metadata": {},
     "output_type": "display_data"
    },
    {
     "data": {
      "image/png": "[encoded data removed]",
      "text/plain": [
       "<Figure size 1000x400 with 2 Axes>"
      ]
     },
     "metadata": {},
     "output_type": "display_data"
    },
    {
     "data": {
      "image/png": "[encoded data removed]",
      "text/plain": [
       "<Figure size 1000x400 with 2 Axes>"
      ]
     },
     "metadata": {},
     "output_type": "display_data"
    },
    {
     "data": {
      "image/png": "[encoded data removed]",
      "text/plain": [
       "<Figure size 1000x400 with 2 Axes>"
      ]
     },
     "metadata": {},
     "output_type": "display_data"
    }
   ],
   "source": [
    "feature_list = list(set(important_feature_list) -{\"label\", \"original_text\", \"cleaned_text\", \"stats_language_code\", \"y_pred\"})\n",
    "\n",
    "for feature in feature_list:\n",
    "    plot_two_distributions(df_failed_selected_1, 0, 5, feature, 20)"
   ]
  },
  {
   "cell_type": "code",
   "execution_count": 329,
   "metadata": {},
   "outputs": [
    {
     "data": {
      "text/html": [
       "<div>\n",
       "<style scoped>\n",
       "    .dataframe tbody tr th:only-of-type {\n",
       "        vertical-align: middle;\n",
       "    }\n",
       "\n",
       "    .dataframe tbody tr th {\n",
       "        vertical-align: top;\n",
       "    }\n",
       "\n",
       "    .dataframe thead tr th {\n",
       "        text-align: left;\n",
       "    }\n",
       "\n",
       "    .dataframe thead tr:last-of-type th {\n",
       "        text-align: right;\n",
       "    }\n",
       "</style>\n",
       "<table border=\"1\" class=\"dataframe\">\n",
       "  <thead>\n",
       "    <tr>\n",
       "      <th></th>\n",
       "      <th colspan=\"6\" halign=\"left\">stats_char_count</th>\n",
       "      <th colspan=\"6\" halign=\"left\">w2v_gen_avg_word2vec_mean</th>\n",
       "      <th colspan=\"6\" halign=\"left\">aoa_aoa_kup_lem_mean</th>\n",
       "    </tr>\n",
       "    <tr>\n",
       "      <th></th>\n",
       "      <th>count</th>\n",
       "      <th>min</th>\n",
       "      <th>max</th>\n",
       "      <th>mean</th>\n",
       "      <th>median</th>\n",
       "      <th>std</th>\n",
       "      <th>count</th>\n",
       "      <th>min</th>\n",
       "      <th>max</th>\n",
       "      <th>mean</th>\n",
       "      <th>median</th>\n",
       "      <th>std</th>\n",
       "      <th>count</th>\n",
       "      <th>min</th>\n",
       "      <th>max</th>\n",
       "      <th>mean</th>\n",
       "      <th>median</th>\n",
       "      <th>std</th>\n",
       "    </tr>\n",
       "    <tr>\n",
       "      <th>cluster</th>\n",
       "      <th></th>\n",
       "      <th></th>\n",
       "      <th></th>\n",
       "      <th></th>\n",
       "      <th></th>\n",
       "      <th></th>\n",
       "      <th></th>\n",
       "      <th></th>\n",
       "      <th></th>\n",
       "      <th></th>\n",
       "      <th></th>\n",
       "      <th></th>\n",
       "      <th></th>\n",
       "      <th></th>\n",
       "      <th></th>\n",
       "      <th></th>\n",
       "      <th></th>\n",
       "      <th></th>\n",
       "    </tr>\n",
       "  </thead>\n",
       "  <tbody>\n",
       "    <tr>\n",
       "      <th>0</th>\n",
       "      <td>17765</td>\n",
       "      <td>4</td>\n",
       "      <td>72</td>\n",
       "      <td>49.515677</td>\n",
       "      <td>51.0</td>\n",
       "      <td>12.990961</td>\n",
       "      <td>17765</td>\n",
       "      <td>-0.43223</td>\n",
       "      <td>0.10773</td>\n",
       "      <td>-0.087550</td>\n",
       "      <td>-0.086710</td>\n",
       "      <td>0.055203</td>\n",
       "      <td>17765</td>\n",
       "      <td>2.72</td>\n",
       "      <td>7.12</td>\n",
       "      <td>5.333706</td>\n",
       "      <td>5.37</td>\n",
       "      <td>0.561978</td>\n",
       "    </tr>\n",
       "    <tr>\n",
       "      <th>1</th>\n",
       "      <td>524</td>\n",
       "      <td>1</td>\n",
       "      <td>153</td>\n",
       "      <td>17.124046</td>\n",
       "      <td>12.0</td>\n",
       "      <td>18.427935</td>\n",
       "      <td>524</td>\n",
       "      <td>-1.00000</td>\n",
       "      <td>-1.00000</td>\n",
       "      <td>-1.000000</td>\n",
       "      <td>-1.000000</td>\n",
       "      <td>0.000000</td>\n",
       "      <td>524</td>\n",
       "      <td>-1.00</td>\n",
       "      <td>3.06</td>\n",
       "      <td>-0.844389</td>\n",
       "      <td>-1.00</td>\n",
       "      <td>0.762536</td>\n",
       "    </tr>\n",
       "    <tr>\n",
       "      <th>2</th>\n",
       "      <td>5470</td>\n",
       "      <td>115</td>\n",
       "      <td>439</td>\n",
       "      <td>142.453199</td>\n",
       "      <td>134.0</td>\n",
       "      <td>28.807491</td>\n",
       "      <td>5470</td>\n",
       "      <td>-0.26768</td>\n",
       "      <td>0.07138</td>\n",
       "      <td>-0.086684</td>\n",
       "      <td>-0.088455</td>\n",
       "      <td>0.042820</td>\n",
       "      <td>5470</td>\n",
       "      <td>-1.00</td>\n",
       "      <td>9.24</td>\n",
       "      <td>5.514751</td>\n",
       "      <td>5.41</td>\n",
       "      <td>0.603397</td>\n",
       "    </tr>\n",
       "    <tr>\n",
       "      <th>3</th>\n",
       "      <td>418</td>\n",
       "      <td>1</td>\n",
       "      <td>148</td>\n",
       "      <td>20.052632</td>\n",
       "      <td>17.0</td>\n",
       "      <td>13.758873</td>\n",
       "      <td>418</td>\n",
       "      <td>-1.00000</td>\n",
       "      <td>0.28126</td>\n",
       "      <td>-0.131009</td>\n",
       "      <td>-0.038100</td>\n",
       "      <td>0.295171</td>\n",
       "      <td>418</td>\n",
       "      <td>-1.00</td>\n",
       "      <td>-1.00</td>\n",
       "      <td>-1.000000</td>\n",
       "      <td>-1.00</td>\n",
       "      <td>0.000000</td>\n",
       "    </tr>\n",
       "    <tr>\n",
       "      <th>4</th>\n",
       "      <td>421</td>\n",
       "      <td>3</td>\n",
       "      <td>310</td>\n",
       "      <td>45.403800</td>\n",
       "      <td>33.0</td>\n",
       "      <td>42.188448</td>\n",
       "      <td>421</td>\n",
       "      <td>-1.00000</td>\n",
       "      <td>-1.00000</td>\n",
       "      <td>-1.000000</td>\n",
       "      <td>-1.000000</td>\n",
       "      <td>0.000000</td>\n",
       "      <td>421</td>\n",
       "      <td>2.79</td>\n",
       "      <td>18.17</td>\n",
       "      <td>7.160380</td>\n",
       "      <td>6.90</td>\n",
       "      <td>2.665387</td>\n",
       "    </tr>\n",
       "    <tr>\n",
       "      <th>5</th>\n",
       "      <td>17794</td>\n",
       "      <td>67</td>\n",
       "      <td>115</td>\n",
       "      <td>87.297741</td>\n",
       "      <td>86.0</td>\n",
       "      <td>12.740925</td>\n",
       "      <td>17794</td>\n",
       "      <td>-0.25739</td>\n",
       "      <td>0.08325</td>\n",
       "      <td>-0.085102</td>\n",
       "      <td>-0.085645</td>\n",
       "      <td>0.046310</td>\n",
       "      <td>17794</td>\n",
       "      <td>3.64</td>\n",
       "      <td>8.21</td>\n",
       "      <td>5.497575</td>\n",
       "      <td>5.47</td>\n",
       "      <td>0.532644</td>\n",
       "    </tr>\n",
       "    <tr>\n",
       "      <th>6</th>\n",
       "      <td>7045</td>\n",
       "      <td>4</td>\n",
       "      <td>137</td>\n",
       "      <td>49.765082</td>\n",
       "      <td>50.0</td>\n",
       "      <td>17.091240</td>\n",
       "      <td>7045</td>\n",
       "      <td>-1.00000</td>\n",
       "      <td>0.32745</td>\n",
       "      <td>-0.047180</td>\n",
       "      <td>-0.047480</td>\n",
       "      <td>0.059534</td>\n",
       "      <td>7045</td>\n",
       "      <td>5.52</td>\n",
       "      <td>15.83</td>\n",
       "      <td>7.216006</td>\n",
       "      <td>6.89</td>\n",
       "      <td>1.142928</td>\n",
       "    </tr>\n",
       "  </tbody>\n",
       "</table>\n",
       "</div>"
      ],
      "text/plain": [
       "        stats_char_count                                          \\\n",
       "                   count  min  max        mean median        std   \n",
       "cluster                                                            \n",
       "0                  17765    4   72   49.515677   51.0  12.990961   \n",
       "1                    524    1  153   17.124046   12.0  18.427935   \n",
       "2                   5470  115  439  142.453199  134.0  28.807491   \n",
       "3                    418    1  148   20.052632   17.0  13.758873   \n",
       "4                    421    3  310   45.403800   33.0  42.188448   \n",
       "5                  17794   67  115   87.297741   86.0  12.740925   \n",
       "6                   7045    4  137   49.765082   50.0  17.091240   \n",
       "\n",
       "        w2v_gen_avg_word2vec_mean                                        \\\n",
       "                            count      min      max      mean    median   \n",
       "cluster                                                                   \n",
       "0                           17765 -0.43223  0.10773 -0.087550 -0.086710   \n",
       "1                             524 -1.00000 -1.00000 -1.000000 -1.000000   \n",
       "2                            5470 -0.26768  0.07138 -0.086684 -0.088455   \n",
       "3                             418 -1.00000  0.28126 -0.131009 -0.038100   \n",
       "4                             421 -1.00000 -1.00000 -1.000000 -1.000000   \n",
       "5                           17794 -0.25739  0.08325 -0.085102 -0.085645   \n",
       "6                            7045 -1.00000  0.32745 -0.047180 -0.047480   \n",
       "\n",
       "                  aoa_aoa_kup_lem_mean                                          \n",
       "              std                count   min    max      mean median       std  \n",
       "cluster                                                                         \n",
       "0        0.055203                17765  2.72   7.12  5.333706   5.37  0.561978  \n",
       "1        0.000000                  524 -1.00   3.06 -0.844389  -1.00  0.762536  \n",
       "2        0.042820                 5470 -1.00   9.24  5.514751   5.41  0.603397  \n",
       "3        0.295171                  418 -1.00  -1.00 -1.000000  -1.00  0.000000  \n",
       "4        0.000000                  421  2.79  18.17  7.160380   6.90  2.665387  \n",
       "5        0.046310                17794  3.64   8.21  5.497575   5.47  0.532644  \n",
       "6        0.059534                 7045  5.52  15.83  7.216006   6.89  1.142928  "
      ]
     },
     "execution_count": 329,
     "metadata": {},
     "output_type": "execute_result"
    }
   ],
   "source": [
    "aggregations = {\n",
    "    'stats_char_count': ['count', 'min', 'max', 'mean', 'median', 'std'],\n",
    "    'w2v_gen_avg_word2vec_mean': ['count', 'min', 'max', 'mean', 'median', 'std'],\n",
    "    'aoa_aoa_kup_lem_mean': ['count', 'min', 'max', 'mean', 'median', 'std']\n",
    "}\n",
    "df_grouped = df_failed_selected_1.groupby('cluster').agg(aggregations)\n",
    "df_grouped"
   ]
  },
  {
   "attachments": {},
   "cell_type": "markdown",
   "metadata": {},
   "source": [
    "### Cluster 0"
   ]
  },
  {
   "cell_type": "code",
   "execution_count": 336,
   "metadata": {},
   "outputs": [
    {
     "data": {
      "text/html": [
       "<div>\n",
       "<style scoped>\n",
       "    .dataframe tbody tr th:only-of-type {\n",
       "        vertical-align: middle;\n",
       "    }\n",
       "\n",
       "    .dataframe tbody tr th {\n",
       "        vertical-align: top;\n",
       "    }\n",
       "\n",
       "    .dataframe thead th {\n",
       "        text-align: right;\n",
       "    }\n",
       "</style>\n",
       "<table border=\"1\" class=\"dataframe\">\n",
       "  <thead>\n",
       "    <tr style=\"text-align: right;\">\n",
       "      <th></th>\n",
       "      <th>134516</th>\n",
       "      <th>188872</th>\n",
       "      <th>186269</th>\n",
       "      <th>124530</th>\n",
       "      <th>96336</th>\n",
       "    </tr>\n",
       "  </thead>\n",
       "  <tbody>\n",
       "    <tr>\n",
       "      <th>stats_char_count</th>\n",
       "      <td>45</td>\n",
       "      <td>40</td>\n",
       "      <td>57</td>\n",
       "      <td>58</td>\n",
       "      <td>50</td>\n",
       "    </tr>\n",
       "    <tr>\n",
       "      <th>w2v_gen_avg_word2vec_mean</th>\n",
       "      <td>-0.11734</td>\n",
       "      <td>-0.08383</td>\n",
       "      <td>-0.13134</td>\n",
       "      <td>-0.11155</td>\n",
       "      <td>-0.09181</td>\n",
       "    </tr>\n",
       "    <tr>\n",
       "      <th>aoa_aoa_kup_lem_mean</th>\n",
       "      <td>4.58</td>\n",
       "      <td>5.41</td>\n",
       "      <td>6.1</td>\n",
       "      <td>5.41</td>\n",
       "      <td>5.13</td>\n",
       "    </tr>\n",
       "    <tr>\n",
       "      <th>w2v_ft_sen2vec_mean</th>\n",
       "      <td>-0.00185</td>\n",
       "      <td>0.00292</td>\n",
       "      <td>0.00006</td>\n",
       "      <td>-0.00035</td>\n",
       "      <td>-0.0008</td>\n",
       "    </tr>\n",
       "    <tr>\n",
       "      <th>label</th>\n",
       "      <td>1</td>\n",
       "      <td>1</td>\n",
       "      <td>1</td>\n",
       "      <td>1</td>\n",
       "      <td>1</td>\n",
       "    </tr>\n",
       "    <tr>\n",
       "      <th>y_pred</th>\n",
       "      <td>0</td>\n",
       "      <td>0</td>\n",
       "      <td>0</td>\n",
       "      <td>0</td>\n",
       "      <td>0</td>\n",
       "    </tr>\n",
       "    <tr>\n",
       "      <th>original_text</th>\n",
       "      <td>It was the worst accident in Romania in fifteen years .</td>\n",
       "      <td>The first Post Office opened on 1 November 1851 .</td>\n",
       "      <td>Jennifer Todd -LRB- born c. 1969 -RRB- is an American film producer .</td>\n",
       "      <td>'' 03 Bonnie &amp; Clyde '' is a song by Jay-Z featuring R&amp;B singer Beyoncé .</td>\n",
       "      <td>Grover is shown to be a bit cowardly , getting afraid easily .</td>\n",
       "    </tr>\n",
       "    <tr>\n",
       "      <th>cleaned_text</th>\n",
       "      <td>it was the worst accident in romania in fifteen years</td>\n",
       "      <td>the first post office opened on 1 november 1851</td>\n",
       "      <td>jennifer todd born c 1969 is an american film producer</td>\n",
       "      <td>03 bonnie clyde is a song by jay z featuring r b singer beyonce</td>\n",
       "      <td>grover is shown to be a bit cowardly getting afraid easily</td>\n",
       "    </tr>\n",
       "    <tr>\n",
       "      <th>cluster</th>\n",
       "      <td>0</td>\n",
       "      <td>0</td>\n",
       "      <td>0</td>\n",
       "      <td>0</td>\n",
       "      <td>0</td>\n",
       "    </tr>\n",
       "  </tbody>\n",
       "</table>\n",
       "</div>"
      ],
      "text/plain": [
       "                                                                            134516  \\\n",
       "stats_char_count                                                                45   \n",
       "w2v_gen_avg_word2vec_mean                                                 -0.11734   \n",
       "aoa_aoa_kup_lem_mean                                                          4.58   \n",
       "w2v_ft_sen2vec_mean                                                       -0.00185   \n",
       "label                                                                            1   \n",
       "y_pred                                                                           0   \n",
       "original_text              It was the worst accident in Romania in fifteen years .   \n",
       "cleaned_text                 it was the worst accident in romania in fifteen years   \n",
       "cluster                                                                          0   \n",
       "\n",
       "                                                                      188872  \\\n",
       "stats_char_count                                                          40   \n",
       "w2v_gen_avg_word2vec_mean                                           -0.08383   \n",
       "aoa_aoa_kup_lem_mean                                                    5.41   \n",
       "w2v_ft_sen2vec_mean                                                  0.00292   \n",
       "label                                                                      1   \n",
       "y_pred                                                                     0   \n",
       "original_text              The first Post Office opened on 1 November 1851 .   \n",
       "cleaned_text                 the first post office opened on 1 november 1851   \n",
       "cluster                                                                    0   \n",
       "\n",
       "                                                                                          186269  \\\n",
       "stats_char_count                                                                              57   \n",
       "w2v_gen_avg_word2vec_mean                                                               -0.13134   \n",
       "aoa_aoa_kup_lem_mean                                                                         6.1   \n",
       "w2v_ft_sen2vec_mean                                                                      0.00006   \n",
       "label                                                                                          1   \n",
       "y_pred                                                                                         0   \n",
       "original_text              Jennifer Todd -LRB- born c. 1969 -RRB- is an American film producer .   \n",
       "cleaned_text                              jennifer todd born c 1969 is an american film producer   \n",
       "cluster                                                                                        0   \n",
       "\n",
       "                                                                                              124530  \\\n",
       "stats_char_count                                                                                  58   \n",
       "w2v_gen_avg_word2vec_mean                                                                   -0.11155   \n",
       "aoa_aoa_kup_lem_mean                                                                            5.41   \n",
       "w2v_ft_sen2vec_mean                                                                         -0.00035   \n",
       "label                                                                                              1   \n",
       "y_pred                                                                                             0   \n",
       "original_text              '' 03 Bonnie & Clyde '' is a song by Jay-Z featuring R&B singer Beyoncé .   \n",
       "cleaned_text                         03 bonnie clyde is a song by jay z featuring r b singer beyonce   \n",
       "cluster                                                                                            0   \n",
       "\n",
       "                                                                                   96336   \n",
       "stats_char_count                                                                       50  \n",
       "w2v_gen_avg_word2vec_mean                                                        -0.09181  \n",
       "aoa_aoa_kup_lem_mean                                                                 5.13  \n",
       "w2v_ft_sen2vec_mean                                                               -0.0008  \n",
       "label                                                                                   1  \n",
       "y_pred                                                                                  0  \n",
       "original_text              Grover is shown to be a bit cowardly , getting afraid easily .  \n",
       "cleaned_text                   grover is shown to be a bit cowardly getting afraid easily  \n",
       "cluster                                                                                 0  "
      ]
     },
     "execution_count": 336,
     "metadata": {},
     "output_type": "execute_result"
    }
   ],
   "source": [
    "df_failed_selected_1[(df_failed_selected_1['cluster'] == 0) & (df_failed_selected_1['stats_char_count'] >= 0) & (df_failed_selected_1['stats_char_count'] <= 72)].sample(5).T\n"
   ]
  },
  {
   "attachments": {},
   "cell_type": "markdown",
   "metadata": {},
   "source": [
    "### Cluster 5"
   ]
  },
  {
   "cell_type": "code",
   "execution_count": 337,
   "metadata": {},
   "outputs": [
    {
     "data": {
      "text/html": [
       "<div>\n",
       "<style scoped>\n",
       "    .dataframe tbody tr th:only-of-type {\n",
       "        vertical-align: middle;\n",
       "    }\n",
       "\n",
       "    .dataframe tbody tr th {\n",
       "        vertical-align: top;\n",
       "    }\n",
       "\n",
       "    .dataframe thead th {\n",
       "        text-align: right;\n",
       "    }\n",
       "</style>\n",
       "<table border=\"1\" class=\"dataframe\">\n",
       "  <thead>\n",
       "    <tr style=\"text-align: right;\">\n",
       "      <th></th>\n",
       "      <th>102360</th>\n",
       "      <th>163600</th>\n",
       "      <th>131087</th>\n",
       "      <th>1164</th>\n",
       "      <th>199462</th>\n",
       "    </tr>\n",
       "  </thead>\n",
       "  <tbody>\n",
       "    <tr>\n",
       "      <th>stats_char_count</th>\n",
       "      <td>69</td>\n",
       "      <td>71</td>\n",
       "      <td>71</td>\n",
       "      <td>100</td>\n",
       "      <td>85</td>\n",
       "    </tr>\n",
       "    <tr>\n",
       "      <th>w2v_gen_avg_word2vec_mean</th>\n",
       "      <td>-0.09809</td>\n",
       "      <td>-0.07186</td>\n",
       "      <td>-0.05501</td>\n",
       "      <td>-0.04899</td>\n",
       "      <td>-0.0675</td>\n",
       "    </tr>\n",
       "    <tr>\n",
       "      <th>aoa_aoa_kup_lem_mean</th>\n",
       "      <td>5.35</td>\n",
       "      <td>5.2</td>\n",
       "      <td>5.06</td>\n",
       "      <td>5.77</td>\n",
       "      <td>5.22</td>\n",
       "    </tr>\n",
       "    <tr>\n",
       "      <th>w2v_ft_sen2vec_mean</th>\n",
       "      <td>-0.00032</td>\n",
       "      <td>-0.0014</td>\n",
       "      <td>-0.00161</td>\n",
       "      <td>-0.00003</td>\n",
       "      <td>-0.00058</td>\n",
       "    </tr>\n",
       "    <tr>\n",
       "      <th>label</th>\n",
       "      <td>1</td>\n",
       "      <td>1</td>\n",
       "      <td>1</td>\n",
       "      <td>1</td>\n",
       "      <td>1</td>\n",
       "    </tr>\n",
       "    <tr>\n",
       "      <th>y_pred</th>\n",
       "      <td>0</td>\n",
       "      <td>0</td>\n",
       "      <td>0</td>\n",
       "      <td>0</td>\n",
       "      <td>0</td>\n",
       "    </tr>\n",
       "    <tr>\n",
       "      <th>original_text</th>\n",
       "      <td>An avid reader , she also spent a lot of time exploring around her family 's 65 a farm .</td>\n",
       "      <td>Since 1935 , both sides of the Great Seal appear on the reverse of the one-dollar bill .</td>\n",
       "      <td>Saturn was the father of Ceres , Jupiter , Veritas , Pluto , and Neptune , among others .</td>\n",
       "      <td>The town grew after the nation 's administrative centre moved from Bremersdorp -LRB- now called Manzini -RRB- in 1902 .</td>\n",
       "      <td>Originally built for up to one million inhabitants , the city has recently grown way past this number .</td>\n",
       "    </tr>\n",
       "    <tr>\n",
       "      <th>cleaned_text</th>\n",
       "      <td>an avid reader she also spent a lot of time exploring around her family 65 a farm</td>\n",
       "      <td>since 1935 both sides of the great seal appear on the reverse of the one dollar bill</td>\n",
       "      <td>saturn was the father of ceres jupiter veritas pluto and neptune among others</td>\n",
       "      <td>the town grew after the nation administrative centre moved from bremersdorp now called manzini in 1902</td>\n",
       "      <td>originally built for up to one million inhabitants the city has recently grown way past this number</td>\n",
       "    </tr>\n",
       "    <tr>\n",
       "      <th>cluster</th>\n",
       "      <td>5</td>\n",
       "      <td>5</td>\n",
       "      <td>5</td>\n",
       "      <td>5</td>\n",
       "      <td>5</td>\n",
       "    </tr>\n",
       "  </tbody>\n",
       "</table>\n",
       "</div>"
      ],
      "text/plain": [
       "                                                                                                             102360  \\\n",
       "stats_char_count                                                                                                 69   \n",
       "w2v_gen_avg_word2vec_mean                                                                                  -0.09809   \n",
       "aoa_aoa_kup_lem_mean                                                                                           5.35   \n",
       "w2v_ft_sen2vec_mean                                                                                        -0.00032   \n",
       "label                                                                                                             1   \n",
       "y_pred                                                                                                            0   \n",
       "original_text              An avid reader , she also spent a lot of time exploring around her family 's 65 a farm .   \n",
       "cleaned_text                      an avid reader she also spent a lot of time exploring around her family 65 a farm   \n",
       "cluster                                                                                                           5   \n",
       "\n",
       "                                                                                                             163600  \\\n",
       "stats_char_count                                                                                                 71   \n",
       "w2v_gen_avg_word2vec_mean                                                                                  -0.07186   \n",
       "aoa_aoa_kup_lem_mean                                                                                            5.2   \n",
       "w2v_ft_sen2vec_mean                                                                                         -0.0014   \n",
       "label                                                                                                             1   \n",
       "y_pred                                                                                                            0   \n",
       "original_text              Since 1935 , both sides of the Great Seal appear on the reverse of the one-dollar bill .   \n",
       "cleaned_text                   since 1935 both sides of the great seal appear on the reverse of the one dollar bill   \n",
       "cluster                                                                                                           5   \n",
       "\n",
       "                                                                                                              131087  \\\n",
       "stats_char_count                                                                                                  71   \n",
       "w2v_gen_avg_word2vec_mean                                                                                   -0.05501   \n",
       "aoa_aoa_kup_lem_mean                                                                                            5.06   \n",
       "w2v_ft_sen2vec_mean                                                                                         -0.00161   \n",
       "label                                                                                                              1   \n",
       "y_pred                                                                                                             0   \n",
       "original_text              Saturn was the father of Ceres , Jupiter , Veritas , Pluto , and Neptune , among others .   \n",
       "cleaned_text                           saturn was the father of ceres jupiter veritas pluto and neptune among others   \n",
       "cluster                                                                                                            5   \n",
       "\n",
       "                                                                                                                                            1164    \\\n",
       "stats_char_count                                                                                                                               100   \n",
       "w2v_gen_avg_word2vec_mean                                                                                                                 -0.04899   \n",
       "aoa_aoa_kup_lem_mean                                                                                                                          5.77   \n",
       "w2v_ft_sen2vec_mean                                                                                                                       -0.00003   \n",
       "label                                                                                                                                            1   \n",
       "y_pred                                                                                                                                           0   \n",
       "original_text              The town grew after the nation 's administrative centre moved from Bremersdorp -LRB- now called Manzini -RRB- in 1902 .   \n",
       "cleaned_text                                the town grew after the nation administrative centre moved from bremersdorp now called manzini in 1902   \n",
       "cluster                                                                                                                                          5   \n",
       "\n",
       "                                                                                                                            199462  \n",
       "stats_char_count                                                                                                                85  \n",
       "w2v_gen_avg_word2vec_mean                                                                                                  -0.0675  \n",
       "aoa_aoa_kup_lem_mean                                                                                                          5.22  \n",
       "w2v_ft_sen2vec_mean                                                                                                       -0.00058  \n",
       "label                                                                                                                            1  \n",
       "y_pred                                                                                                                           0  \n",
       "original_text              Originally built for up to one million inhabitants , the city has recently grown way past this number .  \n",
       "cleaned_text                   originally built for up to one million inhabitants the city has recently grown way past this number  \n",
       "cluster                                                                                                                          5  "
      ]
     },
     "execution_count": 337,
     "metadata": {},
     "output_type": "execute_result"
    }
   ],
   "source": [
    "df_failed_selected_1[(df_failed_selected_1['cluster'] == 5) & (df_failed_selected_1['stats_char_count'] >= 67)].sample(5).T\n"
   ]
  },
  {
   "cell_type": "code",
   "execution_count": 330,
   "metadata": {},
   "outputs": [
    {
     "name": "stdout",
     "output_type": "stream",
     "text": [
      "0.19 minutes\n"
     ]
    }
   ],
   "source": [
    "t_end = time.time()\n",
    "calculate_duration(t_start, t_end);\n"
   ]
  },
  {
   "cell_type": "markdown",
   "metadata": {
    "id": "ti9wgudgBzw9"
   },
   "source": [
    "# Watermark"
   ]
  },
  {
   "cell_type": "code",
   "execution_count": 333,
   "metadata": {
    "id": "f7PuaC1JBzw-",
    "outputId": "aafeadff-3431-44e5-fa8f-d94281a641d6"
   },
   "outputs": [
    {
     "name": "stdout",
     "output_type": "stream",
     "text": [
      "Last updated: 2023-02-27T11:04:25.938179+01:00\n",
      "\n",
      "Python implementation: CPython\n",
      "Python version       : 3.9.0\n",
      "IPython version      : 8.9.0\n",
      "\n",
      "Compiler    : Clang 11.0.0 \n",
      "OS          : Darwin\n",
      "Release     : 22.3.0\n",
      "Machine     : arm64\n",
      "Processor   : arm\n",
      "CPU cores   : 10\n",
      "Architecture: 64bit\n",
      "\n"
     ]
    }
   ],
   "source": [
    "%watermark"
   ]
  },
  {
   "cell_type": "code",
   "execution_count": 334,
   "metadata": {
    "id": "SU12PVZ2BzxA",
    "outputId": "35145233-ba98-423f-ca77-95011e8cd3af"
   },
   "outputs": [
    {
     "name": "stdout",
     "output_type": "stream",
     "text": [
      "numpy     : 1.23.5\n",
      "seaborn   : 0.12.2\n",
      "matplotlib: 3.6.3\n",
      "pandas    : 1.5.3\n",
      "\n"
     ]
    }
   ],
   "source": [
    "%watermark --iversions"
   ]
  }
 ],
 "metadata": {
  "colab": {
   "provenance": []
  },
  "deepnote": {},
  "deepnote_app_layout": "article",
  "deepnote_execution_queue": [],
  "deepnote_notebook_id": "9a9c04096ce744f096ec4c3e58773e56",
  "deepnote_persisted_session": {
   "createdAt": "2023-01-25T20:01:30.909Z"
  },
  "kernelspec": {
   "display_name": "siads696",
   "language": "python",
   "name": "python3"
  },
  "language_info": {
   "codemirror_mode": {
    "name": "ipython",
    "version": 3
   },
   "file_extension": ".py",
   "mimetype": "text/x-python",
   "name": "python",
   "nbconvert_exporter": "python",
   "pygments_lexer": "ipython3",
   "version": "3.9.0"
  },
  "vscode": {
   "interpreter": {
    "hash": "e06bb46ff2b522e8ed41cde06a3284743bf4ee3b709766dafa5d4f926bdfb013"
   }
  }
 },
 "nbformat": 4,
 "nbformat_minor": 0
}
