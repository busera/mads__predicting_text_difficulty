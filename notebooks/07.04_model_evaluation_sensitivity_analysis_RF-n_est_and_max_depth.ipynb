{
 "cells": [
  {
   "attachments": {},
   "cell_type": "markdown",
   "metadata": {},
   "source": [
    "v1.0"
   ]
  },
  {
   "attachments": {},
   "cell_type": "markdown",
   "metadata": {},
   "source": [
    "The objective of this notebook is to:\n",
    "- evaluate the model's sensitivity regarding **n_estimators** and **max_depth**\n"
   ]
  },
  {
   "attachments": {},
   "cell_type": "markdown",
   "metadata": {},
   "source": [
    "# Pre-checks"
   ]
  },
  {
   "cell_type": "code",
   "execution_count": 1,
   "metadata": {
    "id": "WYr9Yqm_R0l7",
    "outputId": "140b5e6d-25b2-442b-fcf7-9ad7b542248c"
   },
   "outputs": [
    {
     "name": "stdout",
     "output_type": "stream",
     "text": [
      "Not a Goolge Drive Environment.\n"
     ]
    }
   ],
   "source": [
    "## Check for Google Drive Connectivity\n",
    "try:\n",
    "    from google.colab import drive\n",
    "    drive.mount('/content/drive')\n",
    "    google_env = True\n",
    "except:\n",
    "    print(\"Not a Goolge Drive Environment.\")\n",
    "    google_env = False"
   ]
  },
  {
   "cell_type": "code",
   "execution_count": 2,
   "metadata": {
    "id": "T_FulwOgR0l8"
   },
   "outputs": [],
   "source": [
    "import time\n",
    "t_start = time.time()"
   ]
  },
  {
   "cell_type": "code",
   "execution_count": 3,
   "metadata": {
    "id": "RxZajmxMR0l9",
    "outputId": "4c3865f2-f919-4810-8721-9cf23dca833a"
   },
   "outputs": [
    {
     "name": "stdout",
     "output_type": "stream",
     "text": [
      "========================================================================================================================\n",
      "Fastrun enabled: False\n",
      "========================================================================================================================\n"
     ]
    }
   ],
   "source": [
    "# Use parameters to enable/disable the fastrun\n",
    "\n",
    "FASTRUN = False\n",
    "#FASTRUN = True\n",
    "\n",
    "# Size of the fastrun dataframe\n",
    "sample_fraction = 0.001\n",
    "print(\"===\"*40)\n",
    "print(\"Fastrun enabled:\", FASTRUN)\n",
    "if FASTRUN: print(\"Sample size:\",sample_fraction)\n",
    "print(\"===\"*40)\n"
   ]
  },
  {
   "cell_type": "markdown",
   "metadata": {
    "id": "uZms1pauBzw0"
   },
   "source": [
    "# Setup Environment"
   ]
  },
  {
   "cell_type": "markdown",
   "metadata": {
    "id": "FSazCCmDbqKg"
   },
   "source": [
    "## Install Modules"
   ]
  },
  {
   "cell_type": "code",
   "execution_count": 4,
   "metadata": {
    "id": "1Vo8zBrWbqKg"
   },
   "outputs": [],
   "source": [
    "#!pip install icecream\n",
    "#!pip install watermark\n",
    "#!pip install fastparquet"
   ]
  },
  {
   "cell_type": "markdown",
   "metadata": {
    "id": "hHwYAoFSBzw1"
   },
   "source": [
    "## Import Modules"
   ]
  },
  {
   "cell_type": "code",
   "execution_count": 5,
   "metadata": {
    "id": "nbk1jSYhBzw2"
   },
   "outputs": [],
   "source": [
    "# Base libraries\n",
    "import os\n",
    "from datetime import date\n",
    "\n",
    "# Scientific libraries\n",
    "import numpy as np\n",
    "import pandas as pd\n",
    "\n",
    "# Visualization\n",
    "import seaborn as sns\n",
    "import matplotlib.pyplot as plt\n",
    "plt.rcParams[\"figure.figsize\"] = (12,8)\n",
    "\n",
    "sns.set(rc={'figure.figsize':(12,8)})\n",
    "sns.set(font_scale=0.8)\n",
    "\n",
    "# Helper libraries\n",
    "from watermark import watermark\n",
    "from icecream import ic\n",
    "import gc # garbage collection to optimize memory usage: use \"gc.collect()\"\n",
    "import warnings\n",
    "warnings.filterwarnings('ignore')\n",
    "\n",
    "# Pandas options\n",
    "pd.set_option('display.max_rows', None)\n",
    "pd.set_option('display.max_columns', None)\n",
    "pd.set_option('display.width', None)\n",
    "pd.set_option('display.max_colwidth', None)\n",
    "\n",
    "from IPython.core.interactiveshell import InteractiveShell\n",
    "InteractiveShell.ast_node_interactivity = 'all'\n",
    "\n",
    "# Load magic commands\n",
    "%load_ext watermark"
   ]
  },
  {
   "attachments": {},
   "cell_type": "markdown",
   "metadata": {
    "id": "C46IJ3IeBzw5"
   },
   "source": [
    "## Global Parameters"
   ]
  },
  {
   "cell_type": "code",
   "execution_count": 6,
   "metadata": {
    "id": "rVPFKtMUBzw6"
   },
   "outputs": [],
   "source": [
    "seed = 42\n",
    "cpu_count = os.cpu_count()\n",
    "cpu_count = cpu_count-2  # to keep machine responsive when fitting the models\n",
    "notebook_no = \"08.04\"\n",
    "today = date.today()"
   ]
  },
  {
   "attachments": {},
   "cell_type": "markdown",
   "metadata": {
    "id": "SdUPJZbDR0mA"
   },
   "source": [
    "## Global Helper Functions"
   ]
  },
  {
   "cell_type": "code",
   "execution_count": 7,
   "metadata": {
    "id": "EdpbueLMR0mA"
   },
   "outputs": [],
   "source": [
    "import http.client\n",
    "import urllib\n",
    "\n",
    "\n",
    "def send_push(message):\n",
    "    \"\"\"Send push notifications to pushover service.\"\"\"\n",
    "    try:\n",
    "        conn = http.client.HTTPSConnection(\"api.pushover.net:443\")\n",
    "        conn.request(\"POST\", \"/1/messages.json\",\n",
    "                     urllib.parse.urlencode({\n",
    "                         \"token\": \"ahs1q4mwpnxe3645zeaqzas69whq7a\",  # ML Notifications Channel\n",
    "                         \"user\": \"u5vr1qkc9ghudg2ehuug153okeiz1d\",\n",
    "                         \"message\": message,\n",
    "                     }), {\"Content-type\": \"application/x-www-form-urlencoded\"})\n",
    "\n",
    "        conn.getresponse()\n",
    "\n",
    "    except:\n",
    "        print(\"There was a communication issue (pushover).\")\n"
   ]
  },
  {
   "cell_type": "code",
   "execution_count": 8,
   "metadata": {
    "id": "fYeTVfQeR0mA"
   },
   "outputs": [],
   "source": [
    "def fast_run_sampling(df, sample_fraction):\n",
    "    \"\"\"Return a fraction of the dataset.\"\"\"\n",
    "    print(\"Labels before sampling:\\n\", df['label'].value_counts())\n",
    "    df = df.groupby('label').sample(frac=sample_fraction, random_state=seed) \n",
    "    #df = df.sample(n=sample_size, random_state=seed).reset_index(drop=True)\n",
    "    print(\"Labels after sampling:\\n\", df['label'].value_counts())\n",
    "    return df\n",
    "    "
   ]
  },
  {
   "cell_type": "code",
   "execution_count": 9,
   "metadata": {},
   "outputs": [],
   "source": [
    "def calculate_duration(t_start, t_end):\n",
    "    \"\"\"Return run time in minutes.\"\"\"\n",
    "    total_runtime = t_end-t_start\n",
    "    total_runtime_min = round((total_runtime/60), 2)\n",
    "    print(str(total_runtime_min)+\" minutes\")\n",
    "\n",
    "    return total_runtime_min\n"
   ]
  },
  {
   "cell_type": "markdown",
   "metadata": {
    "id": "6YBbHzbqBzw8"
   },
   "source": [
    "# 3.0 Load Data"
   ]
  },
  {
   "cell_type": "code",
   "execution_count": 10,
   "metadata": {
    "id": "QUyCYBdWdeWq",
    "outputId": "a05ad7b5-365e-4110-d00f-ab95996998b9"
   },
   "outputs": [
    {
     "name": "stdout",
     "output_type": "stream",
     "text": [
      "Not a Google Drive Environment. Loading local files.\n"
     ]
    }
   ],
   "source": [
    "# Load Data\n",
    "if google_env:\n",
    "    # Location for \"shared with\" people\n",
    "    # create a shortcut of the shared folder in your Google Drive root folder\n",
    "    ROOT_PATH = \"/content/drive/MyDrive/SIADS696/Environment/\"\n",
    "else:\n",
    "    ROOT_PATH = \"../\"\n",
    "    print(\"Not a Google Drive Environment. Loading local files.\")\n",
    "\n",
    "PATH_DATA = \"data/\"\n",
    "PATH_DATA_RAW = \"data/raw/\"\n",
    "PATH_DATA_INT = \"data/interim/\"\n",
    "PATH_DATA_PRO = \"data/processed/\"\n",
    "PATH_DATA_MOD = \"models/\"\n",
    "PATH_DATA_REP = \"reports/\"\n",
    "PATH_DATA_FIG = \"reports/figures/\"\n",
    "PATH_DATA_HTML = \"reports/html/\"\n",
    "\n",
    "# Dictionary to store file names and their corresponding dataframes\n",
    "files = {\n",
    "    \"train_features_clean_stats.parquet.gzip\": \"df_wiki_train_stats\",\n",
    "    \"train_features_rs.parquet.gzip\": \"df_wiki_train_rs\",\n",
    "    \"train_features_nltk.parquet.gzip\": \"df_wiki_train_nltk\",\n",
    "    \"train_features_aoa.parquet.gzip\": \"df_wiki_train_aoa\",\n",
    "    \"train_features_crb.parquet.gzip\": \"df_wiki_train_crb\",\n",
    "    \"train_features_w2v.parquet.gzip\": \"df_wiki_train_w2v\",\n",
    "   # \"train_mNB_predict.parquet.gzip\": \"df_wiki_train_MNB\",  # data leakage risk\n",
    "   # \"test_mNB_predict.parquet.gzip\": \"df_wiki_test_MNB\",    # data leakage risk\n",
    "}\n",
    "\n",
    "# Load data into corresponding dataframes\n",
    "for file, df_name in files.items():\n",
    "    if df_name not in globals():\n",
    "        globals()[df_name] = pd.read_parquet(ROOT_PATH + PATH_DATA_INT + file)\n"
   ]
  },
  {
   "cell_type": "code",
   "execution_count": 11,
   "metadata": {
    "id": "rlyIC3wER0mC",
    "outputId": "3db7f66c-6a63-4258-9a17-c4997d4df92e"
   },
   "outputs": [],
   "source": [
    "# Combine dataframes into one\n",
    "df_train = pd.DataFrame()\n",
    "df_train = pd.concat([df_train, df_wiki_train_stats], axis=1)\n",
    "df_train = pd.concat([df_train, df_wiki_train_rs], axis=1)\n",
    "df_train = pd.concat([df_train, df_wiki_train_nltk], axis=1)\n",
    "df_train = pd.concat([df_train, df_wiki_train_aoa], axis=1)\n",
    "df_train = pd.concat([df_train, df_wiki_train_crb], axis=1)\n",
    "df_train = pd.concat([df_train, df_wiki_train_w2v], axis=1)\n",
    "\n",
    "if FASTRUN:\n",
    "    df_train = fast_run_sampling(df_train, sample_fraction)\n"
   ]
  },
  {
   "cell_type": "code",
   "execution_count": 12,
   "metadata": {
    "id": "Z4lZLG9IR0mC",
    "outputId": "ac96f14b-c261-4707-a600-8b8cef3919e9"
   },
   "outputs": [
    {
     "data": {
      "text/plain": [
       "(416768, 155)"
      ]
     },
     "execution_count": 12,
     "metadata": {},
     "output_type": "execute_result"
    }
   ],
   "source": [
    "df_train.shape"
   ]
  },
  {
   "cell_type": "code",
   "execution_count": 13,
   "metadata": {},
   "outputs": [
    {
     "name": "stderr",
     "output_type": "stream",
     "text": [
      "ic| len(rfecv_selected_feature): 117\n"
     ]
    }
   ],
   "source": [
    "df_rfecv_selected_feature = pd.read_csv(ROOT_PATH+PATH_DATA_INT+\"RFECV10-RF-selected_features-table_04.02.csv\")\n",
    "rfecv_selected_feature = sorted(df_rfecv_selected_feature['Selected Features'].to_list())\n",
    "ic(len(rfecv_selected_feature));\n"
   ]
  },
  {
   "attachments": {},
   "cell_type": "markdown",
   "metadata": {
    "id": "e2HJrw_6R0mE"
   },
   "source": [
    "# Sensitivity Analysis"
   ]
  },
  {
   "cell_type": "code",
   "execution_count": 14,
   "metadata": {},
   "outputs": [],
   "source": [
    "from sklearn.ensemble import RandomForestClassifier\n",
    "from sklearn.model_selection import RandomizedSearchCV\n",
    "from sklearn.preprocessing import MinMaxScaler\n",
    "from sklearn.model_selection import StratifiedKFold\n",
    "from sklearn.pipeline import Pipeline\n",
    "from scipy.stats import randint"
   ]
  },
  {
   "cell_type": "code",
   "execution_count": 15,
   "metadata": {},
   "outputs": [],
   "source": [
    "k=10\n",
    "\n",
    "skfold = StratifiedKFold(n_splits=k)\n",
    "scaler = MinMaxScaler((0, 1))\n",
    "rf = RandomForestClassifier(random_state=seed, n_jobs=-1)\n",
    "\n",
    "n_iter = 25\n"
   ]
  },
  {
   "cell_type": "code",
   "execution_count": 16,
   "metadata": {},
   "outputs": [
    {
     "name": "stderr",
     "output_type": "stream",
     "text": [
      "ic| X.shape: (416768, 117)\n",
      "ic| y.shape: (416768,)\n"
     ]
    }
   ],
   "source": [
    "X = df_train[rfecv_selected_feature].copy()\n",
    "y = df_train[\"label\"]\n",
    "\n",
    "ic(X.shape);\n",
    "ic(y.shape);\n"
   ]
  },
  {
   "cell_type": "code",
   "execution_count": 17,
   "metadata": {},
   "outputs": [],
   "source": [
    "pipeline = Pipeline([\n",
    "                    ('scaler', scaler), \n",
    "                    ('estimator', rf)\n",
    "                    ])"
   ]
  },
  {
   "cell_type": "code",
   "execution_count": 18,
   "metadata": {
    "pycharm": {
     "is_executing": true
    }
   },
   "outputs": [
    {
     "data": {
      "text/html": [
       "<style>#sk-container-id-1 {color: black;background-color: white;}#sk-container-id-1 pre{padding: 0;}#sk-container-id-1 div.sk-toggleable {background-color: white;}#sk-container-id-1 label.sk-toggleable__label {cursor: pointer;display: block;width: 100%;margin-bottom: 0;padding: 0.3em;box-sizing: border-box;text-align: center;}#sk-container-id-1 label.sk-toggleable__label-arrow:before {content: \"▸\";float: left;margin-right: 0.25em;color: #696969;}#sk-container-id-1 label.sk-toggleable__label-arrow:hover:before {color: black;}#sk-container-id-1 div.sk-estimator:hover label.sk-toggleable__label-arrow:before {color: black;}#sk-container-id-1 div.sk-toggleable__content {max-height: 0;max-width: 0;overflow: hidden;text-align: left;background-color: #f0f8ff;}#sk-container-id-1 div.sk-toggleable__content pre {margin: 0.2em;color: black;border-radius: 0.25em;background-color: #f0f8ff;}#sk-container-id-1 input.sk-toggleable__control:checked~div.sk-toggleable__content {max-height: 200px;max-width: 100%;overflow: auto;}#sk-container-id-1 input.sk-toggleable__control:checked~label.sk-toggleable__label-arrow:before {content: \"▾\";}#sk-container-id-1 div.sk-estimator input.sk-toggleable__control:checked~label.sk-toggleable__label {background-color: #d4ebff;}#sk-container-id-1 div.sk-label input.sk-toggleable__control:checked~label.sk-toggleable__label {background-color: #d4ebff;}#sk-container-id-1 input.sk-hidden--visually {border: 0;clip: rect(1px 1px 1px 1px);clip: rect(1px, 1px, 1px, 1px);height: 1px;margin: -1px;overflow: hidden;padding: 0;position: absolute;width: 1px;}#sk-container-id-1 div.sk-estimator {font-family: monospace;background-color: #f0f8ff;border: 1px dotted black;border-radius: 0.25em;box-sizing: border-box;margin-bottom: 0.5em;}#sk-container-id-1 div.sk-estimator:hover {background-color: #d4ebff;}#sk-container-id-1 div.sk-parallel-item::after {content: \"\";width: 100%;border-bottom: 1px solid gray;flex-grow: 1;}#sk-container-id-1 div.sk-label:hover label.sk-toggleable__label {background-color: #d4ebff;}#sk-container-id-1 div.sk-serial::before {content: \"\";position: absolute;border-left: 1px solid gray;box-sizing: border-box;top: 0;bottom: 0;left: 50%;z-index: 0;}#sk-container-id-1 div.sk-serial {display: flex;flex-direction: column;align-items: center;background-color: white;padding-right: 0.2em;padding-left: 0.2em;position: relative;}#sk-container-id-1 div.sk-item {position: relative;z-index: 1;}#sk-container-id-1 div.sk-parallel {display: flex;align-items: stretch;justify-content: center;background-color: white;position: relative;}#sk-container-id-1 div.sk-item::before, #sk-container-id-1 div.sk-parallel-item::before {content: \"\";position: absolute;border-left: 1px solid gray;box-sizing: border-box;top: 0;bottom: 0;left: 50%;z-index: -1;}#sk-container-id-1 div.sk-parallel-item {display: flex;flex-direction: column;z-index: 1;position: relative;background-color: white;}#sk-container-id-1 div.sk-parallel-item:first-child::after {align-self: flex-end;width: 50%;}#sk-container-id-1 div.sk-parallel-item:last-child::after {align-self: flex-start;width: 50%;}#sk-container-id-1 div.sk-parallel-item:only-child::after {width: 0;}#sk-container-id-1 div.sk-dashed-wrapped {border: 1px dashed gray;margin: 0 0.4em 0.5em 0.4em;box-sizing: border-box;padding-bottom: 0.4em;background-color: white;}#sk-container-id-1 div.sk-label label {font-family: monospace;font-weight: bold;display: inline-block;line-height: 1.2em;}#sk-container-id-1 div.sk-label-container {text-align: center;}#sk-container-id-1 div.sk-container {/* jupyter's `normalize.less` sets `[hidden] { display: none; }` but bootstrap.min.css set `[hidden] { display: none !important; }` so we also need the `!important` here to be able to override the default hidden behavior on the sphinx rendered scikit-learn.org. See: https://github.com/scikit-learn/scikit-learn/issues/21755 */display: inline-block !important;position: relative;}#sk-container-id-1 div.sk-text-repr-fallback {display: none;}</style><div id=\"sk-container-id-1\" class=\"sk-top-container\"><div class=\"sk-text-repr-fallback\"><pre>RandomizedSearchCV(cv=StratifiedKFold(n_splits=10, random_state=None, shuffle=False),\n",
       "                   estimator=Pipeline(steps=[(&#x27;scaler&#x27;, MinMaxScaler()),\n",
       "                                             (&#x27;estimator&#x27;,\n",
       "                                              RandomForestClassifier(n_jobs=-1,\n",
       "                                                                     random_state=42))]),\n",
       "                   n_iter=25, n_jobs=-1,\n",
       "                   param_distributions={&#x27;estimator__max_depth&#x27;: &lt;scipy.stats._distn_infrastructure.rv_discrete_frozen object at 0x000002AF824A03D0&gt;,\n",
       "                                        &#x27;estimator__n_estimators&#x27;: &lt;scipy.stats._distn_infrastructure.rv_discrete_frozen object at 0x000002AF82456980&gt;},\n",
       "                   random_state=42, scoring=&#x27;accuracy&#x27;)</pre><b>In a Jupyter environment, please rerun this cell to show the HTML representation or trust the notebook. <br />On GitHub, the HTML representation is unable to render, please try loading this page with nbviewer.org.</b></div><div class=\"sk-container\" hidden><div class=\"sk-item sk-dashed-wrapped\"><div class=\"sk-label-container\"><div class=\"sk-label sk-toggleable\"><input class=\"sk-toggleable__control sk-hidden--visually\" id=\"sk-estimator-id-1\" type=\"checkbox\" ><label for=\"sk-estimator-id-1\" class=\"sk-toggleable__label sk-toggleable__label-arrow\">RandomizedSearchCV</label><div class=\"sk-toggleable__content\"><pre>RandomizedSearchCV(cv=StratifiedKFold(n_splits=10, random_state=None, shuffle=False),\n",
       "                   estimator=Pipeline(steps=[(&#x27;scaler&#x27;, MinMaxScaler()),\n",
       "                                             (&#x27;estimator&#x27;,\n",
       "                                              RandomForestClassifier(n_jobs=-1,\n",
       "                                                                     random_state=42))]),\n",
       "                   n_iter=25, n_jobs=-1,\n",
       "                   param_distributions={&#x27;estimator__max_depth&#x27;: &lt;scipy.stats._distn_infrastructure.rv_discrete_frozen object at 0x000002AF824A03D0&gt;,\n",
       "                                        &#x27;estimator__n_estimators&#x27;: &lt;scipy.stats._distn_infrastructure.rv_discrete_frozen object at 0x000002AF82456980&gt;},\n",
       "                   random_state=42, scoring=&#x27;accuracy&#x27;)</pre></div></div></div><div class=\"sk-parallel\"><div class=\"sk-parallel-item\"><div class=\"sk-item\"><div class=\"sk-label-container\"><div class=\"sk-label sk-toggleable\"><input class=\"sk-toggleable__control sk-hidden--visually\" id=\"sk-estimator-id-2\" type=\"checkbox\" ><label for=\"sk-estimator-id-2\" class=\"sk-toggleable__label sk-toggleable__label-arrow\">estimator: Pipeline</label><div class=\"sk-toggleable__content\"><pre>Pipeline(steps=[(&#x27;scaler&#x27;, MinMaxScaler()),\n",
       "                (&#x27;estimator&#x27;,\n",
       "                 RandomForestClassifier(n_jobs=-1, random_state=42))])</pre></div></div></div><div class=\"sk-serial\"><div class=\"sk-item\"><div class=\"sk-serial\"><div class=\"sk-item\"><div class=\"sk-estimator sk-toggleable\"><input class=\"sk-toggleable__control sk-hidden--visually\" id=\"sk-estimator-id-3\" type=\"checkbox\" ><label for=\"sk-estimator-id-3\" class=\"sk-toggleable__label sk-toggleable__label-arrow\">MinMaxScaler</label><div class=\"sk-toggleable__content\"><pre>MinMaxScaler()</pre></div></div></div><div class=\"sk-item\"><div class=\"sk-estimator sk-toggleable\"><input class=\"sk-toggleable__control sk-hidden--visually\" id=\"sk-estimator-id-4\" type=\"checkbox\" ><label for=\"sk-estimator-id-4\" class=\"sk-toggleable__label sk-toggleable__label-arrow\">RandomForestClassifier</label><div class=\"sk-toggleable__content\"><pre>RandomForestClassifier(n_jobs=-1, random_state=42)</pre></div></div></div></div></div></div></div></div></div></div></div></div>"
      ],
      "text/plain": [
       "RandomizedSearchCV(cv=StratifiedKFold(n_splits=10, random_state=None, shuffle=False),\n",
       "                   estimator=Pipeline(steps=[('scaler', MinMaxScaler()),\n",
       "                                             ('estimator',\n",
       "                                              RandomForestClassifier(n_jobs=-1,\n",
       "                                                                     random_state=42))]),\n",
       "                   n_iter=25, n_jobs=-1,\n",
       "                   param_distributions={'estimator__max_depth': <scipy.stats._distn_infrastructure.rv_discrete_frozen object at 0x000002AF824A03D0>,\n",
       "                                        'estimator__n_estimators': <scipy.stats._distn_infrastructure.rv_discrete_frozen object at 0x000002AF82456980>},\n",
       "                   random_state=42, scoring='accuracy')"
      ]
     },
     "execution_count": 18,
     "metadata": {},
     "output_type": "execute_result"
    },
    {
     "name": "stdout",
     "output_type": "stream",
     "text": [
      "Best hyperparameters:  {'estimator__max_depth': 87, 'estimator__n_estimators': 377}\n"
     ]
    }
   ],
   "source": [
    "# Define the hyperparameter search space\n",
    "param_dist = {\n",
    "              'estimator__n_estimators': randint(5, 1000),\n",
    "             # 'estimator__max_features': randint(0, int(np.sqrt(len(df_train)))),\n",
    "               'estimator__max_depth': randint(0, 100),\n",
    "             # 'estimator__min_samples_split': randint(2, 10),\n",
    "             # 'estimator__min_samples_leaf': randint(1, 10)\n",
    "             }\n",
    "\n",
    "# Perform the hyperparameter search\n",
    "search = RandomizedSearchCV(estimator=pipeline,\n",
    "                            param_distributions=param_dist,\n",
    "                            n_iter=n_iter,\n",
    "                            scoring='accuracy',\n",
    "                            cv=skfold,\n",
    "                            n_jobs=-1,\n",
    "                            random_state=seed)\n",
    "\n",
    "search.fit(X, y)\n",
    "\n",
    "# Print the best hyperparameters\n",
    "print(\"Best hyperparameters: \", search.best_params_)\n"
   ]
  },
  {
   "cell_type": "code",
   "execution_count": 19,
   "metadata": {
    "pycharm": {
     "is_executing": true
    }
   },
   "outputs": [
    {
     "data": {
      "text/plain": [
       "dict_keys(['mean_fit_time', 'std_fit_time', 'mean_score_time', 'std_score_time', 'param_estimator__max_depth', 'param_estimator__n_estimators', 'params', 'split0_test_score', 'split1_test_score', 'split2_test_score', 'split3_test_score', 'split4_test_score', 'split5_test_score', 'split6_test_score', 'split7_test_score', 'split8_test_score', 'split9_test_score', 'mean_test_score', 'std_test_score', 'rank_test_score'])"
      ]
     },
     "execution_count": 19,
     "metadata": {},
     "output_type": "execute_result"
    }
   ],
   "source": [
    "search.cv_results_.keys()"
   ]
  },
  {
   "cell_type": "code",
   "execution_count": 20,
   "metadata": {
    "pycharm": {
     "is_executing": true
    }
   },
   "outputs": [],
   "source": [
    "# Extract the mean test scores and standard deviations for each set of hyperparameters\n",
    "means = search.cv_results_['mean_test_score']\n",
    "stds = search.cv_results_['std_test_score']\n",
    "\n",
    "# Extract the values of the n_estimators hyperparameter for each set of hyperparameters\n",
    "max_depth = search.cv_results_['param_estimator__max_depth'].data\n",
    "n_estimators = search.cv_results_['param_estimator__n_estimators'].data"
   ]
  },
  {
   "cell_type": "code",
   "execution_count": 36,
   "metadata": {
    "pycharm": {
     "is_executing": true
    }
   },
   "outputs": [
    {
     "data": {
      "text/html": [
       "<div>\n",
       "<style scoped>\n",
       "    .dataframe tbody tr th:only-of-type {\n",
       "        vertical-align: middle;\n",
       "    }\n",
       "\n",
       "    .dataframe tbody tr th {\n",
       "        vertical-align: top;\n",
       "    }\n",
       "\n",
       "    .dataframe thead th {\n",
       "        text-align: right;\n",
       "    }\n",
       "</style>\n",
       "<table border=\"1\" class=\"dataframe\">\n",
       "  <thead>\n",
       "    <tr style=\"text-align: right;\">\n",
       "      <th></th>\n",
       "      <th>n_estimators</th>\n",
       "      <th>max_depth</th>\n",
       "      <th>accuracy</th>\n",
       "    </tr>\n",
       "  </thead>\n",
       "  <tbody>\n",
       "    <tr>\n",
       "      <th>0</th>\n",
       "      <td>865</td>\n",
       "      <td>51</td>\n",
       "      <td>NaN</td>\n",
       "    </tr>\n",
       "    <tr>\n",
       "      <th>1</th>\n",
       "      <td>111</td>\n",
       "      <td>14</td>\n",
       "      <td>0.696994</td>\n",
       "    </tr>\n",
       "    <tr>\n",
       "      <th>2</th>\n",
       "      <td>705</td>\n",
       "      <td>71</td>\n",
       "      <td>NaN</td>\n",
       "    </tr>\n",
       "    <tr>\n",
       "      <th>3</th>\n",
       "      <td>619</td>\n",
       "      <td>20</td>\n",
       "      <td>0.735863</td>\n",
       "    </tr>\n",
       "    <tr>\n",
       "      <th>4</th>\n",
       "      <td>219</td>\n",
       "      <td>82</td>\n",
       "      <td>0.749753</td>\n",
       "    </tr>\n",
       "    <tr>\n",
       "      <th>5</th>\n",
       "      <td>463</td>\n",
       "      <td>74</td>\n",
       "      <td>0.750953</td>\n",
       "    </tr>\n",
       "    <tr>\n",
       "      <th>6</th>\n",
       "      <td>377</td>\n",
       "      <td>87</td>\n",
       "      <td>0.751209</td>\n",
       "    </tr>\n",
       "    <tr>\n",
       "      <th>7</th>\n",
       "      <td>876</td>\n",
       "      <td>99</td>\n",
       "      <td>NaN</td>\n",
       "    </tr>\n",
       "    <tr>\n",
       "      <th>8</th>\n",
       "      <td>135</td>\n",
       "      <td>23</td>\n",
       "      <td>0.743822</td>\n",
       "    </tr>\n",
       "    <tr>\n",
       "      <th>9</th>\n",
       "      <td>313</td>\n",
       "      <td>21</td>\n",
       "      <td>0.739786</td>\n",
       "    </tr>\n",
       "    <tr>\n",
       "      <th>10</th>\n",
       "      <td>348</td>\n",
       "      <td>1</td>\n",
       "      <td>0.629305</td>\n",
       "    </tr>\n",
       "    <tr>\n",
       "      <th>11</th>\n",
       "      <td>810</td>\n",
       "      <td>29</td>\n",
       "      <td>NaN</td>\n",
       "    </tr>\n",
       "    <tr>\n",
       "      <th>12</th>\n",
       "      <td>196</td>\n",
       "      <td>1</td>\n",
       "      <td>0.629225</td>\n",
       "    </tr>\n",
       "    <tr>\n",
       "      <th>13</th>\n",
       "      <td>281</td>\n",
       "      <td>59</td>\n",
       "      <td>0.750525</td>\n",
       "    </tr>\n",
       "    <tr>\n",
       "      <th>14</th>\n",
       "      <td>464</td>\n",
       "      <td>32</td>\n",
       "      <td>0.750967</td>\n",
       "    </tr>\n",
       "    <tr>\n",
       "      <th>15</th>\n",
       "      <td>26</td>\n",
       "      <td>57</td>\n",
       "      <td>0.736436</td>\n",
       "    </tr>\n",
       "    <tr>\n",
       "      <th>16</th>\n",
       "      <td>565</td>\n",
       "      <td>88</td>\n",
       "      <td>NaN</td>\n",
       "    </tr>\n",
       "    <tr>\n",
       "      <th>17</th>\n",
       "      <td>63</td>\n",
       "      <td>90</td>\n",
       "      <td>0.745355</td>\n",
       "    </tr>\n",
       "    <tr>\n",
       "      <th>18</th>\n",
       "      <td>480</td>\n",
       "      <td>41</td>\n",
       "      <td>NaN</td>\n",
       "    </tr>\n",
       "    <tr>\n",
       "      <th>19</th>\n",
       "      <td>980</td>\n",
       "      <td>59</td>\n",
       "      <td>NaN</td>\n",
       "    </tr>\n",
       "    <tr>\n",
       "      <th>20</th>\n",
       "      <td>194</td>\n",
       "      <td>14</td>\n",
       "      <td>NaN</td>\n",
       "    </tr>\n",
       "    <tr>\n",
       "      <th>21</th>\n",
       "      <td>691</td>\n",
       "      <td>61</td>\n",
       "      <td>NaN</td>\n",
       "    </tr>\n",
       "    <tr>\n",
       "      <th>22</th>\n",
       "      <td>567</td>\n",
       "      <td>61</td>\n",
       "      <td>NaN</td>\n",
       "    </tr>\n",
       "    <tr>\n",
       "      <th>23</th>\n",
       "      <td>248</td>\n",
       "      <td>54</td>\n",
       "      <td>0.750101</td>\n",
       "    </tr>\n",
       "    <tr>\n",
       "      <th>24</th>\n",
       "      <td>509</td>\n",
       "      <td>63</td>\n",
       "      <td>0.751190</td>\n",
       "    </tr>\n",
       "  </tbody>\n",
       "</table>\n",
       "</div>"
      ],
      "text/plain": [
       "   n_estimators max_depth  accuracy\n",
       "0           865        51       NaN\n",
       "1           111        14  0.696994\n",
       "2           705        71       NaN\n",
       "3           619        20  0.735863\n",
       "4           219        82  0.749753\n",
       "5           463        74  0.750953\n",
       "6           377        87  0.751209\n",
       "7           876        99       NaN\n",
       "8           135        23  0.743822\n",
       "9           313        21  0.739786\n",
       "10          348         1  0.629305\n",
       "11          810        29       NaN\n",
       "12          196         1  0.629225\n",
       "13          281        59  0.750525\n",
       "14          464        32  0.750967\n",
       "15           26        57  0.736436\n",
       "16          565        88       NaN\n",
       "17           63        90  0.745355\n",
       "18          480        41       NaN\n",
       "19          980        59       NaN\n",
       "20          194        14       NaN\n",
       "21          691        61       NaN\n",
       "22          567        61       NaN\n",
       "23          248        54  0.750101\n",
       "24          509        63  0.751190"
      ]
     },
     "execution_count": 36,
     "metadata": {},
     "output_type": "execute_result"
    }
   ],
   "source": [
    "# Create DataFrame\n",
    "result_df = pd.DataFrame(\n",
    "    {\n",
    "    'n_estimators': n_estimators,\n",
    "    'max_depth': max_depth,\n",
    "    'accuracy': means, \n",
    "    #'STD': stds,\n",
    "    }\n",
    ")\n",
    "\n",
    "\n",
    "#result_df['lower_band'] = result_df['Accuracy'] - result_df['STD']\n",
    "#result_df['upper_band'] = result_df['Accuracy'] + result_df['STD']\n",
    "\n",
    "result_df"
   ]
  },
  {
   "cell_type": "code",
   "execution_count": 37,
   "metadata": {
    "pycharm": {
     "is_executing": true
    }
   },
   "outputs": [
    {
     "data": {
      "text/html": [
       "<div>\n",
       "<style scoped>\n",
       "    .dataframe tbody tr th:only-of-type {\n",
       "        vertical-align: middle;\n",
       "    }\n",
       "\n",
       "    .dataframe tbody tr th {\n",
       "        vertical-align: top;\n",
       "    }\n",
       "\n",
       "    .dataframe thead th {\n",
       "        text-align: right;\n",
       "    }\n",
       "</style>\n",
       "<table border=\"1\" class=\"dataframe\">\n",
       "  <thead>\n",
       "    <tr style=\"text-align: right;\">\n",
       "      <th></th>\n",
       "      <th>n_estimators</th>\n",
       "      <th>max_depth</th>\n",
       "      <th>accuracy</th>\n",
       "    </tr>\n",
       "  </thead>\n",
       "  <tbody>\n",
       "    <tr>\n",
       "      <th>1</th>\n",
       "      <td>111</td>\n",
       "      <td>14</td>\n",
       "      <td>0.696994</td>\n",
       "    </tr>\n",
       "    <tr>\n",
       "      <th>3</th>\n",
       "      <td>619</td>\n",
       "      <td>20</td>\n",
       "      <td>0.735863</td>\n",
       "    </tr>\n",
       "    <tr>\n",
       "      <th>4</th>\n",
       "      <td>219</td>\n",
       "      <td>82</td>\n",
       "      <td>0.749753</td>\n",
       "    </tr>\n",
       "    <tr>\n",
       "      <th>5</th>\n",
       "      <td>463</td>\n",
       "      <td>74</td>\n",
       "      <td>0.750953</td>\n",
       "    </tr>\n",
       "    <tr>\n",
       "      <th>6</th>\n",
       "      <td>377</td>\n",
       "      <td>87</td>\n",
       "      <td>0.751209</td>\n",
       "    </tr>\n",
       "    <tr>\n",
       "      <th>8</th>\n",
       "      <td>135</td>\n",
       "      <td>23</td>\n",
       "      <td>0.743822</td>\n",
       "    </tr>\n",
       "    <tr>\n",
       "      <th>9</th>\n",
       "      <td>313</td>\n",
       "      <td>21</td>\n",
       "      <td>0.739786</td>\n",
       "    </tr>\n",
       "    <tr>\n",
       "      <th>10</th>\n",
       "      <td>348</td>\n",
       "      <td>1</td>\n",
       "      <td>0.629305</td>\n",
       "    </tr>\n",
       "    <tr>\n",
       "      <th>12</th>\n",
       "      <td>196</td>\n",
       "      <td>1</td>\n",
       "      <td>0.629225</td>\n",
       "    </tr>\n",
       "    <tr>\n",
       "      <th>13</th>\n",
       "      <td>281</td>\n",
       "      <td>59</td>\n",
       "      <td>0.750525</td>\n",
       "    </tr>\n",
       "    <tr>\n",
       "      <th>14</th>\n",
       "      <td>464</td>\n",
       "      <td>32</td>\n",
       "      <td>0.750967</td>\n",
       "    </tr>\n",
       "    <tr>\n",
       "      <th>15</th>\n",
       "      <td>26</td>\n",
       "      <td>57</td>\n",
       "      <td>0.736436</td>\n",
       "    </tr>\n",
       "    <tr>\n",
       "      <th>17</th>\n",
       "      <td>63</td>\n",
       "      <td>90</td>\n",
       "      <td>0.745355</td>\n",
       "    </tr>\n",
       "    <tr>\n",
       "      <th>23</th>\n",
       "      <td>248</td>\n",
       "      <td>54</td>\n",
       "      <td>0.750101</td>\n",
       "    </tr>\n",
       "    <tr>\n",
       "      <th>24</th>\n",
       "      <td>509</td>\n",
       "      <td>63</td>\n",
       "      <td>0.751190</td>\n",
       "    </tr>\n",
       "  </tbody>\n",
       "</table>\n",
       "</div>"
      ],
      "text/plain": [
       "   n_estimators max_depth  accuracy\n",
       "1           111        14  0.696994\n",
       "3           619        20  0.735863\n",
       "4           219        82  0.749753\n",
       "5           463        74  0.750953\n",
       "6           377        87  0.751209\n",
       "8           135        23  0.743822\n",
       "9           313        21  0.739786\n",
       "10          348         1  0.629305\n",
       "12          196         1  0.629225\n",
       "13          281        59  0.750525\n",
       "14          464        32  0.750967\n",
       "15           26        57  0.736436\n",
       "17           63        90  0.745355\n",
       "23          248        54  0.750101\n",
       "24          509        63  0.751190"
      ]
     },
     "execution_count": 37,
     "metadata": {},
     "output_type": "execute_result"
    }
   ],
   "source": [
    "result_df = result_df.dropna()\n",
    "result_df"
   ]
  },
  {
   "cell_type": "code",
   "execution_count": 39,
   "metadata": {},
   "outputs": [
    {
     "data": {
      "text/html": [
       "<div>\n",
       "<style scoped>\n",
       "    .dataframe tbody tr th:only-of-type {\n",
       "        vertical-align: middle;\n",
       "    }\n",
       "\n",
       "    .dataframe tbody tr th {\n",
       "        vertical-align: top;\n",
       "    }\n",
       "\n",
       "    .dataframe thead th {\n",
       "        text-align: right;\n",
       "    }\n",
       "</style>\n",
       "<table border=\"1\" class=\"dataframe\">\n",
       "  <thead>\n",
       "    <tr style=\"text-align: right;\">\n",
       "      <th></th>\n",
       "      <th>n_estimators</th>\n",
       "      <th>max_depth</th>\n",
       "      <th>accuracy</th>\n",
       "    </tr>\n",
       "  </thead>\n",
       "  <tbody>\n",
       "    <tr>\n",
       "      <th>12</th>\n",
       "      <td>196</td>\n",
       "      <td>1</td>\n",
       "      <td>0.629225</td>\n",
       "    </tr>\n",
       "    <tr>\n",
       "      <th>10</th>\n",
       "      <td>348</td>\n",
       "      <td>1</td>\n",
       "      <td>0.629305</td>\n",
       "    </tr>\n",
       "    <tr>\n",
       "      <th>1</th>\n",
       "      <td>111</td>\n",
       "      <td>14</td>\n",
       "      <td>0.696994</td>\n",
       "    </tr>\n",
       "    <tr>\n",
       "      <th>3</th>\n",
       "      <td>619</td>\n",
       "      <td>20</td>\n",
       "      <td>0.735863</td>\n",
       "    </tr>\n",
       "    <tr>\n",
       "      <th>15</th>\n",
       "      <td>26</td>\n",
       "      <td>57</td>\n",
       "      <td>0.736436</td>\n",
       "    </tr>\n",
       "    <tr>\n",
       "      <th>9</th>\n",
       "      <td>313</td>\n",
       "      <td>21</td>\n",
       "      <td>0.739786</td>\n",
       "    </tr>\n",
       "    <tr>\n",
       "      <th>8</th>\n",
       "      <td>135</td>\n",
       "      <td>23</td>\n",
       "      <td>0.743822</td>\n",
       "    </tr>\n",
       "    <tr>\n",
       "      <th>17</th>\n",
       "      <td>63</td>\n",
       "      <td>90</td>\n",
       "      <td>0.745355</td>\n",
       "    </tr>\n",
       "    <tr>\n",
       "      <th>4</th>\n",
       "      <td>219</td>\n",
       "      <td>82</td>\n",
       "      <td>0.749753</td>\n",
       "    </tr>\n",
       "    <tr>\n",
       "      <th>23</th>\n",
       "      <td>248</td>\n",
       "      <td>54</td>\n",
       "      <td>0.750101</td>\n",
       "    </tr>\n",
       "    <tr>\n",
       "      <th>13</th>\n",
       "      <td>281</td>\n",
       "      <td>59</td>\n",
       "      <td>0.750525</td>\n",
       "    </tr>\n",
       "    <tr>\n",
       "      <th>5</th>\n",
       "      <td>463</td>\n",
       "      <td>74</td>\n",
       "      <td>0.750953</td>\n",
       "    </tr>\n",
       "    <tr>\n",
       "      <th>14</th>\n",
       "      <td>464</td>\n",
       "      <td>32</td>\n",
       "      <td>0.750967</td>\n",
       "    </tr>\n",
       "    <tr>\n",
       "      <th>24</th>\n",
       "      <td>509</td>\n",
       "      <td>63</td>\n",
       "      <td>0.751190</td>\n",
       "    </tr>\n",
       "    <tr>\n",
       "      <th>6</th>\n",
       "      <td>377</td>\n",
       "      <td>87</td>\n",
       "      <td>0.751209</td>\n",
       "    </tr>\n",
       "  </tbody>\n",
       "</table>\n",
       "</div>"
      ],
      "text/plain": [
       "   n_estimators max_depth  accuracy\n",
       "12          196         1  0.629225\n",
       "10          348         1  0.629305\n",
       "1           111        14  0.696994\n",
       "3           619        20  0.735863\n",
       "15           26        57  0.736436\n",
       "9           313        21  0.739786\n",
       "8           135        23  0.743822\n",
       "17           63        90  0.745355\n",
       "4           219        82  0.749753\n",
       "23          248        54  0.750101\n",
       "13          281        59  0.750525\n",
       "5           463        74  0.750953\n",
       "14          464        32  0.750967\n",
       "24          509        63  0.751190\n",
       "6           377        87  0.751209"
      ]
     },
     "execution_count": 39,
     "metadata": {},
     "output_type": "execute_result"
    }
   ],
   "source": [
    "result_df.sort_values('accuracy', inplace=True)\n",
    "result_df"
   ]
  },
  {
   "cell_type": "code",
   "execution_count": 40,
   "metadata": {
    "pycharm": {
     "is_executing": true
    }
   },
   "outputs": [],
   "source": [
    "accs = np.column_stack((result_df['n_estimators'].values, result_df['max_depth'].values))"
   ]
  },
  {
   "cell_type": "code",
   "execution_count": 41,
   "metadata": {
    "pycharm": {
     "is_executing": true
    }
   },
   "outputs": [
    {
     "data": {
      "image/png": "[encoded data removed]",
      "text/plain": [
       "<Figure size 1600x1600 with 2 Axes>"
      ]
     },
     "metadata": {},
     "output_type": "display_data"
    }
   ],
   "source": [
    "import matplotlib.pyplot as plt\n",
    "from mpl_toolkits.mplot3d import Axes3D\n",
    "from mpl_toolkits.mplot3d.proj3d import proj_transform\n",
    "import numpy as np\n",
    "\n",
    "result_df = result_df.replace([np.inf, -np.inf], np.nan)\n",
    "\n",
    "# Find the maximum accuracy score and corresponding n_estimators and max_depth\n",
    "max_accuracy = result_df['accuracy'].max()\n",
    "best_point = result_df[result_df['accuracy'] == max_accuracy].iloc[0]\n",
    "n_estimators = best_point['n_estimators']\n",
    "max_depth = best_point['max_depth']\n",
    "\n",
    "# Create a 3D plot of the accuracy as a function of n_estimators and max_depth\n",
    "fig = plt.figure(figsize=(16, 16))\n",
    "ax = fig.add_subplot(111, projection='3d')\n",
    "sc = ax.scatter(result_df['n_estimators'], result_df['max_depth'], result_df['accuracy'], c=result_df['accuracy'], cmap='viridis')\n",
    "ax.set_xlabel('n_estimators', fontsize=14)\n",
    "ax.set_ylabel('max_depth', fontsize=14)\n",
    "ax.set_zlabel('Accuracy', fontsize=14)\n",
    "colorbar = plt.colorbar(sc, shrink=0.5, format='%.2f')\n",
    "colorbar.ax.set_yticklabels(['{:.2f}'.format(x) if x == max_accuracy else '{:.2f}'.format(x) for x in colorbar.get_ticks()])\n",
    "# Annotate the best point with a circle\n",
    "ax.scatter(n_estimators, max_depth, max_accuracy, s=200, edgecolors='r', facecolors='none', linewidth=1)\n",
    "ax.w_xaxis.line.set_lw(0.)\n",
    "ax.w_yaxis.line.set_lw(0.)\n",
    "ax.w_zaxis.line.set_lw(0.)\n",
    "ax.set_facecolor('none')\n",
    "plt.show();\n"
   ]
  },
  {
   "cell_type": "code",
   "execution_count": 51,
   "metadata": {},
   "outputs": [
    {
     "name": "stderr",
     "output_type": "stream",
     "text": [
      "ic| max_accuracy: 0.7512093110899858\n",
      "ic| n_estimators: 377.0\n",
      "ic| max_depth: 87.0\n",
      "ic| best_point: n_estimators    377.000000\n",
      "                max_depth        87.000000\n",
      "                accuracy          0.751209\n",
      "                Name: 6, dtype: float64\n"
     ]
    }
   ],
   "source": [
    "ic(max_accuracy);\n",
    "ic(n_estimators);\n",
    "ic(max_depth);\n",
    "ic(best_point);"
   ]
  },
  {
   "cell_type": "code",
   "execution_count": 42,
   "metadata": {
    "pycharm": {
     "is_executing": true
    }
   },
   "outputs": [
    {
     "name": "stdout",
     "output_type": "stream",
     "text": [
      "743.8 minutes\n"
     ]
    }
   ],
   "source": [
    "t_end = time.time()\n",
    "calculate_duration(t_start, t_end);\n"
   ]
  },
  {
   "attachments": {},
   "cell_type": "markdown",
   "metadata": {},
   "source": [
    "# Export"
   ]
  },
  {
   "cell_type": "code",
   "execution_count": 43,
   "metadata": {
    "pycharm": {
     "is_executing": true
    }
   },
   "outputs": [],
   "source": [
    "# Save the figure\n",
    "if not FASTRUN:\n",
    "     fig.savefig(ROOT_PATH+PATH_DATA_FIG+f'{today}_sensitivity-analysis_RF_n-estimator_max_depth_chart_07.04.png');\n"
   ]
  },
  {
   "cell_type": "code",
   "execution_count": 44,
   "metadata": {
    "pycharm": {
     "is_executing": true
    }
   },
   "outputs": [],
   "source": [
    "if not FASTRUN:\n",
    "    result_df.to_csv(ROOT_PATH+PATH_DATA_REP+f'{today}_sensitivity-analysis_RF__n-estimator_max_depth__table_07.04.csv', index=False);\n"
   ]
  },
  {
   "cell_type": "markdown",
   "metadata": {
    "id": "ti9wgudgBzw9"
   },
   "source": [
    "# Watermark"
   ]
  },
  {
   "cell_type": "code",
   "execution_count": 45,
   "metadata": {
    "id": "f7PuaC1JBzw-",
    "outputId": "aafeadff-3431-44e5-fa8f-d94281a641d6",
    "pycharm": {
     "is_executing": true
    }
   },
   "outputs": [
    {
     "name": "stdout",
     "output_type": "stream",
     "text": [
      "Last updated: 2023-02-24T07:58:30.592409+01:00\n",
      "\n",
      "Python implementation: CPython\n",
      "Python version       : 3.10.8\n",
      "IPython version      : 8.8.0\n",
      "\n",
      "Compiler    : MSC v.1929 64 bit (AMD64)\n",
      "OS          : Windows\n",
      "Release     : 10\n",
      "Machine     : AMD64\n",
      "Processor   : Intel64 Family 6 Model 158 Stepping 13, GenuineIntel\n",
      "CPU cores   : 8\n",
      "Architecture: 64bit\n",
      "\n"
     ]
    }
   ],
   "source": [
    "%watermark"
   ]
  },
  {
   "cell_type": "code",
   "execution_count": 46,
   "metadata": {
    "id": "SU12PVZ2BzxA",
    "outputId": "35145233-ba98-423f-ca77-95011e8cd3af",
    "pycharm": {
     "is_executing": true
    }
   },
   "outputs": [
    {
     "name": "stdout",
     "output_type": "stream",
     "text": [
      "numpy     : 1.24.1\n",
      "seaborn   : 0.12.2\n",
      "pandas    : 1.5.3\n",
      "matplotlib: 3.6.3\n",
      "\n"
     ]
    }
   ],
   "source": [
    "%watermark --iversions"
   ]
  },
  {
   "cell_type": "markdown",
   "metadata": {
    "id": "BdlIIXzYnOiW"
   },
   "source": [
    "-----\n"
   ]
  },
  {
   "cell_type": "code",
   "execution_count": 47,
   "metadata": {
    "pycharm": {
     "is_executing": true
    }
   },
   "outputs": [
    {
     "name": "stderr",
     "output_type": "stream",
     "text": [
      "[NbConvertApp] Converting notebook 08.04_sensitivity_analysis_RF-n_est_and_max_depth.ipynb to html\n",
      "[NbConvertApp] Writing 659243 bytes to ..\\reports\\html\\2023-02-23_08.04_sensitivity_analysis_RF-n_est_and_max_depth.html\n"
     ]
    }
   ],
   "source": [
    "output_file = f'{ROOT_PATH}{PATH_DATA_HTML}{today}_07.04_model_evaluation_sensitivity_analysis_RF-n_est_and_max_depth.html'\n",
    "!jupyter nbconvert --to html \"07.04_model_evaluation_sensitivity_analysis_RF-n_est_and_max_depth.ipynb\" --output {output_file}"
   ]
  }
 ],
 "metadata": {
  "colab": {
   "provenance": []
  },
  "deepnote": {},
  "deepnote_app_layout": "article",
  "deepnote_execution_queue": [],
  "deepnote_notebook_id": "9a9c04096ce744f096ec4c3e58773e56",
  "deepnote_persisted_session": {
   "createdAt": "2023-01-25T20:01:30.909Z"
  },
  "kernelspec": {
   "display_name": "siads696",
   "language": "python",
   "name": "python3"
  },
  "language_info": {
   "codemirror_mode": {
    "name": "ipython",
    "version": 3
   },
   "file_extension": ".py",
   "mimetype": "text/x-python",
   "name": "python",
   "nbconvert_exporter": "python",
   "pygments_lexer": "ipython3",
   "version": "3.10.8"
  },
  "vscode": {
   "interpreter": {
    "hash": "59ddafbde2cbc9f409f11cc6baa3199b0fa959330484e34d0262718829943402"
   }
  }
 },
 "nbformat": 4,
 "nbformat_minor": 0
}
