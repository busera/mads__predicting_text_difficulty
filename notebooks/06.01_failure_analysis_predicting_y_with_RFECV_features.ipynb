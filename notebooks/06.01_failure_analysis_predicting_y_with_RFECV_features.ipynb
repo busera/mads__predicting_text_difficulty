{
 "cells": [
  {
   "cell_type": "markdown",
   "metadata": {
    "id": "SEtmXVKNd36B"
   },
   "source": [
    "v1.1"
   ]
  },
  {
   "attachments": {},
   "cell_type": "markdown",
   "metadata": {
    "cell_id": "efd0a6ae80ff4b0eb7aaa66c202b201f",
    "deepnote_app_coordinates": {
     "h": 5,
     "w": 12,
     "x": 0,
     "y": 31
    },
    "deepnote_cell_type": "markdown",
    "id": "wd0JhzeqBzw0"
   },
   "source": [
    "The objective of this notebook is to: \n",
    "  - calculate the accuracy score with the selected features from the **RFECV** step\n",
    "  - predict the y with **cross_val_predict** and add it to the original df_train dataframe for the **failure analysis**\n",
    "  - The outcome is primarily used for the **failure analysis**"
   ]
  },
  {
   "cell_type": "markdown",
   "metadata": {
    "id": "DOMqd-wCd36L"
   },
   "source": [
    "# Pre-Checks"
   ]
  },
  {
   "cell_type": "code",
   "execution_count": null,
   "metadata": {
    "id": "CI3ZQWF5kc-8"
   },
   "outputs": [],
   "source": [
    "import time\n",
    "t_start = time.time()\n"
   ]
  },
  {
   "cell_type": "code",
   "execution_count": null,
   "metadata": {
    "colab": {
     "base_uri": "https://localhost:8080/"
    },
    "executionInfo": {
     "elapsed": 4044,
     "status": "ok",
     "timestamp": 1675750810778,
     "user": {
      "displayName": "Andre Buser",
      "userId": "11618601900135679464"
     },
     "user_tz": -60
    },
    "id": "2eUQpe7Ekc-7",
    "outputId": "5459f2d8-e1ac-43d8-e304-f98af688cd9c"
   },
   "outputs": [
    {
     "name": "stdout",
     "output_type": "stream",
     "text": [
      "Not a Goolge Drive Environment.\n"
     ]
    }
   ],
   "source": [
    "## Check for Google Drive Connectivity\n",
    "try:\n",
    "    from google.colab import drive\n",
    "    drive.mount('/content/drive')\n",
    "    google_env = True\n",
    "except:\n",
    "    print(\"Not a Goolge Drive Environment.\")\n",
    "    google_env = False\n"
   ]
  },
  {
   "cell_type": "code",
   "execution_count": null,
   "metadata": {
    "colab": {
     "base_uri": "https://localhost:8080/"
    },
    "executionInfo": {
     "elapsed": 9,
     "status": "ok",
     "timestamp": 1675750810779,
     "user": {
      "displayName": "Andre Buser",
      "userId": "11618601900135679464"
     },
     "user_tz": -60
    },
    "id": "RIEGBEhBkc-9",
    "outputId": "08f1c67f-4b5e-41c5-a71e-a08e0d32579c"
   },
   "outputs": [
    {
     "name": "stdout",
     "output_type": "stream",
     "text": [
      "========================================================================================================================\n",
      "Fastrun enabled: False\n",
      "========================================================================================================================\n"
     ]
    }
   ],
   "source": [
    "# Use parameters to enable/disable the fastrun\n",
    "\n",
    "FASTRUN = False\n",
    "#FASTRUN = True\n",
    "\n",
    "# Size of the fastrun dataframe\n",
    "sample_fraction = 0.01\n",
    "print(\"===\"*40)\n",
    "print(\"Fastrun enabled:\", FASTRUN)\n",
    "if FASTRUN: print(\"Sample size:\",sample_fraction)\n",
    "print(\"===\"*40)\n"
   ]
  },
  {
   "cell_type": "markdown",
   "metadata": {
    "cell_id": "ce4b2a40079140debe6cb9f7ba8ba566",
    "deepnote_app_coordinates": {
     "h": 5,
     "w": 12,
     "x": 0,
     "y": 37
    },
    "deepnote_cell_type": "markdown",
    "id": "uZms1pauBzw0"
   },
   "source": [
    "# Setup Environment"
   ]
  },
  {
   "cell_type": "markdown",
   "metadata": {
    "cell_id": "6993a186ce3a4ca9bdeb521dc67fef84",
    "deepnote_app_coordinates": {
     "h": 5,
     "w": 12,
     "x": 0,
     "y": 43
    },
    "deepnote_cell_type": "markdown",
    "id": "FSazCCmDbqKg"
   },
   "source": [
    "## Install Modules"
   ]
  },
  {
   "cell_type": "code",
   "execution_count": null,
   "metadata": {
    "cell_id": "e808b393977d4a1eba12a8239b2fa1bc",
    "deepnote_app_coordinates": {
     "h": 5,
     "w": 12,
     "x": 0,
     "y": 49
    },
    "deepnote_cell_type": "code",
    "deepnote_to_be_reexecuted": false,
    "execution_millis": 12053,
    "execution_start": 1674675029196,
    "id": "1Vo8zBrWbqKg",
    "source_hash": "9d62d529"
   },
   "outputs": [],
   "source": [
    "# Required to document module versions\n",
    "#!pip install catboost\n",
    "#!pip install xgboost\n",
    "#!pip install icecream\n",
    "#!pip install watermark\n",
    "#!pip install fastparquet"
   ]
  },
  {
   "cell_type": "markdown",
   "metadata": {
    "cell_id": "cf5fb44122cb45dcb27e113023a329bd",
    "deepnote_app_coordinates": {
     "h": 5,
     "w": 12,
     "x": 0,
     "y": 55
    },
    "deepnote_cell_type": "markdown",
    "id": "hHwYAoFSBzw1"
   },
   "source": [
    "## Import Modules"
   ]
  },
  {
   "cell_type": "code",
   "execution_count": null,
   "metadata": {
    "cell_id": "b51f954d03a54e45a7fcf884c28fa560",
    "deepnote_app_coordinates": {
     "h": 5,
     "w": 12,
     "x": 0,
     "y": 61
    },
    "deepnote_cell_type": "code",
    "deepnote_to_be_reexecuted": false,
    "execution_millis": 6,
    "execution_start": 1674675041654,
    "id": "nbk1jSYhBzw2",
    "source_hash": "e8c749b7"
   },
   "outputs": [],
   "source": [
    "# Base libraries\n",
    "import os\n",
    "from datetime import date\n",
    "\n",
    "# Scientific libraries\n",
    "import numpy as np\n",
    "import pandas as pd\n",
    "\n",
    "# Visualization\n",
    "import seaborn as sns\n",
    "import matplotlib.pyplot as plt\n",
    "sns.set(rc={'figure.figsize':(15,8)})\n",
    "sns.set(font_scale=0.8)\n",
    "\n",
    "# Helper libraries\n",
    "from watermark import watermark\n",
    "from icecream import ic\n",
    "import gc # garbage collection to optimize memory usage: use \"gc.collect()\"\n",
    "import warnings\n",
    "warnings.filterwarnings('ignore')\n",
    "\n",
    "# Pandas options\n",
    "pd.set_option('display.max_rows', None)\n",
    "pd.set_option('display.max_columns', None)\n",
    "pd.set_option('display.width', None)\n",
    "pd.set_option('display.max_colwidth', None)\n",
    "\n",
    "from IPython.core.interactiveshell import InteractiveShell\n",
    "InteractiveShell.ast_node_interactivity = 'all'\n",
    "\n",
    "# Load magic commands\n",
    "%load_ext watermark\n"
   ]
  },
  {
   "cell_type": "markdown",
   "metadata": {
    "cell_id": "357d4ec7e4dc4b5cb00a9d4784820af3",
    "deepnote_app_coordinates": {
     "h": 5,
     "w": 12,
     "x": 0,
     "y": 67
    },
    "deepnote_cell_type": "markdown",
    "id": "C46IJ3IeBzw5"
   },
   "source": [
    "## Global Parameters"
   ]
  },
  {
   "cell_type": "code",
   "execution_count": null,
   "metadata": {
    "cell_id": "12276e6eeba84ec8b054fb0e74567396",
    "deepnote_app_coordinates": {
     "h": 5,
     "w": 12,
     "x": 0,
     "y": 73
    },
    "deepnote_cell_type": "code",
    "deepnote_to_be_reexecuted": false,
    "execution_millis": 0,
    "execution_start": 1674675046415,
    "id": "rVPFKtMUBzw6",
    "source_hash": "f985c896"
   },
   "outputs": [],
   "source": [
    "seed = 42\n",
    "cpu_count = os.cpu_count()\n",
    "cpu_count = cpu_count-2  # if we want to keep machine responsive when fitting the models, otherwise -1\n"
   ]
  },
  {
   "cell_type": "markdown",
   "metadata": {
    "id": "mDx2BguMkc-_"
   },
   "source": [
    "## Global Helper Functions"
   ]
  },
  {
   "cell_type": "code",
   "execution_count": null,
   "metadata": {
    "id": "Il-pqmRykc-_"
   },
   "outputs": [],
   "source": [
    "import http.client\n",
    "import urllib\n",
    "\n",
    "\n",
    "def send_push(message):\n",
    "    \"\"\"Send push notifications to pushover service.\"\"\"\n",
    "    try:\n",
    "        conn = http.client.HTTPSConnection(\"api.pushover.net:443\")\n",
    "        conn.request(\"POST\", \"/1/messages.json\",\n",
    "                     urllib.parse.urlencode({\n",
    "                         \"token\": \"ahs1q4mwpnxe3645zeaqzas69whq7a\",  # ML Notifications Channel\n",
    "                         \"user\": \"u5vr1qkc9ghudg2ehuug153okeiz1d\",\n",
    "                         \"message\": message,\n",
    "                     }), {\"Content-type\": \"application/x-www-form-urlencoded\"})\n",
    "\n",
    "        conn.getresponse()\n",
    "\n",
    "    except:\n",
    "        print(\"There was a communication issue (pushover).\")\n"
   ]
  },
  {
   "cell_type": "code",
   "execution_count": null,
   "metadata": {
    "id": "rJ0Sdx7Ukc-_"
   },
   "outputs": [],
   "source": [
    "def fast_run_sampling(df, sample_fraction):\n",
    "    \"\"\"Return a fraction of the dataset.\"\"\"\n",
    "    print(\"Labels before sampling:\\n\", df['label'].value_counts())\n",
    "    df = df.groupby('label').sample(frac=sample_fraction, random_state=seed)\n",
    "    # df = df.sample(n=sample_size, random_state=seed).reset_index(drop=True)\n",
    "    print(\"Labels after sampling:\\n\", df['label'].value_counts())\n",
    "    return df\n"
   ]
  },
  {
   "cell_type": "code",
   "execution_count": null,
   "metadata": {
    "id": "pdZYDndAd36Q"
   },
   "outputs": [],
   "source": [
    "def calculate_duration(t_start, t_end):\n",
    "    total_runtime = t_end-t_start\n",
    "    total_runtime_min = round((total_runtime/60),2)\n",
    "    print(str(total_runtime_min)+\" minutes\")\n",
    "    return total_runtime_min\n"
   ]
  },
  {
   "cell_type": "markdown",
   "metadata": {
    "cell_id": "2ef4055272a24692b1340494025c9627",
    "deepnote_app_coordinates": {
     "h": 5,
     "w": 12,
     "x": 0,
     "y": 79
    },
    "deepnote_cell_type": "markdown",
    "id": "6YBbHzbqBzw8"
   },
   "source": [
    "# Load Data"
   ]
  },
  {
   "cell_type": "code",
   "execution_count": null,
   "metadata": {
    "id": "K4kxYFVsd36Q",
    "outputId": "9bf1bf63-cf71-4b95-db13-7511cf0e9917"
   },
   "outputs": [
    {
     "name": "stdout",
     "output_type": "stream",
     "text": [
      "Not a Google Drive Environment. Loading local files.\n"
     ]
    }
   ],
   "source": [
    "# Load Data\n",
    "if google_env:\n",
    "    # Location for \"shared with\" people\n",
    "    # create a shortcut of the shared folder in your Google Drive root folder\n",
    "    ROOT_PATH = \"/content/drive/MyDrive/SIADS696/Environment/\"\n",
    "else:\n",
    "    ROOT_PATH = \"../\"\n",
    "    print(\"Not a Google Drive Environment. Loading local files.\")\n",
    "\n",
    "PATH_DATA = \"data/\"\n",
    "PATH_DATA_RAW = \"data/raw/\"\n",
    "PATH_DATA_INT = \"data/interim/\"\n",
    "PATH_DATA_PRO = \"data/processed/\"\n",
    "PATH_DATA_MOD = \"models/\"\n",
    "PATH_DATA_REP = \"reports/\"\n",
    "\n",
    "# Dictionary to store file names and their corresponding dataframes\n",
    "files = {\n",
    "    \"train_features_clean_stats.parquet.gzip\": \"df_wiki_train_stats\",\n",
    "    \"test_features_clean_stats.parquet.gzip\": \"df_wiki_test_stats\",\n",
    "    \"train_features_rs.parquet.gzip\": \"df_wiki_train_rs\",\n",
    "    \"test_features_rs.parquet.gzip\": \"df_wiki_test_rs\",\n",
    "    \"train_features_nltk.parquet.gzip\": \"df_wiki_train_nltk\",\n",
    "    \"test_features_nltk.parquet.gzip\": \"df_wiki_test_nltk\",\n",
    "    \"train_features_aoa.parquet.gzip\": \"df_wiki_train_aoa\",\n",
    "    \"test_features_aoa.parquet.gzip\": \"df_wiki_test_aoa\",\n",
    "    \"train_features_crb.parquet.gzip\": \"df_wiki_train_crb\",\n",
    "    \"test_features_crb.parquet.gzip\": \"df_wiki_test_crb\",\n",
    "    \"train_features_w2v.parquet.gzip\": \"df_wiki_train_w2v\",\n",
    "    \"test_features_w2v.parquet.gzip\": \"df_wiki_test_w2v\",\n",
    "   # \"train_mNB_predict.parquet.gzip\": \"df_wiki_train_MNB\",  # data leakage risk\n",
    "   # \"test_mNB_predict.parquet.gzip\": \"df_wiki_test_MNB\",    # data leakage risk\n",
    "}\n",
    "\n",
    "# Load data into corresponding dataframes\n",
    "for file, df_name in files.items():\n",
    "    if df_name not in globals():\n",
    "        globals()[df_name] = pd.read_parquet(ROOT_PATH + PATH_DATA_INT + file)\n"
   ]
  },
  {
   "cell_type": "code",
   "execution_count": null,
   "metadata": {
    "id": "InUfObk5d36R",
    "outputId": "af35df3d-e88e-4ed9-ea08-d6a98ee0f53a"
   },
   "outputs": [
    {
     "name": "stderr",
     "output_type": "stream",
     "text": [
      "ic| df_train.shape: (416768, 155)\n"
     ]
    }
   ],
   "source": [
    "# Combine the training dataframes into a single dataframe\n",
    "df_train = pd.DataFrame()\n",
    "df_train = pd.concat([df_train,\n",
    "                      df_wiki_train_stats,\n",
    "                      df_wiki_train_rs,\n",
    "                      df_wiki_train_nltk,\n",
    "                      df_wiki_train_aoa,\n",
    "                      df_wiki_train_crb,\n",
    "                      df_wiki_train_w2v,\n",
    "                      ], axis=1)\n",
    "\n",
    "if FASTRUN:\n",
    "    df_train = fast_run_sampling(df_train, sample_fraction)\n",
    "\n",
    "ic(df_train.shape);\n"
   ]
  },
  {
   "cell_type": "code",
   "execution_count": null,
   "metadata": {
    "id": "lv4kAk2gd36R",
    "outputId": "d0ed324f-3598-4d00-ff94-a374d5cb86d8"
   },
   "outputs": [
    {
     "name": "stderr",
     "output_type": "stream",
     "text": [
      "ic| len(rfecv_selected_feature_list): 125\n"
     ]
    }
   ],
   "source": [
    "df_rfecv_selected_feature = pd.read_csv(ROOT_PATH+PATH_DATA_INT+\"RFECV10-RF-selected_features-table_04.02.csv\")\n",
    "rfecv_selected_feature_list = sorted(df_rfecv_selected_feature['Selected Features'].to_list())\n",
    "ic(len(rfecv_selected_feature_list));\n"
   ]
  },
  {
   "cell_type": "code",
   "execution_count": null,
   "metadata": {
    "id": "fAd6NdDad36R",
    "outputId": "f61410dd-069a-4f73-8306-1ffc2dc9b206"
   },
   "outputs": [
    {
     "name": "stdout",
     "output_type": "stream",
     "text": [
      "['aoa_aoa_bird_lem_max', 'aoa_aoa_bird_lem_mean', 'aoa_aoa_bird_lem_min', 'aoa_aoa_bird_lem_sum', 'aoa_aoa_bristol_lem_max', 'aoa_aoa_bristol_lem_mean', 'aoa_aoa_bristol_lem_min', 'aoa_aoa_bristol_lem_sum', 'aoa_aoa_cort_lem_max', 'aoa_aoa_cort_lem_mean', 'aoa_aoa_cort_lem_min', 'aoa_aoa_cort_lem_sum', 'aoa_aoa_kup_lem_max', 'aoa_aoa_kup_lem_mean', 'aoa_aoa_kup_lem_min', 'aoa_aoa_kup_lem_sum', 'aoa_aoa_kup_max', 'aoa_aoa_kup_mean', 'aoa_aoa_kup_min', 'aoa_aoa_kup_sum', 'aoa_aoa_schock_max', 'aoa_aoa_schock_mean', 'aoa_aoa_schock_min', 'aoa_aoa_schock_sum', 'aoa_dom_pos_subtlex_max', 'aoa_dom_pos_subtlex_mean', 'aoa_dom_pos_subtlex_min', 'aoa_dom_pos_subtlex_sum', 'aoa_freq_pm_max', 'aoa_freq_pm_mean', 'aoa_freq_pm_min', 'aoa_freq_pm_sum', 'aoa_perc_known_lem_mean', 'aoa_perc_known_lem_min', 'aoa_perc_known_lem_sum', 'aoa_perc_known_mean', 'aoa_perc_known_min', 'aoa_perc_known_sum', 'crb_concm_mean', 'crb_concm_sum', 'crb_concsd_mean', 'crb_concsd_sum', 'crb_perc_known_sum', 'crb_subtlex_mean', 'crb_subtlex_sum', 'nltk_pos_CC', 'nltk_pos_CD', 'nltk_pos_DT', 'nltk_pos_FW', 'nltk_pos_IN', 'nltk_pos_JJ', 'nltk_pos_JJR', 'nltk_pos_JJS', 'nltk_pos_MD', 'nltk_pos_NN', 'nltk_pos_NNS', 'nltk_pos_PRP', 'nltk_pos_PRP$', 'nltk_pos_RB', 'nltk_pos_TO', 'nltk_pos_VB', 'nltk_pos_VBD', 'nltk_pos_VBG', 'nltk_pos_VBN', 'nltk_pos_VBP', 'nltk_pos_VBZ', 'nltk_pos_WDT', 'nltk_pos_WP', 'nltk_pos_WRB', 'nltk_stopwords_count', 'rs_ari_all1', 'rs_ari_all2', 'rs_ari_en1', 'rs_ari_en2', 'rs_automated_readability_index_all', 'rs_automated_readability_index_en', 'rs_coleman_liau_index_en', 'rs_dale_chall_readability_score1_en', 'rs_dale_chall_readability_score2_en', 'rs_difficult_words_en', 'rs_flesch_kincaid_grade_en', 'rs_flesch_reading_ease_multi', 'rs_fre_multi1', 'rs_fre_multi2', 'rs_gunning_fog_en', 'rs_linsear_write_formula_en', 'rs_lix1', 'rs_lix2', 'rs_lix_all', 'rs_rix1', 'rs_rix2', 'rs_rix_all', 'rs_spache_readability_en', 'rs_text_standard_en', 'stats_avg_char_per_word', 'stats_avg_chars_word', 'stats_avg_letter_per_word', 'stats_avg_syllables_word', 'stats_char_count', 'stats_comma_count', 'stats_equalsign_count', 'stats_frac_long_word', 'stats_frac_mini_word', 'stats_frac_monosyllable', 'stats_frac_polysyllable', 'stats_frac_word_comma', 'stats_language_no', 'stats_letter_count', 'stats_lexical_diversity', 'stats_long_word_count', 'stats_lrb_count', 'stats_max_chars_word', 'stats_max_syllables_word', 'stats_mini_word_count', 'stats_monosyllab_count', 'stats_polysyllab_count', 'stats_reading_time', 'stats_rrb_count', 'stats_sentence_length', 'stats_syllable_avg', 'stats_syllable_count', 'stats_word_count', 'w2v_ft_sen2vec_mean', 'w2v_ft_word2vec_mean', 'w2v_gen_avg_word2vec_mean']\n"
     ]
    }
   ],
   "source": [
    "print(rfecv_selected_feature_list)\n"
   ]
  },
  {
   "cell_type": "code",
   "execution_count": null,
   "metadata": {
    "id": "cXmh_mI3d36S",
    "outputId": "ad6e080f-8408-407d-fbe1-a4ac319c6cda"
   },
   "outputs": [
    {
     "name": "stderr",
     "output_type": "stream",
     "text": [
      "ic| df_failure_analysis.shape: (416768, 128)\n"
     ]
    }
   ],
   "source": [
    "df_failure_analysis = df_train[rfecv_selected_feature_list].copy()  # required to add the y_pred and to perform the failure analysis\n",
    "df_failure_analysis['label'] = df_train['label'].copy()\n",
    "df_failure_analysis['original_text'] = df_train['original_text'].copy()\n",
    "df_failure_analysis['cleaned_text'] = df_train['cleaned_text'].copy()\n",
    "ic(df_failure_analysis.shape);"
   ]
  },
  {
   "cell_type": "markdown",
   "metadata": {
    "cell_id": "7ecad741e37f4885a299146c8cda9633",
    "deepnote_app_coordinates": {
     "h": 5,
     "w": 12,
     "x": 0,
     "y": 115
    },
    "deepnote_cell_type": "markdown",
    "id": "CL9zJrfHr_iA"
   },
   "source": [
    "# Predict"
   ]
  },
  {
   "cell_type": "code",
   "execution_count": null,
   "metadata": {
    "id": "rDk2gqIRkc_C"
   },
   "outputs": [],
   "source": [
    "from sklearn.model_selection import cross_val_predict\n",
    "from sklearn.model_selection import cross_val_score\n",
    "from sklearn.model_selection import train_test_split\n",
    "\n",
    "from sklearn.ensemble import RandomForestClassifier\n",
    "\n",
    "from sklearn.preprocessing import MinMaxScaler\n",
    "from sklearn.model_selection import StratifiedKFold\n",
    "from sklearn.metrics import accuracy_score\n"
   ]
  },
  {
   "cell_type": "code",
   "execution_count": null,
   "metadata": {
    "id": "DLqok6jwd36S",
    "outputId": "d86d5fbf-bedf-4c30-ac38-edc3f81962cd"
   },
   "outputs": [
    {
     "name": "stderr",
     "output_type": "stream",
     "text": [
      "ic| X.shape: (416768, 151)\n",
      "ic| X_selected.shape: (416768, 125)\n",
      "ic| y.shape: (416768,)\n"
     ]
    }
   ],
   "source": [
    "X_columns_train = df_train.columns.to_list()\n",
    "X_columns_train = list(set(X_columns_train) -\n",
    "                       {\"label\", \"original_text\", \"cleaned_text\", \"stats_language_code\"})\n",
    "\n",
    "X = df_train[X_columns_train].copy()\n",
    "X_selected = df_train[rfecv_selected_feature_list].copy()\n",
    "y = df_train[\"label\"]\n",
    "\n",
    "ic(X.shape);\n",
    "ic(X_selected.shape);\n",
    "ic(y.shape);\n"
   ]
  },
  {
   "cell_type": "code",
   "execution_count": null,
   "metadata": {
    "id": "SZ5eEZXSd36S"
   },
   "outputs": [],
   "source": [
    "k=10\n",
    "skfold = StratifiedKFold(n_splits=k)\n",
    "rf = RandomForestClassifier(random_state=seed, n_jobs=-1)\n"
   ]
  },
  {
   "cell_type": "code",
   "execution_count": null,
   "metadata": {
    "id": "1u9mdS0Md36S",
    "outputId": "592bda61-bc47-4d26-dfdb-32fedcfd1095"
   },
   "outputs": [
    {
     "name": "stderr",
     "output_type": "stream",
     "text": [
      "ic| mean_acc: 0.7490882214565235\n"
     ]
    }
   ],
   "source": [
    "# Use/test cross_val_score with all features as a reference score\n",
    "gc.collect()\n",
    "scaler = MinMaxScaler((0,1))\n",
    "X_scaled = scaler.fit_transform(X)\n",
    "\n",
    "scores = cross_val_score(rf, X_scaled, y, cv=skfold)\n",
    "mean_acc = scores.mean()\n",
    "\n",
    "ic(mean_acc);\n"
   ]
  },
  {
   "cell_type": "code",
   "execution_count": null,
   "metadata": {
    "id": "an25Z6hxd36T",
    "outputId": "13d8cc2c-7929-4108-d428-8e4af58da03f"
   },
   "outputs": [
    {
     "name": "stderr",
     "output_type": "stream",
     "text": [
      "ic| acc: 0.7112076205101135\n"
     ]
    }
   ],
   "source": [
    "# Use/test train_test_split with selected features\n",
    "gc.collect()\n",
    "X_train, X_test, y_train, y_test = train_test_split(\n",
    "    X_selected, y, test_size=0.3, stratify=y, random_state=seed)\n",
    "\n",
    "scaler = MinMaxScaler((0, 1))\n",
    "X_train_scaled = scaler.fit_transform(X_train)\n",
    "X_test_scaled = scaler.transform(X_test)\n",
    "\n",
    "_ = rf.fit(X_train_scaled, y_train)\n",
    "y_pred = rf.predict(X_test_scaled)\n",
    "acc = accuracy_score(y_test, y_pred)\n",
    "\n",
    "ic(acc);\n"
   ]
  },
  {
   "cell_type": "code",
   "execution_count": null,
   "metadata": {
    "id": "8MgqL6yjd36T",
    "outputId": "a558ac58-fef1-44a6-f93c-62f823827e4b"
   },
   "outputs": [
    {
     "name": "stderr",
     "output_type": "stream",
     "text": [
      "ic| mean_acc: 0.7487379075857312\n"
     ]
    }
   ],
   "source": [
    "# Use/test cross_val_score with selected features\n",
    "gc.collect()\n",
    "scaler = MinMaxScaler((0,1))\n",
    "X_selected_scaled = scaler.fit_transform(X_selected)\n",
    "\n",
    "scores = cross_val_score(rf, X_selected_scaled, y, cv=skfold)\n",
    "mean_acc = scores.mean()\n",
    "\n",
    "ic(mean_acc);\n"
   ]
  },
  {
   "cell_type": "code",
   "execution_count": null,
   "metadata": {
    "id": "5SCC9f2md36T",
    "outputId": "43aee893-9350-4a5a-9de1-e9ea2b2ec94c"
   },
   "outputs": [
    {
     "name": "stderr",
     "output_type": "stream",
     "text": [
      "ic| acc: 0.7487355075245701\n"
     ]
    }
   ],
   "source": [
    "# Use/test cross_val_predict with selected features\n",
    "gc.collect()\n",
    "scaler = MinMaxScaler((0,1))\n",
    "X_selected_scaled = scaler.fit_transform(X_selected)\n",
    "\n",
    "y_pred = cross_val_predict(rf, X_selected_scaled, y, cv=skfold)\n",
    "acc = accuracy_score(y, y_pred)\n",
    "\n",
    "ic(acc);\n"
   ]
  },
  {
   "cell_type": "code",
   "execution_count": null,
   "metadata": {
    "id": "Rsg0u5JLd36U",
    "outputId": "a99e608a-0cc1-4d4b-8f66-afaecc39d1a0"
   },
   "outputs": [
    {
     "data": {
      "text/plain": [
       "1    214229\n",
       "0    202539\n",
       "Name: y_pred, dtype: int64"
      ]
     },
     "execution_count": 23,
     "metadata": {},
     "output_type": "execute_result"
    }
   ],
   "source": [
    "df_failure_analysis['y_pred'] = y_pred          # Use y_pred from cross_val_predict\n",
    "df_failure_analysis['y_pred'].value_counts()    # Checking if not only one label was predicted\n"
   ]
  },
  {
   "cell_type": "code",
   "execution_count": null,
   "metadata": {
    "id": "cJU3omxrd36U",
    "outputId": "6c5f8a86-cd64-43b5-857d-c7ae787cb47e"
   },
   "outputs": [
    {
     "name": "stdout",
     "output_type": "stream",
     "text": [
      "14.6 minutes\n"
     ]
    }
   ],
   "source": [
    "t_end = time.time()\n",
    "calculate_duration(t_start, t_end);\n"
   ]
  },
  {
   "cell_type": "markdown",
   "metadata": {
    "id": "rlDK8CPqd36U"
   },
   "source": [
    "# Export"
   ]
  },
  {
   "cell_type": "code",
   "execution_count": null,
   "metadata": {
    "id": "8lge2J56d36V"
   },
   "outputs": [],
   "source": [
    "today = date.today()\n"
   ]
  },
  {
   "cell_type": "code",
   "execution_count": null,
   "metadata": {
    "id": "Vl6NnEGTd36V"
   },
   "outputs": [],
   "source": [
    "if not FASTRUN:\n",
    "    df_failure_analysis.to_csv(\n",
    "        ROOT_PATH+PATH_DATA_REP+f\"{today}_RF_base_model_RFECV_features_yresults_for_failure_analysis.csv\", index=False)\n",
    "    df_failure_analysis.to_parquet(\n",
    "        ROOT_PATH+PATH_DATA_INT+f\"RF_base_model_RFECV_features_results_for_failure_analysis.parquet.gzip\", compression='gzip')\n"
   ]
  },
  {
   "cell_type": "markdown",
   "metadata": {
    "cell_id": "7cff3bd86533418a9c15c4f9dfcccde6",
    "deepnote_app_coordinates": {
     "h": 5,
     "w": 12,
     "x": 0,
     "y": 235
    },
    "deepnote_cell_type": "markdown",
    "id": "ti9wgudgBzw9"
   },
   "source": [
    "# Watermark"
   ]
  },
  {
   "cell_type": "code",
   "execution_count": null,
   "metadata": {
    "cell_id": "45a6cb036a284a63a571810ee439aeae",
    "deepnote_app_coordinates": {
     "h": 5,
     "w": 12,
     "x": 0,
     "y": 241
    },
    "deepnote_cell_type": "code",
    "deepnote_to_be_reexecuted": true,
    "execution_millis": 42,
    "execution_start": 1674563448577,
    "id": "f7PuaC1JBzw-",
    "outputId": "4e9a8dc5-745e-438e-fc3f-9588458205b2",
    "source_hash": "ee060237"
   },
   "outputs": [
    {
     "name": "stdout",
     "output_type": "stream",
     "text": [
      "Last updated: 2023-02-24T23:25:31.504991+01:00\n",
      "\n",
      "Python implementation: CPython\n",
      "Python version       : 3.9.0\n",
      "IPython version      : 8.9.0\n",
      "\n",
      "Compiler    : Clang 11.0.0 \n",
      "OS          : Darwin\n",
      "Release     : 22.3.0\n",
      "Machine     : arm64\n",
      "Processor   : arm\n",
      "CPU cores   : 10\n",
      "Architecture: 64bit\n",
      "\n"
     ]
    }
   ],
   "source": [
    "%watermark"
   ]
  },
  {
   "cell_type": "code",
   "execution_count": null,
   "metadata": {
    "cell_id": "49184b42a9124b75992040c1edb02f3f",
    "deepnote_app_coordinates": {
     "h": 5,
     "w": 12,
     "x": 0,
     "y": 247
    },
    "deepnote_cell_type": "code",
    "deepnote_to_be_reexecuted": true,
    "execution_millis": 37,
    "execution_start": 1674563451701,
    "id": "SU12PVZ2BzxA",
    "outputId": "3cba7831-a89d-4c2a-87c1-d969df29249d",
    "source_hash": "82959e25"
   },
   "outputs": [
    {
     "name": "stdout",
     "output_type": "stream",
     "text": [
      "seaborn   : 0.12.2\n",
      "matplotlib: 3.6.3\n",
      "numpy     : 1.23.5\n",
      "pandas    : 1.5.3\n",
      "\n"
     ]
    }
   ],
   "source": [
    "%watermark --iversions"
   ]
  },
  {
   "cell_type": "markdown",
   "metadata": {
    "id": "3nRRGaq2d36W"
   },
   "source": [
    "***"
   ]
  },
  {
   "cell_type": "code",
   "execution_count": null,
   "metadata": {
    "id": "y2RzayTbd36W",
    "outputId": "24ebcddb-0542-4818-ac1c-8b563ff7e73f"
   },
   "outputs": [
    {
     "name": "stdout",
     "output_type": "stream",
     "text": [
      "[NbConvertApp] Converting notebook 05.01_failure_analysis_RF_with_RFECV_features_GC.ipynb to html\n",
      "[NbConvertApp] Writing 640846 bytes to ../reports/html/2023-02-24_05.01_failure_analysis_RF_with_RFECV_features_GC.html\n"
     ]
    }
   ],
   "source": [
    "output_file = f'{ROOT_PATH}{PATH_DATA_REP}/html/{today}_06.01_failure_analysis_predicting_y_with_RFECV_features.html'\n",
    "!jupyter nbconvert --to html \"06.01_failure_analysis_predicting_y_with_RFECV_features.ipynb\" --output {output_file}"
   ]
  }
 ],
 "metadata": {
  "colab": {
   "collapsed_sections": [
    "FSazCCmDbqKg"
   ],
   "provenance": []
  },
  "deepnote": {},
  "deepnote_app_layout": "article",
  "deepnote_execution_queue": [],
  "deepnote_notebook_id": "9a9c04096ce744f096ec4c3e58773e56",
  "deepnote_persisted_session": {
   "createdAt": "2023-01-25T20:01:30.909Z"
  },
  "kernelspec": {
   "display_name": "siads696",
   "language": "python",
   "name": "python3"
  },
  "language_info": {
   "codemirror_mode": {
    "name": "ipython",
    "version": 3
   },
   "file_extension": ".py",
   "mimetype": "text/x-python",
   "name": "python",
   "nbconvert_exporter": "python",
   "pygments_lexer": "ipython3",
   "version": "3.9.0"
  },
  "vscode": {
   "interpreter": {
    "hash": "e06bb46ff2b522e8ed41cde06a3284743bf4ee3b709766dafa5d4f926bdfb013"
   }
  }
 },
 "nbformat": 4,
 "nbformat_minor": 0
}
