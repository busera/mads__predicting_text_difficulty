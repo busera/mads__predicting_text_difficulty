{
 "cells": [
  {
   "attachments": {},
   "cell_type": "markdown",
   "metadata": {},
   "source": [
    "v1.0"
   ]
  },
  {
   "attachments": {},
   "cell_type": "markdown",
   "metadata": {},
   "source": [
    "The objective of this notebook is to check the impact of feature variance on the model and the accuracy score."
   ]
  },
  {
   "cell_type": "code",
   "execution_count": 1,
   "metadata": {
    "colab": {
     "base_uri": "https://localhost:8080/"
    },
    "executionInfo": {
     "elapsed": 4044,
     "status": "ok",
     "timestamp": 1675750810778,
     "user": {
      "displayName": "Andre Buser",
      "userId": "11618601900135679464"
     },
     "user_tz": -60
    },
    "id": "2eUQpe7Ekc-7",
    "outputId": "5459f2d8-e1ac-43d8-e304-f98af688cd9c"
   },
   "outputs": [
    {
     "name": "stdout",
     "output_type": "stream",
     "text": [
      "Not a Goolge Drive Environment.\n"
     ]
    }
   ],
   "source": [
    "try:\n",
    "    from google.colab import drive\n",
    "    drive.mount('/content/drive')\n",
    "    google_env = True\n",
    "except:\n",
    "    print(\"Not a Goolge Drive Environment.\")\n",
    "    google_env = False"
   ]
  },
  {
   "cell_type": "code",
   "execution_count": 2,
   "metadata": {
    "id": "CI3ZQWF5kc-8"
   },
   "outputs": [],
   "source": [
    "import time\n",
    "t_start = time.time()"
   ]
  },
  {
   "cell_type": "code",
   "execution_count": 3,
   "metadata": {
    "colab": {
     "base_uri": "https://localhost:8080/"
    },
    "executionInfo": {
     "elapsed": 9,
     "status": "ok",
     "timestamp": 1675750810779,
     "user": {
      "displayName": "Andre Buser",
      "userId": "11618601900135679464"
     },
     "user_tz": -60
    },
    "id": "RIEGBEhBkc-9",
    "outputId": "08f1c67f-4b5e-41c5-a71e-a08e0d32579c"
   },
   "outputs": [
    {
     "name": "stdout",
     "output_type": "stream",
     "text": [
      "========================================================================================================================\n",
      "Fastrun enabled: False\n",
      "========================================================================================================================\n"
     ]
    }
   ],
   "source": [
    "# Use parameters to enable/disable the fastrun\n",
    "FASTRUN = False\n",
    "#FASTRUN = True\n",
    "\n",
    "# Size of the fastrun dataframe\n",
    "sample_fraction = 0.25\n",
    "print(\"===\"*40)\n",
    "print(\"Fastrun enabled:\", FASTRUN)\n",
    "if FASTRUN: print(\"Sample size:\",sample_fraction)\n",
    "print(\"===\"*40)"
   ]
  },
  {
   "cell_type": "markdown",
   "metadata": {
    "cell_id": "ce4b2a40079140debe6cb9f7ba8ba566",
    "deepnote_app_coordinates": {
     "h": 5,
     "w": 12,
     "x": 0,
     "y": 37
    },
    "deepnote_cell_type": "markdown",
    "id": "uZms1pauBzw0"
   },
   "source": [
    "# Setup Environment"
   ]
  },
  {
   "cell_type": "markdown",
   "metadata": {
    "cell_id": "6993a186ce3a4ca9bdeb521dc67fef84",
    "deepnote_app_coordinates": {
     "h": 5,
     "w": 12,
     "x": 0,
     "y": 43
    },
    "deepnote_cell_type": "markdown",
    "id": "FSazCCmDbqKg"
   },
   "source": [
    "## Install Modules"
   ]
  },
  {
   "cell_type": "code",
   "execution_count": 4,
   "metadata": {
    "cell_id": "e808b393977d4a1eba12a8239b2fa1bc",
    "colab": {
     "base_uri": "https://localhost:8080/"
    },
    "deepnote_app_coordinates": {
     "h": 5,
     "w": 12,
     "x": 0,
     "y": 49
    },
    "deepnote_cell_type": "code",
    "deepnote_to_be_reexecuted": false,
    "executionInfo": {
     "elapsed": 13858,
     "status": "ok",
     "timestamp": 1675750824629,
     "user": {
      "displayName": "Andre Buser",
      "userId": "11618601900135679464"
     },
     "user_tz": -60
    },
    "execution_millis": 12053,
    "execution_start": 1674675029196,
    "id": "1Vo8zBrWbqKg",
    "outputId": "11991c2f-13f0-4f69-acc4-dd9355a1ad14",
    "source_hash": "9d62d529"
   },
   "outputs": [],
   "source": [
    "# Required to document module versions\n",
    "#!pip install watermark\n",
    "#!pip install catboost\n",
    "#!pip install xgboost"
   ]
  },
  {
   "cell_type": "markdown",
   "metadata": {
    "cell_id": "cf5fb44122cb45dcb27e113023a329bd",
    "deepnote_app_coordinates": {
     "h": 5,
     "w": 12,
     "x": 0,
     "y": 55
    },
    "deepnote_cell_type": "markdown",
    "id": "hHwYAoFSBzw1"
   },
   "source": [
    "## Import Modules"
   ]
  },
  {
   "cell_type": "code",
   "execution_count": 5,
   "metadata": {
    "cell_id": "b51f954d03a54e45a7fcf884c28fa560",
    "deepnote_app_coordinates": {
     "h": 5,
     "w": 12,
     "x": 0,
     "y": 61
    },
    "deepnote_cell_type": "code",
    "deepnote_to_be_reexecuted": false,
    "execution_millis": 6,
    "execution_start": 1674675041654,
    "id": "nbk1jSYhBzw2",
    "source_hash": "e8c749b7"
   },
   "outputs": [],
   "source": [
    "# Base libraries\n",
    "import os\n",
    "import time\n",
    "\n",
    "# Scientific libraries\n",
    "import numpy as np\n",
    "import pandas as pd\n",
    "\n",
    "# Visualization\n",
    "import seaborn as sns\n",
    "import matplotlib.pyplot as plt\n",
    "sns.set(rc={'figure.figsize':(15,8)})\n",
    "sns.set(font_scale=0.8)\n",
    "\n",
    "# Helper libraries\n",
    "from watermark import watermark\n",
    "from icecream import ic\n",
    "import gc # garbage collection to optimize memory usage: use \"gc.collect()\"\n",
    "import warnings\n",
    "warnings.filterwarnings('ignore')\n",
    "\n",
    "# Pandas options\n",
    "pd.set_option('display.max_rows', None)\n",
    "pd.set_option('display.max_columns', None)\n",
    "pd.set_option('display.width', None)\n",
    "pd.set_option('display.max_colwidth', None)\n",
    "\n",
    "from IPython.core.interactiveshell import InteractiveShell\n",
    "InteractiveShell.ast_node_interactivity = 'all'\n",
    "\n",
    "# Load magic commands\n",
    "%load_ext watermark"
   ]
  },
  {
   "cell_type": "markdown",
   "metadata": {
    "cell_id": "357d4ec7e4dc4b5cb00a9d4784820af3",
    "deepnote_app_coordinates": {
     "h": 5,
     "w": 12,
     "x": 0,
     "y": 67
    },
    "deepnote_cell_type": "markdown",
    "id": "C46IJ3IeBzw5"
   },
   "source": [
    "## Define Parameters"
   ]
  },
  {
   "cell_type": "code",
   "execution_count": 6,
   "metadata": {
    "cell_id": "12276e6eeba84ec8b054fb0e74567396",
    "deepnote_app_coordinates": {
     "h": 5,
     "w": 12,
     "x": 0,
     "y": 73
    },
    "deepnote_cell_type": "code",
    "deepnote_to_be_reexecuted": false,
    "execution_millis": 0,
    "execution_start": 1674675046415,
    "id": "rVPFKtMUBzw6",
    "source_hash": "f985c896"
   },
   "outputs": [],
   "source": [
    "seed = 42\n",
    "\n",
    "cpu_count = os.cpu_count()\n",
    "#cpu_count = cpu_count-2  # to keep machine responsive when fitting the models\n",
    "cpu_count = cpu_count"
   ]
  },
  {
   "cell_type": "markdown",
   "metadata": {
    "id": "mDx2BguMkc-_"
   },
   "source": [
    "## Helper Functions"
   ]
  },
  {
   "cell_type": "code",
   "execution_count": 7,
   "metadata": {
    "id": "Il-pqmRykc-_"
   },
   "outputs": [],
   "source": [
    "import http.client\n",
    "import urllib\n",
    "\n",
    "\n",
    "def send_push(message):\n",
    "    \"\"\"Send push notifications to pushover service.\"\"\"\n",
    "    conn = http.client.HTTPSConnection(\"api.pushover.net:443\")\n",
    "    conn.request(\"POST\", \"/1/messages.json\",\n",
    "                 urllib.parse.urlencode({\n",
    "                     \"token\": \"ahs1q4mwpnxe3645zeaqzas69whq7a\",  # ML Notifications Channel\n",
    "                     \"user\": \"u5vr1qkc9ghudg2ehuug153okeiz1d\",\n",
    "                     \"message\": message,\n",
    "                 }), {\"Content-type\": \"application/x-www-form-urlencoded\"})\n",
    "\n",
    "    conn.getresponse()\n"
   ]
  },
  {
   "cell_type": "code",
   "execution_count": 8,
   "metadata": {
    "id": "rJ0Sdx7Ukc-_"
   },
   "outputs": [],
   "source": [
    "def fast_run_sampling(df, sample_fraction):\n",
    "    print(\"Labels before sampling:\\n\", df['label'].value_counts())\n",
    "\n",
    "    # Group by label to ensure to get a balanced sample fraction\n",
    "    df = df.groupby('label').sample(frac=sample_fraction, random_state=seed)\n",
    "    print(\"Labels after sampling:\\n\", df['label'].value_counts())\n",
    "\n",
    "    return df\n"
   ]
  },
  {
   "cell_type": "code",
   "execution_count": 9,
   "metadata": {},
   "outputs": [],
   "source": [
    "def calculate_duration(t_start, t_end):\n",
    "    total_runtime = t_end-t_start\n",
    "    total_runtime_min = round((total_runtime/60), 2)\n",
    "    print(str(total_runtime_min)+\" minutes\")\n",
    "\n",
    "    return total_runtime_min\n"
   ]
  },
  {
   "attachments": {},
   "cell_type": "markdown",
   "metadata": {
    "cell_id": "2ef4055272a24692b1340494025c9627",
    "deepnote_app_coordinates": {
     "h": 5,
     "w": 12,
     "x": 0,
     "y": 79
    },
    "deepnote_cell_type": "markdown",
    "id": "6YBbHzbqBzw8"
   },
   "source": [
    "# Load Data"
   ]
  },
  {
   "cell_type": "code",
   "execution_count": 10,
   "metadata": {
    "cell_id": "52d9d1ed15894e37b125a6d3360a81b6",
    "deepnote_app_coordinates": {
     "h": 5,
     "w": 12,
     "x": 0,
     "y": 91
    },
    "deepnote_cell_type": "code",
    "deepnote_to_be_reexecuted": false,
    "execution_millis": 14,
    "execution_start": 1674675060547,
    "id": "QUyCYBdWdeWq",
    "source_hash": "8d390177"
   },
   "outputs": [
    {
     "name": "stdout",
     "output_type": "stream",
     "text": [
      "Not a Goolge Drive Environment. Loading local files.\n"
     ]
    }
   ],
   "source": [
    "if google_env:\n",
    "    # Location for \"shared with\" people\n",
    "    # create a shortcut of the shared folder in your Google Drive root folder\n",
    "    ROOT_PATH = \"/content/drive/MyDrive/SIADS696/Environment/\"\n",
    "\n",
    "else:\n",
    "    ROOT_PATH = \"../\"\n",
    "    print(\"Not a Goolge Drive Environment. Loading local files.\")\n",
    "\n",
    "PATH_DATA = \"data/\"\n",
    "PATH_DATA_RAW = \"data/raw/\"\n",
    "PATH_DATA_INT = \"data/interim/\"\n",
    "PATH_DATA_PRO = \"data/processed/\"\n",
    "PATH_DATA_MOD = \"models/\"\n",
    "PATH_DATA_REP = \"reports/\"\n",
    "\n",
    "df_wiki_train_stats = pd.read_parquet(\n",
    "    ROOT_PATH + PATH_DATA_INT + \"train_features_clean_stats.parquet.gzip\")\n",
    "df_wiki_test_stats = pd.read_parquet(\n",
    "    ROOT_PATH + PATH_DATA_INT + \"test_features_clean_stats.parquet.gzip\")\n",
    "\n",
    "df_wiki_train_rs = pd.read_parquet(\n",
    "    ROOT_PATH + PATH_DATA_INT+\"train_features_rs.parquet.gzip\")\n",
    "df_wiki_test_rs = pd.read_parquet(\n",
    "    ROOT_PATH + PATH_DATA_INT+\"test_features_rs.parquet.gzip\")\n",
    "\n",
    "df_wiki_train_nltk = pd.read_parquet(\n",
    "    ROOT_PATH + PATH_DATA_INT+\"train_features_nltk.parquet.gzip\")\n",
    "df_wiki_test_nltk = pd.read_parquet(\n",
    "    ROOT_PATH + PATH_DATA_INT+\"test_features_nltk.parquet.gzip\")\n",
    "\n",
    "df_wiki_train_aoa = pd.read_parquet(\n",
    "    ROOT_PATH + PATH_DATA_INT+\"train_features_aoa.parquet.gzip\")\n",
    "df_wiki_test_aoa = pd.read_parquet(\n",
    "    ROOT_PATH + PATH_DATA_INT+\"test_features_aoa.parquet.gzip\")\n",
    "\n",
    "df_wiki_train_crb = pd.read_parquet(\n",
    "    ROOT_PATH + PATH_DATA_INT+\"train_features_crb.parquet.gzip\")\n",
    "df_wiki_test_crb = pd.read_parquet(\n",
    "    ROOT_PATH + PATH_DATA_INT+\"test_features_crb.parquet.gzip\")\n",
    "\n",
    "df_wiki_train_w2v = pd.read_parquet(\n",
    "    ROOT_PATH + PATH_DATA_INT+\"train_features_w2v.parquet.gzip\")\n",
    "df_wiki_test_w2v = pd.read_parquet(\n",
    "    ROOT_PATH + PATH_DATA_INT+\"test_features_w2v.parquet.gzip\")\n",
    "\n",
    "df_wiki_train_MNB = pd.read_parquet(\n",
    "    ROOT_PATH + PATH_DATA_INT + 'train_mNB_predict.parquet.gzip')  # data leakage risk\n",
    "df_wiki_test_MNB = pd.read_parquet(\n",
    "    ROOT_PATH + PATH_DATA_INT + 'test_mNB_predict.parquet.gzip')    # data leakage risk\n"
   ]
  },
  {
   "cell_type": "code",
   "execution_count": 11,
   "metadata": {
    "colab": {
     "base_uri": "https://localhost:8080/"
    },
    "executionInfo": {
     "elapsed": 8658,
     "status": "ok",
     "timestamp": 1675750850897,
     "user": {
      "displayName": "Andre Buser",
      "userId": "11618601900135679464"
     },
     "user_tz": -60
    },
    "id": "rMsS3Ko-kc_A",
    "outputId": "ff710b26-84ee-4f5d-9fe0-1599e7ab9ed2"
   },
   "outputs": [
    {
     "name": "stdout",
     "output_type": "stream",
     "text": [
      "Features:  152\n"
     ]
    }
   ],
   "source": [
    "# Combine the training dataframes into a single dataframe\n",
    "df_train = pd.DataFrame()\n",
    "df_train = pd.concat([df_train,\n",
    "                      df_wiki_train_stats,\n",
    "                      df_wiki_train_rs,\n",
    "                      df_wiki_train_nltk,\n",
    "                      df_wiki_train_aoa,\n",
    "                      df_wiki_train_crb,\n",
    "                      df_wiki_train_w2v,\n",
    "                      ], axis=1)\n",
    "\n",
    "# df_train[df_train['stats_language_no'] == 18]['stats_language_code'].head(5)  # checking that 18 is English\n",
    "\n",
    "columns_list_train = df_train.columns.to_list()\n",
    "columns_list_train = sorted(list(set(\n",
    "    columns_list_train) - {\"original_text\", \"cleaned_text\", \"stats_language_code\"}))\n",
    "\n",
    "print(\"Features: \", len(columns_list_train))\n",
    "df_train = df_train[columns_list_train].copy()\n",
    "\n",
    "if FASTRUN:\n",
    "    df_train = fast_run_sampling(df_train, sample_fraction)\n"
   ]
  },
  {
   "cell_type": "code",
   "execution_count": 12,
   "metadata": {
    "colab": {
     "base_uri": "https://localhost:8080/"
    },
    "executionInfo": {
     "elapsed": 12,
     "status": "ok",
     "timestamp": 1675750850897,
     "user": {
      "displayName": "Andre Buser",
      "userId": "11618601900135679464"
     },
     "user_tz": -60
    },
    "id": "K129SkDFkc_B",
    "outputId": "1622b4c8-43a7-4276-caed-ba1649cac226"
   },
   "outputs": [
    {
     "data": {
      "text/plain": [
       "(416768, 152)"
      ]
     },
     "execution_count": 12,
     "metadata": {},
     "output_type": "execute_result"
    }
   ],
   "source": [
    "df_train.shape"
   ]
  },
  {
   "cell_type": "code",
   "execution_count": 13,
   "metadata": {
    "colab": {
     "base_uri": "https://localhost:8080/"
    },
    "executionInfo": {
     "elapsed": 2599,
     "status": "ok",
     "timestamp": 1675750853486,
     "user": {
      "displayName": "Andre Buser",
      "userId": "11618601900135679464"
     },
     "user_tz": -60
    },
    "id": "X8rsnWFtkc_B",
    "outputId": "961e51ca-159f-4140-81ae-a17bb29e8c63"
   },
   "outputs": [
    {
     "name": "stdout",
     "output_type": "stream",
     "text": [
      "Features:  152\n"
     ]
    }
   ],
   "source": [
    "# Combine the test dataframes into a single dataframe\n",
    "df_test = pd.DataFrame()\n",
    "df_test = pd.concat([df_test,\n",
    "                     df_wiki_test_stats,\n",
    "                     df_wiki_test_rs,\n",
    "                     df_wiki_test_nltk,\n",
    "                     df_wiki_test_aoa,\n",
    "                     df_wiki_test_crb,\n",
    "                     df_wiki_test_w2v\n",
    "                     ], axis=1)\n",
    "\n",
    "columns_list_test = df_test.columns\n",
    "columns_list_test = sorted(list(set(\n",
    "    columns_list_test) - {\"original_text\", \"cleaned_text\", \"id\", \"stats_language_code\"}))\n",
    "\n",
    "print(\"Features: \", len(columns_list_test))\n",
    "df_test = df_test[columns_list_test].copy()\n",
    "\n",
    "if FASTRUN:\n",
    "    df_test = fast_run_sampling(df_test, sample_fraction)\n"
   ]
  },
  {
   "cell_type": "code",
   "execution_count": 14,
   "metadata": {
    "colab": {
     "base_uri": "https://localhost:8080/"
    },
    "executionInfo": {
     "elapsed": 8,
     "status": "ok",
     "timestamp": 1675750853487,
     "user": {
      "displayName": "Andre Buser",
      "userId": "11618601900135679464"
     },
     "user_tz": -60
    },
    "id": "iCh7OThHkc_B",
    "outputId": "b8fa24ae-5c97-4b5c-ee3d-dc94566ac408"
   },
   "outputs": [
    {
     "data": {
      "text/plain": [
       "(119092, 152)"
      ]
     },
     "execution_count": 14,
     "metadata": {},
     "output_type": "execute_result"
    }
   ],
   "source": [
    "df_test.shape\n"
   ]
  },
  {
   "attachments": {},
   "cell_type": "markdown",
   "metadata": {
    "cell_id": "7ecad741e37f4885a299146c8cda9633",
    "deepnote_app_coordinates": {
     "h": 5,
     "w": 12,
     "x": 0,
     "y": 115
    },
    "deepnote_cell_type": "markdown",
    "id": "CL9zJrfHr_iA"
   },
   "source": [
    "# Feature Selection: Variance"
   ]
  },
  {
   "cell_type": "code",
   "execution_count": 15,
   "metadata": {
    "id": "rDk2gqIRkc_C"
   },
   "outputs": [],
   "source": [
    "from sklearn.model_selection import cross_validate\n",
    "from sklearn.model_selection import cross_val_predict\n",
    "\n",
    "from sklearn.dummy import DummyClassifier\n",
    "\n",
    "# Linear models\n",
    "from sklearn.linear_model import LogisticRegression\n",
    "from sklearn.linear_model import Lasso\n",
    "from sklearn.linear_model import Ridge\n",
    "from sklearn.linear_model import ElasticNet\n",
    "\n",
    "# Linear/Stochastic Gradient Descent\n",
    "from sklearn.linear_model import SGDClassifier \n",
    "\n",
    "# Tree models\n",
    "from sklearn.tree import DecisionTreeClassifier\n",
    "\n",
    "# NB models\n",
    "from sklearn.naive_bayes import GaussianNB\n",
    "from sklearn.naive_bayes import MultinomialNB\n",
    "\n",
    "# Neighbors models\n",
    "#from sklearn.neighbors import KNeighborsClassifier\n",
    "\n",
    "# Ensemble models\n",
    "from sklearn.ensemble import ExtraTreesClassifier\n",
    "from sklearn.ensemble import RandomForestClassifier\n",
    "from sklearn.ensemble import VotingClassifier\n",
    "from sklearn.neural_network import MLPClassifier\n",
    "from xgboost import XGBClassifier\n",
    "from catboost import CatBoostClassifier\n",
    "\n",
    "# Scalers\n",
    "from sklearn.preprocessing import MinMaxScaler\n",
    "\n",
    "from sklearn.pipeline import Pipeline\n",
    "from sklearn.decomposition import PCA\n",
    "from sklearn.model_selection import KFold\n",
    "from sklearn.model_selection import StratifiedKFold\n",
    "from sklearn.metrics import accuracy_score\n",
    "from sklearn.metrics import roc_curve\n",
    "from sklearn.metrics import auc\n",
    "from sklearn.metrics import confusion_matrix\n",
    "from sklearn.metrics import f1_score\n",
    "from sklearn.metrics import precision_score\n",
    "from sklearn.metrics import recall_score\n",
    "from sklearn.metrics import roc_auc_score\n",
    "\n",
    "from sklearn.feature_selection import VarianceThreshold"
   ]
  },
  {
   "cell_type": "code",
   "execution_count": 16,
   "metadata": {},
   "outputs": [],
   "source": [
    "# Classifiers for voting classifier\n",
    "clf1 = RandomForestClassifier(random_state=seed, n_jobs=cpu_count)\n",
    "clf2 = ExtraTreesClassifier()\n",
    "clf3 = CatBoostClassifier(logging_level='Silent')\n",
    "clf4 = XGBClassifier()\n",
    "eclf1 = VotingClassifier(estimators=[('ExTrees', clf1), ('CatBoost', clf2), ('RF', clf3), ('XGB', clf4)], voting='soft')"
   ]
  },
  {
   "cell_type": "code",
   "execution_count": 17,
   "metadata": {},
   "outputs": [],
   "source": [
    "model_pipeline = {\n",
    "    'Random Forerst': RandomForestClassifier(random_state=seed, n_jobs=-1),\n",
    "    'ExTreeClf': ExtraTreesClassifier(),\n",
    "    'XGBoost': XGBClassifier(),\n",
    "    'CatBoost': CatBoostClassifier(logging_level='Silent'),\n",
    "    'Logistic Regression': LogisticRegression(random_state=seed, n_jobs=cpu_count, max_iter=3000, solver='lbfgs'),\n",
    "    #'MLP Classifier': MLPClassifier(random_state=seed, activation='logistic', max_iter=3000),\n",
    "    'Gaussian NB': GaussianNB(),\n",
    "    'Multinomial NB': MultinomialNB(),\n",
    "    'Decision Tree': DecisionTreeClassifier(),\n",
    "    'Voting CLF': eclf1,\n",
    "}"
   ]
  },
  {
   "cell_type": "code",
   "execution_count": 18,
   "metadata": {},
   "outputs": [
    {
     "name": "stdout",
     "output_type": "stream",
     "text": [
      "Features:  151\n",
      "Labels:  416768\n"
     ]
    }
   ],
   "source": [
    "X_columns = df_train.columns.to_list()\n",
    "X_columns = list(set(X_columns) - {\"label\", \"original_text\", \"cleaned_text\"})\n",
    "print(\"Features: \",len(X_columns))\n",
    "\n",
    "X = df_train[X_columns]\n",
    "y = df_train[\"label\"]\n",
    "print(\"Labels: \",len(y))\n"
   ]
  },
  {
   "cell_type": "code",
   "execution_count": 19,
   "metadata": {},
   "outputs": [],
   "source": [
    "from sklearn.feature_selection import VarianceThreshold\n",
    "from itertools import compress\n",
    "\n",
    "def fs_variance(df, threshold:float=0.004):\n",
    "    \"\"\"\n",
    "    Return the number of selected variables based on the threshold.\n",
    "    \"\"\"\n",
    "\n",
    "    # The list of columns in the data frame\n",
    "    features = list(df.columns)\n",
    "    \n",
    "    scaler = MinMaxScaler((0, 1))\n",
    "    df_scaled = scaler.fit_transform(df)\n",
    "\n",
    "    # Initialize and fit the method\n",
    "    vt = VarianceThreshold(threshold = threshold)\n",
    "    _ = vt.fit(df_scaled)\n",
    "    \n",
    "    # Get which column names which pass the threshold\n",
    "    feat_select = list(compress(features, vt.get_support()))\n",
    "    \n",
    "    return len(feat_select)"
   ]
  },
  {
   "cell_type": "code",
   "execution_count": 20,
   "metadata": {},
   "outputs": [
    {
     "data": {
      "text/plain": [
       "110"
      ]
     },
     "execution_count": 20,
     "metadata": {},
     "output_type": "execute_result"
    }
   ],
   "source": [
    "fs_variance(df_train, 0.002)"
   ]
  },
  {
   "cell_type": "code",
   "execution_count": 21,
   "metadata": {
    "colab": {
     "base_uri": "https://localhost:8080/"
    },
    "executionInfo": {
     "elapsed": 6,
     "status": "ok",
     "timestamp": 1675750855564,
     "user": {
      "displayName": "Andre Buser",
      "userId": "11618601900135679464"
     },
     "user_tz": -60
    },
    "id": "KclJ1EEQQ-YL",
    "outputId": "c00c52b4-b6ec-49df-d383-66a848c4f56a"
   },
   "outputs": [
    {
     "name": "stdout",
     "output_type": "stream",
     "text": [
      "Features selected: 151\n",
      "Cross-validating: Random Forerst with a threshold of 0.0\n",
      "0.7429745063165308\n",
      "Cross-validating: ExTreeClf with a threshold of 0.0\n",
      "0.7413573030063847\n",
      "Cross-validating: XGBoost with a threshold of 0.0\n",
      "0.6966393753758087\n",
      "Cross-validating: CatBoost with a threshold of 0.0\n",
      "0.7016253633825935\n",
      "Cross-validating: Logistic Regression with a threshold of 0.0\n",
      "0.6656245204448328\n",
      "Cross-validating: Gaussian NB with a threshold of 0.0\n",
      "0.6201123881933766\n",
      "Cross-validating: Multinomial NB with a threshold of 0.0\n",
      "0.6134708021081605\n",
      "Cross-validating: Decision Tree with a threshold of 0.0\n",
      "0.6875983738936778\n",
      "Cross-validating: Voting CLF with a threshold of 0.0\n",
      "0.753428766351607\n"
     ]
    },
    {
     "data": {
      "text/html": [
       "<div>\n",
       "<style scoped>\n",
       "    .dataframe tbody tr th:only-of-type {\n",
       "        vertical-align: middle;\n",
       "    }\n",
       "\n",
       "    .dataframe tbody tr th {\n",
       "        vertical-align: top;\n",
       "    }\n",
       "\n",
       "    .dataframe thead th {\n",
       "        text-align: right;\n",
       "    }\n",
       "</style>\n",
       "<table border=\"1\" class=\"dataframe\">\n",
       "  <thead>\n",
       "    <tr style=\"text-align: right;\">\n",
       "      <th></th>\n",
       "      <th>Model</th>\n",
       "      <th>0.0</th>\n",
       "    </tr>\n",
       "  </thead>\n",
       "  <tbody>\n",
       "    <tr>\n",
       "      <th>0</th>\n",
       "      <td>Random Forerst</td>\n",
       "      <td>0.742975</td>\n",
       "    </tr>\n",
       "    <tr>\n",
       "      <th>1</th>\n",
       "      <td>ExTreeClf</td>\n",
       "      <td>0.741357</td>\n",
       "    </tr>\n",
       "    <tr>\n",
       "      <th>2</th>\n",
       "      <td>XGBoost</td>\n",
       "      <td>0.696639</td>\n",
       "    </tr>\n",
       "    <tr>\n",
       "      <th>3</th>\n",
       "      <td>CatBoost</td>\n",
       "      <td>0.701625</td>\n",
       "    </tr>\n",
       "    <tr>\n",
       "      <th>4</th>\n",
       "      <td>Logistic Regression</td>\n",
       "      <td>0.665625</td>\n",
       "    </tr>\n",
       "    <tr>\n",
       "      <th>5</th>\n",
       "      <td>Gaussian NB</td>\n",
       "      <td>0.620112</td>\n",
       "    </tr>\n",
       "    <tr>\n",
       "      <th>6</th>\n",
       "      <td>Multinomial NB</td>\n",
       "      <td>0.613471</td>\n",
       "    </tr>\n",
       "    <tr>\n",
       "      <th>7</th>\n",
       "      <td>Decision Tree</td>\n",
       "      <td>0.687598</td>\n",
       "    </tr>\n",
       "    <tr>\n",
       "      <th>8</th>\n",
       "      <td>Voting CLF</td>\n",
       "      <td>0.753429</td>\n",
       "    </tr>\n",
       "  </tbody>\n",
       "</table>\n",
       "</div>"
      ],
      "text/plain": [
       "                 Model       0.0\n",
       "0       Random Forerst  0.742975\n",
       "1            ExTreeClf  0.741357\n",
       "2              XGBoost  0.696639\n",
       "3             CatBoost  0.701625\n",
       "4  Logistic Regression  0.665625\n",
       "5          Gaussian NB  0.620112\n",
       "6       Multinomial NB  0.613471\n",
       "7        Decision Tree  0.687598\n",
       "8           Voting CLF  0.753429"
      ]
     },
     "metadata": {},
     "output_type": "display_data"
    },
    {
     "name": "stdout",
     "output_type": "stream",
     "text": [
      "Features selected: 140\n",
      "Cross-validating: Random Forerst with a threshold of 0.0002\n",
      "0.7425690097014255\n",
      "Cross-validating: ExTreeClf with a threshold of 0.0002\n",
      "0.7412565289485268\n",
      "Cross-validating: XGBoost with a threshold of 0.0002\n",
      "0.6957108008826111\n",
      "Cross-validating: CatBoost with a threshold of 0.0002\n",
      "0.7008071629850736\n",
      "Cross-validating: Logistic Regression with a threshold of 0.0002\n",
      "0.6654301680107859\n",
      "Cross-validating: Gaussian NB with a threshold of 0.0002\n",
      "0.6198916420458318\n",
      "Cross-validating: Multinomial NB with a threshold of 0.0002\n",
      "0.6132380580147239\n",
      "Cross-validating: Decision Tree with a threshold of 0.0002\n",
      "0.6868113631409443\n",
      "Cross-validating: Voting CLF with a threshold of 0.0002\n",
      "0.7529488861681022\n"
     ]
    },
    {
     "data": {
      "text/html": [
       "<div>\n",
       "<style scoped>\n",
       "    .dataframe tbody tr th:only-of-type {\n",
       "        vertical-align: middle;\n",
       "    }\n",
       "\n",
       "    .dataframe tbody tr th {\n",
       "        vertical-align: top;\n",
       "    }\n",
       "\n",
       "    .dataframe thead th {\n",
       "        text-align: right;\n",
       "    }\n",
       "</style>\n",
       "<table border=\"1\" class=\"dataframe\">\n",
       "  <thead>\n",
       "    <tr style=\"text-align: right;\">\n",
       "      <th></th>\n",
       "      <th>Model</th>\n",
       "      <th>0.0</th>\n",
       "      <th>0.0002</th>\n",
       "    </tr>\n",
       "  </thead>\n",
       "  <tbody>\n",
       "    <tr>\n",
       "      <th>0</th>\n",
       "      <td>Random Forerst</td>\n",
       "      <td>0.742975</td>\n",
       "      <td>0.742569</td>\n",
       "    </tr>\n",
       "    <tr>\n",
       "      <th>1</th>\n",
       "      <td>ExTreeClf</td>\n",
       "      <td>0.741357</td>\n",
       "      <td>0.741257</td>\n",
       "    </tr>\n",
       "    <tr>\n",
       "      <th>2</th>\n",
       "      <td>XGBoost</td>\n",
       "      <td>0.696639</td>\n",
       "      <td>0.695711</td>\n",
       "    </tr>\n",
       "    <tr>\n",
       "      <th>3</th>\n",
       "      <td>CatBoost</td>\n",
       "      <td>0.701625</td>\n",
       "      <td>0.700807</td>\n",
       "    </tr>\n",
       "    <tr>\n",
       "      <th>4</th>\n",
       "      <td>Logistic Regression</td>\n",
       "      <td>0.665625</td>\n",
       "      <td>0.665430</td>\n",
       "    </tr>\n",
       "    <tr>\n",
       "      <th>5</th>\n",
       "      <td>Gaussian NB</td>\n",
       "      <td>0.620112</td>\n",
       "      <td>0.619892</td>\n",
       "    </tr>\n",
       "    <tr>\n",
       "      <th>6</th>\n",
       "      <td>Multinomial NB</td>\n",
       "      <td>0.613471</td>\n",
       "      <td>0.613238</td>\n",
       "    </tr>\n",
       "    <tr>\n",
       "      <th>7</th>\n",
       "      <td>Decision Tree</td>\n",
       "      <td>0.687598</td>\n",
       "      <td>0.686811</td>\n",
       "    </tr>\n",
       "    <tr>\n",
       "      <th>8</th>\n",
       "      <td>Voting CLF</td>\n",
       "      <td>0.753429</td>\n",
       "      <td>0.752949</td>\n",
       "    </tr>\n",
       "  </tbody>\n",
       "</table>\n",
       "</div>"
      ],
      "text/plain": [
       "                 Model       0.0    0.0002\n",
       "0       Random Forerst  0.742975  0.742569\n",
       "1            ExTreeClf  0.741357  0.741257\n",
       "2              XGBoost  0.696639  0.695711\n",
       "3             CatBoost  0.701625  0.700807\n",
       "4  Logistic Regression  0.665625  0.665430\n",
       "5          Gaussian NB  0.620112  0.619892\n",
       "6       Multinomial NB  0.613471  0.613238\n",
       "7        Decision Tree  0.687598  0.686811\n",
       "8           Voting CLF  0.753429  0.752949"
      ]
     },
     "metadata": {},
     "output_type": "display_data"
    },
    {
     "name": "stdout",
     "output_type": "stream",
     "text": [
      "Features selected: 133\n",
      "Cross-validating: Random Forerst with a threshold of 0.0006\n",
      "0.7431712621280024\n",
      "Cross-validating: ExTreeClf with a threshold of 0.0006\n",
      "0.7419499588782558\n",
      "Cross-validating: XGBoost with a threshold of 0.0006\n",
      "0.6956724150955786\n",
      "Cross-validating: CatBoost with a threshold of 0.0006\n",
      "0.7009919187492704\n",
      "Cross-validating: Logistic Regression with a threshold of 0.0006\n",
      "0.6651854264896064\n",
      "Cross-validating: Gaussian NB with a threshold of 0.0006\n",
      "0.621220918403075\n",
      "Cross-validating: Multinomial NB with a threshold of 0.0006\n",
      "0.6131732740811394\n",
      "Cross-validating: Decision Tree with a threshold of 0.0006\n",
      "0.6864394571300205\n",
      "Cross-validating: Voting CLF with a threshold of 0.0006\n",
      "0.7538534631574962\n"
     ]
    },
    {
     "data": {
      "text/html": [
       "<div>\n",
       "<style scoped>\n",
       "    .dataframe tbody tr th:only-of-type {\n",
       "        vertical-align: middle;\n",
       "    }\n",
       "\n",
       "    .dataframe tbody tr th {\n",
       "        vertical-align: top;\n",
       "    }\n",
       "\n",
       "    .dataframe thead th {\n",
       "        text-align: right;\n",
       "    }\n",
       "</style>\n",
       "<table border=\"1\" class=\"dataframe\">\n",
       "  <thead>\n",
       "    <tr style=\"text-align: right;\">\n",
       "      <th></th>\n",
       "      <th>Model</th>\n",
       "      <th>0.0</th>\n",
       "      <th>0.0002</th>\n",
       "      <th>0.0006</th>\n",
       "    </tr>\n",
       "  </thead>\n",
       "  <tbody>\n",
       "    <tr>\n",
       "      <th>0</th>\n",
       "      <td>Random Forerst</td>\n",
       "      <td>0.742975</td>\n",
       "      <td>0.742569</td>\n",
       "      <td>0.743171</td>\n",
       "    </tr>\n",
       "    <tr>\n",
       "      <th>1</th>\n",
       "      <td>ExTreeClf</td>\n",
       "      <td>0.741357</td>\n",
       "      <td>0.741257</td>\n",
       "      <td>0.741950</td>\n",
       "    </tr>\n",
       "    <tr>\n",
       "      <th>2</th>\n",
       "      <td>XGBoost</td>\n",
       "      <td>0.696639</td>\n",
       "      <td>0.695711</td>\n",
       "      <td>0.695672</td>\n",
       "    </tr>\n",
       "    <tr>\n",
       "      <th>3</th>\n",
       "      <td>CatBoost</td>\n",
       "      <td>0.701625</td>\n",
       "      <td>0.700807</td>\n",
       "      <td>0.700992</td>\n",
       "    </tr>\n",
       "    <tr>\n",
       "      <th>4</th>\n",
       "      <td>Logistic Regression</td>\n",
       "      <td>0.665625</td>\n",
       "      <td>0.665430</td>\n",
       "      <td>0.665185</td>\n",
       "    </tr>\n",
       "    <tr>\n",
       "      <th>5</th>\n",
       "      <td>Gaussian NB</td>\n",
       "      <td>0.620112</td>\n",
       "      <td>0.619892</td>\n",
       "      <td>0.621221</td>\n",
       "    </tr>\n",
       "    <tr>\n",
       "      <th>6</th>\n",
       "      <td>Multinomial NB</td>\n",
       "      <td>0.613471</td>\n",
       "      <td>0.613238</td>\n",
       "      <td>0.613173</td>\n",
       "    </tr>\n",
       "    <tr>\n",
       "      <th>7</th>\n",
       "      <td>Decision Tree</td>\n",
       "      <td>0.687598</td>\n",
       "      <td>0.686811</td>\n",
       "      <td>0.686439</td>\n",
       "    </tr>\n",
       "    <tr>\n",
       "      <th>8</th>\n",
       "      <td>Voting CLF</td>\n",
       "      <td>0.753429</td>\n",
       "      <td>0.752949</td>\n",
       "      <td>0.753853</td>\n",
       "    </tr>\n",
       "  </tbody>\n",
       "</table>\n",
       "</div>"
      ],
      "text/plain": [
       "                 Model       0.0    0.0002    0.0006\n",
       "0       Random Forerst  0.742975  0.742569  0.743171\n",
       "1            ExTreeClf  0.741357  0.741257  0.741950\n",
       "2              XGBoost  0.696639  0.695711  0.695672\n",
       "3             CatBoost  0.701625  0.700807  0.700992\n",
       "4  Logistic Regression  0.665625  0.665430  0.665185\n",
       "5          Gaussian NB  0.620112  0.619892  0.621221\n",
       "6       Multinomial NB  0.613471  0.613238  0.613173\n",
       "7        Decision Tree  0.687598  0.686811  0.686439\n",
       "8           Voting CLF  0.753429  0.752949  0.753853"
      ]
     },
     "metadata": {},
     "output_type": "display_data"
    },
    {
     "name": "stdout",
     "output_type": "stream",
     "text": [
      "Features selected: 129\n",
      "Cross-validating: Random Forerst with a threshold of 0.0009\n",
      "0.7420051427452343\n",
      "Cross-validating: ExTreeClf with a threshold of 0.0009\n",
      "0.7413908941287154\n",
      "Cross-validating: XGBoost with a threshold of 0.0009\n",
      "0.6945830779377198\n",
      "Cross-validating: CatBoost with a threshold of 0.0009\n",
      "0.6998977843071778\n",
      "Cross-validating: Logistic Regression with a threshold of 0.0009\n",
      "0.6651230416155367\n",
      "Cross-validating: Gaussian NB with a threshold of 0.0009\n",
      "0.6212497110897296\n",
      "Cross-validating: Multinomial NB with a threshold of 0.0009\n",
      "0.6130077143913191\n",
      "Cross-validating: Decision Tree with a threshold of 0.0009\n",
      "0.6860963416467963\n",
      "Cross-validating: Voting CLF with a threshold of 0.0009\n",
      "0.7525937693134441\n"
     ]
    },
    {
     "data": {
      "text/html": [
       "<div>\n",
       "<style scoped>\n",
       "    .dataframe tbody tr th:only-of-type {\n",
       "        vertical-align: middle;\n",
       "    }\n",
       "\n",
       "    .dataframe tbody tr th {\n",
       "        vertical-align: top;\n",
       "    }\n",
       "\n",
       "    .dataframe thead th {\n",
       "        text-align: right;\n",
       "    }\n",
       "</style>\n",
       "<table border=\"1\" class=\"dataframe\">\n",
       "  <thead>\n",
       "    <tr style=\"text-align: right;\">\n",
       "      <th></th>\n",
       "      <th>Model</th>\n",
       "      <th>0.0</th>\n",
       "      <th>0.0002</th>\n",
       "      <th>0.0006</th>\n",
       "      <th>0.0009</th>\n",
       "    </tr>\n",
       "  </thead>\n",
       "  <tbody>\n",
       "    <tr>\n",
       "      <th>0</th>\n",
       "      <td>Random Forerst</td>\n",
       "      <td>0.742975</td>\n",
       "      <td>0.742569</td>\n",
       "      <td>0.743171</td>\n",
       "      <td>0.742005</td>\n",
       "    </tr>\n",
       "    <tr>\n",
       "      <th>1</th>\n",
       "      <td>ExTreeClf</td>\n",
       "      <td>0.741357</td>\n",
       "      <td>0.741257</td>\n",
       "      <td>0.741950</td>\n",
       "      <td>0.741391</td>\n",
       "    </tr>\n",
       "    <tr>\n",
       "      <th>2</th>\n",
       "      <td>XGBoost</td>\n",
       "      <td>0.696639</td>\n",
       "      <td>0.695711</td>\n",
       "      <td>0.695672</td>\n",
       "      <td>0.694583</td>\n",
       "    </tr>\n",
       "    <tr>\n",
       "      <th>3</th>\n",
       "      <td>CatBoost</td>\n",
       "      <td>0.701625</td>\n",
       "      <td>0.700807</td>\n",
       "      <td>0.700992</td>\n",
       "      <td>0.699898</td>\n",
       "    </tr>\n",
       "    <tr>\n",
       "      <th>4</th>\n",
       "      <td>Logistic Regression</td>\n",
       "      <td>0.665625</td>\n",
       "      <td>0.665430</td>\n",
       "      <td>0.665185</td>\n",
       "      <td>0.665123</td>\n",
       "    </tr>\n",
       "    <tr>\n",
       "      <th>5</th>\n",
       "      <td>Gaussian NB</td>\n",
       "      <td>0.620112</td>\n",
       "      <td>0.619892</td>\n",
       "      <td>0.621221</td>\n",
       "      <td>0.621250</td>\n",
       "    </tr>\n",
       "    <tr>\n",
       "      <th>6</th>\n",
       "      <td>Multinomial NB</td>\n",
       "      <td>0.613471</td>\n",
       "      <td>0.613238</td>\n",
       "      <td>0.613173</td>\n",
       "      <td>0.613008</td>\n",
       "    </tr>\n",
       "    <tr>\n",
       "      <th>7</th>\n",
       "      <td>Decision Tree</td>\n",
       "      <td>0.687598</td>\n",
       "      <td>0.686811</td>\n",
       "      <td>0.686439</td>\n",
       "      <td>0.686096</td>\n",
       "    </tr>\n",
       "    <tr>\n",
       "      <th>8</th>\n",
       "      <td>Voting CLF</td>\n",
       "      <td>0.753429</td>\n",
       "      <td>0.752949</td>\n",
       "      <td>0.753853</td>\n",
       "      <td>0.752594</td>\n",
       "    </tr>\n",
       "  </tbody>\n",
       "</table>\n",
       "</div>"
      ],
      "text/plain": [
       "                 Model       0.0    0.0002    0.0006    0.0009\n",
       "0       Random Forerst  0.742975  0.742569  0.743171  0.742005\n",
       "1            ExTreeClf  0.741357  0.741257  0.741950  0.741391\n",
       "2              XGBoost  0.696639  0.695711  0.695672  0.694583\n",
       "3             CatBoost  0.701625  0.700807  0.700992  0.699898\n",
       "4  Logistic Regression  0.665625  0.665430  0.665185  0.665123\n",
       "5          Gaussian NB  0.620112  0.619892  0.621221  0.621250\n",
       "6       Multinomial NB  0.613471  0.613238  0.613173  0.613008\n",
       "7        Decision Tree  0.687598  0.686811  0.686439  0.686096\n",
       "8           Voting CLF  0.753429  0.752949  0.753853  0.752594"
      ]
     },
     "metadata": {},
     "output_type": "display_data"
    },
    {
     "name": "stdout",
     "output_type": "stream",
     "text": [
      "Features selected: 128\n",
      "Cross-validating: Random Forerst with a threshold of 0.001\n",
      "0.7423122721630204\n",
      "Cross-validating: ExTreeClf with a threshold of 0.001\n",
      "0.7409374056436839\n",
      "Cross-validating: XGBoost with a threshold of 0.001\n",
      "0.6945350877085994\n",
      "Cross-validating: CatBoost with a threshold of 0.001\n",
      "0.7001857125266677\n",
      "Cross-validating: Logistic Regression with a threshold of 0.001\n",
      "0.6650222664062362\n",
      "Cross-validating: Gaussian NB with a threshold of 0.001\n",
      "0.6212353125298752\n",
      "Cross-validating: Multinomial NB with a threshold of 0.001\n",
      "0.613022110648288\n",
      "Cross-validating: Decision Tree with a threshold of 0.001\n",
      "0.6857148328633764\n",
      "Cross-validating: Voting CLF with a threshold of 0.001\n",
      "0.7526969431216823\n"
     ]
    },
    {
     "data": {
      "text/html": [
       "<div>\n",
       "<style scoped>\n",
       "    .dataframe tbody tr th:only-of-type {\n",
       "        vertical-align: middle;\n",
       "    }\n",
       "\n",
       "    .dataframe tbody tr th {\n",
       "        vertical-align: top;\n",
       "    }\n",
       "\n",
       "    .dataframe thead th {\n",
       "        text-align: right;\n",
       "    }\n",
       "</style>\n",
       "<table border=\"1\" class=\"dataframe\">\n",
       "  <thead>\n",
       "    <tr style=\"text-align: right;\">\n",
       "      <th></th>\n",
       "      <th>Model</th>\n",
       "      <th>0.0</th>\n",
       "      <th>0.0002</th>\n",
       "      <th>0.0006</th>\n",
       "      <th>0.0009</th>\n",
       "      <th>0.001</th>\n",
       "    </tr>\n",
       "  </thead>\n",
       "  <tbody>\n",
       "    <tr>\n",
       "      <th>0</th>\n",
       "      <td>Random Forerst</td>\n",
       "      <td>0.742975</td>\n",
       "      <td>0.742569</td>\n",
       "      <td>0.743171</td>\n",
       "      <td>0.742005</td>\n",
       "      <td>0.742312</td>\n",
       "    </tr>\n",
       "    <tr>\n",
       "      <th>1</th>\n",
       "      <td>ExTreeClf</td>\n",
       "      <td>0.741357</td>\n",
       "      <td>0.741257</td>\n",
       "      <td>0.741950</td>\n",
       "      <td>0.741391</td>\n",
       "      <td>0.740937</td>\n",
       "    </tr>\n",
       "    <tr>\n",
       "      <th>2</th>\n",
       "      <td>XGBoost</td>\n",
       "      <td>0.696639</td>\n",
       "      <td>0.695711</td>\n",
       "      <td>0.695672</td>\n",
       "      <td>0.694583</td>\n",
       "      <td>0.694535</td>\n",
       "    </tr>\n",
       "    <tr>\n",
       "      <th>3</th>\n",
       "      <td>CatBoost</td>\n",
       "      <td>0.701625</td>\n",
       "      <td>0.700807</td>\n",
       "      <td>0.700992</td>\n",
       "      <td>0.699898</td>\n",
       "      <td>0.700186</td>\n",
       "    </tr>\n",
       "    <tr>\n",
       "      <th>4</th>\n",
       "      <td>Logistic Regression</td>\n",
       "      <td>0.665625</td>\n",
       "      <td>0.665430</td>\n",
       "      <td>0.665185</td>\n",
       "      <td>0.665123</td>\n",
       "      <td>0.665022</td>\n",
       "    </tr>\n",
       "    <tr>\n",
       "      <th>5</th>\n",
       "      <td>Gaussian NB</td>\n",
       "      <td>0.620112</td>\n",
       "      <td>0.619892</td>\n",
       "      <td>0.621221</td>\n",
       "      <td>0.621250</td>\n",
       "      <td>0.621235</td>\n",
       "    </tr>\n",
       "    <tr>\n",
       "      <th>6</th>\n",
       "      <td>Multinomial NB</td>\n",
       "      <td>0.613471</td>\n",
       "      <td>0.613238</td>\n",
       "      <td>0.613173</td>\n",
       "      <td>0.613008</td>\n",
       "      <td>0.613022</td>\n",
       "    </tr>\n",
       "    <tr>\n",
       "      <th>7</th>\n",
       "      <td>Decision Tree</td>\n",
       "      <td>0.687598</td>\n",
       "      <td>0.686811</td>\n",
       "      <td>0.686439</td>\n",
       "      <td>0.686096</td>\n",
       "      <td>0.685715</td>\n",
       "    </tr>\n",
       "    <tr>\n",
       "      <th>8</th>\n",
       "      <td>Voting CLF</td>\n",
       "      <td>0.753429</td>\n",
       "      <td>0.752949</td>\n",
       "      <td>0.753853</td>\n",
       "      <td>0.752594</td>\n",
       "      <td>0.752697</td>\n",
       "    </tr>\n",
       "  </tbody>\n",
       "</table>\n",
       "</div>"
      ],
      "text/plain": [
       "                 Model       0.0    0.0002    0.0006    0.0009     0.001\n",
       "0       Random Forerst  0.742975  0.742569  0.743171  0.742005  0.742312\n",
       "1            ExTreeClf  0.741357  0.741257  0.741950  0.741391  0.740937\n",
       "2              XGBoost  0.696639  0.695711  0.695672  0.694583  0.694535\n",
       "3             CatBoost  0.701625  0.700807  0.700992  0.699898  0.700186\n",
       "4  Logistic Regression  0.665625  0.665430  0.665185  0.665123  0.665022\n",
       "5          Gaussian NB  0.620112  0.619892  0.621221  0.621250  0.621235\n",
       "6       Multinomial NB  0.613471  0.613238  0.613173  0.613008  0.613022\n",
       "7        Decision Tree  0.687598  0.686811  0.686439  0.686096  0.685715\n",
       "8           Voting CLF  0.753429  0.752949  0.753853  0.752594  0.752697"
      ]
     },
     "metadata": {},
     "output_type": "display_data"
    },
    {
     "name": "stdout",
     "output_type": "stream",
     "text": [
      "Features selected: 65\n",
      "Cross-validating: Random Forerst with a threshold of 0.01\n",
      "0.7383268386389055\n",
      "Cross-validating: ExTreeClf with a threshold of 0.01\n",
      "0.7365128822807502\n",
      "Cross-validating: XGBoost with a threshold of 0.01\n",
      "0.6845271241039302\n",
      "Cross-validating: CatBoost with a threshold of 0.01\n",
      "0.6894963142610575\n",
      "Cross-validating: Logistic Regression with a threshold of 0.01\n",
      "0.6497475770466832\n",
      "Cross-validating: Gaussian NB with a threshold of 0.01\n",
      "0.6158126376299051\n",
      "Cross-validating: Multinomial NB with a threshold of 0.01\n",
      "0.6099148692086056\n",
      "Cross-validating: Decision Tree with a threshold of 0.01\n",
      "0.6834233889907244\n",
      "Cross-validating: Voting CLF with a threshold of 0.01\n",
      "0.7453547311084219\n"
     ]
    },
    {
     "data": {
      "text/html": [
       "<div>\n",
       "<style scoped>\n",
       "    .dataframe tbody tr th:only-of-type {\n",
       "        vertical-align: middle;\n",
       "    }\n",
       "\n",
       "    .dataframe tbody tr th {\n",
       "        vertical-align: top;\n",
       "    }\n",
       "\n",
       "    .dataframe thead th {\n",
       "        text-align: right;\n",
       "    }\n",
       "</style>\n",
       "<table border=\"1\" class=\"dataframe\">\n",
       "  <thead>\n",
       "    <tr style=\"text-align: right;\">\n",
       "      <th></th>\n",
       "      <th>Model</th>\n",
       "      <th>0.0</th>\n",
       "      <th>0.0002</th>\n",
       "      <th>0.0006</th>\n",
       "      <th>0.0009</th>\n",
       "      <th>0.001</th>\n",
       "      <th>0.01</th>\n",
       "    </tr>\n",
       "  </thead>\n",
       "  <tbody>\n",
       "    <tr>\n",
       "      <th>0</th>\n",
       "      <td>Random Forerst</td>\n",
       "      <td>0.742975</td>\n",
       "      <td>0.742569</td>\n",
       "      <td>0.743171</td>\n",
       "      <td>0.742005</td>\n",
       "      <td>0.742312</td>\n",
       "      <td>0.738327</td>\n",
       "    </tr>\n",
       "    <tr>\n",
       "      <th>1</th>\n",
       "      <td>ExTreeClf</td>\n",
       "      <td>0.741357</td>\n",
       "      <td>0.741257</td>\n",
       "      <td>0.741950</td>\n",
       "      <td>0.741391</td>\n",
       "      <td>0.740937</td>\n",
       "      <td>0.736513</td>\n",
       "    </tr>\n",
       "    <tr>\n",
       "      <th>2</th>\n",
       "      <td>XGBoost</td>\n",
       "      <td>0.696639</td>\n",
       "      <td>0.695711</td>\n",
       "      <td>0.695672</td>\n",
       "      <td>0.694583</td>\n",
       "      <td>0.694535</td>\n",
       "      <td>0.684527</td>\n",
       "    </tr>\n",
       "    <tr>\n",
       "      <th>3</th>\n",
       "      <td>CatBoost</td>\n",
       "      <td>0.701625</td>\n",
       "      <td>0.700807</td>\n",
       "      <td>0.700992</td>\n",
       "      <td>0.699898</td>\n",
       "      <td>0.700186</td>\n",
       "      <td>0.689496</td>\n",
       "    </tr>\n",
       "    <tr>\n",
       "      <th>4</th>\n",
       "      <td>Logistic Regression</td>\n",
       "      <td>0.665625</td>\n",
       "      <td>0.665430</td>\n",
       "      <td>0.665185</td>\n",
       "      <td>0.665123</td>\n",
       "      <td>0.665022</td>\n",
       "      <td>0.649748</td>\n",
       "    </tr>\n",
       "    <tr>\n",
       "      <th>5</th>\n",
       "      <td>Gaussian NB</td>\n",
       "      <td>0.620112</td>\n",
       "      <td>0.619892</td>\n",
       "      <td>0.621221</td>\n",
       "      <td>0.621250</td>\n",
       "      <td>0.621235</td>\n",
       "      <td>0.615813</td>\n",
       "    </tr>\n",
       "    <tr>\n",
       "      <th>6</th>\n",
       "      <td>Multinomial NB</td>\n",
       "      <td>0.613471</td>\n",
       "      <td>0.613238</td>\n",
       "      <td>0.613173</td>\n",
       "      <td>0.613008</td>\n",
       "      <td>0.613022</td>\n",
       "      <td>0.609915</td>\n",
       "    </tr>\n",
       "    <tr>\n",
       "      <th>7</th>\n",
       "      <td>Decision Tree</td>\n",
       "      <td>0.687598</td>\n",
       "      <td>0.686811</td>\n",
       "      <td>0.686439</td>\n",
       "      <td>0.686096</td>\n",
       "      <td>0.685715</td>\n",
       "      <td>0.683423</td>\n",
       "    </tr>\n",
       "    <tr>\n",
       "      <th>8</th>\n",
       "      <td>Voting CLF</td>\n",
       "      <td>0.753429</td>\n",
       "      <td>0.752949</td>\n",
       "      <td>0.753853</td>\n",
       "      <td>0.752594</td>\n",
       "      <td>0.752697</td>\n",
       "      <td>0.745355</td>\n",
       "    </tr>\n",
       "  </tbody>\n",
       "</table>\n",
       "</div>"
      ],
      "text/plain": [
       "                 Model       0.0    0.0002    0.0006    0.0009     0.001  \\\n",
       "0       Random Forerst  0.742975  0.742569  0.743171  0.742005  0.742312   \n",
       "1            ExTreeClf  0.741357  0.741257  0.741950  0.741391  0.740937   \n",
       "2              XGBoost  0.696639  0.695711  0.695672  0.694583  0.694535   \n",
       "3             CatBoost  0.701625  0.700807  0.700992  0.699898  0.700186   \n",
       "4  Logistic Regression  0.665625  0.665430  0.665185  0.665123  0.665022   \n",
       "5          Gaussian NB  0.620112  0.619892  0.621221  0.621250  0.621235   \n",
       "6       Multinomial NB  0.613471  0.613238  0.613173  0.613008  0.613022   \n",
       "7        Decision Tree  0.687598  0.686811  0.686439  0.686096  0.685715   \n",
       "8           Voting CLF  0.753429  0.752949  0.753853  0.752594  0.752697   \n",
       "\n",
       "       0.01  \n",
       "0  0.738327  \n",
       "1  0.736513  \n",
       "2  0.684527  \n",
       "3  0.689496  \n",
       "4  0.649748  \n",
       "5  0.615813  \n",
       "6  0.609915  \n",
       "7  0.683423  \n",
       "8  0.745355  "
      ]
     },
     "metadata": {},
     "output_type": "display_data"
    },
    {
     "name": "stdout",
     "output_type": "stream",
     "text": [
      "CPU times: user 43.4 s, sys: 2min 42s, total: 3min 25s\n",
      "Wall time: 1h 35min 48s\n"
     ]
    }
   ],
   "source": [
    "%%time\n",
    "gc.collect()\n",
    "\n",
    "threshold_list = [0.0, 0.0002, 0.0006, 0.0009, 0.001, 0.01]\n",
    "features_selected = []\n",
    "scaler = MinMaxScaler((0, 1))\n",
    "#scoring_list = ['accuracy', 'precision', 'recall', 'f1', 'roc_auc']\n",
    "scoring_list = ['accuracy']\n",
    "k = 5\n",
    "kfold = StratifiedKFold(n_splits=k)\n",
    "\n",
    "result_df = pd.DataFrame({'Model': model_pipeline.keys()})\n",
    "\n",
    "for threshold_value in threshold_list:\n",
    "    gc.collect()\n",
    "    print(\"Features selected:\", fs_variance(df_train,threshold_value))\n",
    "    features_selected.append(fs_variance(df_train,threshold_value))\n",
    "    acc_list = []\n",
    "    # roc_auc_list = []\n",
    "    # recall_list = []\n",
    "    # precision_list = []\n",
    "    # f1_list = []\n",
    "\n",
    "    for name, model in model_pipeline.items():\n",
    "        gc.collect()\n",
    "        print(\"Cross-validating:\", name, \"with a threshold of\", threshold_value)\n",
    "\n",
    "        pipeline = Pipeline([('scaling', scaler),('variance', VarianceThreshold(threshold=threshold_value)), ('estimator', model)])\n",
    "        cv_results = cross_validate(pipeline, X, y, cv=kfold, scoring=['accuracy'], return_estimator=True, n_jobs=-1)  # this works, but pipleline has not feature importnace\n",
    "        # cv_results = cross_validate(model, X, y, cv=cv, scoring=scoring_list, return_estimator=True, n_jobs=cpu_count, error_score='raise')\n",
    "\n",
    "        print(np.mean(cv_results['test_accuracy']))\n",
    "        \n",
    "        acc_list.append(np.mean(cv_results['test_accuracy']))\n",
    "        #roc_auc_list.append(np.mean(cv_results['test_roc_auc']))\n",
    "        #recall_list.append(np.mean(cv_results['test_recall']))\n",
    "        #precision_list.append(np.mean(cv_results['test_precision']))\n",
    "        #f1_list.append(np.mean(cv_results['test_f1']))\n",
    "\n",
    "    threshold_column = str(threshold_value)\n",
    "    result_df[threshold_column] = acc_list\n",
    "    display(result_df)\n"
   ]
  },
  {
   "cell_type": "code",
   "execution_count": 22,
   "metadata": {},
   "outputs": [
    {
     "data": {
      "text/html": [
       "<div>\n",
       "<style scoped>\n",
       "    .dataframe tbody tr th:only-of-type {\n",
       "        vertical-align: middle;\n",
       "    }\n",
       "\n",
       "    .dataframe tbody tr th {\n",
       "        vertical-align: top;\n",
       "    }\n",
       "\n",
       "    .dataframe thead th {\n",
       "        text-align: right;\n",
       "    }\n",
       "</style>\n",
       "<table border=\"1\" class=\"dataframe\">\n",
       "  <thead>\n",
       "    <tr style=\"text-align: right;\">\n",
       "      <th></th>\n",
       "      <th>Model</th>\n",
       "      <th>0.0</th>\n",
       "      <th>0.0002</th>\n",
       "      <th>0.0006</th>\n",
       "      <th>0.0009</th>\n",
       "      <th>0.001</th>\n",
       "      <th>0.01</th>\n",
       "    </tr>\n",
       "  </thead>\n",
       "  <tbody>\n",
       "    <tr>\n",
       "      <th>0</th>\n",
       "      <td>Features Selected</td>\n",
       "      <td>151.000000</td>\n",
       "      <td>140.000000</td>\n",
       "      <td>133.000000</td>\n",
       "      <td>129.000000</td>\n",
       "      <td>128.000000</td>\n",
       "      <td>65.000000</td>\n",
       "    </tr>\n",
       "    <tr>\n",
       "      <th>1</th>\n",
       "      <td>Random Forerst</td>\n",
       "      <td>0.742975</td>\n",
       "      <td>0.742569</td>\n",
       "      <td>0.743171</td>\n",
       "      <td>0.742005</td>\n",
       "      <td>0.742312</td>\n",
       "      <td>0.738327</td>\n",
       "    </tr>\n",
       "    <tr>\n",
       "      <th>2</th>\n",
       "      <td>ExTreeClf</td>\n",
       "      <td>0.741357</td>\n",
       "      <td>0.741257</td>\n",
       "      <td>0.741950</td>\n",
       "      <td>0.741391</td>\n",
       "      <td>0.740937</td>\n",
       "      <td>0.736513</td>\n",
       "    </tr>\n",
       "    <tr>\n",
       "      <th>3</th>\n",
       "      <td>XGBoost</td>\n",
       "      <td>0.696639</td>\n",
       "      <td>0.695711</td>\n",
       "      <td>0.695672</td>\n",
       "      <td>0.694583</td>\n",
       "      <td>0.694535</td>\n",
       "      <td>0.684527</td>\n",
       "    </tr>\n",
       "    <tr>\n",
       "      <th>4</th>\n",
       "      <td>CatBoost</td>\n",
       "      <td>0.701625</td>\n",
       "      <td>0.700807</td>\n",
       "      <td>0.700992</td>\n",
       "      <td>0.699898</td>\n",
       "      <td>0.700186</td>\n",
       "      <td>0.689496</td>\n",
       "    </tr>\n",
       "    <tr>\n",
       "      <th>5</th>\n",
       "      <td>Logistic Regression</td>\n",
       "      <td>0.665625</td>\n",
       "      <td>0.665430</td>\n",
       "      <td>0.665185</td>\n",
       "      <td>0.665123</td>\n",
       "      <td>0.665022</td>\n",
       "      <td>0.649748</td>\n",
       "    </tr>\n",
       "    <tr>\n",
       "      <th>6</th>\n",
       "      <td>Gaussian NB</td>\n",
       "      <td>0.620112</td>\n",
       "      <td>0.619892</td>\n",
       "      <td>0.621221</td>\n",
       "      <td>0.621250</td>\n",
       "      <td>0.621235</td>\n",
       "      <td>0.615813</td>\n",
       "    </tr>\n",
       "    <tr>\n",
       "      <th>7</th>\n",
       "      <td>Multinomial NB</td>\n",
       "      <td>0.613471</td>\n",
       "      <td>0.613238</td>\n",
       "      <td>0.613173</td>\n",
       "      <td>0.613008</td>\n",
       "      <td>0.613022</td>\n",
       "      <td>0.609915</td>\n",
       "    </tr>\n",
       "    <tr>\n",
       "      <th>8</th>\n",
       "      <td>Decision Tree</td>\n",
       "      <td>0.687598</td>\n",
       "      <td>0.686811</td>\n",
       "      <td>0.686439</td>\n",
       "      <td>0.686096</td>\n",
       "      <td>0.685715</td>\n",
       "      <td>0.683423</td>\n",
       "    </tr>\n",
       "    <tr>\n",
       "      <th>9</th>\n",
       "      <td>Voting CLF</td>\n",
       "      <td>0.753429</td>\n",
       "      <td>0.752949</td>\n",
       "      <td>0.753853</td>\n",
       "      <td>0.752594</td>\n",
       "      <td>0.752697</td>\n",
       "      <td>0.745355</td>\n",
       "    </tr>\n",
       "  </tbody>\n",
       "</table>\n",
       "</div>"
      ],
      "text/plain": [
       "                 Model         0.0      0.0002      0.0006      0.0009  \\\n",
       "0    Features Selected  151.000000  140.000000  133.000000  129.000000   \n",
       "1       Random Forerst    0.742975    0.742569    0.743171    0.742005   \n",
       "2            ExTreeClf    0.741357    0.741257    0.741950    0.741391   \n",
       "3              XGBoost    0.696639    0.695711    0.695672    0.694583   \n",
       "4             CatBoost    0.701625    0.700807    0.700992    0.699898   \n",
       "5  Logistic Regression    0.665625    0.665430    0.665185    0.665123   \n",
       "6          Gaussian NB    0.620112    0.619892    0.621221    0.621250   \n",
       "7       Multinomial NB    0.613471    0.613238    0.613173    0.613008   \n",
       "8        Decision Tree    0.687598    0.686811    0.686439    0.686096   \n",
       "9           Voting CLF    0.753429    0.752949    0.753853    0.752594   \n",
       "\n",
       "        0.001       0.01  \n",
       "0  128.000000  65.000000  \n",
       "1    0.742312   0.738327  \n",
       "2    0.740937   0.736513  \n",
       "3    0.694535   0.684527  \n",
       "4    0.700186   0.689496  \n",
       "5    0.665022   0.649748  \n",
       "6    0.621235   0.615813  \n",
       "7    0.613022   0.609915  \n",
       "8    0.685715   0.683423  \n",
       "9    0.752697   0.745355  "
      ]
     },
     "execution_count": 22,
     "metadata": {},
     "output_type": "execute_result"
    }
   ],
   "source": [
    "# Add new first row with selected features\n",
    "data_new_row = ['Features Selected'] + features_selected\n",
    "result_df.loc[-1] = pd.Series(data_new_row, index=result_df.columns)\n",
    "result_df.index = result_df.index + 1\n",
    "result_df = result_df.sort_index()\n",
    "result_df"
   ]
  },
  {
   "cell_type": "code",
   "execution_count": 23,
   "metadata": {},
   "outputs": [],
   "source": [
    "def style_highlight_max(s):\n",
    "    if s.dtype == np.object:\n",
    "        is_max = [False for _ in range(s.shape[0])]\n",
    "    else:\n",
    "        is_max = s == s.max()\n",
    "    return ['background: darkgreen' if cell else '' for cell in is_max]"
   ]
  },
  {
   "cell_type": "code",
   "execution_count": 24,
   "metadata": {},
   "outputs": [
    {
     "data": {
      "text/html": [
       "<style type=\"text/css\">\n",
       "#T_4e1ea caption {\n",
       "  caption-side: bottom;\n",
       "  font-size: 0.9em;\n",
       "}\n",
       "#T_4e1ea_row0_col0, #T_4e1ea_row1_col0, #T_4e1ea_row1_col1, #T_4e1ea_row1_col2, #T_4e1ea_row1_col3, #T_4e1ea_row1_col4, #T_4e1ea_row1_col5, #T_4e1ea_row1_col6, #T_4e1ea_row2_col0, #T_4e1ea_row2_col1, #T_4e1ea_row2_col2, #T_4e1ea_row2_col3, #T_4e1ea_row2_col4, #T_4e1ea_row2_col5, #T_4e1ea_row2_col6, #T_4e1ea_row3_col0, #T_4e1ea_row3_col1, #T_4e1ea_row3_col2, #T_4e1ea_row3_col3, #T_4e1ea_row3_col4, #T_4e1ea_row3_col5, #T_4e1ea_row3_col6, #T_4e1ea_row4_col0, #T_4e1ea_row4_col1, #T_4e1ea_row4_col2, #T_4e1ea_row4_col3, #T_4e1ea_row4_col4, #T_4e1ea_row4_col5, #T_4e1ea_row4_col6, #T_4e1ea_row5_col0, #T_4e1ea_row5_col1, #T_4e1ea_row5_col2, #T_4e1ea_row5_col3, #T_4e1ea_row5_col4, #T_4e1ea_row5_col5, #T_4e1ea_row5_col6, #T_4e1ea_row6_col0, #T_4e1ea_row6_col1, #T_4e1ea_row6_col2, #T_4e1ea_row6_col3, #T_4e1ea_row6_col4, #T_4e1ea_row6_col5, #T_4e1ea_row6_col6, #T_4e1ea_row7_col0, #T_4e1ea_row7_col1, #T_4e1ea_row7_col2, #T_4e1ea_row7_col3, #T_4e1ea_row7_col4, #T_4e1ea_row7_col5, #T_4e1ea_row7_col6, #T_4e1ea_row8_col0, #T_4e1ea_row8_col1, #T_4e1ea_row8_col2, #T_4e1ea_row8_col3, #T_4e1ea_row8_col4, #T_4e1ea_row8_col5, #T_4e1ea_row8_col6, #T_4e1ea_row9_col0, #T_4e1ea_row9_col1, #T_4e1ea_row9_col2, #T_4e1ea_row9_col3, #T_4e1ea_row9_col4, #T_4e1ea_row9_col5, #T_4e1ea_row9_col6 {\n",
       "  text-align: center;\n",
       "}\n",
       "#T_4e1ea_row0_col1, #T_4e1ea_row0_col2, #T_4e1ea_row0_col3, #T_4e1ea_row0_col4, #T_4e1ea_row0_col5, #T_4e1ea_row0_col6 {\n",
       "  text-align: center;\n",
       "  background: darkgreen;\n",
       "}\n",
       "</style>\n",
       "<table id=\"T_4e1ea\">\n",
       "  <caption><br>Cross-validation accuracy scores with kFold=5<br>Fastrun enabled:False</caption>\n",
       "  <thead>\n",
       "    <tr>\n",
       "      <th id=\"T_4e1ea_level0_col0\" class=\"col_heading level0 col0\" >Model</th>\n",
       "      <th id=\"T_4e1ea_level0_col1\" class=\"col_heading level0 col1\" >0.0</th>\n",
       "      <th id=\"T_4e1ea_level0_col2\" class=\"col_heading level0 col2\" >0.0002</th>\n",
       "      <th id=\"T_4e1ea_level0_col3\" class=\"col_heading level0 col3\" >0.0006</th>\n",
       "      <th id=\"T_4e1ea_level0_col4\" class=\"col_heading level0 col4\" >0.0009</th>\n",
       "      <th id=\"T_4e1ea_level0_col5\" class=\"col_heading level0 col5\" >0.001</th>\n",
       "      <th id=\"T_4e1ea_level0_col6\" class=\"col_heading level0 col6\" >0.01</th>\n",
       "    </tr>\n",
       "  </thead>\n",
       "  <tbody>\n",
       "    <tr>\n",
       "      <td id=\"T_4e1ea_row0_col0\" class=\"data row0 col0\" >Features Selected</td>\n",
       "      <td id=\"T_4e1ea_row0_col1\" class=\"data row0 col1\" >151.000000</td>\n",
       "      <td id=\"T_4e1ea_row0_col2\" class=\"data row0 col2\" >140.000000</td>\n",
       "      <td id=\"T_4e1ea_row0_col3\" class=\"data row0 col3\" >133.000000</td>\n",
       "      <td id=\"T_4e1ea_row0_col4\" class=\"data row0 col4\" >129.000000</td>\n",
       "      <td id=\"T_4e1ea_row0_col5\" class=\"data row0 col5\" >128.000000</td>\n",
       "      <td id=\"T_4e1ea_row0_col6\" class=\"data row0 col6\" >65.000000</td>\n",
       "    </tr>\n",
       "    <tr>\n",
       "      <td id=\"T_4e1ea_row1_col0\" class=\"data row1 col0\" >Random Forerst</td>\n",
       "      <td id=\"T_4e1ea_row1_col1\" class=\"data row1 col1\" >0.742975</td>\n",
       "      <td id=\"T_4e1ea_row1_col2\" class=\"data row1 col2\" >0.742569</td>\n",
       "      <td id=\"T_4e1ea_row1_col3\" class=\"data row1 col3\" >0.743171</td>\n",
       "      <td id=\"T_4e1ea_row1_col4\" class=\"data row1 col4\" >0.742005</td>\n",
       "      <td id=\"T_4e1ea_row1_col5\" class=\"data row1 col5\" >0.742312</td>\n",
       "      <td id=\"T_4e1ea_row1_col6\" class=\"data row1 col6\" >0.738327</td>\n",
       "    </tr>\n",
       "    <tr>\n",
       "      <td id=\"T_4e1ea_row2_col0\" class=\"data row2 col0\" >ExTreeClf</td>\n",
       "      <td id=\"T_4e1ea_row2_col1\" class=\"data row2 col1\" >0.741357</td>\n",
       "      <td id=\"T_4e1ea_row2_col2\" class=\"data row2 col2\" >0.741257</td>\n",
       "      <td id=\"T_4e1ea_row2_col3\" class=\"data row2 col3\" >0.741950</td>\n",
       "      <td id=\"T_4e1ea_row2_col4\" class=\"data row2 col4\" >0.741391</td>\n",
       "      <td id=\"T_4e1ea_row2_col5\" class=\"data row2 col5\" >0.740937</td>\n",
       "      <td id=\"T_4e1ea_row2_col6\" class=\"data row2 col6\" >0.736513</td>\n",
       "    </tr>\n",
       "    <tr>\n",
       "      <td id=\"T_4e1ea_row3_col0\" class=\"data row3 col0\" >XGBoost</td>\n",
       "      <td id=\"T_4e1ea_row3_col1\" class=\"data row3 col1\" >0.696639</td>\n",
       "      <td id=\"T_4e1ea_row3_col2\" class=\"data row3 col2\" >0.695711</td>\n",
       "      <td id=\"T_4e1ea_row3_col3\" class=\"data row3 col3\" >0.695672</td>\n",
       "      <td id=\"T_4e1ea_row3_col4\" class=\"data row3 col4\" >0.694583</td>\n",
       "      <td id=\"T_4e1ea_row3_col5\" class=\"data row3 col5\" >0.694535</td>\n",
       "      <td id=\"T_4e1ea_row3_col6\" class=\"data row3 col6\" >0.684527</td>\n",
       "    </tr>\n",
       "    <tr>\n",
       "      <td id=\"T_4e1ea_row4_col0\" class=\"data row4 col0\" >CatBoost</td>\n",
       "      <td id=\"T_4e1ea_row4_col1\" class=\"data row4 col1\" >0.701625</td>\n",
       "      <td id=\"T_4e1ea_row4_col2\" class=\"data row4 col2\" >0.700807</td>\n",
       "      <td id=\"T_4e1ea_row4_col3\" class=\"data row4 col3\" >0.700992</td>\n",
       "      <td id=\"T_4e1ea_row4_col4\" class=\"data row4 col4\" >0.699898</td>\n",
       "      <td id=\"T_4e1ea_row4_col5\" class=\"data row4 col5\" >0.700186</td>\n",
       "      <td id=\"T_4e1ea_row4_col6\" class=\"data row4 col6\" >0.689496</td>\n",
       "    </tr>\n",
       "    <tr>\n",
       "      <td id=\"T_4e1ea_row5_col0\" class=\"data row5 col0\" >Logistic Regression</td>\n",
       "      <td id=\"T_4e1ea_row5_col1\" class=\"data row5 col1\" >0.665625</td>\n",
       "      <td id=\"T_4e1ea_row5_col2\" class=\"data row5 col2\" >0.665430</td>\n",
       "      <td id=\"T_4e1ea_row5_col3\" class=\"data row5 col3\" >0.665185</td>\n",
       "      <td id=\"T_4e1ea_row5_col4\" class=\"data row5 col4\" >0.665123</td>\n",
       "      <td id=\"T_4e1ea_row5_col5\" class=\"data row5 col5\" >0.665022</td>\n",
       "      <td id=\"T_4e1ea_row5_col6\" class=\"data row5 col6\" >0.649748</td>\n",
       "    </tr>\n",
       "    <tr>\n",
       "      <td id=\"T_4e1ea_row6_col0\" class=\"data row6 col0\" >Gaussian NB</td>\n",
       "      <td id=\"T_4e1ea_row6_col1\" class=\"data row6 col1\" >0.620112</td>\n",
       "      <td id=\"T_4e1ea_row6_col2\" class=\"data row6 col2\" >0.619892</td>\n",
       "      <td id=\"T_4e1ea_row6_col3\" class=\"data row6 col3\" >0.621221</td>\n",
       "      <td id=\"T_4e1ea_row6_col4\" class=\"data row6 col4\" >0.621250</td>\n",
       "      <td id=\"T_4e1ea_row6_col5\" class=\"data row6 col5\" >0.621235</td>\n",
       "      <td id=\"T_4e1ea_row6_col6\" class=\"data row6 col6\" >0.615813</td>\n",
       "    </tr>\n",
       "    <tr>\n",
       "      <td id=\"T_4e1ea_row7_col0\" class=\"data row7 col0\" >Multinomial NB</td>\n",
       "      <td id=\"T_4e1ea_row7_col1\" class=\"data row7 col1\" >0.613471</td>\n",
       "      <td id=\"T_4e1ea_row7_col2\" class=\"data row7 col2\" >0.613238</td>\n",
       "      <td id=\"T_4e1ea_row7_col3\" class=\"data row7 col3\" >0.613173</td>\n",
       "      <td id=\"T_4e1ea_row7_col4\" class=\"data row7 col4\" >0.613008</td>\n",
       "      <td id=\"T_4e1ea_row7_col5\" class=\"data row7 col5\" >0.613022</td>\n",
       "      <td id=\"T_4e1ea_row7_col6\" class=\"data row7 col6\" >0.609915</td>\n",
       "    </tr>\n",
       "    <tr>\n",
       "      <td id=\"T_4e1ea_row8_col0\" class=\"data row8 col0\" >Decision Tree</td>\n",
       "      <td id=\"T_4e1ea_row8_col1\" class=\"data row8 col1\" >0.687598</td>\n",
       "      <td id=\"T_4e1ea_row8_col2\" class=\"data row8 col2\" >0.686811</td>\n",
       "      <td id=\"T_4e1ea_row8_col3\" class=\"data row8 col3\" >0.686439</td>\n",
       "      <td id=\"T_4e1ea_row8_col4\" class=\"data row8 col4\" >0.686096</td>\n",
       "      <td id=\"T_4e1ea_row8_col5\" class=\"data row8 col5\" >0.685715</td>\n",
       "      <td id=\"T_4e1ea_row8_col6\" class=\"data row8 col6\" >0.683423</td>\n",
       "    </tr>\n",
       "    <tr>\n",
       "      <td id=\"T_4e1ea_row9_col0\" class=\"data row9 col0\" >Voting CLF</td>\n",
       "      <td id=\"T_4e1ea_row9_col1\" class=\"data row9 col1\" >0.753429</td>\n",
       "      <td id=\"T_4e1ea_row9_col2\" class=\"data row9 col2\" >0.752949</td>\n",
       "      <td id=\"T_4e1ea_row9_col3\" class=\"data row9 col3\" >0.753853</td>\n",
       "      <td id=\"T_4e1ea_row9_col4\" class=\"data row9 col4\" >0.752594</td>\n",
       "      <td id=\"T_4e1ea_row9_col5\" class=\"data row9 col5\" >0.752697</td>\n",
       "      <td id=\"T_4e1ea_row9_col6\" class=\"data row9 col6\" >0.745355</td>\n",
       "    </tr>\n",
       "  </tbody>\n",
       "</table>\n"
      ],
      "text/plain": [
       "<pandas.io.formats.style.Styler at 0x14cd73c70>"
      ]
     },
     "execution_count": 24,
     "metadata": {},
     "output_type": "execute_result"
    }
   ],
   "source": [
    "result_df.style\\\n",
    "    .set_properties(**{'text-align': 'center'})\\\n",
    "    .apply(style_highlight_max)\\\n",
    "    .format(\n",
    "        {\n",
    "            'Accuracy': '{:,.3f}',\n",
    "            'Recall': '{:,.3f}',\n",
    "            'Precision': '{:,.3f}',\n",
    "            'F1': '{:,.3f}',\n",
    "            'AUC': '{:,.3f}',\n",
    "        })\\\n",
    "    .set_caption(f'<br>Cross-validation accuracy scores with kFold={k}<br>Fastrun enabled:{FASTRUN}')\\\n",
    "    .set_table_styles([{\n",
    "        'selector': 'caption',\n",
    "        'props': 'caption-side: bottom; font-size:0.9em;'}], overwrite=False)\\\n",
    "    .hide_index()"
   ]
  },
  {
   "cell_type": "code",
   "execution_count": 25,
   "metadata": {},
   "outputs": [
    {
     "name": "stdout",
     "output_type": "stream",
     "text": [
      "Today's date: 2023-02-17\n"
     ]
    }
   ],
   "source": [
    "from datetime import date\n",
    "\n",
    "today = date.today()\n",
    "print(\"Today's date:\", today)\n",
    "\n",
    "PATH_DATA_REP = \"reports/\"\n",
    "result_df.to_csv(ROOT_PATH+PATH_DATA_REP+f\"{today}__feature_selection_variance_table.csv\")"
   ]
  },
  {
   "cell_type": "code",
   "execution_count": 55,
   "metadata": {},
   "outputs": [],
   "source": [
    "def plot2(df, l1, l2, p1, p2, c=\"b\"):\n",
    "    feat = []\n",
    "    feat = df.columns.tolist()\n",
    "    feat = feat[1:]\n",
    "    plt.figure(figsize=(16, 18))\n",
    "    for j in range(0, df.shape[0]):\n",
    "        value = []\n",
    "        k = 0\n",
    "        for i in range(1, len(df.columns.tolist())):\n",
    "            value.append(df.iloc[j][i])\n",
    "        plt.subplot(3, 3, j+1)\n",
    "        ax = sns.pointplot(x=feat, y=value, color=c)\n",
    "        # set chart title\n",
    "        ax.set_title(df.iloc[j][0])  # check if this line creates proper chart titles\n",
    "        #plt.text(p1, p2, df.iloc[j][0])\n",
    "        plt.xticks(rotation=90)\n",
    "        ax.set(ylim=(l1, l2))\n",
    "        k = k+1\n",
    "    plt.savefig(ROOT_PATH+PATH_DATA_REP+ f\"figures/{today}_feature_selection_variance_chart.jpg\")"
   ]
  },
  {
   "cell_type": "code",
   "execution_count": 58,
   "metadata": {},
   "outputs": [
    {
     "data": {
      "image/png": "[encoded data removed]",
      "text/plain": [
       "<Figure size 1600x1800 with 9 Axes>"
      ]
     },
     "metadata": {},
     "output_type": "display_data"
    }
   ],
   "source": [
    "plot_df = result_df.iloc[1:]\n",
    "plot2(plot_df, 0.5, 1.0, 2.5, 0.91, c=\"blue\")"
   ]
  },
  {
   "cell_type": "markdown",
   "metadata": {
    "cell_id": "7cff3bd86533418a9c15c4f9dfcccde6",
    "deepnote_app_coordinates": {
     "h": 5,
     "w": 12,
     "x": 0,
     "y": 235
    },
    "deepnote_cell_type": "markdown",
    "id": "ti9wgudgBzw9"
   },
   "source": [
    "# Watermark"
   ]
  },
  {
   "cell_type": "code",
   "execution_count": null,
   "metadata": {
    "cell_id": "45a6cb036a284a63a571810ee439aeae",
    "deepnote_app_coordinates": {
     "h": 5,
     "w": 12,
     "x": 0,
     "y": 241
    },
    "deepnote_cell_type": "code",
    "deepnote_to_be_reexecuted": true,
    "execution_millis": 42,
    "execution_start": 1674563448577,
    "id": "f7PuaC1JBzw-",
    "source_hash": "ee060237"
   },
   "outputs": [
    {
     "name": "stdout",
     "output_type": "stream",
     "text": [
      "Last updated: 2023-02-16T01:26:41.216244+01:00\n",
      "\n",
      "Python implementation: CPython\n",
      "Python version       : 3.9.0\n",
      "IPython version      : 8.9.0\n",
      "\n",
      "Compiler    : Clang 11.0.0 \n",
      "OS          : Darwin\n",
      "Release     : 22.3.0\n",
      "Machine     : arm64\n",
      "Processor   : arm\n",
      "CPU cores   : 10\n",
      "Architecture: 64bit\n",
      "\n"
     ]
    }
   ],
   "source": [
    "%watermark"
   ]
  },
  {
   "cell_type": "code",
   "execution_count": null,
   "metadata": {
    "cell_id": "49184b42a9124b75992040c1edb02f3f",
    "deepnote_app_coordinates": {
     "h": 5,
     "w": 12,
     "x": 0,
     "y": 247
    },
    "deepnote_cell_type": "code",
    "deepnote_to_be_reexecuted": true,
    "execution_millis": 37,
    "execution_start": 1674563451701,
    "id": "SU12PVZ2BzxA",
    "source_hash": "82959e25"
   },
   "outputs": [
    {
     "name": "stdout",
     "output_type": "stream",
     "text": [
      "pandas    : 1.5.3\n",
      "numpy     : 1.23.5\n",
      "seaborn   : 0.12.2\n",
      "matplotlib: 3.6.3\n",
      "\n"
     ]
    }
   ],
   "source": [
    "%watermark --iversions"
   ]
  }
 ],
 "metadata": {
  "colab": {
   "collapsed_sections": [
    "FSazCCmDbqKg"
   ],
   "provenance": []
  },
  "deepnote": {},
  "deepnote_app_layout": "article",
  "deepnote_execution_queue": [],
  "deepnote_notebook_id": "9a9c04096ce744f096ec4c3e58773e56",
  "deepnote_persisted_session": {
   "createdAt": "2023-01-25T20:01:30.909Z"
  },
  "kernelspec": {
   "display_name": "siads696",
   "language": "python",
   "name": "python3"
  },
  "language_info": {
   "codemirror_mode": {
    "name": "ipython",
    "version": 3
   },
   "file_extension": ".py",
   "mimetype": "text/x-python",
   "name": "python",
   "nbconvert_exporter": "python",
   "pygments_lexer": "ipython3",
   "version": "3.9.0"
  },
  "vscode": {
   "interpreter": {
    "hash": "e06bb46ff2b522e8ed41cde06a3284743bf4ee3b709766dafa5d4f926bdfb013"
   }
  }
 },
 "nbformat": 4,
 "nbformat_minor": 0
}
