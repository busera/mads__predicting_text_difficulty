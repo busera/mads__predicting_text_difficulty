{
 "cells": [
  {
   "cell_type": "markdown",
   "metadata": {
    "id": "4aR6EqpzwJ9r"
   },
   "source": [
    "v1.0"
   ]
  },
  {
   "cell_type": "markdown",
   "metadata": {
    "id": "Kpo41JTRwJ9v"
   },
   "source": [
    "The objective of this notebook is to:\n",
    "- evaluate the model's sensitivity regarding **n_estimators**"
   ]
  },
  {
   "cell_type": "markdown",
   "metadata": {
    "id": "9txWEqnLwJ9v"
   },
   "source": [
    "# Pre-checks"
   ]
  },
  {
   "cell_type": "code",
   "execution_count": null,
   "metadata": {
    "id": "WYr9Yqm_R0l7",
    "outputId": "140b5e6d-25b2-442b-fcf7-9ad7b542248c"
   },
   "outputs": [
    {
     "name": "stdout",
     "output_type": "stream",
     "text": [
      "Not a Goolge Drive Environment.\n"
     ]
    }
   ],
   "source": [
    "## Check for Google Drive Connectivity\n",
    "try:\n",
    "    from google.colab import drive\n",
    "    drive.mount('/content/drive')\n",
    "    google_env = True\n",
    "except:\n",
    "    print(\"Not a Goolge Drive Environment.\")\n",
    "    google_env = False"
   ]
  },
  {
   "cell_type": "code",
   "execution_count": null,
   "metadata": {
    "id": "T_FulwOgR0l8"
   },
   "outputs": [],
   "source": [
    "import time\n",
    "t_start = time.time()"
   ]
  },
  {
   "cell_type": "code",
   "execution_count": null,
   "metadata": {
    "id": "RxZajmxMR0l9",
    "outputId": "4c3865f2-f919-4810-8721-9cf23dca833a"
   },
   "outputs": [
    {
     "name": "stdout",
     "output_type": "stream",
     "text": [
      "========================================================================================================================\n",
      "Fastrun enabled: False\n",
      "========================================================================================================================\n"
     ]
    }
   ],
   "source": [
    "# Use parameters to enable/disable the fastrun\n",
    "\n",
    "FASTRUN = False\n",
    "#FASTRUN = True\n",
    "\n",
    "# Size of the fastrun dataframe\n",
    "sample_fraction = 0.005\n",
    "print(\"===\"*40)\n",
    "print(\"Fastrun enabled:\", FASTRUN)\n",
    "if FASTRUN: print(\"Sample size:\",sample_fraction)\n",
    "print(\"===\"*40)\n"
   ]
  },
  {
   "cell_type": "markdown",
   "metadata": {
    "id": "uZms1pauBzw0"
   },
   "source": [
    "# Setup Environment"
   ]
  },
  {
   "cell_type": "markdown",
   "metadata": {
    "id": "FSazCCmDbqKg"
   },
   "source": [
    "## Install Modules"
   ]
  },
  {
   "cell_type": "code",
   "execution_count": null,
   "metadata": {
    "id": "1Vo8zBrWbqKg"
   },
   "outputs": [],
   "source": [
    "#!pip install watermark\n",
    "#!pip install icecream"
   ]
  },
  {
   "cell_type": "markdown",
   "metadata": {
    "id": "hHwYAoFSBzw1"
   },
   "source": [
    "## Import Modules"
   ]
  },
  {
   "cell_type": "code",
   "execution_count": null,
   "metadata": {
    "id": "nbk1jSYhBzw2"
   },
   "outputs": [],
   "source": [
    "# Base libraries\n",
    "import os\n",
    "from datetime import date\n",
    "\n",
    "# Scientific libraries\n",
    "import numpy as np\n",
    "import pandas as pd\n",
    "\n",
    "# Visualization\n",
    "import seaborn as sns\n",
    "import matplotlib.pyplot as plt\n",
    "plt.rcParams[\"figure.figsize\"] = (12,8)\n",
    "\n",
    "sns.set(rc={'figure.figsize':(12,8)})\n",
    "sns.set(font_scale=0.8)\n",
    "\n",
    "# Helper libraries\n",
    "from watermark import watermark\n",
    "from icecream import ic\n",
    "import gc # garbage collection to optimize memory usage: use \"gc.collect()\"\n",
    "import warnings\n",
    "warnings.filterwarnings('ignore')\n",
    "\n",
    "# Pandas options\n",
    "pd.set_option('display.max_rows', None)\n",
    "pd.set_option('display.max_columns', None)\n",
    "pd.set_option('display.width', None)\n",
    "pd.set_option('display.max_colwidth', None)\n",
    "\n",
    "from IPython.core.interactiveshell import InteractiveShell\n",
    "InteractiveShell.ast_node_interactivity = 'all'\n",
    "\n",
    "# Load magic commands\n",
    "%load_ext watermark"
   ]
  },
  {
   "cell_type": "markdown",
   "metadata": {
    "id": "C46IJ3IeBzw5"
   },
   "source": [
    "## Global Parameters"
   ]
  },
  {
   "cell_type": "code",
   "execution_count": null,
   "metadata": {
    "id": "rVPFKtMUBzw6"
   },
   "outputs": [],
   "source": [
    "seed = 42\n",
    "cpu_count = os.cpu_count()\n",
    "cpu_count = cpu_count-2  # to keep machine responsive when fitting the models\n",
    "notebook_no = \"08.01\"\n",
    "today = date.today()"
   ]
  },
  {
   "cell_type": "markdown",
   "metadata": {
    "id": "SdUPJZbDR0mA"
   },
   "source": [
    "## Global Helper Functions"
   ]
  },
  {
   "cell_type": "code",
   "execution_count": null,
   "metadata": {
    "id": "EdpbueLMR0mA"
   },
   "outputs": [],
   "source": [
    "import http.client\n",
    "import urllib\n",
    "\n",
    "\n",
    "def send_push(message):\n",
    "    \"\"\"Send push notifications to pushover service.\"\"\"\n",
    "    try:\n",
    "        conn = http.client.HTTPSConnection(\"api.pushover.net:443\")\n",
    "        conn.request(\"POST\", \"/1/messages.json\",\n",
    "                     urllib.parse.urlencode({\n",
    "                         \"token\": \"ahs1q4mwpnxe3645zeaqzas69whq7a\",  # ML Notifications Channel\n",
    "                         \"user\": \"u5vr1qkc9ghudg2ehuug153okeiz1d\",\n",
    "                         \"message\": message,\n",
    "                     }), {\"Content-type\": \"application/x-www-form-urlencoded\"})\n",
    "\n",
    "        conn.getresponse()\n",
    "\n",
    "    except:\n",
    "        print(\"There was a communication issue (pushover).\")\n"
   ]
  },
  {
   "cell_type": "code",
   "execution_count": null,
   "metadata": {
    "id": "fYeTVfQeR0mA"
   },
   "outputs": [],
   "source": [
    "def fast_run_sampling(df, sample_fraction):\n",
    "    \"\"\"Return a fraction of the dataset.\"\"\"\n",
    "    print(\"Labels before sampling:\\n\", df['label'].value_counts())\n",
    "    df = df.groupby('label').sample(frac=sample_fraction, random_state=seed) \n",
    "    #df = df.sample(n=sample_size, random_state=seed).reset_index(drop=True)\n",
    "    print(\"Labels after sampling:\\n\", df['label'].value_counts())\n",
    "    return df\n",
    "    "
   ]
  },
  {
   "cell_type": "code",
   "execution_count": null,
   "metadata": {
    "id": "-iWMMZG2wJ92"
   },
   "outputs": [],
   "source": [
    "def calculate_duration(t_start, t_end):\n",
    "    \"\"\"Return run time in minutes.\"\"\"\n",
    "    total_runtime = t_end-t_start\n",
    "    total_runtime_min = round((total_runtime/60), 2)\n",
    "    print(str(total_runtime_min)+\" minutes\")\n",
    "\n",
    "    return total_runtime_min\n"
   ]
  },
  {
   "cell_type": "markdown",
   "metadata": {
    "id": "6YBbHzbqBzw8"
   },
   "source": [
    "# 3.0 Load Data"
   ]
  },
  {
   "cell_type": "code",
   "execution_count": null,
   "metadata": {
    "id": "QUyCYBdWdeWq",
    "outputId": "a05ad7b5-365e-4110-d00f-ab95996998b9"
   },
   "outputs": [
    {
     "name": "stdout",
     "output_type": "stream",
     "text": [
      "Not a Google Drive Environment. Loading local files.\n"
     ]
    }
   ],
   "source": [
    "# Load Data\n",
    "if google_env:\n",
    "    # Location for \"shared with\" people\n",
    "    # create a shortcut of the shared folder in your Google Drive root folder\n",
    "    ROOT_PATH = \"/content/drive/MyDrive/SIADS696/Environment/\"\n",
    "else:\n",
    "    ROOT_PATH = \"../\"\n",
    "    print(\"Not a Google Drive Environment. Loading local files.\")\n",
    "\n",
    "PATH_DATA = \"data/\"\n",
    "PATH_DATA_RAW = \"data/raw/\"\n",
    "PATH_DATA_INT = \"data/interim/\"\n",
    "PATH_DATA_PRO = \"data/processed/\"\n",
    "PATH_DATA_MOD = \"models/\"\n",
    "PATH_DATA_REP = \"reports/\"\n",
    "PATH_DATA_FIG = \"reports/figures/\"\n",
    "PATH_DATA_HTML = \"reports/html/\"\n",
    "\n",
    "# Dictionary to store file names and their corresponding dataframes\n",
    "files = {\n",
    "    \"train_features_clean_stats.parquet.gzip\": \"df_wiki_train_stats\",\n",
    "    \"test_features_clean_stats.parquet.gzip\": \"df_wiki_test_stats\",\n",
    "    \"train_features_rs.parquet.gzip\": \"df_wiki_train_rs\",\n",
    "    \"test_features_rs.parquet.gzip\": \"df_wiki_test_rs\",\n",
    "    \"train_features_nltk.parquet.gzip\": \"df_wiki_train_nltk\",\n",
    "    \"test_features_nltk.parquet.gzip\": \"df_wiki_test_nltk\",\n",
    "    \"train_features_aoa.parquet.gzip\": \"df_wiki_train_aoa\",\n",
    "    \"test_features_aoa.parquet.gzip\": \"df_wiki_test_aoa\",\n",
    "    \"train_features_crb.parquet.gzip\": \"df_wiki_train_crb\",\n",
    "    \"test_features_crb.parquet.gzip\": \"df_wiki_test_crb\",\n",
    "    \"train_features_w2v.parquet.gzip\": \"df_wiki_train_w2v\",\n",
    "    \"test_features_w2v.parquet.gzip\": \"df_wiki_test_w2v\",\n",
    "   # \"train_mNB_predict.parquet.gzip\": \"df_wiki_train_MNB\",  # data leakage risk\n",
    "   # \"test_mNB_predict.parquet.gzip\": \"df_wiki_test_MNB\",    # data leakage risk\n",
    "}\n",
    "\n",
    "# Load data into corresponding dataframes\n",
    "for file, df_name in files.items():\n",
    "    if df_name not in globals():\n",
    "        globals()[df_name] = pd.read_parquet(ROOT_PATH + PATH_DATA_INT + file)\n"
   ]
  },
  {
   "cell_type": "code",
   "execution_count": null,
   "metadata": {
    "id": "rlyIC3wER0mC"
   },
   "outputs": [],
   "source": [
    "# Combine dataframes into one\n",
    "df_train = pd.DataFrame()\n",
    "df_train = pd.concat([df_train, df_wiki_train_stats], axis=1)\n",
    "df_train = pd.concat([df_train, df_wiki_train_rs], axis=1)\n",
    "df_train = pd.concat([df_train, df_wiki_train_nltk], axis=1)\n",
    "df_train = pd.concat([df_train, df_wiki_train_aoa], axis=1)\n",
    "df_train = pd.concat([df_train, df_wiki_train_crb], axis=1)\n",
    "df_train = pd.concat([df_train, df_wiki_train_w2v], axis=1)\n",
    "\n",
    "if FASTRUN:\n",
    "    df_train = fast_run_sampling(df_train, sample_fraction)\n"
   ]
  },
  {
   "cell_type": "code",
   "execution_count": null,
   "metadata": {
    "id": "Z4lZLG9IR0mC",
    "outputId": "ac96f14b-c261-4707-a600-8b8cef3919e9"
   },
   "outputs": [
    {
     "data": {
      "text/plain": [
       "(416768, 155)"
      ]
     },
     "execution_count": 12,
     "metadata": {},
     "output_type": "execute_result"
    }
   ],
   "source": [
    "df_train.shape"
   ]
  },
  {
   "cell_type": "code",
   "execution_count": null,
   "metadata": {
    "id": "hM_-gb_OwJ93",
    "outputId": "acd51f60-7bf9-4883-ec6d-274a75f326ad"
   },
   "outputs": [
    {
     "name": "stderr",
     "output_type": "stream",
     "text": [
      "ic| len(rfecv_selected_feature): 125\n"
     ]
    }
   ],
   "source": [
    "df_rfecv_selected_feature = pd.read_csv(ROOT_PATH+PATH_DATA_INT+\"RFECV10-RF-selected_features-table_04.02.csv\")\n",
    "rfecv_selected_feature = sorted(df_rfecv_selected_feature['Selected Features'].to_list())\n",
    "ic(len(rfecv_selected_feature));\n"
   ]
  },
  {
   "cell_type": "markdown",
   "metadata": {
    "id": "e2HJrw_6R0mE"
   },
   "source": [
    "# Sensitivity Analysis"
   ]
  },
  {
   "cell_type": "code",
   "execution_count": null,
   "metadata": {
    "id": "lXJniM1ewJ94"
   },
   "outputs": [],
   "source": [
    "from sklearn.ensemble import RandomForestClassifier\n",
    "from sklearn.model_selection import RandomizedSearchCV\n",
    "from sklearn.preprocessing import MinMaxScaler\n",
    "from sklearn.model_selection import StratifiedKFold\n",
    "from sklearn.pipeline import Pipeline\n",
    "from scipy.stats import randint"
   ]
  },
  {
   "cell_type": "code",
   "execution_count": null,
   "metadata": {
    "id": "y3oRdgHRwJ94"
   },
   "outputs": [],
   "source": [
    "k=10\n",
    "skfold = StratifiedKFold(n_splits=k)\n",
    "scaler = MinMaxScaler((0, 1))\n",
    "rf = RandomForestClassifier(random_state=seed, n_jobs=-1)\n",
    "\n",
    "n_iter = 25\n"
   ]
  },
  {
   "cell_type": "code",
   "execution_count": null,
   "metadata": {
    "id": "Qq-GoUN4wJ94",
    "outputId": "ff8c8ba8-c947-451d-a12b-a3bc81e8e806"
   },
   "outputs": [
    {
     "name": "stderr",
     "output_type": "stream",
     "text": [
      "ic| X.shape: (416768, 125)\n",
      "ic| y.shape: (416768,)\n"
     ]
    }
   ],
   "source": [
    "X = df_train[rfecv_selected_feature].copy()\n",
    "y = df_train[\"label\"]\n",
    "\n",
    "ic(X.shape);\n",
    "ic(y.shape);\n"
   ]
  },
  {
   "cell_type": "code",
   "execution_count": null,
   "metadata": {
    "id": "6vElBqzKwJ94"
   },
   "outputs": [],
   "source": [
    "pipeline = Pipeline([('scaler', scaler), ('estimator', rf)])"
   ]
  },
  {
   "cell_type": "code",
   "execution_count": null,
   "metadata": {
    "id": "wSGkYzPMwJ95",
    "outputId": "1c4f3970-63b2-4e5d-92ff-a2c4865b455f"
   },
   "outputs": [
    {
     "data": {
      "text/html": [
       "<style>#sk-container-id-1 {color: black;background-color: white;}#sk-container-id-1 pre{padding: 0;}#sk-container-id-1 div.sk-toggleable {background-color: white;}#sk-container-id-1 label.sk-toggleable__label {cursor: pointer;display: block;width: 100%;margin-bottom: 0;padding: 0.3em;box-sizing: border-box;text-align: center;}#sk-container-id-1 label.sk-toggleable__label-arrow:before {content: \"▸\";float: left;margin-right: 0.25em;color: #696969;}#sk-container-id-1 label.sk-toggleable__label-arrow:hover:before {color: black;}#sk-container-id-1 div.sk-estimator:hover label.sk-toggleable__label-arrow:before {color: black;}#sk-container-id-1 div.sk-toggleable__content {max-height: 0;max-width: 0;overflow: hidden;text-align: left;background-color: #f0f8ff;}#sk-container-id-1 div.sk-toggleable__content pre {margin: 0.2em;color: black;border-radius: 0.25em;background-color: #f0f8ff;}#sk-container-id-1 input.sk-toggleable__control:checked~div.sk-toggleable__content {max-height: 200px;max-width: 100%;overflow: auto;}#sk-container-id-1 input.sk-toggleable__control:checked~label.sk-toggleable__label-arrow:before {content: \"▾\";}#sk-container-id-1 div.sk-estimator input.sk-toggleable__control:checked~label.sk-toggleable__label {background-color: #d4ebff;}#sk-container-id-1 div.sk-label input.sk-toggleable__control:checked~label.sk-toggleable__label {background-color: #d4ebff;}#sk-container-id-1 input.sk-hidden--visually {border: 0;clip: rect(1px 1px 1px 1px);clip: rect(1px, 1px, 1px, 1px);height: 1px;margin: -1px;overflow: hidden;padding: 0;position: absolute;width: 1px;}#sk-container-id-1 div.sk-estimator {font-family: monospace;background-color: #f0f8ff;border: 1px dotted black;border-radius: 0.25em;box-sizing: border-box;margin-bottom: 0.5em;}#sk-container-id-1 div.sk-estimator:hover {background-color: #d4ebff;}#sk-container-id-1 div.sk-parallel-item::after {content: \"\";width: 100%;border-bottom: 1px solid gray;flex-grow: 1;}#sk-container-id-1 div.sk-label:hover label.sk-toggleable__label {background-color: #d4ebff;}#sk-container-id-1 div.sk-serial::before {content: \"\";position: absolute;border-left: 1px solid gray;box-sizing: border-box;top: 0;bottom: 0;left: 50%;z-index: 0;}#sk-container-id-1 div.sk-serial {display: flex;flex-direction: column;align-items: center;background-color: white;padding-right: 0.2em;padding-left: 0.2em;position: relative;}#sk-container-id-1 div.sk-item {position: relative;z-index: 1;}#sk-container-id-1 div.sk-parallel {display: flex;align-items: stretch;justify-content: center;background-color: white;position: relative;}#sk-container-id-1 div.sk-item::before, #sk-container-id-1 div.sk-parallel-item::before {content: \"\";position: absolute;border-left: 1px solid gray;box-sizing: border-box;top: 0;bottom: 0;left: 50%;z-index: -1;}#sk-container-id-1 div.sk-parallel-item {display: flex;flex-direction: column;z-index: 1;position: relative;background-color: white;}#sk-container-id-1 div.sk-parallel-item:first-child::after {align-self: flex-end;width: 50%;}#sk-container-id-1 div.sk-parallel-item:last-child::after {align-self: flex-start;width: 50%;}#sk-container-id-1 div.sk-parallel-item:only-child::after {width: 0;}#sk-container-id-1 div.sk-dashed-wrapped {border: 1px dashed gray;margin: 0 0.4em 0.5em 0.4em;box-sizing: border-box;padding-bottom: 0.4em;background-color: white;}#sk-container-id-1 div.sk-label label {font-family: monospace;font-weight: bold;display: inline-block;line-height: 1.2em;}#sk-container-id-1 div.sk-label-container {text-align: center;}#sk-container-id-1 div.sk-container {/* jupyter's `normalize.less` sets `[hidden] { display: none; }` but bootstrap.min.css set `[hidden] { display: none !important; }` so we also need the `!important` here to be able to override the default hidden behavior on the sphinx rendered scikit-learn.org. See: https://github.com/scikit-learn/scikit-learn/issues/21755 */display: inline-block !important;position: relative;}#sk-container-id-1 div.sk-text-repr-fallback {display: none;}</style><div id=\"sk-container-id-1\" class=\"sk-top-container\"><div class=\"sk-text-repr-fallback\"><pre>RandomizedSearchCV(cv=StratifiedKFold(n_splits=10, random_state=None, shuffle=False),\n",
       "                   estimator=Pipeline(steps=[(&#x27;scaler&#x27;, MinMaxScaler()),\n",
       "                                             (&#x27;estimator&#x27;,\n",
       "                                              RandomForestClassifier(n_jobs=-1,\n",
       "                                                                     random_state=42))]),\n",
       "                   n_iter=25, n_jobs=-1,\n",
       "                   param_distributions={&#x27;estimator__n_estimators&#x27;: &lt;scipy.stats._distn_infrastructure.rv_discrete_frozen object at 0x000002886A4B18A0&gt;},\n",
       "                   random_state=42, scoring=&#x27;accuracy&#x27;)</pre><b>In a Jupyter environment, please rerun this cell to show the HTML representation or trust the notebook. <br />On GitHub, the HTML representation is unable to render, please try loading this page with nbviewer.org.</b></div><div class=\"sk-container\" hidden><div class=\"sk-item sk-dashed-wrapped\"><div class=\"sk-label-container\"><div class=\"sk-label sk-toggleable\"><input class=\"sk-toggleable__control sk-hidden--visually\" id=\"sk-estimator-id-1\" type=\"checkbox\" ><label for=\"sk-estimator-id-1\" class=\"sk-toggleable__label sk-toggleable__label-arrow\">RandomizedSearchCV</label><div class=\"sk-toggleable__content\"><pre>RandomizedSearchCV(cv=StratifiedKFold(n_splits=10, random_state=None, shuffle=False),\n",
       "                   estimator=Pipeline(steps=[(&#x27;scaler&#x27;, MinMaxScaler()),\n",
       "                                             (&#x27;estimator&#x27;,\n",
       "                                              RandomForestClassifier(n_jobs=-1,\n",
       "                                                                     random_state=42))]),\n",
       "                   n_iter=25, n_jobs=-1,\n",
       "                   param_distributions={&#x27;estimator__n_estimators&#x27;: &lt;scipy.stats._distn_infrastructure.rv_discrete_frozen object at 0x000002886A4B18A0&gt;},\n",
       "                   random_state=42, scoring=&#x27;accuracy&#x27;)</pre></div></div></div><div class=\"sk-parallel\"><div class=\"sk-parallel-item\"><div class=\"sk-item\"><div class=\"sk-label-container\"><div class=\"sk-label sk-toggleable\"><input class=\"sk-toggleable__control sk-hidden--visually\" id=\"sk-estimator-id-2\" type=\"checkbox\" ><label for=\"sk-estimator-id-2\" class=\"sk-toggleable__label sk-toggleable__label-arrow\">estimator: Pipeline</label><div class=\"sk-toggleable__content\"><pre>Pipeline(steps=[(&#x27;scaler&#x27;, MinMaxScaler()),\n",
       "                (&#x27;estimator&#x27;,\n",
       "                 RandomForestClassifier(n_jobs=-1, random_state=42))])</pre></div></div></div><div class=\"sk-serial\"><div class=\"sk-item\"><div class=\"sk-serial\"><div class=\"sk-item\"><div class=\"sk-estimator sk-toggleable\"><input class=\"sk-toggleable__control sk-hidden--visually\" id=\"sk-estimator-id-3\" type=\"checkbox\" ><label for=\"sk-estimator-id-3\" class=\"sk-toggleable__label sk-toggleable__label-arrow\">MinMaxScaler</label><div class=\"sk-toggleable__content\"><pre>MinMaxScaler()</pre></div></div></div><div class=\"sk-item\"><div class=\"sk-estimator sk-toggleable\"><input class=\"sk-toggleable__control sk-hidden--visually\" id=\"sk-estimator-id-4\" type=\"checkbox\" ><label for=\"sk-estimator-id-4\" class=\"sk-toggleable__label sk-toggleable__label-arrow\">RandomForestClassifier</label><div class=\"sk-toggleable__content\"><pre>RandomForestClassifier(n_jobs=-1, random_state=42)</pre></div></div></div></div></div></div></div></div></div></div></div></div>"
      ],
      "text/plain": [
       "RandomizedSearchCV(cv=StratifiedKFold(n_splits=10, random_state=None, shuffle=False),\n",
       "                   estimator=Pipeline(steps=[('scaler', MinMaxScaler()),\n",
       "                                             ('estimator',\n",
       "                                              RandomForestClassifier(n_jobs=-1,\n",
       "                                                                     random_state=42))]),\n",
       "                   n_iter=25, n_jobs=-1,\n",
       "                   param_distributions={'estimator__n_estimators': <scipy.stats._distn_infrastructure.rv_discrete_frozen object at 0x000002886A4B18A0>},\n",
       "                   random_state=42, scoring='accuracy')"
      ]
     },
     "execution_count": 18,
     "metadata": {},
     "output_type": "execute_result"
    },
    {
     "name": "stdout",
     "output_type": "stream",
     "text": [
      "Best hyperparameters:  {'estimator__n_estimators': 418}\n"
     ]
    }
   ],
   "source": [
    "# Define the hyperparameter search space\n",
    "param_dist = {'estimator__n_estimators': randint(5, 600),\n",
    "             # 'estimator__max_features': ['sqrt', 'log2', None],\n",
    "             # 'estimator__max_depth': [None, 5, 10, 15, 20, 25],\n",
    "             # 'estimator__min_samples_split': randint(2, 10),\n",
    "             # 'estimator__min_samples_leaf': randint(1, 10)\n",
    "             }\n",
    "\n",
    "# Perform the hyperparameter search\n",
    "search = RandomizedSearchCV(estimator=pipeline,\n",
    "                            param_distributions=param_dist,\n",
    "                            n_iter=n_iter,\n",
    "                            scoring='accuracy',\n",
    "                            cv=skfold,\n",
    "                            n_jobs=-1,\n",
    "                            random_state=seed)\n",
    "\n",
    "search.fit(X, y)\n",
    "\n",
    "# Print the best hyperparameters\n",
    "print(\"Best hyperparameters: \", search.best_params_)\n"
   ]
  },
  {
   "cell_type": "code",
   "execution_count": null,
   "metadata": {
    "id": "8Sxq58TtwJ95",
    "outputId": "ee4b3e51-2088-41e8-aa71-378f8e322c20"
   },
   "outputs": [
    {
     "data": {
      "text/plain": [
       "dict_keys(['mean_fit_time', 'std_fit_time', 'mean_score_time', 'std_score_time', 'param_estimator__n_estimators', 'params', 'split0_test_score', 'split1_test_score', 'split2_test_score', 'split3_test_score', 'split4_test_score', 'split5_test_score', 'split6_test_score', 'split7_test_score', 'split8_test_score', 'split9_test_score', 'mean_test_score', 'std_test_score', 'rank_test_score'])"
      ]
     },
     "execution_count": 19,
     "metadata": {},
     "output_type": "execute_result"
    }
   ],
   "source": [
    "search.cv_results_.keys()"
   ]
  },
  {
   "cell_type": "code",
   "execution_count": null,
   "metadata": {
    "id": "tHBWidicwJ95"
   },
   "outputs": [],
   "source": [
    "# Extract the mean test scores and standard deviations for each set of hyperparameters\n",
    "means = search.cv_results_['mean_test_score']\n",
    "stds = search.cv_results_['std_test_score']\n",
    "\n",
    "# Extract the values of the n_estimators hyperparameter for each set of hyperparameters\n",
    "n_estimators = search.cv_results_['param_estimator__n_estimators'].data"
   ]
  },
  {
   "cell_type": "code",
   "execution_count": null,
   "metadata": {
    "id": "lX9S8dwfwJ95",
    "outputId": "5b0e888d-6ae2-4fd7-fc04-123801f57797"
   },
   "outputs": [
    {
     "data": {
      "text/html": [
       "<div>\n",
       "<style scoped>\n",
       "    .dataframe tbody tr th:only-of-type {\n",
       "        vertical-align: middle;\n",
       "    }\n",
       "\n",
       "    .dataframe tbody tr th {\n",
       "        vertical-align: top;\n",
       "    }\n",
       "\n",
       "    .dataframe thead th {\n",
       "        text-align: right;\n",
       "    }\n",
       "</style>\n",
       "<table border=\"1\" class=\"dataframe\">\n",
       "  <thead>\n",
       "    <tr style=\"text-align: right;\">\n",
       "      <th></th>\n",
       "      <th>n_estimators</th>\n",
       "      <th>Accuracy</th>\n",
       "      <th>STD</th>\n",
       "      <th>lower_band</th>\n",
       "      <th>upper_band</th>\n",
       "    </tr>\n",
       "  </thead>\n",
       "  <tbody>\n",
       "    <tr>\n",
       "      <th>5</th>\n",
       "      <td>25</td>\n",
       "      <td>0.737943</td>\n",
       "      <td>0.001577</td>\n",
       "      <td>0.736365</td>\n",
       "      <td>0.739520</td>\n",
       "    </tr>\n",
       "    <tr>\n",
       "      <th>4</th>\n",
       "      <td>76</td>\n",
       "      <td>0.747901</td>\n",
       "      <td>0.000819</td>\n",
       "      <td>0.747081</td>\n",
       "      <td>0.748720</td>\n",
       "    </tr>\n",
       "    <tr>\n",
       "      <th>11</th>\n",
       "      <td>92</td>\n",
       "      <td>0.748870</td>\n",
       "      <td>0.001139</td>\n",
       "      <td>0.747731</td>\n",
       "      <td>0.750009</td>\n",
       "    </tr>\n",
       "    <tr>\n",
       "      <th>13</th>\n",
       "      <td>104</td>\n",
       "      <td>0.749391</td>\n",
       "      <td>0.001004</td>\n",
       "      <td>0.748387</td>\n",
       "      <td>0.750394</td>\n",
       "    </tr>\n",
       "    <tr>\n",
       "      <th>0</th>\n",
       "      <td>107</td>\n",
       "      <td>0.749573</td>\n",
       "      <td>0.001035</td>\n",
       "      <td>0.748537</td>\n",
       "      <td>0.750608</td>\n",
       "    </tr>\n",
       "    <tr>\n",
       "      <th>3</th>\n",
       "      <td>111</td>\n",
       "      <td>0.749664</td>\n",
       "      <td>0.001028</td>\n",
       "      <td>0.748636</td>\n",
       "      <td>0.750692</td>\n",
       "    </tr>\n",
       "    <tr>\n",
       "      <th>6</th>\n",
       "      <td>126</td>\n",
       "      <td>0.750338</td>\n",
       "      <td>0.001208</td>\n",
       "      <td>0.749131</td>\n",
       "      <td>0.751546</td>\n",
       "    </tr>\n",
       "    <tr>\n",
       "      <th>14</th>\n",
       "      <td>135</td>\n",
       "      <td>0.750657</td>\n",
       "      <td>0.001165</td>\n",
       "      <td>0.749493</td>\n",
       "      <td>0.751822</td>\n",
       "    </tr>\n",
       "    <tr>\n",
       "      <th>22</th>\n",
       "      <td>165</td>\n",
       "      <td>0.751070</td>\n",
       "      <td>0.001187</td>\n",
       "      <td>0.749883</td>\n",
       "      <td>0.752257</td>\n",
       "    </tr>\n",
       "    <tr>\n",
       "      <th>20</th>\n",
       "      <td>196</td>\n",
       "      <td>0.751596</td>\n",
       "      <td>0.001387</td>\n",
       "      <td>0.750208</td>\n",
       "      <td>0.752983</td>\n",
       "    </tr>\n",
       "    <tr>\n",
       "      <th>8</th>\n",
       "      <td>219</td>\n",
       "      <td>0.751526</td>\n",
       "      <td>0.001386</td>\n",
       "      <td>0.750140</td>\n",
       "      <td>0.752912</td>\n",
       "    </tr>\n",
       "    <tr>\n",
       "      <th>2</th>\n",
       "      <td>275</td>\n",
       "      <td>0.752075</td>\n",
       "      <td>0.001313</td>\n",
       "      <td>0.750762</td>\n",
       "      <td>0.753389</td>\n",
       "    </tr>\n",
       "    <tr>\n",
       "      <th>21</th>\n",
       "      <td>281</td>\n",
       "      <td>0.752047</td>\n",
       "      <td>0.001313</td>\n",
       "      <td>0.750734</td>\n",
       "      <td>0.753360</td>\n",
       "    </tr>\n",
       "    <tr>\n",
       "      <th>15</th>\n",
       "      <td>313</td>\n",
       "      <td>0.752138</td>\n",
       "      <td>0.001579</td>\n",
       "      <td>0.750559</td>\n",
       "      <td>0.753717</td>\n",
       "    </tr>\n",
       "    <tr>\n",
       "      <th>24</th>\n",
       "      <td>318</td>\n",
       "      <td>0.752040</td>\n",
       "      <td>0.001608</td>\n",
       "      <td>0.750432</td>\n",
       "      <td>0.753647</td>\n",
       "    </tr>\n",
       "    <tr>\n",
       "      <th>9</th>\n",
       "      <td>335</td>\n",
       "      <td>0.752272</td>\n",
       "      <td>0.001555</td>\n",
       "      <td>0.750717</td>\n",
       "      <td>0.753827</td>\n",
       "    </tr>\n",
       "    <tr>\n",
       "      <th>16</th>\n",
       "      <td>348</td>\n",
       "      <td>0.752143</td>\n",
       "      <td>0.001510</td>\n",
       "      <td>0.750632</td>\n",
       "      <td>0.753653</td>\n",
       "    </tr>\n",
       "    <tr>\n",
       "      <th>12</th>\n",
       "      <td>377</td>\n",
       "      <td>0.752541</td>\n",
       "      <td>0.001725</td>\n",
       "      <td>0.750816</td>\n",
       "      <td>0.754266</td>\n",
       "    </tr>\n",
       "    <tr>\n",
       "      <th>19</th>\n",
       "      <td>390</td>\n",
       "      <td>0.752416</td>\n",
       "      <td>0.001820</td>\n",
       "      <td>0.750596</td>\n",
       "      <td>0.754237</td>\n",
       "    </tr>\n",
       "    <tr>\n",
       "      <th>18</th>\n",
       "      <td>418</td>\n",
       "      <td>0.752601</td>\n",
       "      <td>0.001768</td>\n",
       "      <td>0.750833</td>\n",
       "      <td>0.754369</td>\n",
       "    </tr>\n",
       "    <tr>\n",
       "      <th>1</th>\n",
       "      <td>440</td>\n",
       "      <td>0.752539</td>\n",
       "      <td>0.001683</td>\n",
       "      <td>0.750856</td>\n",
       "      <td>0.754221</td>\n",
       "    </tr>\n",
       "    <tr>\n",
       "      <th>10</th>\n",
       "      <td>463</td>\n",
       "      <td>0.752541</td>\n",
       "      <td>0.001782</td>\n",
       "      <td>0.750759</td>\n",
       "      <td>0.754323</td>\n",
       "    </tr>\n",
       "    <tr>\n",
       "      <th>23</th>\n",
       "      <td>464</td>\n",
       "      <td>0.752488</td>\n",
       "      <td>0.001769</td>\n",
       "      <td>0.750719</td>\n",
       "      <td>0.754258</td>\n",
       "    </tr>\n",
       "    <tr>\n",
       "      <th>7</th>\n",
       "      <td>471</td>\n",
       "      <td>0.752493</td>\n",
       "      <td>0.001667</td>\n",
       "      <td>0.750826</td>\n",
       "      <td>0.754160</td>\n",
       "    </tr>\n",
       "    <tr>\n",
       "      <th>17</th>\n",
       "      <td>496</td>\n",
       "      <td>0.752433</td>\n",
       "      <td>0.001586</td>\n",
       "      <td>0.750847</td>\n",
       "      <td>0.754019</td>\n",
       "    </tr>\n",
       "  </tbody>\n",
       "</table>\n",
       "</div>"
      ],
      "text/plain": [
       "   n_estimators  Accuracy       STD  lower_band  upper_band\n",
       "5            25  0.737943  0.001577    0.736365    0.739520\n",
       "4            76  0.747901  0.000819    0.747081    0.748720\n",
       "11           92  0.748870  0.001139    0.747731    0.750009\n",
       "13          104  0.749391  0.001004    0.748387    0.750394\n",
       "0           107  0.749573  0.001035    0.748537    0.750608\n",
       "3           111  0.749664  0.001028    0.748636    0.750692\n",
       "6           126  0.750338  0.001208    0.749131    0.751546\n",
       "14          135  0.750657  0.001165    0.749493    0.751822\n",
       "22          165  0.751070  0.001187    0.749883    0.752257\n",
       "20          196  0.751596  0.001387    0.750208    0.752983\n",
       "8           219  0.751526  0.001386    0.750140    0.752912\n",
       "2           275  0.752075  0.001313    0.750762    0.753389\n",
       "21          281  0.752047  0.001313    0.750734    0.753360\n",
       "15          313  0.752138  0.001579    0.750559    0.753717\n",
       "24          318  0.752040  0.001608    0.750432    0.753647\n",
       "9           335  0.752272  0.001555    0.750717    0.753827\n",
       "16          348  0.752143  0.001510    0.750632    0.753653\n",
       "12          377  0.752541  0.001725    0.750816    0.754266\n",
       "19          390  0.752416  0.001820    0.750596    0.754237\n",
       "18          418  0.752601  0.001768    0.750833    0.754369\n",
       "1           440  0.752539  0.001683    0.750856    0.754221\n",
       "10          463  0.752541  0.001782    0.750759    0.754323\n",
       "23          464  0.752488  0.001769    0.750719    0.754258\n",
       "7           471  0.752493  0.001667    0.750826    0.754160\n",
       "17          496  0.752433  0.001586    0.750847    0.754019"
      ]
     },
     "execution_count": 21,
     "metadata": {},
     "output_type": "execute_result"
    }
   ],
   "source": [
    "# Create DataFrame\n",
    "result_df = pd.DataFrame(\n",
    "    {\n",
    "    'n_estimators': n_estimators,\n",
    "    'Accuracy': means, \n",
    "    'STD': stds,\n",
    "    }\n",
    ")\n",
    "\n",
    "result_df.sort_values(\"n_estimators\", inplace=True)\n",
    "\n",
    "result_df['lower_band'] = result_df['Accuracy'] - result_df['STD']\n",
    "result_df['upper_band'] = result_df['Accuracy'] + result_df['STD']\n",
    "\n",
    "result_df"
   ]
  },
  {
   "cell_type": "code",
   "execution_count": null,
   "metadata": {
    "id": "nuliNFkzwJ96",
    "outputId": "69835b50-3174-4d62-ebd3-378ecbb8601f"
   },
   "outputs": [
    {
     "data": {
      "image/png": "[encoded data removed]",
      "text/plain": [
       "<Figure size 1200x800 with 1 Axes>"
      ]
     },
     "metadata": {},
     "output_type": "display_data"
    }
   ],
   "source": [
    "import matplotlib.pyplot as plt\n",
    "\n",
    "result_df = result_df.replace([np.inf, -np.inf], np.nan)\n",
    "\n",
    "# Determine the value of the best n_estimators and corresponding accuracy\n",
    "best_n_estimators = result_df.loc[result_df['Accuracy'].idxmax()]['n_estimators']\n",
    "best_accuracy = result_df.loc[result_df['Accuracy'].idxmax()]['Accuracy']\n",
    "\n",
    "# Create a figure and axis object\n",
    "fig, ax = plt.subplots()\n",
    "\n",
    "# Plot the mean test score\n",
    "ax.plot(result_df['n_estimators'], result_df['Accuracy'], label='Accuracy')\n",
    "\n",
    "# Add the lower and upper bounds\n",
    "ax.fill_between(result_df['n_estimators'], result_df['lower_band'], result_df['upper_band'], alpha=0.2, label='Bounds')\n",
    "\n",
    "# Add a horizontal line for the best accuracy\n",
    "ax.axhline(y=best_accuracy, color='r', linestyle='--', label='Best Accuracy')\n",
    "\n",
    "# Add a vertical line for the best n_estimators\n",
    "ax.axvline(x=best_n_estimators, color='g', linestyle='--', label='Best n_estimators')\n",
    "\n",
    "# Set the x and y axis labels\n",
    "ax.set_xlabel('n_estimators', fontsize=12)\n",
    "ax.set_ylabel('Cross-Validation Accuracy', fontsize=12)\n",
    "\n",
    "# set the y-axis range to be shorter\n",
    "plt.ylim(0.745, 0.755)\n",
    "\n",
    "# Add a title\n",
    "ax.set_title('Accuracy vs n_estimators', fontsize=14)\n",
    "\n",
    "# Add a legend with best values\n",
    "ax.legend(['Accuracy', 'Bounds', f'Best Accuracy: {best_accuracy:.4f}', f'Best n_estimators: {best_n_estimators}'])\n",
    "\n",
    "# Display the plot\n",
    "plt.show();\n"
   ]
  },
  {
   "cell_type": "code",
   "execution_count": null,
   "metadata": {
    "id": "A4phza2dwJ96",
    "outputId": "6810c822-0a84-4271-ed6f-17c18320e5e1"
   },
   "outputs": [
    {
     "name": "stdout",
     "output_type": "stream",
     "text": [
      "468.25 minutes\n"
     ]
    }
   ],
   "source": [
    "t_end = time.time()\n",
    "calculate_duration(t_start, t_end);\n"
   ]
  },
  {
   "cell_type": "markdown",
   "metadata": {
    "id": "9holBrx6wJ96"
   },
   "source": [
    "# Export"
   ]
  },
  {
   "cell_type": "code",
   "execution_count": null,
   "metadata": {
    "id": "5Mg23PJ0wJ97"
   },
   "outputs": [],
   "source": [
    "# Save the figure\n",
    "if not FASTRUN:\n",
    "     fig.savefig(ROOT_PATH+PATH_DATA_FIG+f'{today}_sensitivity-analysis_RF_n_estimators_chart_07.05.png');\n"
   ]
  },
  {
   "cell_type": "code",
   "execution_count": null,
   "metadata": {
    "id": "M1qywOvtwJ97"
   },
   "outputs": [],
   "source": [
    "if not FASTRUN:\n",
    "    result_df.to_csv(ROOT_PATH+PATH_DATA_REP+f'{today}_sensitivity-analysis_RF_n_estimators_table_07.05.csv', index=False);\n"
   ]
  },
  {
   "cell_type": "markdown",
   "metadata": {
    "id": "ti9wgudgBzw9"
   },
   "source": [
    "# Watermark"
   ]
  },
  {
   "cell_type": "code",
   "execution_count": null,
   "metadata": {
    "id": "f7PuaC1JBzw-",
    "outputId": "aafeadff-3431-44e5-fa8f-d94281a641d6"
   },
   "outputs": [
    {
     "name": "stdout",
     "output_type": "stream",
     "text": [
      "Last updated: 2023-02-25T08:02:50.369313+01:00\n",
      "\n",
      "Python implementation: CPython\n",
      "Python version       : 3.10.8\n",
      "IPython version      : 8.8.0\n",
      "\n",
      "Compiler    : MSC v.1929 64 bit (AMD64)\n",
      "OS          : Windows\n",
      "Release     : 10\n",
      "Machine     : AMD64\n",
      "Processor   : Intel64 Family 6 Model 158 Stepping 13, GenuineIntel\n",
      "CPU cores   : 8\n",
      "Architecture: 64bit\n",
      "\n"
     ]
    }
   ],
   "source": [
    "%watermark"
   ]
  },
  {
   "cell_type": "code",
   "execution_count": null,
   "metadata": {
    "id": "SU12PVZ2BzxA",
    "outputId": "35145233-ba98-423f-ca77-95011e8cd3af"
   },
   "outputs": [
    {
     "name": "stdout",
     "output_type": "stream",
     "text": [
      "pandas    : 1.5.3\n",
      "numpy     : 1.24.1\n",
      "seaborn   : 0.12.2\n",
      "matplotlib: 3.6.3\n",
      "\n"
     ]
    }
   ],
   "source": [
    "%watermark --iversions"
   ]
  },
  {
   "cell_type": "markdown",
   "metadata": {
    "id": "BdlIIXzYnOiW"
   },
   "source": [
    "-----\n"
   ]
  },
  {
   "cell_type": "code",
   "execution_count": null,
   "metadata": {
    "id": "iI4optQ3wJ98",
    "outputId": "dbf3dfde-dec2-4549-9ecb-c13845305230"
   },
   "outputs": [
    {
     "name": "stderr",
     "output_type": "stream",
     "text": [
      "[NbConvertApp] Converting notebook 08.01_sensitivity_analysis_RF-n_estimators_GC.ipynb to html\n",
      "[NbConvertApp] Writing 733341 bytes to ..\\reports\\html\\2023-02-25_08.01_sensitivity_analysis_RF-n_estimators_GC.html\n"
     ]
    }
   ],
   "source": [
    "output_file = f'{ROOT_PATH}{PATH_DATA_HTML}{today}_07.05_sensitivity_analysis_RF-n_estimators.html'\n",
    "!jupyter nbconvert --to html \"07.05_sensitivity_analysis_RF-n_estimators.ipynb\" --output {output_file}"
   ]
  }
 ],
 "metadata": {
  "colab": {
   "provenance": []
  },
  "deepnote": {},
  "deepnote_app_layout": "article",
  "deepnote_execution_queue": [],
  "deepnote_notebook_id": "9a9c04096ce744f096ec4c3e58773e56",
  "deepnote_persisted_session": {
   "createdAt": "2023-01-25T20:01:30.909Z"
  },
  "kernelspec": {
   "display_name": "Python 3",
   "language": "python",
   "name": "python3"
  },
  "language_info": {
   "codemirror_mode": {
    "name": "ipython",
    "version": 3
   },
   "file_extension": ".py",
   "mimetype": "text/x-python",
   "name": "python",
   "nbconvert_exporter": "python",
   "pygments_lexer": "ipython3",
   "version": "3.9.6"
  },
  "vscode": {
   "interpreter": {
    "hash": "31f2aee4e71d21fbe5cf8b01ff0e069b9275f58929596ceb00d14d90e3e16cd6"
   }
  }
 },
 "nbformat": 4,
 "nbformat_minor": 0
}
