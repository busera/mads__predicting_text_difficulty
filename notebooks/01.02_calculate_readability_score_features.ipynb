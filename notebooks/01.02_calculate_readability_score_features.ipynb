{
 "cells": [
  {
   "attachments": {},
   "cell_type": "markdown",
   "metadata": {},
   "source": [
    "v1.3"
   ]
  },
  {
   "attachments": {},
   "cell_type": "markdown",
   "metadata": {},
   "source": [
    "# Objective"
   ]
  },
  {
   "attachments": {},
   "cell_type": "markdown",
   "metadata": {},
   "source": [
    "The objective of this notebook is to:\n",
    "- calcualte the readability features (rs_)"
   ]
  },
  {
   "attachments": {},
   "cell_type": "markdown",
   "metadata": {},
   "source": [
    "# Pre-checks"
   ]
  },
  {
   "cell_type": "code",
   "execution_count": 14,
   "metadata": {
    "collapsed": false
   },
   "outputs": [
    {
     "name": "stdout",
     "output_type": "stream",
     "text": [
      "Not a Goolge Drive Environment.\n"
     ]
    }
   ],
   "source": [
    "## Check for Google Drive Connectivity\n",
    "try:\n",
    "    from google.colab import drive\n",
    "    drive.mount('/content/drive')\n",
    "    google_env = True\n",
    "except:\n",
    "    print(\"Not a Goolge Drive Environment.\")\n",
    "    google_env = False"
   ]
  },
  {
   "cell_type": "code",
   "execution_count": 15,
   "metadata": {
    "execution": {
     "iopub.execute_input": "2023-02-05T14:32:25.018334Z",
     "iopub.status.busy": "2023-02-05T14:32:25.017941Z",
     "iopub.status.idle": "2023-02-05T14:32:25.027331Z",
     "shell.execute_reply": "2023-02-05T14:32:25.026383Z",
     "shell.execute_reply.started": "2023-02-05T14:32:25.018259Z"
    },
    "id": "qAqggB-OexlT",
    "trusted": true
   },
   "outputs": [],
   "source": [
    "import time\n",
    "t_start = time.time()"
   ]
  },
  {
   "cell_type": "code",
   "execution_count": 16,
   "metadata": {},
   "outputs": [
    {
     "name": "stdout",
     "output_type": "stream",
     "text": [
      "========================================================================================================================\n",
      "Fastrun enabled: False\n",
      "========================================================================================================================\n"
     ]
    }
   ],
   "source": [
    "# Use parameters to enable/disable the fastrun\n",
    "\n",
    "FASTRUN = False\n",
    "#FASTRUN = True\n",
    "\n",
    "# Size of the fastrun dataframe\n",
    "sample_fraction = 0.1\n",
    "print(\"===\"*40)\n",
    "print(\"Fastrun enabled:\", FASTRUN)\n",
    "if FASTRUN: print(\"Sample size:\",sample_fraction)\n",
    "print(\"===\"*40)\n"
   ]
  },
  {
   "cell_type": "markdown",
   "metadata": {
    "id": "uZms1pauBzw0"
   },
   "source": [
    "# Setup Environment"
   ]
  },
  {
   "cell_type": "markdown",
   "metadata": {
    "id": "FSazCCmDbqKg"
   },
   "source": [
    "## Install Modules"
   ]
  },
  {
   "cell_type": "code",
   "execution_count": 17,
   "metadata": {
    "colab": {
     "base_uri": "https://localhost:8080/"
    },
    "execution": {
     "iopub.execute_input": "2023-02-05T14:33:58.710367Z",
     "iopub.status.busy": "2023-02-05T14:33:58.710002Z",
     "iopub.status.idle": "2023-02-05T14:34:19.056757Z",
     "shell.execute_reply": "2023-02-05T14:34:19.055854Z",
     "shell.execute_reply.started": "2023-02-05T14:33:58.710333Z"
    },
    "executionInfo": {
     "elapsed": 13904,
     "status": "ok",
     "timestamp": 1675517424331,
     "user": {
      "displayName": "Andre Buser",
      "userId": "11618601900135679464"
     },
     "user_tz": -60
    },
    "id": "1Vo8zBrWbqKg",
    "outputId": "cf8cf6d5-6917-416f-8ca0-9171981a3e1b",
    "trusted": true
   },
   "outputs": [],
   "source": [
    "#!pip install watermark\n",
    "#!pip install textstat\n",
    "#!pip install fastparquet\n",
    "#!pip install -q language_tool_python spacy  # -U\n",
    "#!python -m spacy download en_core_web_sm"
   ]
  },
  {
   "cell_type": "markdown",
   "metadata": {
    "id": "hHwYAoFSBzw1"
   },
   "source": [
    "## Import Modules"
   ]
  },
  {
   "cell_type": "code",
   "execution_count": 18,
   "metadata": {
    "colab": {
     "base_uri": "https://localhost:8080/"
    },
    "execution": {
     "iopub.execute_input": "2023-02-05T14:34:25.857317Z",
     "iopub.status.busy": "2023-02-05T14:34:25.856581Z",
     "iopub.status.idle": "2023-02-05T14:34:25.869338Z",
     "shell.execute_reply": "2023-02-05T14:34:25.868535Z",
     "shell.execute_reply.started": "2023-02-05T14:34:25.857286Z"
    },
    "executionInfo": {
     "elapsed": 52,
     "status": "ok",
     "timestamp": 1675517424332,
     "user": {
      "displayName": "Andre Buser",
      "userId": "11618601900135679464"
     },
     "user_tz": -60
    },
    "id": "nbk1jSYhBzw2",
    "outputId": "73c74522-0699-4334-c7b2-287197a6c5b0",
    "trusted": true
   },
   "outputs": [
    {
     "name": "stdout",
     "output_type": "stream",
     "text": [
      "The watermark extension is already loaded. To reload it, use:\n",
      "  %reload_ext watermark\n"
     ]
    }
   ],
   "source": [
    "# Base libraries\n",
    "import os\n",
    "import re\n",
    "from datetime import date\n",
    "\n",
    "# Scientific libraries\n",
    "import numpy as np\n",
    "import pandas as pd\n",
    "\n",
    "# Specific libraries\n",
    "import textstat\n",
    "\n",
    "# Visualization\n",
    "import seaborn as sns\n",
    "sns.set(rc={'figure.figsize': (8, 4)})\n",
    "sns.set(font_scale=0.8)\n",
    "\n",
    "# Helper libraries\n",
    "from tqdm import tqdm\n",
    "tqdm.pandas()\n",
    "from watermark import watermark\n",
    "import gc  # garbage collection to optimize memory usage, use gc.collect()\n",
    "import warnings\n",
    "warnings.filterwarnings('ignore')\n",
    "\n",
    "# Pandas options\n",
    "pd.set_option('display.max_rows', None)\n",
    "pd.set_option('display.max_columns', None)\n",
    "pd.set_option('display.width', None)\n",
    "pd.set_option('display.max_colwidth', None)\n",
    "\n",
    "from IPython.core.interactiveshell import InteractiveShell\n",
    "\n",
    "InteractiveShell.ast_node_interactivity = 'all'\n",
    "\n",
    "# Load magic commands\n",
    "%load_ext watermark"
   ]
  },
  {
   "cell_type": "markdown",
   "metadata": {
    "id": "C46IJ3IeBzw5"
   },
   "source": [
    "## Define Parameters"
   ]
  },
  {
   "cell_type": "code",
   "execution_count": 19,
   "metadata": {
    "execution": {
     "iopub.execute_input": "2023-02-05T14:34:27.377811Z",
     "iopub.status.busy": "2023-02-05T14:34:27.377137Z",
     "iopub.status.idle": "2023-02-05T14:34:27.381137Z",
     "shell.execute_reply": "2023-02-05T14:34:27.380462Z",
     "shell.execute_reply.started": "2023-02-05T14:34:27.377779Z"
    },
    "id": "rVPFKtMUBzw6",
    "trusted": true
   },
   "outputs": [],
   "source": [
    "seed = 42\n",
    "cpu_count = os.cpu_count()\n",
    "cpu_count = cpu_count-2  # to keep machine responsive when fitting the models\n",
    "notebook_no = \"01.02\"\n",
    "today = date.today()"
   ]
  },
  {
   "cell_type": "markdown",
   "metadata": {
    "collapsed": false
   },
   "source": [
    "## Helper Functions"
   ]
  },
  {
   "cell_type": "code",
   "execution_count": 20,
   "metadata": {
    "collapsed": false
   },
   "outputs": [],
   "source": [
    "import http.client\n",
    "import urllib\n",
    "\n",
    "\n",
    "def send_push(message):\n",
    "    \"\"\"Send push notifications to pushover service.\"\"\"\n",
    "    try:\n",
    "        conn = http.client.HTTPSConnection(\"api.pushover.net:443\")\n",
    "        conn.request(\"POST\", \"/1/messages.json\",\n",
    "                     urllib.parse.urlencode({\n",
    "                         \"token\": \"ahs1q4mwpnxe3645zeaqzas69whq7a\",  # ML Notifications Channel\n",
    "                         \"user\": \"u5vr1qkc9ghudg2ehuug153okeiz1d\",\n",
    "                         \"message\": message,\n",
    "                     }), {\"Content-type\": \"application/x-www-form-urlencoded\"})\n",
    "\n",
    "        conn.getresponse()\n",
    "\n",
    "    except:\n",
    "        print(\"There was a communication issue (pushover).\")\n"
   ]
  },
  {
   "cell_type": "markdown",
   "metadata": {
    "id": "6YBbHzbqBzw8"
   },
   "source": [
    "# Load Data"
   ]
  },
  {
   "cell_type": "code",
   "execution_count": 21,
   "metadata": {},
   "outputs": [
    {
     "name": "stdout",
     "output_type": "stream",
     "text": [
      "Not a Google Drive Environment. Loading local files.\n"
     ]
    }
   ],
   "source": [
    "# Load Data\n",
    "if google_env:\n",
    "    # Location for \"shared with\" people\n",
    "    # create a shortcut of the shared folder in your Google Drive root folder\n",
    "    ROOT_PATH = \"/content/drive/MyDrive/SIADS696/Environment/\"\n",
    "else:\n",
    "    ROOT_PATH = \"../\"\n",
    "    print(\"Not a Google Drive Environment. Loading local files.\")\n",
    "\n",
    "PATH_DATA = \"data/\"\n",
    "PATH_DATA_RAW = \"data/raw/\"\n",
    "PATH_DATA_INT = \"data/interim/\"\n",
    "PATH_DATA_PRO = \"data/processed/\"\n",
    "PATH_DATA_MOD = \"models/\"\n",
    "PATH_DATA_REP = \"reports/\"\n",
    "PATH_DATA_FIG = \"reports/figures/\"\n",
    "PATH_DATA_HTML = \"reports/html/\"\n",
    "\n",
    "df_wiki_train = pd.read_parquet(ROOT_PATH+PATH_DATA_INT + \"train_features_clean_stats.parquet.gzip\")\n",
    "df_wiki_test = pd.read_parquet(ROOT_PATH+PATH_DATA_INT + \"test_features_clean_stats.parquet.gzip\")"
   ]
  },
  {
   "cell_type": "code",
   "execution_count": 22,
   "metadata": {
    "colab": {
     "base_uri": "https://localhost:8080/"
    },
    "execution": {
     "iopub.execute_input": "2023-02-05T14:34:28.658259Z",
     "iopub.status.busy": "2023-02-05T14:34:28.657967Z",
     "iopub.status.idle": "2023-02-05T14:34:28.665539Z",
     "shell.execute_reply": "2023-02-05T14:34:28.664510Z",
     "shell.execute_reply.started": "2023-02-05T14:34:28.658235Z"
    },
    "executionInfo": {
     "elapsed": 48,
     "status": "ok",
     "timestamp": 1675517427130,
     "user": {
      "displayName": "Andre Buser",
      "userId": "11618601900135679464"
     },
     "user_tz": -60
    },
    "id": "5Dd5KbUIexla",
    "outputId": "ac1a8084-78b1-4902-9b6f-cbcc2c670e0b",
    "trusted": true
   },
   "outputs": [
    {
     "data": {
      "text/plain": [
       "(416768, 37)"
      ]
     },
     "execution_count": 22,
     "metadata": {},
     "output_type": "execute_result"
    },
    {
     "data": {
      "text/plain": [
       "(119092, 38)"
      ]
     },
     "execution_count": 22,
     "metadata": {},
     "output_type": "execute_result"
    }
   ],
   "source": [
    "df_wiki_train.shape\n",
    "df_wiki_test.shape"
   ]
  },
  {
   "cell_type": "markdown",
   "metadata": {
    "id": "CL9zJrfHr_iA"
   },
   "source": [
    "# 4.0 Data Cleaning and Feature Engineering"
   ]
  },
  {
   "cell_type": "markdown",
   "metadata": {
    "id": "qjbrIh-yexla"
   },
   "source": [
    "**Tips on Creating Features**\n",
    "- Linear models learn sums and differences naturally, but can't learn anything more complex.\n",
    "- Ratios seem to be difficult for most models to learn. Ratio combinations often lead to some easy performance gains.\n",
    "- Linear models and neural nets generally do better with normalized features. Neural nets especially need features scaled to values not too far from 0. Tree-based models (like random forests and XGBoost) can sometimes benefit from normalization, but usually much less so.\n",
    "- Tree models can learn to approximate almost any combination of features, but when a combination is especially important they can still benefit from having it explicitly created, especially when data is limited.\n",
    "- Counts are especially helpful for tree models, since these models don't have a natural way of aggregating information across many features at once.\n",
    "[Source](https://www.kaggle.com/code/ryanholbrook/creating-features)"
   ]
  },
  {
   "cell_type": "markdown",
   "metadata": {
    "id": "Vv5mXNV0exlb"
   },
   "source": [
    "### Calculate readability scores (rs)"
   ]
  },
  {
   "cell_type": "markdown",
   "metadata": {
    "collapsed": false
   },
   "source": [
    "#### All Languages"
   ]
  },
  {
   "cell_type": "code",
   "execution_count": 24,
   "metadata": {
    "collapsed": false
   },
   "outputs": [
    {
     "name": "stdout",
     "output_type": "stream",
     "text": [
      "============================================= Wiki Train =============================================\n"
     ]
    },
    {
     "data": {
      "text/plain": [
       "3066"
      ]
     },
     "execution_count": 24,
     "metadata": {},
     "output_type": "execute_result"
    },
    {
     "name": "stdout",
     "output_type": "stream",
     "text": [
      "rs_automated_readability_index_all\n"
     ]
    },
    {
     "name": "stderr",
     "output_type": "stream",
     "text": [
      "100%|██████████| 416768/416768 [00:02<00:00, 145780.42it/s]\n"
     ]
    },
    {
     "name": "stdout",
     "output_type": "stream",
     "text": [
      "rs_lix_all\n"
     ]
    },
    {
     "name": "stderr",
     "output_type": "stream",
     "text": [
      "100%|██████████| 416768/416768 [00:02<00:00, 140271.28it/s]\n"
     ]
    },
    {
     "name": "stdout",
     "output_type": "stream",
     "text": [
      "rs_rix_all\n"
     ]
    },
    {
     "name": "stderr",
     "output_type": "stream",
     "text": [
      "100%|██████████| 416768/416768 [00:02<00:00, 155959.48it/s]\n"
     ]
    },
    {
     "name": "stdout",
     "output_type": "stream",
     "text": [
      "============================================= Wiki Test =============================================\n"
     ]
    },
    {
     "data": {
      "text/plain": [
       "0"
      ]
     },
     "execution_count": 24,
     "metadata": {},
     "output_type": "execute_result"
    },
    {
     "name": "stdout",
     "output_type": "stream",
     "text": [
      "rs_automated_readability_index_all\n"
     ]
    },
    {
     "name": "stderr",
     "output_type": "stream",
     "text": [
      "100%|██████████| 119092/119092 [00:00<00:00, 156223.93it/s]\n"
     ]
    },
    {
     "name": "stdout",
     "output_type": "stream",
     "text": [
      "rs_lix_all\n"
     ]
    },
    {
     "name": "stderr",
     "output_type": "stream",
     "text": [
      "100%|██████████| 119092/119092 [00:00<00:00, 144142.90it/s]\n"
     ]
    },
    {
     "name": "stdout",
     "output_type": "stream",
     "text": [
      "rs_rix_all\n"
     ]
    },
    {
     "name": "stderr",
     "output_type": "stream",
     "text": [
      "100%|██████████| 119092/119092 [00:00<00:00, 164728.07it/s]\n"
     ]
    }
   ],
   "source": [
    "rs_algo_all_dict = {\n",
    "    'rs_automated_readability_index': textstat.automated_readability_index,\n",
    "    'rs_lix': textstat.lix,\n",
    "    'rs_rix': textstat.rix,\n",
    "}\n",
    "\n",
    "lang = 'en'\n",
    "textstat.set_lang(lang)\n",
    "\n",
    "print(\"===\"*15, \"Wiki Train\", \"===\"*15)\n",
    "gc.collect()\n",
    "\n",
    "for col_name, algo in rs_algo_all_dict.items():\n",
    "    print(col_name+\"_all\")\n",
    "    df_wiki_train[col_name+\"_all\"] = -1\n",
    "    df_wiki_train[col_name+\"_all\"] = df_wiki_train['cleaned_text'].progress_apply(algo) #.round(1)\n",
    "\n",
    "print(\"===\"*15, \"Wiki Test\", \"===\"*15)\n",
    "gc.collect()\n",
    "for col_name, algo in rs_algo_all_dict.items():\n",
    "    print(col_name+\"_all\")\n",
    "    df_wiki_test[col_name+\"_all\"] = -1\n",
    "    df_wiki_test[col_name+\"_all\"] = df_wiki_test['cleaned_text'].progress_apply(algo) #.round(1)"
   ]
  },
  {
   "cell_type": "markdown",
   "metadata": {
    "collapsed": false
   },
   "source": [
    "#### English Only"
   ]
  },
  {
   "cell_type": "code",
   "execution_count": 25,
   "metadata": {
    "collapsed": false
   },
   "outputs": [],
   "source": [
    "# Dictionary with only the english supported readability scores\n",
    "# Dict: new column name: textstat function\n",
    "rs_algo_en_dict = {\n",
    "    'rs_automated_readability_index': textstat.automated_readability_index,\n",
    "    'rs_flesch_kincaid_grade': textstat.flesch_kincaid_grade,\n",
    "    'rs_coleman_liau_index': textstat.coleman_liau_index,\n",
    "    'rs_linsear_write_formula': textstat.linsear_write_formula,\n",
    "    'rs_dale_chall_readability_score1': textstat.dale_chall_readability_score,\n",
    "    'rs_dale_chall_readability_score2': textstat.dale_chall_readability_score_v2,\n",
    "    'rs_gunning_fog': textstat.gunning_fog,\n",
    "    'rs_difficult_words': textstat.difficult_words,\n",
    "    'rs_spache_readability': textstat.spache_readability,\n",
    "    }"
   ]
  },
  {
   "cell_type": "code",
   "execution_count": 27,
   "metadata": {
    "collapsed": false
   },
   "outputs": [
    {
     "name": "stdout",
     "output_type": "stream",
     "text": [
      "============================================= Wiki Train =============================================\n"
     ]
    },
    {
     "data": {
      "text/plain": [
       "48"
      ]
     },
     "execution_count": 27,
     "metadata": {},
     "output_type": "execute_result"
    },
    {
     "name": "stdout",
     "output_type": "stream",
     "text": [
      "rs_automated_readability_index_en\n"
     ]
    },
    {
     "name": "stderr",
     "output_type": "stream",
     "text": [
      "100%|██████████| 416768/416768 [00:02<00:00, 150651.27it/s]\n"
     ]
    },
    {
     "name": "stdout",
     "output_type": "stream",
     "text": [
      "rs_flesch_kincaid_grade_en\n"
     ]
    },
    {
     "name": "stderr",
     "output_type": "stream",
     "text": [
      "100%|██████████| 416768/416768 [00:09<00:00, 42131.12it/s]\n"
     ]
    },
    {
     "name": "stdout",
     "output_type": "stream",
     "text": [
      "rs_coleman_liau_index_en\n"
     ]
    },
    {
     "name": "stderr",
     "output_type": "stream",
     "text": [
      "100%|██████████| 416768/416768 [00:03<00:00, 117601.64it/s]\n"
     ]
    },
    {
     "name": "stdout",
     "output_type": "stream",
     "text": [
      "rs_linsear_write_formula_en\n"
     ]
    },
    {
     "name": "stderr",
     "output_type": "stream",
     "text": [
      "100%|██████████| 416768/416768 [00:08<00:00, 47360.96it/s]\n"
     ]
    },
    {
     "name": "stdout",
     "output_type": "stream",
     "text": [
      "rs_dale_chall_readability_score1_en\n"
     ]
    },
    {
     "name": "stderr",
     "output_type": "stream",
     "text": [
      "100%|██████████| 416768/416768 [00:11<00:00, 37621.71it/s]\n"
     ]
    },
    {
     "name": "stdout",
     "output_type": "stream",
     "text": [
      "rs_dale_chall_readability_score2_en\n"
     ]
    },
    {
     "name": "stderr",
     "output_type": "stream",
     "text": [
      "100%|██████████| 416768/416768 [00:10<00:00, 39302.93it/s]\n"
     ]
    },
    {
     "name": "stdout",
     "output_type": "stream",
     "text": [
      "rs_gunning_fog_en\n"
     ]
    },
    {
     "name": "stderr",
     "output_type": "stream",
     "text": [
      "100%|██████████| 416768/416768 [00:11<00:00, 37779.00it/s]\n"
     ]
    },
    {
     "name": "stdout",
     "output_type": "stream",
     "text": [
      "rs_difficult_words_en\n"
     ]
    },
    {
     "name": "stderr",
     "output_type": "stream",
     "text": [
      "100%|██████████| 416768/416768 [00:08<00:00, 50108.89it/s]\n"
     ]
    },
    {
     "name": "stdout",
     "output_type": "stream",
     "text": [
      "rs_spache_readability_en\n"
     ]
    },
    {
     "name": "stderr",
     "output_type": "stream",
     "text": [
      "100%|██████████| 416768/416768 [00:10<00:00, 39447.11it/s]\n"
     ]
    },
    {
     "name": "stdout",
     "output_type": "stream",
     "text": [
      "============================================= Wiki Test =============================================\n"
     ]
    },
    {
     "data": {
      "text/plain": [
       "0"
      ]
     },
     "execution_count": 27,
     "metadata": {},
     "output_type": "execute_result"
    },
    {
     "name": "stdout",
     "output_type": "stream",
     "text": [
      "rs_automated_readability_index_en\n"
     ]
    },
    {
     "name": "stderr",
     "output_type": "stream",
     "text": [
      "100%|██████████| 119092/119092 [00:00<00:00, 157675.93it/s]\n"
     ]
    },
    {
     "name": "stdout",
     "output_type": "stream",
     "text": [
      "rs_flesch_kincaid_grade_en\n"
     ]
    },
    {
     "name": "stderr",
     "output_type": "stream",
     "text": [
      "100%|██████████| 119092/119092 [00:02<00:00, 48985.77it/s]\n"
     ]
    },
    {
     "name": "stdout",
     "output_type": "stream",
     "text": [
      "rs_coleman_liau_index_en\n"
     ]
    },
    {
     "name": "stderr",
     "output_type": "stream",
     "text": [
      "100%|██████████| 119092/119092 [00:00<00:00, 125026.64it/s]\n"
     ]
    },
    {
     "name": "stdout",
     "output_type": "stream",
     "text": [
      "rs_linsear_write_formula_en\n"
     ]
    },
    {
     "name": "stderr",
     "output_type": "stream",
     "text": [
      "100%|██████████| 119092/119092 [00:02<00:00, 58809.97it/s]\n"
     ]
    },
    {
     "name": "stdout",
     "output_type": "stream",
     "text": [
      "rs_dale_chall_readability_score1_en\n"
     ]
    },
    {
     "name": "stderr",
     "output_type": "stream",
     "text": [
      "100%|██████████| 119092/119092 [00:02<00:00, 46867.39it/s]\n"
     ]
    },
    {
     "name": "stdout",
     "output_type": "stream",
     "text": [
      "rs_dale_chall_readability_score2_en\n"
     ]
    },
    {
     "name": "stderr",
     "output_type": "stream",
     "text": [
      "100%|██████████| 119092/119092 [00:02<00:00, 48123.09it/s]\n"
     ]
    },
    {
     "name": "stdout",
     "output_type": "stream",
     "text": [
      "rs_gunning_fog_en\n"
     ]
    },
    {
     "name": "stderr",
     "output_type": "stream",
     "text": [
      "100%|██████████| 119092/119092 [00:02<00:00, 47999.72it/s]\n"
     ]
    },
    {
     "name": "stdout",
     "output_type": "stream",
     "text": [
      "rs_difficult_words_en\n"
     ]
    },
    {
     "name": "stderr",
     "output_type": "stream",
     "text": [
      "100%|██████████| 119092/119092 [00:01<00:00, 66409.16it/s]\n"
     ]
    },
    {
     "name": "stdout",
     "output_type": "stream",
     "text": [
      "rs_spache_readability_en\n"
     ]
    },
    {
     "name": "stderr",
     "output_type": "stream",
     "text": [
      "100%|██████████| 119092/119092 [00:02<00:00, 50907.46it/s]\n"
     ]
    }
   ],
   "source": [
    "print(\"===\"*15, \"Wiki Train\", \"===\"*15)\n",
    "gc.collect()\n",
    "# For each readability score, create the corresponding column and calculate the score\n",
    "lang = 'en'\n",
    "textstat.set_lang(lang)\n",
    "for col_name, algo in rs_algo_en_dict.items():\n",
    "    print(col_name+\"_\"+lang)\n",
    "    df_wiki_train[col_name+\"_\"+lang] = -1\n",
    "    df_wiki_train[col_name+\"_\"+lang] = np.where(df_wiki_train['stats_language_code'] == lang,\n",
    "                                       df_wiki_train['cleaned_text'].progress_apply(algo), #.round(1),\n",
    "                                       df_wiki_train[col_name+\"_\"+lang])\n",
    "\n",
    "print(\"===\"*15, \"Wiki Test\", \"===\"*15)\n",
    "gc.collect()\n",
    "for col_name, algo in rs_algo_en_dict.items():\n",
    "    print(col_name+\"_\"+lang)\n",
    "    df_wiki_test[col_name+\"_\"+lang] = -1\n",
    "    df_wiki_test[col_name+\"_\"+lang] = np.where(df_wiki_test['stats_language_code'] == lang,\n",
    "                                               df_wiki_test['cleaned_text'].progress_apply(algo), #.round(1),\n",
    "                                               df_wiki_test[col_name+\"_\"+lang])"
   ]
  },
  {
   "cell_type": "code",
   "execution_count": 28,
   "metadata": {
    "collapsed": false
   },
   "outputs": [
    {
     "name": "stdout",
     "output_type": "stream",
     "text": [
      "rs_text_standard_en\n",
      "============================================= Wiki Train =============================================\n"
     ]
    },
    {
     "data": {
      "text/plain": [
       "16"
      ]
     },
     "execution_count": 28,
     "metadata": {},
     "output_type": "execute_result"
    },
    {
     "name": "stderr",
     "output_type": "stream",
     "text": [
      "100%|██████████| 416768/416768 [00:32<00:00, 12796.24it/s]\n"
     ]
    },
    {
     "name": "stdout",
     "output_type": "stream",
     "text": [
      "============================================= Wiki Test =============================================\n"
     ]
    },
    {
     "data": {
      "text/plain": [
       "0"
      ]
     },
     "execution_count": 28,
     "metadata": {},
     "output_type": "execute_result"
    },
    {
     "name": "stderr",
     "output_type": "stream",
     "text": [
      "100%|██████████| 119092/119092 [00:07<00:00, 14990.52it/s]\n"
     ]
    }
   ],
   "source": [
    "print('rs_text_standard_en')\n",
    "print(\"===\"*15, \"Wiki Train\", \"===\"*15)\n",
    "gc.collect()\n",
    "\n",
    "df_wiki_train['rs_text_standard_en'] = -1\n",
    "df_wiki_train['rs_text_standard_en'] = np.where(df_wiki_train['stats_language_code'] == 'en',\n",
    "                                                df_wiki_train['cleaned_text'].progress_apply(lambda x: textstat.text_standard(x, float_output=True)), #.round(1),\n",
    "                                                df_wiki_train['rs_text_standard_en'])\n",
    "\n",
    "print(\"===\"*15, \"Wiki Test\", \"===\"*15)\n",
    "gc.collect()\n",
    "df_wiki_test['rs_text_standard_en'] = -1\n",
    "df_wiki_test['rs_text_standard_en'] = np.where(df_wiki_test['stats_language_code'] == 'en',\n",
    "                                               df_wiki_test['cleaned_text'].progress_apply(lambda x: textstat.text_standard(x, float_output=True)), #.round(1),\n",
    "                                               df_wiki_test['rs_text_standard_en'])"
   ]
  },
  {
   "cell_type": "markdown",
   "metadata": {
    "collapsed": false
   },
   "source": [
    "#### Multi-language"
   ]
  },
  {
   "cell_type": "code",
   "execution_count": 29,
   "metadata": {
    "execution": {
     "iopub.execute_input": "2023-02-05T14:44:47.681866Z",
     "iopub.status.busy": "2023-02-05T14:44:47.680828Z",
     "iopub.status.idle": "2023-02-05T14:44:53.577668Z",
     "shell.execute_reply": "2023-02-05T14:44:53.576647Z",
     "shell.execute_reply.started": "2023-02-05T14:44:47.681834Z"
    },
    "trusted": true
   },
   "outputs": [
    {
     "name": "stdout",
     "output_type": "stream",
     "text": [
      "rs_flesch_reading_ease_multi\n",
      "============================================= Wiki Train =============================================\n"
     ]
    },
    {
     "data": {
      "text/plain": [
       "16"
      ]
     },
     "execution_count": 29,
     "metadata": {},
     "output_type": "execute_result"
    },
    {
     "name": "stdout",
     "output_type": "stream",
     "text": [
      "rs_flesch_reading_ease: en\n"
     ]
    },
    {
     "name": "stderr",
     "output_type": "stream",
     "text": [
      "100%|██████████| 416768/416768 [00:08<00:00, 48998.15it/s]\n"
     ]
    },
    {
     "name": "stdout",
     "output_type": "stream",
     "text": [
      "rs_flesch_reading_ease: de\n"
     ]
    },
    {
     "name": "stderr",
     "output_type": "stream",
     "text": [
      "100%|██████████| 416768/416768 [00:10<00:00, 38788.13it/s]\n"
     ]
    },
    {
     "name": "stdout",
     "output_type": "stream",
     "text": [
      "rs_flesch_reading_ease: es\n"
     ]
    },
    {
     "name": "stderr",
     "output_type": "stream",
     "text": [
      "100%|██████████| 416768/416768 [00:10<00:00, 38714.17it/s]\n"
     ]
    },
    {
     "name": "stdout",
     "output_type": "stream",
     "text": [
      "rs_flesch_reading_ease: fr\n"
     ]
    },
    {
     "name": "stderr",
     "output_type": "stream",
     "text": [
      "100%|██████████| 416768/416768 [00:10<00:00, 40618.25it/s]\n"
     ]
    },
    {
     "name": "stdout",
     "output_type": "stream",
     "text": [
      "rs_flesch_reading_ease: it\n"
     ]
    },
    {
     "name": "stderr",
     "output_type": "stream",
     "text": [
      "100%|██████████| 416768/416768 [00:10<00:00, 40339.97it/s]\n"
     ]
    },
    {
     "name": "stdout",
     "output_type": "stream",
     "text": [
      "rs_flesch_reading_ease: nl\n"
     ]
    },
    {
     "name": "stderr",
     "output_type": "stream",
     "text": [
      "100%|██████████| 416768/416768 [00:10<00:00, 40594.35it/s]\n"
     ]
    },
    {
     "name": "stdout",
     "output_type": "stream",
     "text": [
      "rs_flesch_reading_ease: ru\n"
     ]
    },
    {
     "name": "stderr",
     "output_type": "stream",
     "text": [
      "100%|██████████| 416768/416768 [00:08<00:00, 47182.68it/s]\n"
     ]
    },
    {
     "name": "stdout",
     "output_type": "stream",
     "text": [
      "============================================= Wiki Test =============================================\n"
     ]
    },
    {
     "data": {
      "text/plain": [
       "0"
      ]
     },
     "execution_count": 29,
     "metadata": {},
     "output_type": "execute_result"
    },
    {
     "name": "stdout",
     "output_type": "stream",
     "text": [
      "rs_flesch_reading_ease: en\n"
     ]
    },
    {
     "name": "stderr",
     "output_type": "stream",
     "text": [
      "100%|██████████| 119092/119092 [00:02<00:00, 55732.61it/s]\n"
     ]
    },
    {
     "name": "stdout",
     "output_type": "stream",
     "text": [
      "rs_flesch_reading_ease: de\n"
     ]
    },
    {
     "name": "stderr",
     "output_type": "stream",
     "text": [
      "100%|██████████| 119092/119092 [00:02<00:00, 48069.76it/s]\n"
     ]
    },
    {
     "name": "stdout",
     "output_type": "stream",
     "text": [
      "rs_flesch_reading_ease: es\n"
     ]
    },
    {
     "name": "stderr",
     "output_type": "stream",
     "text": [
      "100%|██████████| 119092/119092 [00:02<00:00, 47823.33it/s]\n"
     ]
    },
    {
     "name": "stdout",
     "output_type": "stream",
     "text": [
      "rs_flesch_reading_ease: fr\n"
     ]
    },
    {
     "name": "stderr",
     "output_type": "stream",
     "text": [
      "100%|██████████| 119092/119092 [00:02<00:00, 50525.31it/s]\n"
     ]
    },
    {
     "name": "stdout",
     "output_type": "stream",
     "text": [
      "rs_flesch_reading_ease: it\n"
     ]
    },
    {
     "name": "stderr",
     "output_type": "stream",
     "text": [
      "100%|██████████| 119092/119092 [00:02<00:00, 48981.26it/s]\n"
     ]
    },
    {
     "name": "stdout",
     "output_type": "stream",
     "text": [
      "rs_flesch_reading_ease: nl\n"
     ]
    },
    {
     "name": "stderr",
     "output_type": "stream",
     "text": [
      "100%|██████████| 119092/119092 [00:02<00:00, 48623.29it/s]\n"
     ]
    },
    {
     "name": "stdout",
     "output_type": "stream",
     "text": [
      "rs_flesch_reading_ease: ru\n"
     ]
    },
    {
     "name": "stderr",
     "output_type": "stream",
     "text": [
      "100%|██████████| 119092/119092 [00:02<00:00, 56156.11it/s]\n"
     ]
    }
   ],
   "source": [
    "print('rs_flesch_reading_ease_multi')\n",
    "print(\"===\"*15, \"Wiki Train\", \"===\"*15)\n",
    "gc.collect()\n",
    "\n",
    "# rs_flesch_reading_ease supported languages\n",
    "language_list = ['en', 'de', 'es', 'fr', 'it', 'nl', 'ru']\n",
    "df_wiki_train['rs_flesch_reading_ease_multi'] = -1\n",
    "\n",
    "for lang in language_list:\n",
    "    print(\"rs_flesch_reading_ease:\", lang)\n",
    "    textstat.set_lang(lang)\n",
    "    df_wiki_train['rs_flesch_reading_ease_multi'] = np.where(df_wiki_train['stats_language_code'] == lang,\n",
    "                                                                    df_wiki_train['cleaned_text'].progress_apply(textstat.flesch_reading_ease), #.round(1),\n",
    "                                                                    df_wiki_train['rs_flesch_reading_ease_multi'])\n",
    "\n",
    "print(\"===\"*15, \"Wiki Test\", \"===\"*15)\n",
    "gc.collect()\n",
    "df_wiki_test['rs_flesch_reading_ease_multi'] = -1\n",
    "\n",
    "for lang in language_list:\n",
    "    print(\"rs_flesch_reading_ease:\", lang)\n",
    "    textstat.set_lang(lang)\n",
    "    df_wiki_test['rs_flesch_reading_ease_multi'] = np.where(df_wiki_test['stats_language_code'] == lang,\n",
    "                                                            df_wiki_test['cleaned_text'].progress_apply(textstat.flesch_reading_ease), #.round(1),\n",
    "                                                            df_wiki_test['rs_flesch_reading_ease_multi'])"
   ]
  },
  {
   "cell_type": "markdown",
   "metadata": {
    "collapsed": false
   },
   "source": [
    "#### Spanish"
   ]
  },
  {
   "cell_type": "code",
   "execution_count": 30,
   "metadata": {
    "collapsed": false
   },
   "outputs": [],
   "source": [
    "# Dictionary with only the Spanish supported readability scores\n",
    "# Dict: new column name: textstat function\n",
    "rs_algo_es_dict = {\n",
    "    'rs_fernandez_huerta': textstat.fernandez_huerta,\n",
    "    'rs_gutierrez_polini': textstat.gutierrez_polini,\n",
    "    'rs_crawford': textstat.crawford,\n",
    "    'rs_szigriszt_pazos': textstat.szigriszt_pazos,\n",
    "}"
   ]
  },
  {
   "cell_type": "code",
   "execution_count": 31,
   "metadata": {
    "collapsed": false
   },
   "outputs": [
    {
     "name": "stdout",
     "output_type": "stream",
     "text": [
      "============================================= Wiki Train =============================================\n"
     ]
    },
    {
     "data": {
      "text/plain": [
       "33"
      ]
     },
     "execution_count": 31,
     "metadata": {},
     "output_type": "execute_result"
    },
    {
     "name": "stdout",
     "output_type": "stream",
     "text": [
      "rs_fernandez_huerta_es\n"
     ]
    },
    {
     "name": "stderr",
     "output_type": "stream",
     "text": [
      "100%|██████████| 416768/416768 [00:08<00:00, 49733.43it/s]\n"
     ]
    },
    {
     "name": "stdout",
     "output_type": "stream",
     "text": [
      "rs_gutierrez_polini_es\n"
     ]
    },
    {
     "name": "stderr",
     "output_type": "stream",
     "text": [
      "100%|██████████| 416768/416768 [00:02<00:00, 149788.05it/s]\n"
     ]
    },
    {
     "name": "stdout",
     "output_type": "stream",
     "text": [
      "rs_crawford_es\n"
     ]
    },
    {
     "name": "stderr",
     "output_type": "stream",
     "text": [
      "100%|██████████| 416768/416768 [00:07<00:00, 55771.56it/s]\n"
     ]
    },
    {
     "name": "stdout",
     "output_type": "stream",
     "text": [
      "rs_szigriszt_pazos_es\n"
     ]
    },
    {
     "name": "stderr",
     "output_type": "stream",
     "text": [
      "100%|██████████| 416768/416768 [00:07<00:00, 52443.08it/s]\n"
     ]
    },
    {
     "name": "stdout",
     "output_type": "stream",
     "text": [
      "============================================= Wiki Test =============================================\n"
     ]
    },
    {
     "data": {
      "text/plain": [
       "0"
      ]
     },
     "execution_count": 31,
     "metadata": {},
     "output_type": "execute_result"
    },
    {
     "name": "stdout",
     "output_type": "stream",
     "text": [
      "rs_fernandez_huerta_es\n"
     ]
    },
    {
     "name": "stderr",
     "output_type": "stream",
     "text": [
      "100%|██████████| 119092/119092 [00:02<00:00, 54708.04it/s]\n"
     ]
    },
    {
     "name": "stdout",
     "output_type": "stream",
     "text": [
      "rs_gutierrez_polini_es\n"
     ]
    },
    {
     "name": "stderr",
     "output_type": "stream",
     "text": [
      "100%|██████████| 119092/119092 [00:00<00:00, 162473.66it/s]\n"
     ]
    },
    {
     "name": "stdout",
     "output_type": "stream",
     "text": [
      "rs_crawford_es\n"
     ]
    },
    {
     "name": "stderr",
     "output_type": "stream",
     "text": [
      "100%|██████████| 119092/119092 [00:02<00:00, 57863.67it/s]\n"
     ]
    },
    {
     "name": "stdout",
     "output_type": "stream",
     "text": [
      "rs_szigriszt_pazos_es\n"
     ]
    },
    {
     "name": "stderr",
     "output_type": "stream",
     "text": [
      "100%|██████████| 119092/119092 [00:02<00:00, 56953.15it/s]\n"
     ]
    }
   ],
   "source": [
    "print(\"===\"*15, \"Wiki Train\", \"===\"*15)\n",
    "gc.collect()\n",
    "\n",
    "lang = 'es'\n",
    "textstat.set_lang(lang)\n",
    "\n",
    "# For each readability score, create the corresponding column and calculate the score\n",
    "for col_name, algo in rs_algo_es_dict.items():\n",
    "    print(col_name+\"_\"+lang)\n",
    "    df_wiki_train[col_name+\"_\"+lang] = -1\n",
    "    df_wiki_train[col_name+\"_\"+lang] = np.where(df_wiki_train['stats_language_code'] == lang,\n",
    "                                                df_wiki_train['cleaned_text'].progress_apply(algo), #.round(1),\n",
    "                                                df_wiki_train[col_name+\"_\"+lang])\n",
    "\n",
    "print(\"===\"*15, \"Wiki Test\", \"===\"*15)\n",
    "gc.collect()\n",
    "\n",
    "for col_name, algo in rs_algo_es_dict.items():\n",
    "    print(col_name+\"_\"+lang)\n",
    "    df_wiki_test[col_name+\"_\"+lang] = -1\n",
    "    df_wiki_test[col_name+\"_\"+lang] = np.where(df_wiki_test['stats_language_code'] == lang,\n",
    "                                               df_wiki_test['cleaned_text'].progress_apply(algo), #.round(1),\n",
    "                                               df_wiki_test[col_name+\"_\"+lang])"
   ]
  },
  {
   "cell_type": "markdown",
   "metadata": {
    "collapsed": false
   },
   "source": [
    "#### German"
   ]
  },
  {
   "cell_type": "code",
   "execution_count": 32,
   "metadata": {
    "collapsed": false
   },
   "outputs": [
    {
     "data": {
      "text/plain": [
       "0"
      ]
     },
     "execution_count": 32,
     "metadata": {},
     "output_type": "execute_result"
    },
    {
     "name": "stdout",
     "output_type": "stream",
     "text": [
      "============================================= Wiki Train =============================================\n",
      "rs_wiener_sachtextformel_de\n"
     ]
    },
    {
     "name": "stderr",
     "output_type": "stream",
     "text": [
      "100%|██████████| 416768/416768 [00:11<00:00, 35929.13it/s]\n"
     ]
    },
    {
     "name": "stdout",
     "output_type": "stream",
     "text": [
      "rs_lix_de\n"
     ]
    },
    {
     "name": "stderr",
     "output_type": "stream",
     "text": [
      "100%|██████████| 416768/416768 [00:02<00:00, 141498.26it/s]\n"
     ]
    },
    {
     "name": "stdout",
     "output_type": "stream",
     "text": [
      "============================================= Wiki Test =============================================\n",
      "rs_wiener_sachtextformel_de\n"
     ]
    },
    {
     "name": "stderr",
     "output_type": "stream",
     "text": [
      "100%|██████████| 119092/119092 [00:02<00:00, 44325.05it/s]\n"
     ]
    },
    {
     "name": "stdout",
     "output_type": "stream",
     "text": [
      "rs_lix_de\n"
     ]
    },
    {
     "name": "stderr",
     "output_type": "stream",
     "text": [
      "100%|██████████| 119092/119092 [00:00<00:00, 150310.62it/s]\n"
     ]
    }
   ],
   "source": [
    "lang = 'de'\n",
    "textstat.set_lang(lang)\n",
    "gc.collect()\n",
    "\n",
    "print(\"===\"*15, \"Wiki Train\", \"===\"*15)\n",
    "print('rs_wiener_sachtextformel_de')\n",
    "df_wiki_train['rs_wiener_sachtextformel_de'] = -1\n",
    "df_wiki_train['rs_wiener_sachtextformel_de'] = np.where(df_wiki_train['stats_language_code'] == lang,\n",
    "                                                df_wiki_train['cleaned_text'].progress_apply(lambda x: textstat.wiener_sachtextformel(x, variant=2)), #.round(1),\n",
    "                                                df_wiki_train['rs_wiener_sachtextformel_de'])\n",
    "\n",
    "print('rs_lix_de')\n",
    "df_wiki_train['rs_lix_de'] = -1\n",
    "df_wiki_train['rs_lix_de'] = np.where(df_wiki_train['stats_language_code'] == lang,\n",
    "                                                        df_wiki_train['cleaned_text'].progress_apply(textstat.lix), #.round(1),\n",
    "                                                        df_wiki_train['rs_lix_de'])\n",
    "\n",
    "\n",
    "print(\"===\"*15, \"Wiki Test\", \"===\"*15)\n",
    "print('rs_wiener_sachtextformel_de')\n",
    "df_wiki_test['rs_wiener_sachtextformel_de'] = -1\n",
    "df_wiki_test['rs_wiener_sachtextformel_de'] = np.where(df_wiki_test['stats_language_code'] == lang,\n",
    "                                                    df_wiki_test['cleaned_text'].progress_apply(lambda x: textstat.wiener_sachtextformel(x, variant=2)), #.round(1),\n",
    "                                                    df_wiki_test['rs_wiener_sachtextformel_de'])\n",
    "\n",
    "print('rs_lix_de')\n",
    "df_wiki_test['rs_lix_de'] = -1\n",
    "df_wiki_test['rs_lix_de'] = np.where(df_wiki_test['stats_language_code'] == lang,\n",
    "                                     df_wiki_test['cleaned_text'].progress_apply(textstat.lix), #.round(1),\n",
    "                                     df_wiki_test['rs_lix_de'])"
   ]
  },
  {
   "cell_type": "markdown",
   "metadata": {
    "collapsed": false
   },
   "source": [
    "#### Italian"
   ]
  },
  {
   "cell_type": "code",
   "execution_count": 33,
   "metadata": {
    "collapsed": false
   },
   "outputs": [
    {
     "name": "stdout",
     "output_type": "stream",
     "text": [
      "rs_gulpease_index_it\n",
      "============================================= Wiki Train =============================================\n"
     ]
    },
    {
     "data": {
      "text/plain": [
       "16"
      ]
     },
     "execution_count": 33,
     "metadata": {},
     "output_type": "execute_result"
    },
    {
     "name": "stderr",
     "output_type": "stream",
     "text": [
      "100%|██████████| 416768/416768 [00:11<00:00, 35552.22it/s]\n"
     ]
    },
    {
     "name": "stdout",
     "output_type": "stream",
     "text": [
      "============================================= Wiki Test =============================================\n"
     ]
    },
    {
     "name": "stderr",
     "output_type": "stream",
     "text": [
      "100%|██████████| 119092/119092 [00:02<00:00, 41686.96it/s]\n"
     ]
    }
   ],
   "source": [
    "print('rs_gulpease_index_it')\n",
    "print(\"===\"*15, \"Wiki Train\", \"===\"*15)\n",
    "\n",
    "gc.collect()\n",
    "lang = 'it'\n",
    "textstat.set_lang(lang)\n",
    "\n",
    "df_wiki_train['rs_gulpease_index_it'] = -1\n",
    "df_wiki_train['rs_gulpease_index_it'] = np.where(df_wiki_train['stats_language_code'] == lang,\n",
    "                                                     df_wiki_train['cleaned_text'].progress_apply(lambda x: textstat.wiener_sachtextformel(x, variant=2)), #.round(1),\n",
    "                                                     df_wiki_train['rs_gulpease_index_it'])\n",
    "\n",
    "print(\"===\"*15, \"Wiki Test\", \"===\"*15)\n",
    "df_wiki_test['rs_gulpease_index_it'] = -1\n",
    "df_wiki_test['rs_gulpease_index_it'] = np.where(df_wiki_test['stats_language_code'] == lang,\n",
    "                                                    df_wiki_test['cleaned_text'].progress_apply(lambda x: textstat.wiener_sachtextformel(x, variant=2)), #.round(1),\n",
    "                                                    df_wiki_test['rs_gulpease_index_it'])"
   ]
  },
  {
   "cell_type": "markdown",
   "metadata": {
    "collapsed": false
   },
   "source": [
    "***"
   ]
  },
  {
   "cell_type": "code",
   "execution_count": null,
   "metadata": {},
   "outputs": [],
   "source": [
    "# Creating interaction features\n",
    "def calculate_rs_additional_features(df):\n",
    "    df['rs_ari_all1'] = df['stats_word_count'] * df['rs_automated_readability_index_all']\n",
    "    df['rs_ari_all2'] = df['stats_syllable_count'] * df['rs_automated_readability_index_all']\n",
    "\n",
    "    df['rs_ari_en1'] = df['stats_word_count'] * df['rs_automated_readability_index_en']\n",
    "    df['rs_ari_en2'] = df['stats_syllable_count'] * df['rs_automated_readability_index_en']\n",
    "\n",
    "    df['rs_fre_multi1'] = df['stats_word_count'] * df['rs_flesch_reading_ease_multi']\n",
    "    df['rs_fre_multi2'] = df['stats_syllable_count'] * df['rs_flesch_reading_ease_multi']\n",
    "\n",
    "    df['rs_lix1'] = df['stats_word_count'] * df['rs_lix_all']\n",
    "    df['rs_lix2'] = df['stats_syllable_count'] * df['rs_lix_all']\n",
    "\n",
    "    df['rs_rix1'] = df['stats_word_count'] * df['rs_rix_all']\n",
    "    df['rs_rix2'] = df['stats_syllable_count'] * df['rs_rix_all']\n",
    "\n",
    "    #df['rs_flesch1'] = df['stats_word_count'] * df['rs_flesch_reading_ease']\n",
    "    #df['rs_flesch2'] = df['stats_syllable_count'] * df['rs_flesch_reading_ease']\n",
    "\n",
    "    #df['rs_fog1'] = df['stats_word_count'] * df['rs_gunning_fog']\n",
    "    #df['rs_fog2'] = df['stats_syllable_count'] * df['rs_gunning_fog']\n",
    "\n",
    "    #df['rs_dale1'] = df['stats_word_count'] * df['rs_dale_chall_readability_score']\n",
    "    #df['rs_dale2'] = df['stats_syllable_count'] * df['rs_dale_chall_readability_score']\n",
    "\n",
    "    #df['rs_lin1'] = df['stats_word_count'] * df['rs_linsear_write_formula']\n",
    "    #df['rs_lin2'] = df['stats_syllable_count'] * df['rs_linsear_write_formula']\n",
    "\n",
    "    #df['rs_col1'] = df['stats_word_count'] * df['rs_coleman_liau_index']\n",
    "    #df['rs_col2'] = df['stats_syllable_count'] * df['rs_coleman_liau_index']\n",
    "\n",
    "    #df['rs_diff1'] = df['stats_word_count'] * df['rs_difficult_words']\n",
    "    #df['rs_diff2'] = df['stats_syllable_count'] * df['rs_difficult_words']\n",
    "\n",
    "    return df"
   ]
  },
  {
   "cell_type": "code",
   "execution_count": 34,
   "metadata": {
    "execution": {
     "iopub.status.busy": "2023-02-04T19:35:59.577591Z",
     "iopub.status.idle": "2023-02-04T19:35:59.577845Z",
     "shell.execute_reply": "2023-02-04T19:35:59.577729Z",
     "shell.execute_reply.started": "2023-02-04T19:35:59.577713Z"
    },
    "id": "VO8-TXl6exlc",
    "trusted": true
   },
   "outputs": [],
   "source": [
    "# TODO: Disable those features in feature iterations of the project, the produce redundant features\n",
    "df_wiki_train = calculate_rs_additional_features(df_wiki_train)\n",
    "df_wiki_test = calculate_rs_additional_features(df_wiki_test)"
   ]
  },
  {
   "cell_type": "markdown",
   "metadata": {
    "collapsed": false
   },
   "source": [
    "***"
   ]
  },
  {
   "cell_type": "code",
   "execution_count": 35,
   "metadata": {
    "collapsed": false
   },
   "outputs": [],
   "source": [
    "df_wiki_train = df_wiki_train.fillna(-1)\n",
    "df_wiki_test = df_wiki_test.fillna(-1)"
   ]
  },
  {
   "cell_type": "code",
   "execution_count": 36,
   "metadata": {
    "execution": {
     "iopub.status.busy": "2023-02-04T19:35:59.582211Z",
     "iopub.status.idle": "2023-02-04T19:35:59.582448Z",
     "shell.execute_reply": "2023-02-04T19:35:59.582343Z",
     "shell.execute_reply.started": "2023-02-04T19:35:59.582332Z"
    },
    "id": "w0aCEQU_exlc",
    "trusted": true
   },
   "outputs": [
    {
     "data": {
      "text/html": [
       "<div>\n",
       "<style scoped>\n",
       "    .dataframe tbody tr th:only-of-type {\n",
       "        vertical-align: middle;\n",
       "    }\n",
       "\n",
       "    .dataframe tbody tr th {\n",
       "        vertical-align: top;\n",
       "    }\n",
       "\n",
       "    .dataframe thead th {\n",
       "        text-align: right;\n",
       "    }\n",
       "</style>\n",
       "<table border=\"1\" class=\"dataframe\">\n",
       "  <thead>\n",
       "    <tr style=\"text-align: right;\">\n",
       "      <th></th>\n",
       "      <th>original_text</th>\n",
       "      <th>cleaned_text</th>\n",
       "      <th>label</th>\n",
       "      <th>stats_lrb_count</th>\n",
       "      <th>stats_rrb_count</th>\n",
       "      <th>stats_comma_count</th>\n",
       "      <th>stats_equalsign_count</th>\n",
       "      <th>stats_char_count</th>\n",
       "      <th>stats_image_description</th>\n",
       "      <th>stats_frac_description</th>\n",
       "      <th>stats_file_description</th>\n",
       "      <th>stats_formula_description</th>\n",
       "      <th>stats_language_code</th>\n",
       "      <th>stats_avg_char_per_word</th>\n",
       "      <th>stats_word_count</th>\n",
       "      <th>stats_letter_count</th>\n",
       "      <th>stats_long_word_count</th>\n",
       "      <th>stats_syllable_count</th>\n",
       "      <th>stats_polysyllab_count</th>\n",
       "      <th>stats_monosyllab_count</th>\n",
       "      <th>stats_reading_time</th>\n",
       "      <th>stats_avg_letter_per_word</th>\n",
       "      <th>stats_sentence_length</th>\n",
       "      <th>stats_syllable_avg</th>\n",
       "      <th>stats_mini_word_count</th>\n",
       "      <th>stats_long_numbers_count</th>\n",
       "      <th>stats_lexical_diversity</th>\n",
       "      <th>stats_frac_word_comma</th>\n",
       "      <th>stats_frac_mini_word</th>\n",
       "      <th>stats_frac_long_word</th>\n",
       "      <th>stats_frac_monosyllable</th>\n",
       "      <th>stats_frac_polysyllable</th>\n",
       "      <th>stats_max_chars_word</th>\n",
       "      <th>stats_avg_chars_word</th>\n",
       "      <th>stats_max_syllables_word</th>\n",
       "      <th>stats_avg_syllables_word</th>\n",
       "      <th>stats_language_no</th>\n",
       "      <th>rs_automated_readability_index_all</th>\n",
       "      <th>rs_lix_all</th>\n",
       "      <th>rs_rix_all</th>\n",
       "      <th>rs_automated_readability_index_en</th>\n",
       "      <th>rs_flesch_kincaid_grade_en</th>\n",
       "      <th>rs_coleman_liau_index_en</th>\n",
       "      <th>rs_linsear_write_formula_en</th>\n",
       "      <th>rs_dale_chall_readability_score1_en</th>\n",
       "      <th>rs_dale_chall_readability_score2_en</th>\n",
       "      <th>rs_gunning_fog_en</th>\n",
       "      <th>rs_difficult_words_en</th>\n",
       "      <th>rs_spache_readability_en</th>\n",
       "      <th>rs_text_standard_en</th>\n",
       "      <th>rs_flesch_reading_ease_multi</th>\n",
       "      <th>rs_fernandez_huerta_es</th>\n",
       "      <th>rs_gutierrez_polini_es</th>\n",
       "      <th>rs_crawford_es</th>\n",
       "      <th>rs_szigriszt_pazos_es</th>\n",
       "      <th>rs_wiener_sachtextformel_de</th>\n",
       "      <th>rs_lix_de</th>\n",
       "      <th>rs_gulpease_index_it</th>\n",
       "      <th>rs_ari_all1</th>\n",
       "      <th>rs_ari_all2</th>\n",
       "      <th>rs_ari_en1</th>\n",
       "      <th>rs_ari_en2</th>\n",
       "      <th>rs_fre_multi1</th>\n",
       "      <th>rs_fre_multi2</th>\n",
       "      <th>rs_lix1</th>\n",
       "      <th>rs_lix2</th>\n",
       "      <th>rs_rix1</th>\n",
       "      <th>rs_rix2</th>\n",
       "    </tr>\n",
       "  </thead>\n",
       "  <tbody>\n",
       "    <tr>\n",
       "      <th>223505</th>\n",
       "      <td>Two fossils were found in the older -LRB- lower -RRB- portion of the Yixian Formation in China , 128.2 million years ago -LRB- Ma -RRB- during the Barremian age .</td>\n",
       "      <td>two fossils were found in the older lower portion of the yixian formation in china 128 2 million years ago ma during the barremian age</td>\n",
       "      <td>0</td>\n",
       "      <td>2</td>\n",
       "      <td>2</td>\n",
       "      <td>1</td>\n",
       "      <td>0</td>\n",
       "      <td>133</td>\n",
       "      <td>0</td>\n",
       "      <td>0</td>\n",
       "      <td>0</td>\n",
       "      <td>0</td>\n",
       "      <td>en</td>\n",
       "      <td>4.40</td>\n",
       "      <td>25</td>\n",
       "      <td>110</td>\n",
       "      <td>5</td>\n",
       "      <td>33</td>\n",
       "      <td>2</td>\n",
       "      <td>19</td>\n",
       "      <td>1.62</td>\n",
       "      <td>4.40</td>\n",
       "      <td>25.0</td>\n",
       "      <td>1.3</td>\n",
       "      <td>10</td>\n",
       "      <td>0</td>\n",
       "      <td>0.880000</td>\n",
       "      <td>0.040000</td>\n",
       "      <td>0.400000</td>\n",
       "      <td>0.200000</td>\n",
       "      <td>0.760000</td>\n",
       "      <td>0.080000</td>\n",
       "      <td>9</td>\n",
       "      <td>4.400000</td>\n",
       "      <td>3</td>\n",
       "      <td>1.320000</td>\n",
       "      <td>18</td>\n",
       "      <td>11.8</td>\n",
       "      <td>45.0</td>\n",
       "      <td>5.0</td>\n",
       "      <td>11.8</td>\n",
       "      <td>9.5</td>\n",
       "      <td>8.54</td>\n",
       "      <td>14.5</td>\n",
       "      <td>11.82</td>\n",
       "      <td>7.40</td>\n",
       "      <td>13.20</td>\n",
       "      <td>4</td>\n",
       "      <td>5.740000</td>\n",
       "      <td>12.0</td>\n",
       "      <td>71.48</td>\n",
       "      <td>-1.0</td>\n",
       "      <td>-1.0</td>\n",
       "      <td>-1.0</td>\n",
       "      <td>-1.0</td>\n",
       "      <td>-1.0</td>\n",
       "      <td>-1.0</td>\n",
       "      <td>-1.0</td>\n",
       "      <td>295.0</td>\n",
       "      <td>389.4</td>\n",
       "      <td>295.0</td>\n",
       "      <td>389.4</td>\n",
       "      <td>1787.00</td>\n",
       "      <td>2358.84</td>\n",
       "      <td>1125.0</td>\n",
       "      <td>1485.0</td>\n",
       "      <td>125.0</td>\n",
       "      <td>165.0</td>\n",
       "    </tr>\n",
       "    <tr>\n",
       "      <th>37054</th>\n",
       "      <td>Abraham Charles '' Abe '' Vigoda -LRB- born February 24 , 1921 -RRB- is an American movie and television actor .</td>\n",
       "      <td>abraham charles abe vigoda born february 24 1921 is an american movie and television actor</td>\n",
       "      <td>1</td>\n",
       "      <td>1</td>\n",
       "      <td>1</td>\n",
       "      <td>1</td>\n",
       "      <td>0</td>\n",
       "      <td>92</td>\n",
       "      <td>0</td>\n",
       "      <td>0</td>\n",
       "      <td>0</td>\n",
       "      <td>0</td>\n",
       "      <td>en</td>\n",
       "      <td>5.07</td>\n",
       "      <td>15</td>\n",
       "      <td>76</td>\n",
       "      <td>5</td>\n",
       "      <td>25</td>\n",
       "      <td>4</td>\n",
       "      <td>9</td>\n",
       "      <td>1.12</td>\n",
       "      <td>5.07</td>\n",
       "      <td>15.0</td>\n",
       "      <td>1.7</td>\n",
       "      <td>4</td>\n",
       "      <td>0</td>\n",
       "      <td>1.000000</td>\n",
       "      <td>0.066667</td>\n",
       "      <td>0.266667</td>\n",
       "      <td>0.333333</td>\n",
       "      <td>0.600000</td>\n",
       "      <td>0.266667</td>\n",
       "      <td>10</td>\n",
       "      <td>5.066667</td>\n",
       "      <td>3</td>\n",
       "      <td>1.666667</td>\n",
       "      <td>18</td>\n",
       "      <td>9.9</td>\n",
       "      <td>48.3</td>\n",
       "      <td>5.0</td>\n",
       "      <td>9.9</td>\n",
       "      <td>10.3</td>\n",
       "      <td>11.53</td>\n",
       "      <td>11.5</td>\n",
       "      <td>12.80</td>\n",
       "      <td>8.59</td>\n",
       "      <td>11.33</td>\n",
       "      <td>4</td>\n",
       "      <td>5.247333</td>\n",
       "      <td>12.0</td>\n",
       "      <td>47.79</td>\n",
       "      <td>-1.0</td>\n",
       "      <td>-1.0</td>\n",
       "      <td>-1.0</td>\n",
       "      <td>-1.0</td>\n",
       "      <td>-1.0</td>\n",
       "      <td>-1.0</td>\n",
       "      <td>-1.0</td>\n",
       "      <td>148.5</td>\n",
       "      <td>247.5</td>\n",
       "      <td>148.5</td>\n",
       "      <td>247.5</td>\n",
       "      <td>716.85</td>\n",
       "      <td>1194.75</td>\n",
       "      <td>724.5</td>\n",
       "      <td>1207.5</td>\n",
       "      <td>75.0</td>\n",
       "      <td>125.0</td>\n",
       "    </tr>\n",
       "    <tr>\n",
       "      <th>36378</th>\n",
       "      <td>These are mutually exclusive states so if you define a row with both a header and a label\\/data pair , the label\\/data pair is ignored .</td>\n",
       "      <td>these are mutually exclusive states so if you define a row with both a header and a label data pair the label data pair is ignored</td>\n",
       "      <td>1</td>\n",
       "      <td>0</td>\n",
       "      <td>0</td>\n",
       "      <td>1</td>\n",
       "      <td>0</td>\n",
       "      <td>111</td>\n",
       "      <td>0</td>\n",
       "      <td>0</td>\n",
       "      <td>0</td>\n",
       "      <td>0</td>\n",
       "      <td>en</td>\n",
       "      <td>4.04</td>\n",
       "      <td>26</td>\n",
       "      <td>105</td>\n",
       "      <td>3</td>\n",
       "      <td>34</td>\n",
       "      <td>2</td>\n",
       "      <td>20</td>\n",
       "      <td>1.54</td>\n",
       "      <td>4.04</td>\n",
       "      <td>26.0</td>\n",
       "      <td>1.3</td>\n",
       "      <td>11</td>\n",
       "      <td>0</td>\n",
       "      <td>0.807692</td>\n",
       "      <td>0.038462</td>\n",
       "      <td>0.423077</td>\n",
       "      <td>0.115385</td>\n",
       "      <td>0.769231</td>\n",
       "      <td>0.076923</td>\n",
       "      <td>9</td>\n",
       "      <td>4.038462</td>\n",
       "      <td>3</td>\n",
       "      <td>1.307692</td>\n",
       "      <td>18</td>\n",
       "      <td>10.6</td>\n",
       "      <td>37.5</td>\n",
       "      <td>3.0</td>\n",
       "      <td>10.6</td>\n",
       "      <td>9.9</td>\n",
       "      <td>6.45</td>\n",
       "      <td>15.0</td>\n",
       "      <td>9.18</td>\n",
       "      <td>7.96</td>\n",
       "      <td>13.48</td>\n",
       "      <td>5</td>\n",
       "      <td>6.158846</td>\n",
       "      <td>10.0</td>\n",
       "      <td>70.47</td>\n",
       "      <td>-1.0</td>\n",
       "      <td>-1.0</td>\n",
       "      <td>-1.0</td>\n",
       "      <td>-1.0</td>\n",
       "      <td>-1.0</td>\n",
       "      <td>-1.0</td>\n",
       "      <td>-1.0</td>\n",
       "      <td>275.6</td>\n",
       "      <td>360.4</td>\n",
       "      <td>275.6</td>\n",
       "      <td>360.4</td>\n",
       "      <td>1832.22</td>\n",
       "      <td>2395.98</td>\n",
       "      <td>975.0</td>\n",
       "      <td>1275.0</td>\n",
       "      <td>78.0</td>\n",
       "      <td>102.0</td>\n",
       "    </tr>\n",
       "    <tr>\n",
       "      <th>141846</th>\n",
       "      <td>Paradou -LRB- also : Le Paradou -RRB- is a commune in the Bouches-du-Rh Ã ne department in southern France .</td>\n",
       "      <td>paradou also le paradou is a commune in the bouches du rh ne department in southern france</td>\n",
       "      <td>1</td>\n",
       "      <td>1</td>\n",
       "      <td>1</td>\n",
       "      <td>0</td>\n",
       "      <td>0</td>\n",
       "      <td>89</td>\n",
       "      <td>0</td>\n",
       "      <td>0</td>\n",
       "      <td>0</td>\n",
       "      <td>0</td>\n",
       "      <td>en</td>\n",
       "      <td>4.35</td>\n",
       "      <td>17</td>\n",
       "      <td>74</td>\n",
       "      <td>6</td>\n",
       "      <td>21</td>\n",
       "      <td>1</td>\n",
       "      <td>14</td>\n",
       "      <td>1.09</td>\n",
       "      <td>4.35</td>\n",
       "      <td>17.0</td>\n",
       "      <td>1.2</td>\n",
       "      <td>9</td>\n",
       "      <td>0</td>\n",
       "      <td>0.882353</td>\n",
       "      <td>0.000000</td>\n",
       "      <td>0.529412</td>\n",
       "      <td>0.352941</td>\n",
       "      <td>0.823529</td>\n",
       "      <td>0.058824</td>\n",
       "      <td>10</td>\n",
       "      <td>4.352941</td>\n",
       "      <td>3</td>\n",
       "      <td>1.235294</td>\n",
       "      <td>18</td>\n",
       "      <td>7.6</td>\n",
       "      <td>52.3</td>\n",
       "      <td>6.0</td>\n",
       "      <td>7.6</td>\n",
       "      <td>5.2</td>\n",
       "      <td>7.65</td>\n",
       "      <td>8.5</td>\n",
       "      <td>12.84</td>\n",
       "      <td>6.34</td>\n",
       "      <td>9.15</td>\n",
       "      <td>2</td>\n",
       "      <td>4.247765</td>\n",
       "      <td>8.0</td>\n",
       "      <td>88.06</td>\n",
       "      <td>-1.0</td>\n",
       "      <td>-1.0</td>\n",
       "      <td>-1.0</td>\n",
       "      <td>-1.0</td>\n",
       "      <td>-1.0</td>\n",
       "      <td>-1.0</td>\n",
       "      <td>-1.0</td>\n",
       "      <td>129.2</td>\n",
       "      <td>159.6</td>\n",
       "      <td>129.2</td>\n",
       "      <td>159.6</td>\n",
       "      <td>1497.02</td>\n",
       "      <td>1849.26</td>\n",
       "      <td>889.1</td>\n",
       "      <td>1098.3</td>\n",
       "      <td>102.0</td>\n",
       "      <td>126.0</td>\n",
       "    </tr>\n",
       "  </tbody>\n",
       "</table>\n",
       "</div>"
      ],
      "text/plain": [
       "                                                                                                                                                             original_text  \\\n",
       "223505  Two fossils were found in the older -LRB- lower -RRB- portion of the Yixian Formation in China , 128.2 million years ago -LRB- Ma -RRB- during the Barremian age .   \n",
       "37054                                                     Abraham Charles '' Abe '' Vigoda -LRB- born February 24 , 1921 -RRB- is an American movie and television actor .   \n",
       "36378                             These are mutually exclusive states so if you define a row with both a header and a label\\/data pair , the label\\/data pair is ignored .   \n",
       "141846                                                        Paradou -LRB- also : Le Paradou -RRB- is a commune in the Bouches-du-Rh Ã ne department in southern France .   \n",
       "\n",
       "                                                                                                                                  cleaned_text  \\\n",
       "223505  two fossils were found in the older lower portion of the yixian formation in china 128 2 million years ago ma during the barremian age   \n",
       "37054                                               abraham charles abe vigoda born february 24 1921 is an american movie and television actor   \n",
       "36378       these are mutually exclusive states so if you define a row with both a header and a label data pair the label data pair is ignored   \n",
       "141846                                              paradou also le paradou is a commune in the bouches du rh ne department in southern france   \n",
       "\n",
       "        label  stats_lrb_count  stats_rrb_count  stats_comma_count  \\\n",
       "223505      0                2                2                  1   \n",
       "37054       1                1                1                  1   \n",
       "36378       1                0                0                  1   \n",
       "141846      1                1                1                  0   \n",
       "\n",
       "        stats_equalsign_count  stats_char_count  stats_image_description  \\\n",
       "223505                      0               133                        0   \n",
       "37054                       0                92                        0   \n",
       "36378                       0               111                        0   \n",
       "141846                      0                89                        0   \n",
       "\n",
       "        stats_frac_description  stats_file_description  \\\n",
       "223505                       0                       0   \n",
       "37054                        0                       0   \n",
       "36378                        0                       0   \n",
       "141846                       0                       0   \n",
       "\n",
       "        stats_formula_description stats_language_code  \\\n",
       "223505                          0                  en   \n",
       "37054                           0                  en   \n",
       "36378                           0                  en   \n",
       "141846                          0                  en   \n",
       "\n",
       "        stats_avg_char_per_word  stats_word_count  stats_letter_count  \\\n",
       "223505                     4.40                25                 110   \n",
       "37054                      5.07                15                  76   \n",
       "36378                      4.04                26                 105   \n",
       "141846                     4.35                17                  74   \n",
       "\n",
       "        stats_long_word_count  stats_syllable_count  stats_polysyllab_count  \\\n",
       "223505                      5                    33                       2   \n",
       "37054                       5                    25                       4   \n",
       "36378                       3                    34                       2   \n",
       "141846                      6                    21                       1   \n",
       "\n",
       "        stats_monosyllab_count  stats_reading_time  stats_avg_letter_per_word  \\\n",
       "223505                      19                1.62                       4.40   \n",
       "37054                        9                1.12                       5.07   \n",
       "36378                       20                1.54                       4.04   \n",
       "141846                      14                1.09                       4.35   \n",
       "\n",
       "        stats_sentence_length  stats_syllable_avg  stats_mini_word_count  \\\n",
       "223505                   25.0                 1.3                     10   \n",
       "37054                    15.0                 1.7                      4   \n",
       "36378                    26.0                 1.3                     11   \n",
       "141846                   17.0                 1.2                      9   \n",
       "\n",
       "        stats_long_numbers_count  stats_lexical_diversity  \\\n",
       "223505                         0                 0.880000   \n",
       "37054                          0                 1.000000   \n",
       "36378                          0                 0.807692   \n",
       "141846                         0                 0.882353   \n",
       "\n",
       "        stats_frac_word_comma  stats_frac_mini_word  stats_frac_long_word  \\\n",
       "223505               0.040000              0.400000              0.200000   \n",
       "37054                0.066667              0.266667              0.333333   \n",
       "36378                0.038462              0.423077              0.115385   \n",
       "141846               0.000000              0.529412              0.352941   \n",
       "\n",
       "        stats_frac_monosyllable  stats_frac_polysyllable  \\\n",
       "223505                 0.760000                 0.080000   \n",
       "37054                  0.600000                 0.266667   \n",
       "36378                  0.769231                 0.076923   \n",
       "141846                 0.823529                 0.058824   \n",
       "\n",
       "        stats_max_chars_word  stats_avg_chars_word  stats_max_syllables_word  \\\n",
       "223505                     9              4.400000                         3   \n",
       "37054                     10              5.066667                         3   \n",
       "36378                      9              4.038462                         3   \n",
       "141846                    10              4.352941                         3   \n",
       "\n",
       "        stats_avg_syllables_word  stats_language_no  \\\n",
       "223505                  1.320000                 18   \n",
       "37054                   1.666667                 18   \n",
       "36378                   1.307692                 18   \n",
       "141846                  1.235294                 18   \n",
       "\n",
       "        rs_automated_readability_index_all  rs_lix_all  rs_rix_all  \\\n",
       "223505                                11.8        45.0         5.0   \n",
       "37054                                  9.9        48.3         5.0   \n",
       "36378                                 10.6        37.5         3.0   \n",
       "141846                                 7.6        52.3         6.0   \n",
       "\n",
       "        rs_automated_readability_index_en  rs_flesch_kincaid_grade_en  \\\n",
       "223505                               11.8                         9.5   \n",
       "37054                                 9.9                        10.3   \n",
       "36378                                10.6                         9.9   \n",
       "141846                                7.6                         5.2   \n",
       "\n",
       "        rs_coleman_liau_index_en  rs_linsear_write_formula_en  \\\n",
       "223505                      8.54                         14.5   \n",
       "37054                      11.53                         11.5   \n",
       "36378                       6.45                         15.0   \n",
       "141846                      7.65                          8.5   \n",
       "\n",
       "        rs_dale_chall_readability_score1_en  \\\n",
       "223505                                11.82   \n",
       "37054                                 12.80   \n",
       "36378                                  9.18   \n",
       "141846                                12.84   \n",
       "\n",
       "        rs_dale_chall_readability_score2_en  rs_gunning_fog_en  \\\n",
       "223505                                 7.40              13.20   \n",
       "37054                                  8.59              11.33   \n",
       "36378                                  7.96              13.48   \n",
       "141846                                 6.34               9.15   \n",
       "\n",
       "        rs_difficult_words_en  rs_spache_readability_en  rs_text_standard_en  \\\n",
       "223505                      4                  5.740000                 12.0   \n",
       "37054                       4                  5.247333                 12.0   \n",
       "36378                       5                  6.158846                 10.0   \n",
       "141846                      2                  4.247765                  8.0   \n",
       "\n",
       "        rs_flesch_reading_ease_multi  rs_fernandez_huerta_es  \\\n",
       "223505                         71.48                    -1.0   \n",
       "37054                          47.79                    -1.0   \n",
       "36378                          70.47                    -1.0   \n",
       "141846                         88.06                    -1.0   \n",
       "\n",
       "        rs_gutierrez_polini_es  rs_crawford_es  rs_szigriszt_pazos_es  \\\n",
       "223505                    -1.0            -1.0                   -1.0   \n",
       "37054                     -1.0            -1.0                   -1.0   \n",
       "36378                     -1.0            -1.0                   -1.0   \n",
       "141846                    -1.0            -1.0                   -1.0   \n",
       "\n",
       "        rs_wiener_sachtextformel_de  rs_lix_de  rs_gulpease_index_it  \\\n",
       "223505                         -1.0       -1.0                  -1.0   \n",
       "37054                          -1.0       -1.0                  -1.0   \n",
       "36378                          -1.0       -1.0                  -1.0   \n",
       "141846                         -1.0       -1.0                  -1.0   \n",
       "\n",
       "        rs_ari_all1  rs_ari_all2  rs_ari_en1  rs_ari_en2  rs_fre_multi1  \\\n",
       "223505        295.0        389.4       295.0       389.4        1787.00   \n",
       "37054         148.5        247.5       148.5       247.5         716.85   \n",
       "36378         275.6        360.4       275.6       360.4        1832.22   \n",
       "141846        129.2        159.6       129.2       159.6        1497.02   \n",
       "\n",
       "        rs_fre_multi2  rs_lix1  rs_lix2  rs_rix1  rs_rix2  \n",
       "223505        2358.84   1125.0   1485.0    125.0    165.0  \n",
       "37054         1194.75    724.5   1207.5     75.0    125.0  \n",
       "36378         2395.98    975.0   1275.0     78.0    102.0  \n",
       "141846        1849.26    889.1   1098.3    102.0    126.0  "
      ]
     },
     "execution_count": 36,
     "metadata": {},
     "output_type": "execute_result"
    }
   ],
   "source": [
    "df_wiki_train.sample(4)"
   ]
  },
  {
   "cell_type": "code",
   "execution_count": 37,
   "metadata": {
    "execution": {
     "iopub.status.busy": "2023-02-04T19:35:59.583277Z",
     "iopub.status.idle": "2023-02-04T19:35:59.583514Z",
     "shell.execute_reply": "2023-02-04T19:35:59.583409Z",
     "shell.execute_reply.started": "2023-02-04T19:35:59.583398Z"
    },
    "id": "tvk-km4Bexlc",
    "trusted": true
   },
   "outputs": [
    {
     "data": {
      "text/html": [
       "<div>\n",
       "<style scoped>\n",
       "    .dataframe tbody tr th:only-of-type {\n",
       "        vertical-align: middle;\n",
       "    }\n",
       "\n",
       "    .dataframe tbody tr th {\n",
       "        vertical-align: top;\n",
       "    }\n",
       "\n",
       "    .dataframe thead th {\n",
       "        text-align: right;\n",
       "    }\n",
       "</style>\n",
       "<table border=\"1\" class=\"dataframe\">\n",
       "  <thead>\n",
       "    <tr style=\"text-align: right;\">\n",
       "      <th></th>\n",
       "      <th>id</th>\n",
       "      <th>cleaned_text</th>\n",
       "      <th>original_text</th>\n",
       "      <th>label</th>\n",
       "      <th>stats_lrb_count</th>\n",
       "      <th>stats_rrb_count</th>\n",
       "      <th>stats_comma_count</th>\n",
       "      <th>stats_equalsign_count</th>\n",
       "      <th>stats_char_count</th>\n",
       "      <th>stats_image_description</th>\n",
       "      <th>stats_frac_description</th>\n",
       "      <th>stats_file_description</th>\n",
       "      <th>stats_formula_description</th>\n",
       "      <th>stats_language_code</th>\n",
       "      <th>stats_avg_char_per_word</th>\n",
       "      <th>stats_word_count</th>\n",
       "      <th>stats_letter_count</th>\n",
       "      <th>stats_long_word_count</th>\n",
       "      <th>stats_syllable_count</th>\n",
       "      <th>stats_polysyllab_count</th>\n",
       "      <th>stats_monosyllab_count</th>\n",
       "      <th>stats_reading_time</th>\n",
       "      <th>stats_avg_letter_per_word</th>\n",
       "      <th>stats_sentence_length</th>\n",
       "      <th>stats_syllable_avg</th>\n",
       "      <th>stats_mini_word_count</th>\n",
       "      <th>stats_long_numbers_count</th>\n",
       "      <th>stats_lexical_diversity</th>\n",
       "      <th>stats_frac_word_comma</th>\n",
       "      <th>stats_frac_mini_word</th>\n",
       "      <th>stats_frac_long_word</th>\n",
       "      <th>stats_frac_monosyllable</th>\n",
       "      <th>stats_frac_polysyllable</th>\n",
       "      <th>stats_max_chars_word</th>\n",
       "      <th>stats_avg_chars_word</th>\n",
       "      <th>stats_max_syllables_word</th>\n",
       "      <th>stats_avg_syllables_word</th>\n",
       "      <th>stats_language_no</th>\n",
       "      <th>rs_automated_readability_index_all</th>\n",
       "      <th>rs_lix_all</th>\n",
       "      <th>rs_rix_all</th>\n",
       "      <th>rs_automated_readability_index_en</th>\n",
       "      <th>rs_flesch_kincaid_grade_en</th>\n",
       "      <th>rs_coleman_liau_index_en</th>\n",
       "      <th>rs_linsear_write_formula_en</th>\n",
       "      <th>rs_dale_chall_readability_score1_en</th>\n",
       "      <th>rs_dale_chall_readability_score2_en</th>\n",
       "      <th>rs_gunning_fog_en</th>\n",
       "      <th>rs_difficult_words_en</th>\n",
       "      <th>rs_spache_readability_en</th>\n",
       "      <th>rs_text_standard_en</th>\n",
       "      <th>rs_flesch_reading_ease_multi</th>\n",
       "      <th>rs_fernandez_huerta_es</th>\n",
       "      <th>rs_gutierrez_polini_es</th>\n",
       "      <th>rs_crawford_es</th>\n",
       "      <th>rs_szigriszt_pazos_es</th>\n",
       "      <th>rs_wiener_sachtextformel_de</th>\n",
       "      <th>rs_lix_de</th>\n",
       "      <th>rs_gulpease_index_it</th>\n",
       "      <th>rs_ari_all1</th>\n",
       "      <th>rs_ari_all2</th>\n",
       "      <th>rs_ari_en1</th>\n",
       "      <th>rs_ari_en2</th>\n",
       "      <th>rs_fre_multi1</th>\n",
       "      <th>rs_fre_multi2</th>\n",
       "      <th>rs_lix1</th>\n",
       "      <th>rs_lix2</th>\n",
       "      <th>rs_rix1</th>\n",
       "      <th>rs_rix2</th>\n",
       "    </tr>\n",
       "  </thead>\n",
       "  <tbody>\n",
       "    <tr>\n",
       "      <th>27573</th>\n",
       "      <td>27573</td>\n",
       "      <td>even some japanese citizens see geisha in that way because of the lower class geisha who do sell their bodies and work as prostitutes the biggest misconception of geisha is that they have sex with their customers the most exclusive modern geisha do not</td>\n",
       "      <td>Even some Japanese citizens see geisha in that way because of the lower class geisha who do sell their bodies and work as prostitutes . The biggest misconception of geisha is that they have sex with their customers ; the most exclusive modern geisha do not .</td>\n",
       "      <td>-1.0</td>\n",
       "      <td>0</td>\n",
       "      <td>0</td>\n",
       "      <td>0</td>\n",
       "      <td>0</td>\n",
       "      <td>212</td>\n",
       "      <td>0</td>\n",
       "      <td>0</td>\n",
       "      <td>0</td>\n",
       "      <td>0</td>\n",
       "      <td>en</td>\n",
       "      <td>4.75</td>\n",
       "      <td>44</td>\n",
       "      <td>209</td>\n",
       "      <td>8</td>\n",
       "      <td>59</td>\n",
       "      <td>5</td>\n",
       "      <td>35</td>\n",
       "      <td>3.07</td>\n",
       "      <td>4.75</td>\n",
       "      <td>44.0</td>\n",
       "      <td>1.3</td>\n",
       "      <td>16</td>\n",
       "      <td>0</td>\n",
       "      <td>0.795455</td>\n",
       "      <td>0.000000</td>\n",
       "      <td>0.363636</td>\n",
       "      <td>0.181818</td>\n",
       "      <td>0.795455</td>\n",
       "      <td>0.113636</td>\n",
       "      <td>13</td>\n",
       "      <td>4.750000</td>\n",
       "      <td>4</td>\n",
       "      <td>1.340909</td>\n",
       "      <td>12</td>\n",
       "      <td>22.9</td>\n",
       "      <td>62.2</td>\n",
       "      <td>8.0</td>\n",
       "      <td>22.9</td>\n",
       "      <td>16.9</td>\n",
       "      <td>11.16</td>\n",
       "      <td>27.0</td>\n",
       "      <td>9.77</td>\n",
       "      <td>8.33</td>\n",
       "      <td>22.15</td>\n",
       "      <td>7</td>\n",
       "      <td>8.411182</td>\n",
       "      <td>10.0</td>\n",
       "      <td>52.20</td>\n",
       "      <td>-1.0</td>\n",
       "      <td>-1.0</td>\n",
       "      <td>-1.0</td>\n",
       "      <td>-1.0</td>\n",
       "      <td>-1.0</td>\n",
       "      <td>-1.0</td>\n",
       "      <td>-1.0</td>\n",
       "      <td>1007.6</td>\n",
       "      <td>1351.1</td>\n",
       "      <td>1007.6</td>\n",
       "      <td>1351.1</td>\n",
       "      <td>2296.80</td>\n",
       "      <td>3079.80</td>\n",
       "      <td>2736.8</td>\n",
       "      <td>3669.8</td>\n",
       "      <td>352.0</td>\n",
       "      <td>472.0</td>\n",
       "    </tr>\n",
       "    <tr>\n",
       "      <th>95113</th>\n",
       "      <td>95113</td>\n",
       "      <td>the independence of pakistan in 1947 led to the divisions of the punjab province into two new provinces</td>\n",
       "      <td>The independence of Pakistan in 1947 led to the divisions of the Punjab province into two new provinces .</td>\n",
       "      <td>-1.0</td>\n",
       "      <td>0</td>\n",
       "      <td>0</td>\n",
       "      <td>0</td>\n",
       "      <td>0</td>\n",
       "      <td>87</td>\n",
       "      <td>0</td>\n",
       "      <td>0</td>\n",
       "      <td>0</td>\n",
       "      <td>0</td>\n",
       "      <td>en</td>\n",
       "      <td>4.78</td>\n",
       "      <td>18</td>\n",
       "      <td>86</td>\n",
       "      <td>5</td>\n",
       "      <td>25</td>\n",
       "      <td>2</td>\n",
       "      <td>14</td>\n",
       "      <td>1.26</td>\n",
       "      <td>4.78</td>\n",
       "      <td>18.0</td>\n",
       "      <td>1.4</td>\n",
       "      <td>10</td>\n",
       "      <td>0</td>\n",
       "      <td>0.833333</td>\n",
       "      <td>0.000000</td>\n",
       "      <td>0.555556</td>\n",
       "      <td>0.277778</td>\n",
       "      <td>0.777778</td>\n",
       "      <td>0.111111</td>\n",
       "      <td>12</td>\n",
       "      <td>4.777778</td>\n",
       "      <td>4</td>\n",
       "      <td>1.388889</td>\n",
       "      <td>12</td>\n",
       "      <td>10.1</td>\n",
       "      <td>45.8</td>\n",
       "      <td>5.0</td>\n",
       "      <td>10.1</td>\n",
       "      <td>8.0</td>\n",
       "      <td>10.15</td>\n",
       "      <td>11.0</td>\n",
       "      <td>10.67</td>\n",
       "      <td>7.16</td>\n",
       "      <td>11.64</td>\n",
       "      <td>3</td>\n",
       "      <td>4.810333</td>\n",
       "      <td>11.0</td>\n",
       "      <td>70.13</td>\n",
       "      <td>-1.0</td>\n",
       "      <td>-1.0</td>\n",
       "      <td>-1.0</td>\n",
       "      <td>-1.0</td>\n",
       "      <td>-1.0</td>\n",
       "      <td>-1.0</td>\n",
       "      <td>-1.0</td>\n",
       "      <td>181.8</td>\n",
       "      <td>252.5</td>\n",
       "      <td>181.8</td>\n",
       "      <td>252.5</td>\n",
       "      <td>1262.34</td>\n",
       "      <td>1753.25</td>\n",
       "      <td>824.4</td>\n",
       "      <td>1145.0</td>\n",
       "      <td>90.0</td>\n",
       "      <td>125.0</td>\n",
       "    </tr>\n",
       "    <tr>\n",
       "      <th>89294</th>\n",
       "      <td>89294</td>\n",
       "      <td>the canon eos electro optical system autofocus 35 mm film and digital slr camera system was introduced in 1987 with the canon eos 650 and is still in production as canon current dslr system</td>\n",
       "      <td>The Canon EOS -LRB- Electro-Optical System -RRB- autofocus 35 mm film and digital SLR camera system was introduced in 1987 with the Canon EOS 650 and is still in production as Canon 's current dSLR system .</td>\n",
       "      <td>-1.0</td>\n",
       "      <td>1</td>\n",
       "      <td>1</td>\n",
       "      <td>0</td>\n",
       "      <td>0</td>\n",
       "      <td>170</td>\n",
       "      <td>0</td>\n",
       "      <td>0</td>\n",
       "      <td>0</td>\n",
       "      <td>0</td>\n",
       "      <td>en</td>\n",
       "      <td>4.59</td>\n",
       "      <td>34</td>\n",
       "      <td>156</td>\n",
       "      <td>7</td>\n",
       "      <td>53</td>\n",
       "      <td>5</td>\n",
       "      <td>20</td>\n",
       "      <td>2.29</td>\n",
       "      <td>4.59</td>\n",
       "      <td>34.0</td>\n",
       "      <td>1.6</td>\n",
       "      <td>13</td>\n",
       "      <td>0</td>\n",
       "      <td>0.764706</td>\n",
       "      <td>0.000000</td>\n",
       "      <td>0.382353</td>\n",
       "      <td>0.205882</td>\n",
       "      <td>0.588235</td>\n",
       "      <td>0.147059</td>\n",
       "      <td>10</td>\n",
       "      <td>4.588235</td>\n",
       "      <td>3</td>\n",
       "      <td>1.558824</td>\n",
       "      <td>12</td>\n",
       "      <td>17.2</td>\n",
       "      <td>54.6</td>\n",
       "      <td>7.0</td>\n",
       "      <td>17.2</td>\n",
       "      <td>16.6</td>\n",
       "      <td>9.93</td>\n",
       "      <td>22.0</td>\n",
       "      <td>13.22</td>\n",
       "      <td>9.97</td>\n",
       "      <td>19.48</td>\n",
       "      <td>10</td>\n",
       "      <td>8.162412</td>\n",
       "      <td>17.0</td>\n",
       "      <td>36.97</td>\n",
       "      <td>-1.0</td>\n",
       "      <td>-1.0</td>\n",
       "      <td>-1.0</td>\n",
       "      <td>-1.0</td>\n",
       "      <td>-1.0</td>\n",
       "      <td>-1.0</td>\n",
       "      <td>-1.0</td>\n",
       "      <td>584.8</td>\n",
       "      <td>911.6</td>\n",
       "      <td>584.8</td>\n",
       "      <td>911.6</td>\n",
       "      <td>1256.98</td>\n",
       "      <td>1959.41</td>\n",
       "      <td>1856.4</td>\n",
       "      <td>2893.8</td>\n",
       "      <td>238.0</td>\n",
       "      <td>371.0</td>\n",
       "    </tr>\n",
       "    <tr>\n",
       "      <th>41539</th>\n",
       "      <td>41539</td>\n",
       "      <td>i do not have to acknowledge anyone who lives by welfare denies the legitimacy of the very state that provides that welfare refuses to care for the education of his children and constantly produces new little headscarf girls</td>\n",
       "      <td>I do not have to acknowledge anyone who lives by welfare , denies the legitimacy of the very state that provides that welfare , refuses to care for the education of his children and constantly produces new little headscarf-girls .</td>\n",
       "      <td>-1.0</td>\n",
       "      <td>0</td>\n",
       "      <td>0</td>\n",
       "      <td>2</td>\n",
       "      <td>0</td>\n",
       "      <td>191</td>\n",
       "      <td>0</td>\n",
       "      <td>0</td>\n",
       "      <td>0</td>\n",
       "      <td>0</td>\n",
       "      <td>en</td>\n",
       "      <td>4.92</td>\n",
       "      <td>38</td>\n",
       "      <td>187</td>\n",
       "      <td>11</td>\n",
       "      <td>53</td>\n",
       "      <td>3</td>\n",
       "      <td>27</td>\n",
       "      <td>2.75</td>\n",
       "      <td>4.92</td>\n",
       "      <td>38.0</td>\n",
       "      <td>1.4</td>\n",
       "      <td>16</td>\n",
       "      <td>0</td>\n",
       "      <td>0.842105</td>\n",
       "      <td>0.052632</td>\n",
       "      <td>0.421053</td>\n",
       "      <td>0.289474</td>\n",
       "      <td>0.710526</td>\n",
       "      <td>0.078947</td>\n",
       "      <td>11</td>\n",
       "      <td>4.921053</td>\n",
       "      <td>4</td>\n",
       "      <td>1.394737</td>\n",
       "      <td>12</td>\n",
       "      <td>20.7</td>\n",
       "      <td>67.0</td>\n",
       "      <td>11.0</td>\n",
       "      <td>20.7</td>\n",
       "      <td>15.8</td>\n",
       "      <td>11.85</td>\n",
       "      <td>22.0</td>\n",
       "      <td>10.09</td>\n",
       "      <td>8.85</td>\n",
       "      <td>18.36</td>\n",
       "      <td>8</td>\n",
       "      <td>8.007526</td>\n",
       "      <td>16.0</td>\n",
       "      <td>49.83</td>\n",
       "      <td>-1.0</td>\n",
       "      <td>-1.0</td>\n",
       "      <td>-1.0</td>\n",
       "      <td>-1.0</td>\n",
       "      <td>-1.0</td>\n",
       "      <td>-1.0</td>\n",
       "      <td>-1.0</td>\n",
       "      <td>786.6</td>\n",
       "      <td>1097.1</td>\n",
       "      <td>786.6</td>\n",
       "      <td>1097.1</td>\n",
       "      <td>1893.54</td>\n",
       "      <td>2640.99</td>\n",
       "      <td>2546.0</td>\n",
       "      <td>3551.0</td>\n",
       "      <td>418.0</td>\n",
       "      <td>583.0</td>\n",
       "    </tr>\n",
       "  </tbody>\n",
       "</table>\n",
       "</div>"
      ],
      "text/plain": [
       "          id  \\\n",
       "27573  27573   \n",
       "95113  95113   \n",
       "89294  89294   \n",
       "41539  41539   \n",
       "\n",
       "                                                                                                                                                                                                                                                       cleaned_text  \\\n",
       "27573  even some japanese citizens see geisha in that way because of the lower class geisha who do sell their bodies and work as prostitutes the biggest misconception of geisha is that they have sex with their customers the most exclusive modern geisha do not   \n",
       "95113                                                                                                                                                       the independence of pakistan in 1947 led to the divisions of the punjab province into two new provinces   \n",
       "89294                                                                 the canon eos electro optical system autofocus 35 mm film and digital slr camera system was introduced in 1987 with the canon eos 650 and is still in production as canon current dslr system   \n",
       "41539                              i do not have to acknowledge anyone who lives by welfare denies the legitimacy of the very state that provides that welfare refuses to care for the education of his children and constantly produces new little headscarf girls   \n",
       "\n",
       "                                                                                                                                                                                                                                                            original_text  \\\n",
       "27573  Even some Japanese citizens see geisha in that way because of the lower class geisha who do sell their bodies and work as prostitutes . The biggest misconception of geisha is that they have sex with their customers ; the most exclusive modern geisha do not .   \n",
       "95113                                                                                                                                                           The independence of Pakistan in 1947 led to the divisions of the Punjab province into two new provinces .   \n",
       "89294                                                      The Canon EOS -LRB- Electro-Optical System -RRB- autofocus 35 mm film and digital SLR camera system was introduced in 1987 with the Canon EOS 650 and is still in production as Canon 's current dSLR system .   \n",
       "41539                              I do not have to acknowledge anyone who lives by welfare , denies the legitimacy of the very state that provides that welfare , refuses to care for the education of his children and constantly produces new little headscarf-girls .   \n",
       "\n",
       "       label  stats_lrb_count  stats_rrb_count  stats_comma_count  \\\n",
       "27573   -1.0                0                0                  0   \n",
       "95113   -1.0                0                0                  0   \n",
       "89294   -1.0                1                1                  0   \n",
       "41539   -1.0                0                0                  2   \n",
       "\n",
       "       stats_equalsign_count  stats_char_count  stats_image_description  \\\n",
       "27573                      0               212                        0   \n",
       "95113                      0                87                        0   \n",
       "89294                      0               170                        0   \n",
       "41539                      0               191                        0   \n",
       "\n",
       "       stats_frac_description  stats_file_description  \\\n",
       "27573                       0                       0   \n",
       "95113                       0                       0   \n",
       "89294                       0                       0   \n",
       "41539                       0                       0   \n",
       "\n",
       "       stats_formula_description stats_language_code  stats_avg_char_per_word  \\\n",
       "27573                          0                  en                     4.75   \n",
       "95113                          0                  en                     4.78   \n",
       "89294                          0                  en                     4.59   \n",
       "41539                          0                  en                     4.92   \n",
       "\n",
       "       stats_word_count  stats_letter_count  stats_long_word_count  \\\n",
       "27573                44                 209                      8   \n",
       "95113                18                  86                      5   \n",
       "89294                34                 156                      7   \n",
       "41539                38                 187                     11   \n",
       "\n",
       "       stats_syllable_count  stats_polysyllab_count  stats_monosyllab_count  \\\n",
       "27573                    59                       5                      35   \n",
       "95113                    25                       2                      14   \n",
       "89294                    53                       5                      20   \n",
       "41539                    53                       3                      27   \n",
       "\n",
       "       stats_reading_time  stats_avg_letter_per_word  stats_sentence_length  \\\n",
       "27573                3.07                       4.75                   44.0   \n",
       "95113                1.26                       4.78                   18.0   \n",
       "89294                2.29                       4.59                   34.0   \n",
       "41539                2.75                       4.92                   38.0   \n",
       "\n",
       "       stats_syllable_avg  stats_mini_word_count  stats_long_numbers_count  \\\n",
       "27573                 1.3                     16                         0   \n",
       "95113                 1.4                     10                         0   \n",
       "89294                 1.6                     13                         0   \n",
       "41539                 1.4                     16                         0   \n",
       "\n",
       "       stats_lexical_diversity  stats_frac_word_comma  stats_frac_mini_word  \\\n",
       "27573                 0.795455               0.000000              0.363636   \n",
       "95113                 0.833333               0.000000              0.555556   \n",
       "89294                 0.764706               0.000000              0.382353   \n",
       "41539                 0.842105               0.052632              0.421053   \n",
       "\n",
       "       stats_frac_long_word  stats_frac_monosyllable  stats_frac_polysyllable  \\\n",
       "27573              0.181818                 0.795455                 0.113636   \n",
       "95113              0.277778                 0.777778                 0.111111   \n",
       "89294              0.205882                 0.588235                 0.147059   \n",
       "41539              0.289474                 0.710526                 0.078947   \n",
       "\n",
       "       stats_max_chars_word  stats_avg_chars_word  stats_max_syllables_word  \\\n",
       "27573                    13              4.750000                         4   \n",
       "95113                    12              4.777778                         4   \n",
       "89294                    10              4.588235                         3   \n",
       "41539                    11              4.921053                         4   \n",
       "\n",
       "       stats_avg_syllables_word  stats_language_no  \\\n",
       "27573                  1.340909                 12   \n",
       "95113                  1.388889                 12   \n",
       "89294                  1.558824                 12   \n",
       "41539                  1.394737                 12   \n",
       "\n",
       "       rs_automated_readability_index_all  rs_lix_all  rs_rix_all  \\\n",
       "27573                                22.9        62.2         8.0   \n",
       "95113                                10.1        45.8         5.0   \n",
       "89294                                17.2        54.6         7.0   \n",
       "41539                                20.7        67.0        11.0   \n",
       "\n",
       "       rs_automated_readability_index_en  rs_flesch_kincaid_grade_en  \\\n",
       "27573                               22.9                        16.9   \n",
       "95113                               10.1                         8.0   \n",
       "89294                               17.2                        16.6   \n",
       "41539                               20.7                        15.8   \n",
       "\n",
       "       rs_coleman_liau_index_en  rs_linsear_write_formula_en  \\\n",
       "27573                     11.16                         27.0   \n",
       "95113                     10.15                         11.0   \n",
       "89294                      9.93                         22.0   \n",
       "41539                     11.85                         22.0   \n",
       "\n",
       "       rs_dale_chall_readability_score1_en  \\\n",
       "27573                                 9.77   \n",
       "95113                                10.67   \n",
       "89294                                13.22   \n",
       "41539                                10.09   \n",
       "\n",
       "       rs_dale_chall_readability_score2_en  rs_gunning_fog_en  \\\n",
       "27573                                 8.33              22.15   \n",
       "95113                                 7.16              11.64   \n",
       "89294                                 9.97              19.48   \n",
       "41539                                 8.85              18.36   \n",
       "\n",
       "       rs_difficult_words_en  rs_spache_readability_en  rs_text_standard_en  \\\n",
       "27573                      7                  8.411182                 10.0   \n",
       "95113                      3                  4.810333                 11.0   \n",
       "89294                     10                  8.162412                 17.0   \n",
       "41539                      8                  8.007526                 16.0   \n",
       "\n",
       "       rs_flesch_reading_ease_multi  rs_fernandez_huerta_es  \\\n",
       "27573                         52.20                    -1.0   \n",
       "95113                         70.13                    -1.0   \n",
       "89294                         36.97                    -1.0   \n",
       "41539                         49.83                    -1.0   \n",
       "\n",
       "       rs_gutierrez_polini_es  rs_crawford_es  rs_szigriszt_pazos_es  \\\n",
       "27573                    -1.0            -1.0                   -1.0   \n",
       "95113                    -1.0            -1.0                   -1.0   \n",
       "89294                    -1.0            -1.0                   -1.0   \n",
       "41539                    -1.0            -1.0                   -1.0   \n",
       "\n",
       "       rs_wiener_sachtextformel_de  rs_lix_de  rs_gulpease_index_it  \\\n",
       "27573                         -1.0       -1.0                  -1.0   \n",
       "95113                         -1.0       -1.0                  -1.0   \n",
       "89294                         -1.0       -1.0                  -1.0   \n",
       "41539                         -1.0       -1.0                  -1.0   \n",
       "\n",
       "       rs_ari_all1  rs_ari_all2  rs_ari_en1  rs_ari_en2  rs_fre_multi1  \\\n",
       "27573       1007.6       1351.1      1007.6      1351.1        2296.80   \n",
       "95113        181.8        252.5       181.8       252.5        1262.34   \n",
       "89294        584.8        911.6       584.8       911.6        1256.98   \n",
       "41539        786.6       1097.1       786.6      1097.1        1893.54   \n",
       "\n",
       "       rs_fre_multi2  rs_lix1  rs_lix2  rs_rix1  rs_rix2  \n",
       "27573        3079.80   2736.8   3669.8    352.0    472.0  \n",
       "95113        1753.25    824.4   1145.0     90.0    125.0  \n",
       "89294        1959.41   1856.4   2893.8    238.0    371.0  \n",
       "41539        2640.99   2546.0   3551.0    418.0    583.0  "
      ]
     },
     "execution_count": 37,
     "metadata": {},
     "output_type": "execute_result"
    }
   ],
   "source": [
    "df_wiki_test.sample(4)"
   ]
  },
  {
   "cell_type": "code",
   "execution_count": 38,
   "metadata": {},
   "outputs": [
    {
     "data": {
      "text/html": [
       "<div>\n",
       "<style scoped>\n",
       "    .dataframe tbody tr th:only-of-type {\n",
       "        vertical-align: middle;\n",
       "    }\n",
       "\n",
       "    .dataframe tbody tr th {\n",
       "        vertical-align: top;\n",
       "    }\n",
       "\n",
       "    .dataframe thead th {\n",
       "        text-align: right;\n",
       "    }\n",
       "</style>\n",
       "<table border=\"1\" class=\"dataframe\">\n",
       "  <thead>\n",
       "    <tr style=\"text-align: right;\">\n",
       "      <th></th>\n",
       "      <th>original_text</th>\n",
       "      <th>cleaned_text</th>\n",
       "      <th>label</th>\n",
       "      <th>stats_lrb_count</th>\n",
       "      <th>stats_rrb_count</th>\n",
       "      <th>stats_comma_count</th>\n",
       "      <th>stats_equalsign_count</th>\n",
       "      <th>stats_char_count</th>\n",
       "      <th>stats_image_description</th>\n",
       "      <th>stats_frac_description</th>\n",
       "      <th>stats_file_description</th>\n",
       "      <th>stats_formula_description</th>\n",
       "      <th>stats_language_code</th>\n",
       "      <th>stats_avg_char_per_word</th>\n",
       "      <th>stats_word_count</th>\n",
       "      <th>stats_letter_count</th>\n",
       "      <th>stats_long_word_count</th>\n",
       "      <th>stats_syllable_count</th>\n",
       "      <th>stats_polysyllab_count</th>\n",
       "      <th>stats_monosyllab_count</th>\n",
       "      <th>stats_reading_time</th>\n",
       "      <th>stats_avg_letter_per_word</th>\n",
       "      <th>stats_sentence_length</th>\n",
       "      <th>stats_syllable_avg</th>\n",
       "      <th>stats_mini_word_count</th>\n",
       "      <th>stats_long_numbers_count</th>\n",
       "      <th>stats_lexical_diversity</th>\n",
       "      <th>stats_frac_word_comma</th>\n",
       "      <th>stats_frac_mini_word</th>\n",
       "      <th>stats_frac_long_word</th>\n",
       "      <th>stats_frac_monosyllable</th>\n",
       "      <th>stats_frac_polysyllable</th>\n",
       "      <th>stats_max_chars_word</th>\n",
       "      <th>stats_avg_chars_word</th>\n",
       "      <th>stats_max_syllables_word</th>\n",
       "      <th>stats_avg_syllables_word</th>\n",
       "      <th>stats_language_no</th>\n",
       "      <th>rs_automated_readability_index_all</th>\n",
       "      <th>rs_lix_all</th>\n",
       "      <th>rs_rix_all</th>\n",
       "      <th>rs_automated_readability_index_en</th>\n",
       "      <th>rs_flesch_kincaid_grade_en</th>\n",
       "      <th>rs_coleman_liau_index_en</th>\n",
       "      <th>rs_linsear_write_formula_en</th>\n",
       "      <th>rs_dale_chall_readability_score1_en</th>\n",
       "      <th>rs_dale_chall_readability_score2_en</th>\n",
       "      <th>rs_gunning_fog_en</th>\n",
       "      <th>rs_difficult_words_en</th>\n",
       "      <th>rs_spache_readability_en</th>\n",
       "      <th>rs_text_standard_en</th>\n",
       "      <th>rs_flesch_reading_ease_multi</th>\n",
       "      <th>rs_fernandez_huerta_es</th>\n",
       "      <th>rs_gutierrez_polini_es</th>\n",
       "      <th>rs_crawford_es</th>\n",
       "      <th>rs_szigriszt_pazos_es</th>\n",
       "      <th>rs_wiener_sachtextformel_de</th>\n",
       "      <th>rs_lix_de</th>\n",
       "      <th>rs_gulpease_index_it</th>\n",
       "      <th>rs_ari_all1</th>\n",
       "      <th>rs_ari_all2</th>\n",
       "      <th>rs_ari_en1</th>\n",
       "      <th>rs_ari_en2</th>\n",
       "      <th>rs_fre_multi1</th>\n",
       "      <th>rs_fre_multi2</th>\n",
       "      <th>rs_lix1</th>\n",
       "      <th>rs_lix2</th>\n",
       "      <th>rs_rix1</th>\n",
       "      <th>rs_rix2</th>\n",
       "    </tr>\n",
       "  </thead>\n",
       "  <tbody>\n",
       "    <tr>\n",
       "      <th>90</th>\n",
       "      <td>Walter Kogler</td>\n",
       "      <td>walter kogler</td>\n",
       "      <td>1</td>\n",
       "      <td>0</td>\n",
       "      <td>0</td>\n",
       "      <td>0</td>\n",
       "      <td>0</td>\n",
       "      <td>12</td>\n",
       "      <td>0</td>\n",
       "      <td>0</td>\n",
       "      <td>0</td>\n",
       "      <td>0</td>\n",
       "      <td>de</td>\n",
       "      <td>6.00</td>\n",
       "      <td>2</td>\n",
       "      <td>12</td>\n",
       "      <td>0</td>\n",
       "      <td>4</td>\n",
       "      <td>0</td>\n",
       "      <td>0</td>\n",
       "      <td>0.18</td>\n",
       "      <td>6.00</td>\n",
       "      <td>2.0</td>\n",
       "      <td>2.0</td>\n",
       "      <td>0</td>\n",
       "      <td>0</td>\n",
       "      <td>1.000000</td>\n",
       "      <td>0.000000</td>\n",
       "      <td>0.000000</td>\n",
       "      <td>0.0</td>\n",
       "      <td>0.0</td>\n",
       "      <td>0.0</td>\n",
       "      <td>6</td>\n",
       "      <td>6.000000</td>\n",
       "      <td>2</td>\n",
       "      <td>2.0</td>\n",
       "      <td>16</td>\n",
       "      <td>7.8</td>\n",
       "      <td>2.0</td>\n",
       "      <td>0.0</td>\n",
       "      <td>-1.0</td>\n",
       "      <td>-1.0</td>\n",
       "      <td>-1.0</td>\n",
       "      <td>-1.0</td>\n",
       "      <td>-1.0</td>\n",
       "      <td>-1.0</td>\n",
       "      <td>-1.0</td>\n",
       "      <td>-1</td>\n",
       "      <td>-1.0</td>\n",
       "      <td>-1.0</td>\n",
       "      <td>61.00</td>\n",
       "      <td>-1.0</td>\n",
       "      <td>-1.00</td>\n",
       "      <td>-1.0</td>\n",
       "      <td>-1.00</td>\n",
       "      <td>-2.4426</td>\n",
       "      <td>2.0</td>\n",
       "      <td>-1.0</td>\n",
       "      <td>15.6</td>\n",
       "      <td>31.2</td>\n",
       "      <td>-2.0</td>\n",
       "      <td>-4.0</td>\n",
       "      <td>122.00</td>\n",
       "      <td>244.00</td>\n",
       "      <td>4.0</td>\n",
       "      <td>8.0</td>\n",
       "      <td>0.0</td>\n",
       "      <td>0.0</td>\n",
       "    </tr>\n",
       "    <tr>\n",
       "      <th>157</th>\n",
       "      <td>ISBN 3-85052-197-4</td>\n",
       "      <td>isbn 3 85052 197 4</td>\n",
       "      <td>1</td>\n",
       "      <td>0</td>\n",
       "      <td>0</td>\n",
       "      <td>0</td>\n",
       "      <td>0</td>\n",
       "      <td>17</td>\n",
       "      <td>0</td>\n",
       "      <td>0</td>\n",
       "      <td>0</td>\n",
       "      <td>0</td>\n",
       "      <td>tt</td>\n",
       "      <td>2.80</td>\n",
       "      <td>5</td>\n",
       "      <td>14</td>\n",
       "      <td>0</td>\n",
       "      <td>5</td>\n",
       "      <td>0</td>\n",
       "      <td>5</td>\n",
       "      <td>0.21</td>\n",
       "      <td>2.80</td>\n",
       "      <td>5.0</td>\n",
       "      <td>1.0</td>\n",
       "      <td>0</td>\n",
       "      <td>1</td>\n",
       "      <td>1.000000</td>\n",
       "      <td>0.000000</td>\n",
       "      <td>0.000000</td>\n",
       "      <td>0.0</td>\n",
       "      <td>1.0</td>\n",
       "      <td>0.0</td>\n",
       "      <td>5</td>\n",
       "      <td>2.800000</td>\n",
       "      <td>1</td>\n",
       "      <td>1.0</td>\n",
       "      <td>81</td>\n",
       "      <td>-5.8</td>\n",
       "      <td>5.0</td>\n",
       "      <td>0.0</td>\n",
       "      <td>-1.0</td>\n",
       "      <td>-1.0</td>\n",
       "      <td>-1.0</td>\n",
       "      <td>-1.0</td>\n",
       "      <td>-1.0</td>\n",
       "      <td>-1.0</td>\n",
       "      <td>-1.0</td>\n",
       "      <td>-1</td>\n",
       "      <td>-1.0</td>\n",
       "      <td>-1.0</td>\n",
       "      <td>-1.00</td>\n",
       "      <td>-1.0</td>\n",
       "      <td>-1.00</td>\n",
       "      <td>-1.0</td>\n",
       "      <td>-1.00</td>\n",
       "      <td>-1.0000</td>\n",
       "      <td>-1.0</td>\n",
       "      <td>-1.0</td>\n",
       "      <td>-29.0</td>\n",
       "      <td>-29.0</td>\n",
       "      <td>-5.0</td>\n",
       "      <td>-5.0</td>\n",
       "      <td>-5.00</td>\n",
       "      <td>-5.00</td>\n",
       "      <td>25.0</td>\n",
       "      <td>25.0</td>\n",
       "      <td>0.0</td>\n",
       "      <td>0.0</td>\n",
       "    </tr>\n",
       "    <tr>\n",
       "      <th>309</th>\n",
       "      <td>Broadcast :</td>\n",
       "      <td>broadcast</td>\n",
       "      <td>1</td>\n",
       "      <td>0</td>\n",
       "      <td>0</td>\n",
       "      <td>0</td>\n",
       "      <td>0</td>\n",
       "      <td>10</td>\n",
       "      <td>0</td>\n",
       "      <td>0</td>\n",
       "      <td>0</td>\n",
       "      <td>0</td>\n",
       "      <td>fr</td>\n",
       "      <td>9.00</td>\n",
       "      <td>1</td>\n",
       "      <td>9</td>\n",
       "      <td>1</td>\n",
       "      <td>2</td>\n",
       "      <td>0</td>\n",
       "      <td>0</td>\n",
       "      <td>0.13</td>\n",
       "      <td>9.00</td>\n",
       "      <td>1.0</td>\n",
       "      <td>2.0</td>\n",
       "      <td>0</td>\n",
       "      <td>0</td>\n",
       "      <td>1.000000</td>\n",
       "      <td>0.000000</td>\n",
       "      <td>0.000000</td>\n",
       "      <td>1.0</td>\n",
       "      <td>0.0</td>\n",
       "      <td>0.0</td>\n",
       "      <td>9</td>\n",
       "      <td>9.000000</td>\n",
       "      <td>2</td>\n",
       "      <td>2.0</td>\n",
       "      <td>25</td>\n",
       "      <td>21.5</td>\n",
       "      <td>101.0</td>\n",
       "      <td>1.0</td>\n",
       "      <td>-1.0</td>\n",
       "      <td>-1.0</td>\n",
       "      <td>-1.0</td>\n",
       "      <td>-1.0</td>\n",
       "      <td>-1.0</td>\n",
       "      <td>-1.0</td>\n",
       "      <td>-1.0</td>\n",
       "      <td>-1</td>\n",
       "      <td>-1.0</td>\n",
       "      <td>-1.0</td>\n",
       "      <td>58.79</td>\n",
       "      <td>-1.0</td>\n",
       "      <td>-1.00</td>\n",
       "      <td>-1.0</td>\n",
       "      <td>-1.00</td>\n",
       "      <td>-1.0000</td>\n",
       "      <td>-1.0</td>\n",
       "      <td>-1.0</td>\n",
       "      <td>21.5</td>\n",
       "      <td>43.0</td>\n",
       "      <td>-1.0</td>\n",
       "      <td>-2.0</td>\n",
       "      <td>58.79</td>\n",
       "      <td>117.58</td>\n",
       "      <td>101.0</td>\n",
       "      <td>202.0</td>\n",
       "      <td>1.0</td>\n",
       "      <td>2.0</td>\n",
       "    </tr>\n",
       "    <tr>\n",
       "      <th>336</th>\n",
       "      <td>eta _ -LCB- th -RCB- = 1 - frac -LCB- r ^ -LCB- 1 - gamma -RCB- -LRB- r_c ^ gamma - 1 -RRB- -RCB- -LCB- gamma -LRB- r_c - 1 -RRB- -RCB- ,</td>\n",
       "      <td>eta th 1 r 1 gamma r c gamma 1 gamma r c 1</td>\n",
       "      <td>1</td>\n",
       "      <td>2</td>\n",
       "      <td>2</td>\n",
       "      <td>1</td>\n",
       "      <td>1</td>\n",
       "      <td>104</td>\n",
       "      <td>0</td>\n",
       "      <td>0</td>\n",
       "      <td>0</td>\n",
       "      <td>0</td>\n",
       "      <td>ja</td>\n",
       "      <td>2.07</td>\n",
       "      <td>14</td>\n",
       "      <td>29</td>\n",
       "      <td>0</td>\n",
       "      <td>14</td>\n",
       "      <td>0</td>\n",
       "      <td>14</td>\n",
       "      <td>0.43</td>\n",
       "      <td>2.07</td>\n",
       "      <td>14.0</td>\n",
       "      <td>1.0</td>\n",
       "      <td>7</td>\n",
       "      <td>0</td>\n",
       "      <td>0.428571</td>\n",
       "      <td>0.071429</td>\n",
       "      <td>0.500000</td>\n",
       "      <td>0.0</td>\n",
       "      <td>1.0</td>\n",
       "      <td>0.0</td>\n",
       "      <td>5</td>\n",
       "      <td>2.071429</td>\n",
       "      <td>1</td>\n",
       "      <td>1.0</td>\n",
       "      <td>42</td>\n",
       "      <td>-4.8</td>\n",
       "      <td>14.0</td>\n",
       "      <td>0.0</td>\n",
       "      <td>-1.0</td>\n",
       "      <td>-1.0</td>\n",
       "      <td>-1.0</td>\n",
       "      <td>-1.0</td>\n",
       "      <td>-1.0</td>\n",
       "      <td>-1.0</td>\n",
       "      <td>-1.0</td>\n",
       "      <td>-1</td>\n",
       "      <td>-1.0</td>\n",
       "      <td>-1.0</td>\n",
       "      <td>-1.00</td>\n",
       "      <td>-1.0</td>\n",
       "      <td>-1.00</td>\n",
       "      <td>-1.0</td>\n",
       "      <td>-1.00</td>\n",
       "      <td>-1.0000</td>\n",
       "      <td>-1.0</td>\n",
       "      <td>-1.0</td>\n",
       "      <td>-67.2</td>\n",
       "      <td>-67.2</td>\n",
       "      <td>-14.0</td>\n",
       "      <td>-14.0</td>\n",
       "      <td>-14.00</td>\n",
       "      <td>-14.00</td>\n",
       "      <td>196.0</td>\n",
       "      <td>196.0</td>\n",
       "      <td>0.0</td>\n",
       "      <td>0.0</td>\n",
       "    </tr>\n",
       "    <tr>\n",
       "      <th>445</th>\n",
       "      <td>-LRB- x + y -RRB- ^ n &amp; = -LCB- n choose 0 -RCB- x ^ n y ^ 0 + -LCB- n choose 1 -RCB- x ^ -LCB- n-1 -RCB- y ^ 1 + -LCB- n choose 2 -RCB- x ^ -LCB- n-2 -RCB- y ^ 2 + -LCB- n choose 3 -RCB- x ^ -LCB- n-3 -RCB- y ^ 3 + cdots</td>\n",
       "      <td>x y n n choose 0 x n y 0 n choose 1 x n 1 y 1 n choose 2 x n 2 y 2 n choose 3 x n 3 y 3 cdots</td>\n",
       "      <td>1</td>\n",
       "      <td>1</td>\n",
       "      <td>1</td>\n",
       "      <td>0</td>\n",
       "      <td>1</td>\n",
       "      <td>158</td>\n",
       "      <td>0</td>\n",
       "      <td>0</td>\n",
       "      <td>0</td>\n",
       "      <td>0</td>\n",
       "      <td>es</td>\n",
       "      <td>1.69</td>\n",
       "      <td>35</td>\n",
       "      <td>59</td>\n",
       "      <td>0</td>\n",
       "      <td>35</td>\n",
       "      <td>0</td>\n",
       "      <td>35</td>\n",
       "      <td>0.87</td>\n",
       "      <td>1.69</td>\n",
       "      <td>35.0</td>\n",
       "      <td>1.0</td>\n",
       "      <td>19</td>\n",
       "      <td>0</td>\n",
       "      <td>0.257143</td>\n",
       "      <td>0.000000</td>\n",
       "      <td>0.542857</td>\n",
       "      <td>0.0</td>\n",
       "      <td>1.0</td>\n",
       "      <td>0.0</td>\n",
       "      <td>6</td>\n",
       "      <td>1.685714</td>\n",
       "      <td>1</td>\n",
       "      <td>1.0</td>\n",
       "      <td>20</td>\n",
       "      <td>4.0</td>\n",
       "      <td>35.0</td>\n",
       "      <td>0.0</td>\n",
       "      <td>-1.0</td>\n",
       "      <td>-1.0</td>\n",
       "      <td>-1.0</td>\n",
       "      <td>-1.0</td>\n",
       "      <td>-1.0</td>\n",
       "      <td>-1.0</td>\n",
       "      <td>-1.0</td>\n",
       "      <td>-1</td>\n",
       "      <td>-1.0</td>\n",
       "      <td>-1.0</td>\n",
       "      <td>109.40</td>\n",
       "      <td>111.2</td>\n",
       "      <td>66.60</td>\n",
       "      <td>1.0</td>\n",
       "      <td>107.76</td>\n",
       "      <td>-1.0000</td>\n",
       "      <td>-1.0</td>\n",
       "      <td>-1.0</td>\n",
       "      <td>140.0</td>\n",
       "      <td>140.0</td>\n",
       "      <td>-35.0</td>\n",
       "      <td>-35.0</td>\n",
       "      <td>3829.00</td>\n",
       "      <td>3829.00</td>\n",
       "      <td>1225.0</td>\n",
       "      <td>1225.0</td>\n",
       "      <td>0.0</td>\n",
       "      <td>0.0</td>\n",
       "    </tr>\n",
       "    <tr>\n",
       "      <th>594</th>\n",
       "      <td>Cugy</td>\n",
       "      <td>cugy</td>\n",
       "      <td>1</td>\n",
       "      <td>0</td>\n",
       "      <td>0</td>\n",
       "      <td>0</td>\n",
       "      <td>0</td>\n",
       "      <td>4</td>\n",
       "      <td>0</td>\n",
       "      <td>0</td>\n",
       "      <td>0</td>\n",
       "      <td>0</td>\n",
       "      <td>hr</td>\n",
       "      <td>4.00</td>\n",
       "      <td>1</td>\n",
       "      <td>4</td>\n",
       "      <td>0</td>\n",
       "      <td>1</td>\n",
       "      <td>0</td>\n",
       "      <td>1</td>\n",
       "      <td>0.06</td>\n",
       "      <td>4.00</td>\n",
       "      <td>1.0</td>\n",
       "      <td>1.0</td>\n",
       "      <td>0</td>\n",
       "      <td>0</td>\n",
       "      <td>1.000000</td>\n",
       "      <td>0.000000</td>\n",
       "      <td>0.000000</td>\n",
       "      <td>0.0</td>\n",
       "      <td>1.0</td>\n",
       "      <td>0.0</td>\n",
       "      <td>4</td>\n",
       "      <td>4.000000</td>\n",
       "      <td>1</td>\n",
       "      <td>1.0</td>\n",
       "      <td>31</td>\n",
       "      <td>-2.2</td>\n",
       "      <td>1.0</td>\n",
       "      <td>0.0</td>\n",
       "      <td>-1.0</td>\n",
       "      <td>-1.0</td>\n",
       "      <td>-1.0</td>\n",
       "      <td>-1.0</td>\n",
       "      <td>-1.0</td>\n",
       "      <td>-1.0</td>\n",
       "      <td>-1.0</td>\n",
       "      <td>-1</td>\n",
       "      <td>-1.0</td>\n",
       "      <td>-1.0</td>\n",
       "      <td>-1.00</td>\n",
       "      <td>-1.0</td>\n",
       "      <td>-1.00</td>\n",
       "      <td>-1.0</td>\n",
       "      <td>-1.00</td>\n",
       "      <td>-1.0000</td>\n",
       "      <td>-1.0</td>\n",
       "      <td>-1.0</td>\n",
       "      <td>-2.2</td>\n",
       "      <td>-2.2</td>\n",
       "      <td>-1.0</td>\n",
       "      <td>-1.0</td>\n",
       "      <td>-1.00</td>\n",
       "      <td>-1.00</td>\n",
       "      <td>1.0</td>\n",
       "      <td>1.0</td>\n",
       "      <td>0.0</td>\n",
       "      <td>0.0</td>\n",
       "    </tr>\n",
       "    <tr>\n",
       "      <th>607</th>\n",
       "      <td>! ''</td>\n",
       "      <td></td>\n",
       "      <td>1</td>\n",
       "      <td>0</td>\n",
       "      <td>0</td>\n",
       "      <td>0</td>\n",
       "      <td>0</td>\n",
       "      <td>3</td>\n",
       "      <td>0</td>\n",
       "      <td>0</td>\n",
       "      <td>0</td>\n",
       "      <td>0</td>\n",
       "      <td>oc</td>\n",
       "      <td>0.00</td>\n",
       "      <td>0</td>\n",
       "      <td>0</td>\n",
       "      <td>0</td>\n",
       "      <td>0</td>\n",
       "      <td>0</td>\n",
       "      <td>0</td>\n",
       "      <td>0.00</td>\n",
       "      <td>0.00</td>\n",
       "      <td>0.0</td>\n",
       "      <td>0.0</td>\n",
       "      <td>0</td>\n",
       "      <td>0</td>\n",
       "      <td>-1.000000</td>\n",
       "      <td>0.000000</td>\n",
       "      <td>0.000000</td>\n",
       "      <td>0.0</td>\n",
       "      <td>0.0</td>\n",
       "      <td>0.0</td>\n",
       "      <td>-1</td>\n",
       "      <td>-1.000000</td>\n",
       "      <td>-1</td>\n",
       "      <td>-1.0</td>\n",
       "      <td>61</td>\n",
       "      <td>0.0</td>\n",
       "      <td>0.0</td>\n",
       "      <td>0.0</td>\n",
       "      <td>-1.0</td>\n",
       "      <td>-1.0</td>\n",
       "      <td>-1.0</td>\n",
       "      <td>-1.0</td>\n",
       "      <td>-1.0</td>\n",
       "      <td>-1.0</td>\n",
       "      <td>-1.0</td>\n",
       "      <td>-1</td>\n",
       "      <td>-1.0</td>\n",
       "      <td>-1.0</td>\n",
       "      <td>-1.00</td>\n",
       "      <td>-1.0</td>\n",
       "      <td>-1.00</td>\n",
       "      <td>-1.0</td>\n",
       "      <td>-1.00</td>\n",
       "      <td>-1.0000</td>\n",
       "      <td>-1.0</td>\n",
       "      <td>-1.0</td>\n",
       "      <td>0.0</td>\n",
       "      <td>0.0</td>\n",
       "      <td>-0.0</td>\n",
       "      <td>-0.0</td>\n",
       "      <td>-0.00</td>\n",
       "      <td>-0.00</td>\n",
       "      <td>0.0</td>\n",
       "      <td>0.0</td>\n",
       "      <td>0.0</td>\n",
       "      <td>0.0</td>\n",
       "    </tr>\n",
       "    <tr>\n",
       "      <th>720</th>\n",
       "      <td>__ NOTOC __</td>\n",
       "      <td>notoc</td>\n",
       "      <td>1</td>\n",
       "      <td>0</td>\n",
       "      <td>0</td>\n",
       "      <td>0</td>\n",
       "      <td>0</td>\n",
       "      <td>9</td>\n",
       "      <td>0</td>\n",
       "      <td>0</td>\n",
       "      <td>0</td>\n",
       "      <td>0</td>\n",
       "      <td>es</td>\n",
       "      <td>5.00</td>\n",
       "      <td>1</td>\n",
       "      <td>5</td>\n",
       "      <td>0</td>\n",
       "      <td>2</td>\n",
       "      <td>0</td>\n",
       "      <td>0</td>\n",
       "      <td>0.07</td>\n",
       "      <td>5.00</td>\n",
       "      <td>1.0</td>\n",
       "      <td>2.0</td>\n",
       "      <td>0</td>\n",
       "      <td>0</td>\n",
       "      <td>1.000000</td>\n",
       "      <td>0.000000</td>\n",
       "      <td>0.000000</td>\n",
       "      <td>0.0</td>\n",
       "      <td>0.0</td>\n",
       "      <td>0.0</td>\n",
       "      <td>5</td>\n",
       "      <td>5.000000</td>\n",
       "      <td>2</td>\n",
       "      <td>2.0</td>\n",
       "      <td>20</td>\n",
       "      <td>2.6</td>\n",
       "      <td>1.0</td>\n",
       "      <td>0.0</td>\n",
       "      <td>-1.0</td>\n",
       "      <td>-1.0</td>\n",
       "      <td>-1.0</td>\n",
       "      <td>-1.0</td>\n",
       "      <td>-1.0</td>\n",
       "      <td>-1.0</td>\n",
       "      <td>-1.0</td>\n",
       "      <td>-1</td>\n",
       "      <td>-1.0</td>\n",
       "      <td>-1.0</td>\n",
       "      <td>85.82</td>\n",
       "      <td>85.8</td>\n",
       "      <td>46.35</td>\n",
       "      <td>-14.2</td>\n",
       "      <td>81.24</td>\n",
       "      <td>-1.0000</td>\n",
       "      <td>-1.0</td>\n",
       "      <td>-1.0</td>\n",
       "      <td>2.6</td>\n",
       "      <td>5.2</td>\n",
       "      <td>-1.0</td>\n",
       "      <td>-2.0</td>\n",
       "      <td>85.82</td>\n",
       "      <td>171.64</td>\n",
       "      <td>1.0</td>\n",
       "      <td>2.0</td>\n",
       "      <td>0.0</td>\n",
       "      <td>0.0</td>\n",
       "    </tr>\n",
       "    <tr>\n",
       "      <th>737</th>\n",
       "      <td>Henri Legarda</td>\n",
       "      <td>henri legarda</td>\n",
       "      <td>1</td>\n",
       "      <td>0</td>\n",
       "      <td>0</td>\n",
       "      <td>0</td>\n",
       "      <td>0</td>\n",
       "      <td>12</td>\n",
       "      <td>0</td>\n",
       "      <td>0</td>\n",
       "      <td>0</td>\n",
       "      <td>0</td>\n",
       "      <td>fr</td>\n",
       "      <td>6.00</td>\n",
       "      <td>2</td>\n",
       "      <td>12</td>\n",
       "      <td>1</td>\n",
       "      <td>3</td>\n",
       "      <td>0</td>\n",
       "      <td>1</td>\n",
       "      <td>0.18</td>\n",
       "      <td>6.00</td>\n",
       "      <td>2.0</td>\n",
       "      <td>1.5</td>\n",
       "      <td>0</td>\n",
       "      <td>0</td>\n",
       "      <td>1.000000</td>\n",
       "      <td>0.000000</td>\n",
       "      <td>0.000000</td>\n",
       "      <td>0.5</td>\n",
       "      <td>0.5</td>\n",
       "      <td>0.0</td>\n",
       "      <td>7</td>\n",
       "      <td>6.000000</td>\n",
       "      <td>2</td>\n",
       "      <td>1.5</td>\n",
       "      <td>25</td>\n",
       "      <td>7.8</td>\n",
       "      <td>52.0</td>\n",
       "      <td>1.0</td>\n",
       "      <td>-1.0</td>\n",
       "      <td>-1.0</td>\n",
       "      <td>-1.0</td>\n",
       "      <td>-1.0</td>\n",
       "      <td>-1.0</td>\n",
       "      <td>-1.0</td>\n",
       "      <td>-1.0</td>\n",
       "      <td>-1</td>\n",
       "      <td>-1.0</td>\n",
       "      <td>-1.0</td>\n",
       "      <td>20.97</td>\n",
       "      <td>-1.0</td>\n",
       "      <td>-1.00</td>\n",
       "      <td>-1.0</td>\n",
       "      <td>-1.00</td>\n",
       "      <td>-1.0000</td>\n",
       "      <td>-1.0</td>\n",
       "      <td>-1.0</td>\n",
       "      <td>15.6</td>\n",
       "      <td>23.4</td>\n",
       "      <td>-2.0</td>\n",
       "      <td>-3.0</td>\n",
       "      <td>41.94</td>\n",
       "      <td>62.91</td>\n",
       "      <td>104.0</td>\n",
       "      <td>156.0</td>\n",
       "      <td>2.0</td>\n",
       "      <td>3.0</td>\n",
       "    </tr>\n",
       "    <tr>\n",
       "      <th>830</th>\n",
       "      <td>__ NOTOC __</td>\n",
       "      <td>notoc</td>\n",
       "      <td>1</td>\n",
       "      <td>0</td>\n",
       "      <td>0</td>\n",
       "      <td>0</td>\n",
       "      <td>0</td>\n",
       "      <td>9</td>\n",
       "      <td>0</td>\n",
       "      <td>0</td>\n",
       "      <td>0</td>\n",
       "      <td>0</td>\n",
       "      <td>es</td>\n",
       "      <td>5.00</td>\n",
       "      <td>1</td>\n",
       "      <td>5</td>\n",
       "      <td>0</td>\n",
       "      <td>2</td>\n",
       "      <td>0</td>\n",
       "      <td>0</td>\n",
       "      <td>0.07</td>\n",
       "      <td>5.00</td>\n",
       "      <td>1.0</td>\n",
       "      <td>2.0</td>\n",
       "      <td>0</td>\n",
       "      <td>0</td>\n",
       "      <td>1.000000</td>\n",
       "      <td>0.000000</td>\n",
       "      <td>0.000000</td>\n",
       "      <td>0.0</td>\n",
       "      <td>0.0</td>\n",
       "      <td>0.0</td>\n",
       "      <td>5</td>\n",
       "      <td>5.000000</td>\n",
       "      <td>2</td>\n",
       "      <td>2.0</td>\n",
       "      <td>20</td>\n",
       "      <td>2.6</td>\n",
       "      <td>1.0</td>\n",
       "      <td>0.0</td>\n",
       "      <td>-1.0</td>\n",
       "      <td>-1.0</td>\n",
       "      <td>-1.0</td>\n",
       "      <td>-1.0</td>\n",
       "      <td>-1.0</td>\n",
       "      <td>-1.0</td>\n",
       "      <td>-1.0</td>\n",
       "      <td>-1</td>\n",
       "      <td>-1.0</td>\n",
       "      <td>-1.0</td>\n",
       "      <td>85.82</td>\n",
       "      <td>85.8</td>\n",
       "      <td>46.35</td>\n",
       "      <td>-14.2</td>\n",
       "      <td>81.24</td>\n",
       "      <td>-1.0000</td>\n",
       "      <td>-1.0</td>\n",
       "      <td>-1.0</td>\n",
       "      <td>2.6</td>\n",
       "      <td>5.2</td>\n",
       "      <td>-1.0</td>\n",
       "      <td>-2.0</td>\n",
       "      <td>85.82</td>\n",
       "      <td>171.64</td>\n",
       "      <td>1.0</td>\n",
       "      <td>2.0</td>\n",
       "      <td>0.0</td>\n",
       "      <td>0.0</td>\n",
       "    </tr>\n",
       "  </tbody>\n",
       "</table>\n",
       "</div>"
      ],
      "text/plain": [
       "                                                                                                                                                                                                                     original_text  \\\n",
       "90                                                                                                                                                                                                                   Walter Kogler   \n",
       "157                                                                                                                                                                                                             ISBN 3-85052-197-4   \n",
       "309                                                                                                                                                                                                                    Broadcast :   \n",
       "336                                                                                      eta _ -LCB- th -RCB- = 1 - frac -LCB- r ^ -LCB- 1 - gamma -RCB- -LRB- r_c ^ gamma - 1 -RRB- -RCB- -LCB- gamma -LRB- r_c - 1 -RRB- -RCB- ,   \n",
       "445  -LRB- x + y -RRB- ^ n & = -LCB- n choose 0 -RCB- x ^ n y ^ 0 + -LCB- n choose 1 -RCB- x ^ -LCB- n-1 -RCB- y ^ 1 + -LCB- n choose 2 -RCB- x ^ -LCB- n-2 -RCB- y ^ 2 + -LCB- n choose 3 -RCB- x ^ -LCB- n-3 -RCB- y ^ 3 + cdots   \n",
       "594                                                                                                                                                                                                                           Cugy   \n",
       "607                                                                                                                                                                                                                           ! ''   \n",
       "720                                                                                                                                                                                                                    __ NOTOC __   \n",
       "737                                                                                                                                                                                                                  Henri Legarda   \n",
       "830                                                                                                                                                                                                                    __ NOTOC __   \n",
       "\n",
       "                                                                                      cleaned_text  \\\n",
       "90                                                                                   walter kogler   \n",
       "157                                                                             isbn 3 85052 197 4   \n",
       "309                                                                                      broadcast   \n",
       "336                                                     eta th 1 r 1 gamma r c gamma 1 gamma r c 1   \n",
       "445  x y n n choose 0 x n y 0 n choose 1 x n 1 y 1 n choose 2 x n 2 y 2 n choose 3 x n 3 y 3 cdots   \n",
       "594                                                                                           cugy   \n",
       "607                                                                                                  \n",
       "720                                                                                          notoc   \n",
       "737                                                                                  henri legarda   \n",
       "830                                                                                          notoc   \n",
       "\n",
       "     label  stats_lrb_count  stats_rrb_count  stats_comma_count  \\\n",
       "90       1                0                0                  0   \n",
       "157      1                0                0                  0   \n",
       "309      1                0                0                  0   \n",
       "336      1                2                2                  1   \n",
       "445      1                1                1                  0   \n",
       "594      1                0                0                  0   \n",
       "607      1                0                0                  0   \n",
       "720      1                0                0                  0   \n",
       "737      1                0                0                  0   \n",
       "830      1                0                0                  0   \n",
       "\n",
       "     stats_equalsign_count  stats_char_count  stats_image_description  \\\n",
       "90                       0                12                        0   \n",
       "157                      0                17                        0   \n",
       "309                      0                10                        0   \n",
       "336                      1               104                        0   \n",
       "445                      1               158                        0   \n",
       "594                      0                 4                        0   \n",
       "607                      0                 3                        0   \n",
       "720                      0                 9                        0   \n",
       "737                      0                12                        0   \n",
       "830                      0                 9                        0   \n",
       "\n",
       "     stats_frac_description  stats_file_description  \\\n",
       "90                        0                       0   \n",
       "157                       0                       0   \n",
       "309                       0                       0   \n",
       "336                       0                       0   \n",
       "445                       0                       0   \n",
       "594                       0                       0   \n",
       "607                       0                       0   \n",
       "720                       0                       0   \n",
       "737                       0                       0   \n",
       "830                       0                       0   \n",
       "\n",
       "     stats_formula_description stats_language_code  stats_avg_char_per_word  \\\n",
       "90                           0                  de                     6.00   \n",
       "157                          0                  tt                     2.80   \n",
       "309                          0                  fr                     9.00   \n",
       "336                          0                  ja                     2.07   \n",
       "445                          0                  es                     1.69   \n",
       "594                          0                  hr                     4.00   \n",
       "607                          0                  oc                     0.00   \n",
       "720                          0                  es                     5.00   \n",
       "737                          0                  fr                     6.00   \n",
       "830                          0                  es                     5.00   \n",
       "\n",
       "     stats_word_count  stats_letter_count  stats_long_word_count  \\\n",
       "90                  2                  12                      0   \n",
       "157                 5                  14                      0   \n",
       "309                 1                   9                      1   \n",
       "336                14                  29                      0   \n",
       "445                35                  59                      0   \n",
       "594                 1                   4                      0   \n",
       "607                 0                   0                      0   \n",
       "720                 1                   5                      0   \n",
       "737                 2                  12                      1   \n",
       "830                 1                   5                      0   \n",
       "\n",
       "     stats_syllable_count  stats_polysyllab_count  stats_monosyllab_count  \\\n",
       "90                      4                       0                       0   \n",
       "157                     5                       0                       5   \n",
       "309                     2                       0                       0   \n",
       "336                    14                       0                      14   \n",
       "445                    35                       0                      35   \n",
       "594                     1                       0                       1   \n",
       "607                     0                       0                       0   \n",
       "720                     2                       0                       0   \n",
       "737                     3                       0                       1   \n",
       "830                     2                       0                       0   \n",
       "\n",
       "     stats_reading_time  stats_avg_letter_per_word  stats_sentence_length  \\\n",
       "90                 0.18                       6.00                    2.0   \n",
       "157                0.21                       2.80                    5.0   \n",
       "309                0.13                       9.00                    1.0   \n",
       "336                0.43                       2.07                   14.0   \n",
       "445                0.87                       1.69                   35.0   \n",
       "594                0.06                       4.00                    1.0   \n",
       "607                0.00                       0.00                    0.0   \n",
       "720                0.07                       5.00                    1.0   \n",
       "737                0.18                       6.00                    2.0   \n",
       "830                0.07                       5.00                    1.0   \n",
       "\n",
       "     stats_syllable_avg  stats_mini_word_count  stats_long_numbers_count  \\\n",
       "90                  2.0                      0                         0   \n",
       "157                 1.0                      0                         1   \n",
       "309                 2.0                      0                         0   \n",
       "336                 1.0                      7                         0   \n",
       "445                 1.0                     19                         0   \n",
       "594                 1.0                      0                         0   \n",
       "607                 0.0                      0                         0   \n",
       "720                 2.0                      0                         0   \n",
       "737                 1.5                      0                         0   \n",
       "830                 2.0                      0                         0   \n",
       "\n",
       "     stats_lexical_diversity  stats_frac_word_comma  stats_frac_mini_word  \\\n",
       "90                  1.000000               0.000000              0.000000   \n",
       "157                 1.000000               0.000000              0.000000   \n",
       "309                 1.000000               0.000000              0.000000   \n",
       "336                 0.428571               0.071429              0.500000   \n",
       "445                 0.257143               0.000000              0.542857   \n",
       "594                 1.000000               0.000000              0.000000   \n",
       "607                -1.000000               0.000000              0.000000   \n",
       "720                 1.000000               0.000000              0.000000   \n",
       "737                 1.000000               0.000000              0.000000   \n",
       "830                 1.000000               0.000000              0.000000   \n",
       "\n",
       "     stats_frac_long_word  stats_frac_monosyllable  stats_frac_polysyllable  \\\n",
       "90                    0.0                      0.0                      0.0   \n",
       "157                   0.0                      1.0                      0.0   \n",
       "309                   1.0                      0.0                      0.0   \n",
       "336                   0.0                      1.0                      0.0   \n",
       "445                   0.0                      1.0                      0.0   \n",
       "594                   0.0                      1.0                      0.0   \n",
       "607                   0.0                      0.0                      0.0   \n",
       "720                   0.0                      0.0                      0.0   \n",
       "737                   0.5                      0.5                      0.0   \n",
       "830                   0.0                      0.0                      0.0   \n",
       "\n",
       "     stats_max_chars_word  stats_avg_chars_word  stats_max_syllables_word  \\\n",
       "90                      6              6.000000                         2   \n",
       "157                     5              2.800000                         1   \n",
       "309                     9              9.000000                         2   \n",
       "336                     5              2.071429                         1   \n",
       "445                     6              1.685714                         1   \n",
       "594                     4              4.000000                         1   \n",
       "607                    -1             -1.000000                        -1   \n",
       "720                     5              5.000000                         2   \n",
       "737                     7              6.000000                         2   \n",
       "830                     5              5.000000                         2   \n",
       "\n",
       "     stats_avg_syllables_word  stats_language_no  \\\n",
       "90                        2.0                 16   \n",
       "157                       1.0                 81   \n",
       "309                       2.0                 25   \n",
       "336                       1.0                 42   \n",
       "445                       1.0                 20   \n",
       "594                       1.0                 31   \n",
       "607                      -1.0                 61   \n",
       "720                       2.0                 20   \n",
       "737                       1.5                 25   \n",
       "830                       2.0                 20   \n",
       "\n",
       "     rs_automated_readability_index_all  rs_lix_all  rs_rix_all  \\\n",
       "90                                  7.8         2.0         0.0   \n",
       "157                                -5.8         5.0         0.0   \n",
       "309                                21.5       101.0         1.0   \n",
       "336                                -4.8        14.0         0.0   \n",
       "445                                 4.0        35.0         0.0   \n",
       "594                                -2.2         1.0         0.0   \n",
       "607                                 0.0         0.0         0.0   \n",
       "720                                 2.6         1.0         0.0   \n",
       "737                                 7.8        52.0         1.0   \n",
       "830                                 2.6         1.0         0.0   \n",
       "\n",
       "     rs_automated_readability_index_en  rs_flesch_kincaid_grade_en  \\\n",
       "90                                -1.0                        -1.0   \n",
       "157                               -1.0                        -1.0   \n",
       "309                               -1.0                        -1.0   \n",
       "336                               -1.0                        -1.0   \n",
       "445                               -1.0                        -1.0   \n",
       "594                               -1.0                        -1.0   \n",
       "607                               -1.0                        -1.0   \n",
       "720                               -1.0                        -1.0   \n",
       "737                               -1.0                        -1.0   \n",
       "830                               -1.0                        -1.0   \n",
       "\n",
       "     rs_coleman_liau_index_en  rs_linsear_write_formula_en  \\\n",
       "90                       -1.0                         -1.0   \n",
       "157                      -1.0                         -1.0   \n",
       "309                      -1.0                         -1.0   \n",
       "336                      -1.0                         -1.0   \n",
       "445                      -1.0                         -1.0   \n",
       "594                      -1.0                         -1.0   \n",
       "607                      -1.0                         -1.0   \n",
       "720                      -1.0                         -1.0   \n",
       "737                      -1.0                         -1.0   \n",
       "830                      -1.0                         -1.0   \n",
       "\n",
       "     rs_dale_chall_readability_score1_en  rs_dale_chall_readability_score2_en  \\\n",
       "90                                  -1.0                                 -1.0   \n",
       "157                                 -1.0                                 -1.0   \n",
       "309                                 -1.0                                 -1.0   \n",
       "336                                 -1.0                                 -1.0   \n",
       "445                                 -1.0                                 -1.0   \n",
       "594                                 -1.0                                 -1.0   \n",
       "607                                 -1.0                                 -1.0   \n",
       "720                                 -1.0                                 -1.0   \n",
       "737                                 -1.0                                 -1.0   \n",
       "830                                 -1.0                                 -1.0   \n",
       "\n",
       "     rs_gunning_fog_en  rs_difficult_words_en  rs_spache_readability_en  \\\n",
       "90                -1.0                     -1                      -1.0   \n",
       "157               -1.0                     -1                      -1.0   \n",
       "309               -1.0                     -1                      -1.0   \n",
       "336               -1.0                     -1                      -1.0   \n",
       "445               -1.0                     -1                      -1.0   \n",
       "594               -1.0                     -1                      -1.0   \n",
       "607               -1.0                     -1                      -1.0   \n",
       "720               -1.0                     -1                      -1.0   \n",
       "737               -1.0                     -1                      -1.0   \n",
       "830               -1.0                     -1                      -1.0   \n",
       "\n",
       "     rs_text_standard_en  rs_flesch_reading_ease_multi  \\\n",
       "90                  -1.0                         61.00   \n",
       "157                 -1.0                         -1.00   \n",
       "309                 -1.0                         58.79   \n",
       "336                 -1.0                         -1.00   \n",
       "445                 -1.0                        109.40   \n",
       "594                 -1.0                         -1.00   \n",
       "607                 -1.0                         -1.00   \n",
       "720                 -1.0                         85.82   \n",
       "737                 -1.0                         20.97   \n",
       "830                 -1.0                         85.82   \n",
       "\n",
       "     rs_fernandez_huerta_es  rs_gutierrez_polini_es  rs_crawford_es  \\\n",
       "90                     -1.0                   -1.00            -1.0   \n",
       "157                    -1.0                   -1.00            -1.0   \n",
       "309                    -1.0                   -1.00            -1.0   \n",
       "336                    -1.0                   -1.00            -1.0   \n",
       "445                   111.2                   66.60             1.0   \n",
       "594                    -1.0                   -1.00            -1.0   \n",
       "607                    -1.0                   -1.00            -1.0   \n",
       "720                    85.8                   46.35           -14.2   \n",
       "737                    -1.0                   -1.00            -1.0   \n",
       "830                    85.8                   46.35           -14.2   \n",
       "\n",
       "     rs_szigriszt_pazos_es  rs_wiener_sachtextformel_de  rs_lix_de  \\\n",
       "90                   -1.00                      -2.4426        2.0   \n",
       "157                  -1.00                      -1.0000       -1.0   \n",
       "309                  -1.00                      -1.0000       -1.0   \n",
       "336                  -1.00                      -1.0000       -1.0   \n",
       "445                 107.76                      -1.0000       -1.0   \n",
       "594                  -1.00                      -1.0000       -1.0   \n",
       "607                  -1.00                      -1.0000       -1.0   \n",
       "720                  81.24                      -1.0000       -1.0   \n",
       "737                  -1.00                      -1.0000       -1.0   \n",
       "830                  81.24                      -1.0000       -1.0   \n",
       "\n",
       "     rs_gulpease_index_it  rs_ari_all1  rs_ari_all2  rs_ari_en1  rs_ari_en2  \\\n",
       "90                   -1.0         15.6         31.2        -2.0        -4.0   \n",
       "157                  -1.0        -29.0        -29.0        -5.0        -5.0   \n",
       "309                  -1.0         21.5         43.0        -1.0        -2.0   \n",
       "336                  -1.0        -67.2        -67.2       -14.0       -14.0   \n",
       "445                  -1.0        140.0        140.0       -35.0       -35.0   \n",
       "594                  -1.0         -2.2         -2.2        -1.0        -1.0   \n",
       "607                  -1.0          0.0          0.0        -0.0        -0.0   \n",
       "720                  -1.0          2.6          5.2        -1.0        -2.0   \n",
       "737                  -1.0         15.6         23.4        -2.0        -3.0   \n",
       "830                  -1.0          2.6          5.2        -1.0        -2.0   \n",
       "\n",
       "     rs_fre_multi1  rs_fre_multi2  rs_lix1  rs_lix2  rs_rix1  rs_rix2  \n",
       "90          122.00         244.00      4.0      8.0      0.0      0.0  \n",
       "157          -5.00          -5.00     25.0     25.0      0.0      0.0  \n",
       "309          58.79         117.58    101.0    202.0      1.0      2.0  \n",
       "336         -14.00         -14.00    196.0    196.0      0.0      0.0  \n",
       "445        3829.00        3829.00   1225.0   1225.0      0.0      0.0  \n",
       "594          -1.00          -1.00      1.0      1.0      0.0      0.0  \n",
       "607          -0.00          -0.00      0.0      0.0      0.0      0.0  \n",
       "720          85.82         171.64      1.0      2.0      0.0      0.0  \n",
       "737          41.94          62.91    104.0    156.0      2.0      3.0  \n",
       "830          85.82         171.64      1.0      2.0      0.0      0.0  "
      ]
     },
     "execution_count": 38,
     "metadata": {},
     "output_type": "execute_result"
    }
   ],
   "source": [
    "df_wiki_train[df_wiki_train['stats_language_code']!= 'en'].head(10)"
   ]
  },
  {
   "cell_type": "markdown",
   "metadata": {
    "id": "xjBxesfBr_iG"
   },
   "source": [
    "# 5.0 Export"
   ]
  },
  {
   "cell_type": "code",
   "execution_count": 39,
   "metadata": {
    "execution": {
     "iopub.status.busy": "2023-02-04T19:35:59.584436Z",
     "iopub.status.idle": "2023-02-04T19:35:59.584679Z",
     "shell.execute_reply": "2023-02-04T19:35:59.584567Z",
     "shell.execute_reply.started": "2023-02-04T19:35:59.584555Z"
    },
    "id": "RMjIgKW5jCU7",
    "trusted": true
   },
   "outputs": [
    {
     "data": {
      "text/plain": [
       "['rs_ari_all1',\n",
       " 'rs_ari_all2',\n",
       " 'rs_ari_en1',\n",
       " 'rs_ari_en2',\n",
       " 'rs_automated_readability_index_all',\n",
       " 'rs_automated_readability_index_en',\n",
       " 'rs_coleman_liau_index_en',\n",
       " 'rs_crawford_es',\n",
       " 'rs_dale_chall_readability_score1_en',\n",
       " 'rs_dale_chall_readability_score2_en',\n",
       " 'rs_difficult_words_en',\n",
       " 'rs_fernandez_huerta_es',\n",
       " 'rs_flesch_kincaid_grade_en',\n",
       " 'rs_flesch_reading_ease_multi',\n",
       " 'rs_fre_multi1',\n",
       " 'rs_fre_multi2',\n",
       " 'rs_gulpease_index_it',\n",
       " 'rs_gunning_fog_en',\n",
       " 'rs_gutierrez_polini_es',\n",
       " 'rs_linsear_write_formula_en',\n",
       " 'rs_lix1',\n",
       " 'rs_lix2',\n",
       " 'rs_lix_all',\n",
       " 'rs_lix_de',\n",
       " 'rs_rix1',\n",
       " 'rs_rix2',\n",
       " 'rs_rix_all',\n",
       " 'rs_spache_readability_en',\n",
       " 'rs_szigriszt_pazos_es',\n",
       " 'rs_text_standard_en',\n",
       " 'rs_wiener_sachtextformel_de']"
      ]
     },
     "execution_count": 39,
     "metadata": {},
     "output_type": "execute_result"
    }
   ],
   "source": [
    "columns = df_wiki_train.columns.to_list()\n",
    "feature_columns = sorted([x for x in columns if x.startswith(\"rs_\")])\n",
    "\n",
    "print(len(feature_columns))\n",
    "print(feature_columns)"
   ]
  },
  {
   "cell_type": "code",
   "execution_count": 40,
   "metadata": {
    "execution": {
     "iopub.status.busy": "2023-02-04T19:35:59.585472Z",
     "iopub.status.idle": "2023-02-04T19:35:59.585698Z",
     "shell.execute_reply": "2023-02-04T19:35:59.585597Z",
     "shell.execute_reply.started": "2023-02-04T19:35:59.585586Z"
    },
    "id": "XE19MBfcexlc",
    "trusted": true
   },
   "outputs": [],
   "source": [
    "# Export rs_ features\n",
    "df_export = df_wiki_train[feature_columns]\n",
    "df_export.to_csv(ROOT_PATH+PATH_DATA_INT + \"train_features_rs.csv\", index=False)\n",
    "df_export.to_parquet(ROOT_PATH+PATH_DATA_INT + 'train_features_rs.parquet.gzip', compression='gzip')\n",
    "\n",
    "df_export = df_wiki_test[feature_columns]\n",
    "df_export.to_csv(ROOT_PATH+PATH_DATA_INT + \"test_features_rs.csv\", index=False)\n",
    "df_export.to_parquet(ROOT_PATH+PATH_DATA_INT +'test_features_rs.parquet.gzip', compression='gzip')"
   ]
  },
  {
   "cell_type": "code",
   "execution_count": 41,
   "metadata": {
    "execution": {
     "iopub.status.busy": "2023-02-04T19:35:59.588775Z",
     "iopub.status.idle": "2023-02-04T19:35:59.589009Z",
     "shell.execute_reply": "2023-02-04T19:35:59.588906Z",
     "shell.execute_reply.started": "2023-02-04T19:35:59.588894Z"
    },
    "id": "IqolBIz1exld",
    "trusted": true
   },
   "outputs": [
    {
     "name": "stdout",
     "output_type": "stream",
     "text": [
      "6.38 minutes\n"
     ]
    }
   ],
   "source": [
    "t_end = time.time()\n",
    "total_runtime = t_end - t_start\n",
    "total_runtime_min = round((total_runtime / 60), 2)\n",
    "print(str(total_runtime_min) + \" minutes\")"
   ]
  },
  {
   "cell_type": "code",
   "execution_count": 42,
   "metadata": {
    "collapsed": false
   },
   "outputs": [],
   "source": [
    "if not FASTRUN: send_push(f\"Feature Engineering: Calculate RS features finished in: {total_runtime_min} min.\")"
   ]
  },
  {
   "cell_type": "markdown",
   "metadata": {
    "id": "ti9wgudgBzw9"
   },
   "source": [
    "# 6.0 Watermark"
   ]
  },
  {
   "cell_type": "code",
   "execution_count": 43,
   "metadata": {
    "execution": {
     "iopub.status.busy": "2023-02-04T19:35:59.586448Z",
     "iopub.status.idle": "2023-02-04T19:35:59.586673Z",
     "shell.execute_reply": "2023-02-04T19:35:59.586575Z",
     "shell.execute_reply.started": "2023-02-04T19:35:59.586564Z"
    },
    "id": "f7PuaC1JBzw-",
    "trusted": true
   },
   "outputs": [
    {
     "name": "stdout",
     "output_type": "stream",
     "text": [
      "Last updated: 2023-02-20T15:35:16.699097+01:00\n",
      "\n",
      "Python implementation: CPython\n",
      "Python version       : 3.9.0\n",
      "IPython version      : 8.9.0\n",
      "\n",
      "Compiler    : Clang 11.0.0 \n",
      "OS          : Darwin\n",
      "Release     : 22.3.0\n",
      "Machine     : arm64\n",
      "Processor   : arm\n",
      "CPU cores   : 10\n",
      "Architecture: 64bit\n",
      "\n"
     ]
    }
   ],
   "source": [
    "%watermark"
   ]
  },
  {
   "cell_type": "code",
   "execution_count": 44,
   "metadata": {
    "execution": {
     "iopub.status.busy": "2023-02-04T19:35:59.587311Z",
     "iopub.status.idle": "2023-02-04T19:35:59.587534Z",
     "shell.execute_reply": "2023-02-04T19:35:59.587436Z",
     "shell.execute_reply.started": "2023-02-04T19:35:59.587425Z"
    },
    "id": "SU12PVZ2BzxA",
    "trusted": true
   },
   "outputs": [
    {
     "name": "stdout",
     "output_type": "stream",
     "text": [
      "textstat: 0.7.2\n",
      "re      : 2.2.1\n",
      "seaborn : 0.12.2\n",
      "pandas  : 1.5.3\n",
      "numpy   : 1.23.5\n",
      "\n"
     ]
    }
   ],
   "source": [
    "%watermark --iversions"
   ]
  },
  {
   "cell_type": "code",
   "execution_count": 45,
   "metadata": {},
   "outputs": [
    {
     "name": "stdout",
     "output_type": "stream",
     "text": [
      "[NbConvertApp] Converting notebook 01.02_calculate_readability_score_features_GC.ipynb to html\n",
      "[NbConvertApp] Writing 745188 bytes to ../reports/html/2023-02-20_01.02_calculate_readability_score_features_GC.html\n"
     ]
    }
   ],
   "source": [
    "output_file = f'{ROOT_PATH}{PATH_DATA_HTML}{today}_01.02_calculate_readability_score_features.html'\n",
    "!jupyter nbconvert --to html \"01.02_calculate_readability_score_features.ipynb\" --output {output_file}"
   ]
  }
 ],
 "metadata": {
  "colab": {
   "collapsed_sections": [
    "FSazCCmDbqKg"
   ],
   "provenance": [],
   "toc_visible": true
  },
  "deepnote": {},
  "deepnote_execution_queue": [],
  "deepnote_notebook_id": "946229b10e114987a52132227b87775b",
  "deepnote_persisted_session": {
   "createdAt": "2023-01-25T16:45:43.444Z"
  },
  "kernelspec": {
   "display_name": "siads696",
   "language": "python",
   "name": "python3"
  },
  "language_info": {
   "codemirror_mode": {
    "name": "ipython",
    "version": 3
   },
   "file_extension": ".py",
   "mimetype": "text/x-python",
   "name": "python",
   "nbconvert_exporter": "python",
   "pygments_lexer": "ipython3",
   "version": "3.9.0"
  },
  "vscode": {
   "interpreter": {
    "hash": "e06bb46ff2b522e8ed41cde06a3284743bf4ee3b709766dafa5d4f926bdfb013"
   }
  }
 },
 "nbformat": 4,
 "nbformat_minor": 4
}
