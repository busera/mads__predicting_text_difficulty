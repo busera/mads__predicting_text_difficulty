{
 "cells": [
  {
   "attachments": {},
   "cell_type": "markdown",
   "metadata": {},
   "source": [
    "v1.2"
   ]
  },
  {
   "attachments": {},
   "cell_type": "markdown",
   "metadata": {},
   "source": [
    "The objective of this notebook is to: \n",
    "- get a baseline from various models\n",
    "- identify the best performing model(s)\n"
   ]
  },
  {
   "attachments": {},
   "cell_type": "markdown",
   "metadata": {},
   "source": [
    "# Pre-Checks"
   ]
  },
  {
   "cell_type": "code",
   "execution_count": 1,
   "metadata": {
    "id": "2eUQpe7Ekc-7"
   },
   "outputs": [
    {
     "name": "stdout",
     "output_type": "stream",
     "text": [
      "Not a Goolge Drive Environment.\n"
     ]
    }
   ],
   "source": [
    "## Check for Google Drive Connectivity\n",
    "try:\n",
    "    from google.colab import drive\n",
    "    drive.mount('/content/drive')\n",
    "    google_env = True\n",
    "except:\n",
    "    print(\"Not a Goolge Drive Environment.\")\n",
    "    google_env = False"
   ]
  },
  {
   "cell_type": "code",
   "execution_count": 2,
   "metadata": {
    "id": "CI3ZQWF5kc-8"
   },
   "outputs": [],
   "source": [
    "import time\n",
    "t_start = time.time()"
   ]
  },
  {
   "cell_type": "code",
   "execution_count": 3,
   "metadata": {
    "id": "RIEGBEhBkc-9"
   },
   "outputs": [
    {
     "name": "stdout",
     "output_type": "stream",
     "text": [
      "========================================================================================================================\n",
      "Fastrun enabled: False\n",
      "========================================================================================================================\n"
     ]
    }
   ],
   "source": [
    "# Use parameters to enable/disable the fastrun\n",
    "FASTRUN = False\n",
    "#FASTRUN = True\n",
    "\n",
    "# Size of the fastrun dataframe\n",
    "sample_fraction = 0.25\n",
    "print(\"===\"*40)\n",
    "print(\"Fastrun enabled:\", FASTRUN)\n",
    "if FASTRUN: print(\"Sample size:\",sample_fraction)\n",
    "print(\"===\"*40)"
   ]
  },
  {
   "cell_type": "markdown",
   "metadata": {
    "cell_id": "ce4b2a40079140debe6cb9f7ba8ba566",
    "deepnote_app_coordinates": {
     "h": 5,
     "w": 12,
     "x": 0,
     "y": 37
    },
    "deepnote_cell_type": "markdown",
    "id": "uZms1pauBzw0"
   },
   "source": [
    "# Setup Environment"
   ]
  },
  {
   "cell_type": "markdown",
   "metadata": {
    "cell_id": "6993a186ce3a4ca9bdeb521dc67fef84",
    "deepnote_app_coordinates": {
     "h": 5,
     "w": 12,
     "x": 0,
     "y": 43
    },
    "deepnote_cell_type": "markdown",
    "id": "FSazCCmDbqKg"
   },
   "source": [
    "## Install Modules"
   ]
  },
  {
   "cell_type": "code",
   "execution_count": 4,
   "metadata": {
    "cell_id": "e808b393977d4a1eba12a8239b2fa1bc",
    "deepnote_app_coordinates": {
     "h": 5,
     "w": 12,
     "x": 0,
     "y": 49
    },
    "deepnote_cell_type": "code",
    "deepnote_to_be_reexecuted": false,
    "execution_millis": 12053,
    "execution_start": 1674675029196,
    "id": "1Vo8zBrWbqKg",
    "source_hash": "9d62d529"
   },
   "outputs": [],
   "source": [
    "# Required to document module versions\n",
    "#!pip install catboost\n",
    "#!pip install xgboost\n",
    "#!pip install icecream\n",
    "#!pip install watermark\n",
    "#!pip install fastparquet"
   ]
  },
  {
   "cell_type": "markdown",
   "metadata": {
    "cell_id": "cf5fb44122cb45dcb27e113023a329bd",
    "deepnote_app_coordinates": {
     "h": 5,
     "w": 12,
     "x": 0,
     "y": 55
    },
    "deepnote_cell_type": "markdown",
    "id": "hHwYAoFSBzw1"
   },
   "source": [
    "## Import Modules"
   ]
  },
  {
   "cell_type": "code",
   "execution_count": 5,
   "metadata": {
    "cell_id": "b51f954d03a54e45a7fcf884c28fa560",
    "deepnote_app_coordinates": {
     "h": 5,
     "w": 12,
     "x": 0,
     "y": 61
    },
    "deepnote_cell_type": "code",
    "deepnote_to_be_reexecuted": false,
    "execution_millis": 6,
    "execution_start": 1674675041654,
    "id": "nbk1jSYhBzw2",
    "source_hash": "e8c749b7"
   },
   "outputs": [],
   "source": [
    "# Base libraries\n",
    "import os\n",
    "from datetime import date\n",
    "\n",
    "# Scientific libraries\n",
    "import numpy as np\n",
    "import pandas as pd\n",
    "\n",
    "# Visualization\n",
    "import seaborn as sns\n",
    "import matplotlib.pyplot as plt\n",
    "sns.set(rc={'figure.figsize':(15,8)})\n",
    "sns.set(font_scale=0.8)\n",
    "\n",
    "# Helper libraries\n",
    "from watermark import watermark\n",
    "from icecream import ic\n",
    "import gc # garbage collection to optimize memory usage: use \"gc.collect()\"\n",
    "import warnings\n",
    "warnings.filterwarnings('ignore')\n",
    "\n",
    "# Pandas options\n",
    "pd.set_option('display.max_rows', None)\n",
    "pd.set_option('display.max_columns', None)\n",
    "pd.set_option('display.width', None)\n",
    "pd.set_option('display.max_colwidth', None)\n",
    "\n",
    "from IPython.core.interactiveshell import InteractiveShell\n",
    "InteractiveShell.ast_node_interactivity = 'all'\n",
    "\n",
    "# Load magic commands\n",
    "%load_ext watermark"
   ]
  },
  {
   "attachments": {},
   "cell_type": "markdown",
   "metadata": {
    "cell_id": "357d4ec7e4dc4b5cb00a9d4784820af3",
    "deepnote_app_coordinates": {
     "h": 5,
     "w": 12,
     "x": 0,
     "y": 67
    },
    "deepnote_cell_type": "markdown",
    "id": "C46IJ3IeBzw5"
   },
   "source": [
    "## Global Parameters"
   ]
  },
  {
   "cell_type": "code",
   "execution_count": 6,
   "metadata": {
    "cell_id": "12276e6eeba84ec8b054fb0e74567396",
    "deepnote_app_coordinates": {
     "h": 5,
     "w": 12,
     "x": 0,
     "y": 73
    },
    "deepnote_cell_type": "code",
    "deepnote_to_be_reexecuted": false,
    "execution_millis": 0,
    "execution_start": 1674675046415,
    "id": "rVPFKtMUBzw6",
    "source_hash": "f985c896"
   },
   "outputs": [],
   "source": [
    "# sklearn\n",
    "seed = 42\n",
    "cpu_count = os.cpu_count()\n",
    "cpu_count = cpu_count-2  # to keep machine responsive when fitting the models\n",
    "notebook_no = \"03.01\""
   ]
  },
  {
   "attachments": {},
   "cell_type": "markdown",
   "metadata": {
    "id": "mDx2BguMkc-_"
   },
   "source": [
    "## Global Helper Functions"
   ]
  },
  {
   "cell_type": "code",
   "execution_count": 7,
   "metadata": {
    "id": "Il-pqmRykc-_"
   },
   "outputs": [],
   "source": [
    "import http.client\n",
    "import urllib\n",
    "\n",
    "\n",
    "def send_push(message):\n",
    "    \"\"\"Send push notifications to pushover service.\"\"\"\n",
    "    try:\n",
    "        conn = http.client.HTTPSConnection(\"api.pushover.net:443\")\n",
    "        conn.request(\"POST\", \"/1/messages.json\",\n",
    "                     urllib.parse.urlencode({\n",
    "                         \"token\": \"ahs1q4mwpnxe3645zeaqzas69whq7a\",  # ML Notifications Channel\n",
    "                         \"user\": \"u5vr1qkc9ghudg2ehuug153okeiz1d\",\n",
    "                         \"message\": message,\n",
    "                     }), {\"Content-type\": \"application/x-www-form-urlencoded\"})\n",
    "\n",
    "        conn.getresponse()\n",
    "\n",
    "    except:\n",
    "        print(\"There was a communication issue (pushover).\")\n"
   ]
  },
  {
   "cell_type": "code",
   "execution_count": 8,
   "metadata": {
    "id": "rJ0Sdx7Ukc-_"
   },
   "outputs": [],
   "source": [
    "def fast_run_sampling(df, sample_fraction):\n",
    "    print(\"Labels before sampling:\\n\", df['label'].value_counts())\n",
    "\n",
    "    # Group by label to ensure to get a balanced sample fraction\n",
    "    df = df.groupby('label').sample(frac=sample_fraction, random_state=seed)\n",
    "    print(\"Labels after sampling:\\n\", df['label'].value_counts())\n",
    "\n",
    "    return df\n"
   ]
  },
  {
   "cell_type": "code",
   "execution_count": 9,
   "metadata": {},
   "outputs": [],
   "source": [
    "def calculate_duration(t_start, t_end):\n",
    "    total_runtime = t_end-t_start\n",
    "    total_runtime_min = round((total_runtime/60), 2)\n",
    "    print(str(total_runtime_min)+\" minutes\")\n",
    "\n",
    "    return total_runtime_min\n"
   ]
  },
  {
   "attachments": {},
   "cell_type": "markdown",
   "metadata": {
    "cell_id": "2ef4055272a24692b1340494025c9627",
    "deepnote_app_coordinates": {
     "h": 5,
     "w": 12,
     "x": 0,
     "y": 79
    },
    "deepnote_cell_type": "markdown",
    "id": "6YBbHzbqBzw8"
   },
   "source": [
    "# Load Data"
   ]
  },
  {
   "cell_type": "code",
   "execution_count": 10,
   "metadata": {
    "cell_id": "52d9d1ed15894e37b125a6d3360a81b6",
    "deepnote_app_coordinates": {
     "h": 5,
     "w": 12,
     "x": 0,
     "y": 91
    },
    "deepnote_cell_type": "code",
    "deepnote_to_be_reexecuted": false,
    "execution_millis": 14,
    "execution_start": 1674675060547,
    "id": "QUyCYBdWdeWq",
    "source_hash": "8d390177"
   },
   "outputs": [
    {
     "name": "stdout",
     "output_type": "stream",
     "text": [
      "Not a Google Drive Environment. Loading local files.\n"
     ]
    }
   ],
   "source": [
    "# Load Data\n",
    "if google_env:\n",
    "    # Location for \"shared with\" people\n",
    "    # create a shortcut of the shared folder in your Google Drive root folder\n",
    "    ROOT_PATH = \"/content/drive/MyDrive/SIADS696/Environment/\"\n",
    "else:\n",
    "    ROOT_PATH = \"../\"\n",
    "    print(\"Not a Google Drive Environment. Loading local files.\")\n",
    "\n",
    "PATH_DATA = \"data/\"\n",
    "PATH_DATA_RAW = \"data/raw/\"\n",
    "PATH_DATA_INT = \"data/interim/\"\n",
    "PATH_DATA_PRO = \"data/processed/\"\n",
    "PATH_DATA_MOD = \"models/\"\n",
    "PATH_DATA_REP = \"reports/\"\n",
    "\n",
    "# Dictionary to store file names and their corresponding dataframes\n",
    "files = {\n",
    "    \"train_features_clean_stats.parquet.gzip\": \"df_wiki_train_stats\",\n",
    "    \"test_features_clean_stats.parquet.gzip\": \"df_wiki_test_stats\",\n",
    "    \"train_features_rs.parquet.gzip\": \"df_wiki_train_rs\",\n",
    "    \"test_features_rs.parquet.gzip\": \"df_wiki_test_rs\",\n",
    "    \"train_features_nltk.parquet.gzip\": \"df_wiki_train_nltk\",\n",
    "    \"test_features_nltk.parquet.gzip\": \"df_wiki_test_nltk\",\n",
    "    \"train_features_aoa.parquet.gzip\": \"df_wiki_train_aoa\",\n",
    "    \"test_features_aoa.parquet.gzip\": \"df_wiki_test_aoa\",\n",
    "    \"train_features_crb.parquet.gzip\": \"df_wiki_train_crb\",\n",
    "    \"test_features_crb.parquet.gzip\": \"df_wiki_test_crb\",\n",
    "    \"train_features_w2v.parquet.gzip\": \"df_wiki_train_w2v\",\n",
    "    \"test_features_w2v.parquet.gzip\": \"df_wiki_test_w2v\",\n",
    "   # \"train_mNB_predict.parquet.gzip\": \"df_wiki_train_MNB\",  # data leakage risk\n",
    "   # \"test_mNB_predict.parquet.gzip\": \"df_wiki_test_MNB\",    # data leakage risk\n",
    "}\n",
    "\n",
    "# Load data into corresponding dataframes\n",
    "for file, df_name in files.items():\n",
    "    if df_name not in globals():\n",
    "        globals()[df_name] = pd.read_parquet(ROOT_PATH + PATH_DATA_INT + file)\n"
   ]
  },
  {
   "cell_type": "code",
   "execution_count": 11,
   "metadata": {
    "id": "rMsS3Ko-kc_A"
   },
   "outputs": [],
   "source": [
    "# Combine dataframes into one\n",
    "df_train = pd.DataFrame()\n",
    "df_train = pd.concat([df_train, df_wiki_train_stats], axis=1)\n",
    "df_train = pd.concat([df_train, df_wiki_train_rs], axis=1)\n",
    "df_train = pd.concat([df_train, df_wiki_train_nltk], axis=1)\n",
    "df_train = pd.concat([df_train, df_wiki_train_aoa], axis=1)\n",
    "df_train = pd.concat([df_train, df_wiki_train_crb], axis=1)\n",
    "df_train = pd.concat([df_train, df_wiki_train_w2v], axis=1)\n",
    "\n",
    "if FASTRUN:\n",
    "    df_train = fast_run_sampling(df_train, sample_fraction)\n"
   ]
  },
  {
   "cell_type": "code",
   "execution_count": 12,
   "metadata": {},
   "outputs": [
    {
     "name": "stderr",
     "output_type": "stream",
     "text": [
      "ic| df_train.shape: (416768, 155)\n"
     ]
    }
   ],
   "source": [
    "ic(df_train.shape);"
   ]
  },
  {
   "cell_type": "code",
   "execution_count": 13,
   "metadata": {},
   "outputs": [],
   "source": [
    "# Test: Keep only the rows with at least 140 non-NA values.\n",
    "# Did not improve the RF accuracy score: 0.7421853156160447\n",
    "# Most-likely there are too many incorrect labels in the raw source file\n",
    "\n",
    "# df_train_nona = df_train.copy()\n",
    "# df_train_nona = df_train_nona.replace(-1, np.nan)\n",
    "# df_train_nona = df_train_nona.dropna(thresh=140)\n",
    "# ic(df_train_nona.shape);\n",
    "# df_train = df_train_nona.copy()\n",
    "# df_train = df_train.replace(np.nan,-1)"
   ]
  },
  {
   "cell_type": "markdown",
   "metadata": {
    "cell_id": "7ecad741e37f4885a299146c8cda9633",
    "deepnote_app_coordinates": {
     "h": 5,
     "w": 12,
     "x": 0,
     "y": 115
    },
    "deepnote_cell_type": "markdown",
    "id": "CL9zJrfHr_iA"
   },
   "source": [
    "# 4.0 Base Models"
   ]
  },
  {
   "cell_type": "code",
   "execution_count": 14,
   "metadata": {
    "id": "rDk2gqIRkc_C"
   },
   "outputs": [],
   "source": [
    "# Model selection\n",
    "from sklearn.model_selection import cross_validate\n",
    "from sklearn.model_selection import StratifiedKFold\n",
    "\n",
    "# Scaling and pipeline\n",
    "from sklearn.preprocessing import MinMaxScaler\n",
    "from sklearn.pipeline import Pipeline\n",
    "\n",
    "# Linear models\n",
    "from sklearn.linear_model import LogisticRegression\n",
    "\n",
    "# Linear/Stochastic Gradient Descent\n",
    "from sklearn.linear_model import SGDClassifier \n",
    "\n",
    "# Tree models\n",
    "from sklearn.tree import DecisionTreeClassifier\n",
    "\n",
    "# NB models\n",
    "from sklearn.naive_bayes import GaussianNB\n",
    "from sklearn.naive_bayes import MultinomialNB\n",
    "\n",
    "# Neighbors models\n",
    "from sklearn.neighbors import KNeighborsClassifier\n",
    "\n",
    "# Ensemble models\n",
    "from sklearn.ensemble import ExtraTreesClassifier\n",
    "from sklearn.ensemble import RandomForestClassifier\n",
    "from sklearn.ensemble import VotingClassifier\n",
    "from xgboost import XGBClassifier\n",
    "from catboost import CatBoostClassifier\n"
   ]
  },
  {
   "cell_type": "code",
   "execution_count": 15,
   "metadata": {},
   "outputs": [],
   "source": [
    "model_pipeline = {\n",
    "    'Random Forerst': RandomForestClassifier(random_state=seed, n_jobs=cpu_count),\n",
    "    #'Extra Trees': ExtraTreesClassifier(),\n",
    "    #'XGBoost': XGBClassifier(),\n",
    "    #'CatBoost': CatBoostClassifier(logging_level='Silent', random_seed=seed),\n",
    "    'Logistic Regression': LogisticRegression(random_state=seed, n_jobs=cpu_count, max_iter=3000),\n",
    "    'Gaussian NB': GaussianNB(),\n",
    "    'Multinomial NB': MultinomialNB(),\n",
    "    'Decision Tree': DecisionTreeClassifier(),\n",
    "    'KNeighbors': KNeighborsClassifier(),\n",
    "    #'SGDC': SGDClassifier(),\n",
    "}\n"
   ]
  },
  {
   "cell_type": "code",
   "execution_count": 16,
   "metadata": {},
   "outputs": [
    {
     "name": "stderr",
     "output_type": "stream",
     "text": [
      "ic| X.shape: (416768, 151)\n",
      "ic| y.shape: (416768,)\n"
     ]
    }
   ],
   "source": [
    "X_columns_train = df_train.columns.to_list()\n",
    "X_columns_train = list(set(X_columns_train) -\n",
    "                       {\"label\", \"original_text\", \"cleaned_text\", \"stats_language_code\"})\n",
    "\n",
    "X = df_train[X_columns_train].copy()\n",
    "y = df_train[\"label\"]\n",
    "\n",
    "ic(X.shape);\n",
    "ic(y.shape);\n"
   ]
  },
  {
   "cell_type": "code",
   "execution_count": 17,
   "metadata": {},
   "outputs": [],
   "source": [
    "k=10\n",
    "skfold = StratifiedKFold(n_splits=k)\n",
    "rf = RandomForestClassifier(random_state=seed, n_jobs=-1)\n",
    "scaler = MinMaxScaler((0, 1))\n"
   ]
  },
  {
   "cell_type": "code",
   "execution_count": 18,
   "metadata": {
    "id": "BpeN80L1kc_C"
   },
   "outputs": [
    {
     "name": "stdout",
     "output_type": "stream",
     "text": [
      "Cross-validating: Random Forerst\n",
      "0.7488842722662712\n",
      "Cross-validating: Logistic Regression\n",
      "0.6659556366675254\n",
      "Cross-validating: Gaussian NB\n",
      "There was a communication issue (pushover).\n",
      "0.6199348256420776\n",
      "Cross-validating: Multinomial NB\n",
      "0.6132572455172494\n",
      "Cross-validating: Decision Tree\n",
      "0.6940456113270318\n",
      "Cross-validating: KNeighbors\n",
      "0.6673448992712002\n",
      "CPU times: user 3.69 s, sys: 15.3 s, total: 19 s\n",
      "Wall time: 18min 55s\n"
     ]
    }
   ],
   "source": [
    "%%time\n",
    "gc.collect()\n",
    "\n",
    "acc_list = []\n",
    "roc_auc_list = []\n",
    "recall_list = []\n",
    "precision_list = []\n",
    "f1_list = []\n",
    "std_acc_list = []\n",
    "lower_bound_list = []\n",
    "upper_bound_list = []\n",
    "conf_int_list = []\n",
    "\n",
    "scoring_list = ['accuracy', 'precision', 'recall', 'f1', 'roc_auc']\n",
    "\n",
    "for name, model in model_pipeline.items():\n",
    "    gc.collect()\n",
    "    print(\"Cross-validating:\", name)\n",
    "\n",
    "    pipeline = Pipeline([('scaling', scaler), ('estimator', model)])\n",
    "    cv_results = cross_validate(pipeline, X, y, cv=skfold, scoring=scoring_list, \n",
    "                                return_estimator =True, error_score='raise', n_jobs=-1)\n",
    "\n",
    "    acc_list.append(np.mean(cv_results['test_accuracy']))\n",
    "\n",
    "    roc_auc_list.append(np.mean(cv_results['test_roc_auc']))\n",
    "    recall_list.append(np.mean(cv_results['test_recall']))\n",
    "    precision_list.append(np.mean(cv_results['test_precision']))\n",
    "    f1_list.append(np.mean(cv_results['test_f1']))\n",
    "\n",
    "    # Calculate mean and standard deviation of accuracy scores\n",
    "    mean_acc = np.mean(cv_results['test_accuracy'])\n",
    "    std_acc = np.std(cv_results['test_accuracy'])\n",
    "    std_acc_list.append(std_acc)\n",
    "\n",
    "    # Calculate 95% confidence interval of accuracy scores\n",
    "    conf_int = 1.96 * std_acc / np.sqrt(len(cv_results['test_accuracy']))\n",
    "    conf_int_list.append(conf_int)\n",
    "\n",
    "    lower_bound = mean_acc - conf_int\n",
    "    upper_bound = mean_acc + conf_int\n",
    "\n",
    "    lower_bound_list.append(lower_bound)\n",
    "    upper_bound_list.append(upper_bound)\n",
    "\n",
    "    if not FASTRUN:\n",
    "        message = (\n",
    "            f\"Cross-validation accuracy score base model {name}:\", (np.mean(cv_results['test_accuracy'])))\n",
    "        send_push(message)\n",
    "\n",
    "    print(np.mean(cv_results['test_accuracy']));\n"
   ]
  },
  {
   "attachments": {},
   "cell_type": "markdown",
   "metadata": {},
   "source": [
    "previus run (with rounded stats_ and rs_ features):\n",
    "- Cross-validating: Random Forerst: 0.7488626809609666\n",
    "- Cross-validating: Extra Trees: 0.7482388326232383\n",
    "- Cross-validating: XGBoost: 0.6963466506894254\n",
    "- Cross-validating: CatBoost: 0.7025179460647804\n",
    "- Cross-validating: Logistic Regression: 0.6655021483839874\n",
    "- Cross-validating: Gaussian NB: 0.6199996100938174\n",
    "- Cross-validating: Multinomial NB: 0.6134731927109776\n",
    "- Cross-validating: Decision Tree: 0.694031224396862\n",
    "- CPU times: user 7.55 s, sys: 33 s, total: 40.5 s\n",
    "- Wall time: 36min 29s"
   ]
  },
  {
   "cell_type": "code",
   "execution_count": 19,
   "metadata": {
    "id": "bDXPYz7Mkc_D"
   },
   "outputs": [
    {
     "name": "stdout",
     "output_type": "stream",
     "text": [
      "There was a communication issue (pushover).\n"
     ]
    }
   ],
   "source": [
    "if not FASTRUN:\n",
    "    send_push(\"Cross-validation (with CV) base models finished.\")\n"
   ]
  },
  {
   "cell_type": "code",
   "execution_count": 20,
   "metadata": {
    "id": "GVxn2FRvkc_D"
   },
   "outputs": [],
   "source": [
    "def style_highlight_max(s):\n",
    "    if s.dtype == np.object:\n",
    "        is_max = [False for _ in range(s.shape[0])]\n",
    "    else:\n",
    "        is_max = s == s.max()\n",
    "    return ['background: lightblue' if cell else '' for cell in is_max]\n"
   ]
  },
  {
   "cell_type": "code",
   "execution_count": 21,
   "metadata": {
    "id": "IY1QKS11kc_E"
   },
   "outputs": [
    {
     "data": {
      "text/html": [
       "<style type=\"text/css\">\n",
       "#T_a3b8c caption {\n",
       "  caption-side: bottom;\n",
       "  font-size: 0.9em;\n",
       "}\n",
       "#T_a3b8c_row0_col0, #T_a3b8c_row0_col2, #T_a3b8c_row0_col3, #T_a3b8c_row1_col0, #T_a3b8c_row1_col1, #T_a3b8c_row1_col2, #T_a3b8c_row1_col3, #T_a3b8c_row1_col4, #T_a3b8c_row1_col5, #T_a3b8c_row1_col6, #T_a3b8c_row1_col7, #T_a3b8c_row2_col0, #T_a3b8c_row2_col1, #T_a3b8c_row2_col4, #T_a3b8c_row2_col5, #T_a3b8c_row2_col6, #T_a3b8c_row2_col7, #T_a3b8c_row3_col0, #T_a3b8c_row3_col1, #T_a3b8c_row3_col2, #T_a3b8c_row3_col3, #T_a3b8c_row3_col4, #T_a3b8c_row3_col5, #T_a3b8c_row3_col6, #T_a3b8c_row3_col7, #T_a3b8c_row4_col0, #T_a3b8c_row4_col1, #T_a3b8c_row4_col2, #T_a3b8c_row4_col3, #T_a3b8c_row4_col4, #T_a3b8c_row4_col5, #T_a3b8c_row4_col6, #T_a3b8c_row4_col7, #T_a3b8c_row5_col0, #T_a3b8c_row5_col1, #T_a3b8c_row5_col2, #T_a3b8c_row5_col3, #T_a3b8c_row5_col4, #T_a3b8c_row5_col5, #T_a3b8c_row5_col6, #T_a3b8c_row5_col7 {\n",
       "  text-align: center;\n",
       "}\n",
       "#T_a3b8c_row0_col1, #T_a3b8c_row0_col4, #T_a3b8c_row0_col5, #T_a3b8c_row0_col6, #T_a3b8c_row0_col7, #T_a3b8c_row2_col2, #T_a3b8c_row2_col3 {\n",
       "  text-align: center;\n",
       "  background: lightblue;\n",
       "}\n",
       "</style>\n",
       "<table id=\"T_a3b8c\">\n",
       "  <caption><br>Cross-Validation Scores with CV=10<br>Fastrun enabled:False</caption>\n",
       "  <thead>\n",
       "    <tr>\n",
       "      <th id=\"T_a3b8c_level0_col0\" class=\"col_heading level0 col0\" >Model</th>\n",
       "      <th id=\"T_a3b8c_level0_col1\" class=\"col_heading level0 col1\" >Accuracy</th>\n",
       "      <th id=\"T_a3b8c_level0_col2\" class=\"col_heading level0 col2\" >Acc STD</th>\n",
       "      <th id=\"T_a3b8c_level0_col3\" class=\"col_heading level0 col3\" >Acc CI</th>\n",
       "      <th id=\"T_a3b8c_level0_col4\" class=\"col_heading level0 col4\" >Recall</th>\n",
       "      <th id=\"T_a3b8c_level0_col5\" class=\"col_heading level0 col5\" >Precision</th>\n",
       "      <th id=\"T_a3b8c_level0_col6\" class=\"col_heading level0 col6\" >F1</th>\n",
       "      <th id=\"T_a3b8c_level0_col7\" class=\"col_heading level0 col7\" >ROC AUC</th>\n",
       "    </tr>\n",
       "  </thead>\n",
       "  <tbody>\n",
       "    <tr>\n",
       "      <td id=\"T_a3b8c_row0_col0\" class=\"data row0 col0\" >Random Forerst</td>\n",
       "      <td id=\"T_a3b8c_row0_col1\" class=\"data row0 col1\" >0.7489</td>\n",
       "      <td id=\"T_a3b8c_row0_col2\" class=\"data row0 col2\" >0.0011</td>\n",
       "      <td id=\"T_a3b8c_row0_col3\" class=\"data row0 col3\" >0.0007</td>\n",
       "      <td id=\"T_a3b8c_row0_col4\" class=\"data row0 col4\" >0.7636</td>\n",
       "      <td id=\"T_a3b8c_row0_col5\" class=\"data row0 col5\" >0.7418</td>\n",
       "      <td id=\"T_a3b8c_row0_col6\" class=\"data row0 col6\" >0.7525</td>\n",
       "      <td id=\"T_a3b8c_row0_col7\" class=\"data row0 col7\" >0.8437</td>\n",
       "    </tr>\n",
       "    <tr>\n",
       "      <td id=\"T_a3b8c_row1_col0\" class=\"data row1 col0\" >Logistic Regression</td>\n",
       "      <td id=\"T_a3b8c_row1_col1\" class=\"data row1 col1\" >0.6660</td>\n",
       "      <td id=\"T_a3b8c_row1_col2\" class=\"data row1 col2\" >0.0015</td>\n",
       "      <td id=\"T_a3b8c_row1_col3\" class=\"data row1 col3\" >0.0010</td>\n",
       "      <td id=\"T_a3b8c_row1_col4\" class=\"data row1 col4\" >0.6734</td>\n",
       "      <td id=\"T_a3b8c_row1_col5\" class=\"data row1 col5\" >0.6635</td>\n",
       "      <td id=\"T_a3b8c_row1_col6\" class=\"data row1 col6\" >0.6684</td>\n",
       "      <td id=\"T_a3b8c_row1_col7\" class=\"data row1 col7\" >0.7207</td>\n",
       "    </tr>\n",
       "    <tr>\n",
       "      <td id=\"T_a3b8c_row2_col0\" class=\"data row2 col0\" >Gaussian NB</td>\n",
       "      <td id=\"T_a3b8c_row2_col1\" class=\"data row2 col1\" >0.6199</td>\n",
       "      <td id=\"T_a3b8c_row2_col2\" class=\"data row2 col2\" >0.0017</td>\n",
       "      <td id=\"T_a3b8c_row2_col3\" class=\"data row2 col3\" >0.0011</td>\n",
       "      <td id=\"T_a3b8c_row2_col4\" class=\"data row2 col4\" >0.7476</td>\n",
       "      <td id=\"T_a3b8c_row2_col5\" class=\"data row2 col5\" >0.5955</td>\n",
       "      <td id=\"T_a3b8c_row2_col6\" class=\"data row2 col6\" >0.6630</td>\n",
       "      <td id=\"T_a3b8c_row2_col7\" class=\"data row2 col7\" >0.6655</td>\n",
       "    </tr>\n",
       "    <tr>\n",
       "      <td id=\"T_a3b8c_row3_col0\" class=\"data row3 col0\" >Multinomial NB</td>\n",
       "      <td id=\"T_a3b8c_row3_col1\" class=\"data row3 col1\" >0.6133</td>\n",
       "      <td id=\"T_a3b8c_row3_col2\" class=\"data row3 col2\" >0.0017</td>\n",
       "      <td id=\"T_a3b8c_row3_col3\" class=\"data row3 col3\" >0.0010</td>\n",
       "      <td id=\"T_a3b8c_row3_col4\" class=\"data row3 col4\" >0.5418</td>\n",
       "      <td id=\"T_a3b8c_row3_col5\" class=\"data row3 col5\" >0.6322</td>\n",
       "      <td id=\"T_a3b8c_row3_col6\" class=\"data row3 col6\" >0.5835</td>\n",
       "      <td id=\"T_a3b8c_row3_col7\" class=\"data row3 col7\" >0.6690</td>\n",
       "    </tr>\n",
       "    <tr>\n",
       "      <td id=\"T_a3b8c_row4_col0\" class=\"data row4 col0\" >Decision Tree</td>\n",
       "      <td id=\"T_a3b8c_row4_col1\" class=\"data row4 col1\" >0.6940</td>\n",
       "      <td id=\"T_a3b8c_row4_col2\" class=\"data row4 col2\" >0.0014</td>\n",
       "      <td id=\"T_a3b8c_row4_col3\" class=\"data row4 col3\" >0.0009</td>\n",
       "      <td id=\"T_a3b8c_row4_col4\" class=\"data row4 col4\" >0.6908</td>\n",
       "      <td id=\"T_a3b8c_row4_col5\" class=\"data row4 col5\" >0.6953</td>\n",
       "      <td id=\"T_a3b8c_row4_col6\" class=\"data row4 col6\" >0.6930</td>\n",
       "      <td id=\"T_a3b8c_row4_col7\" class=\"data row4 col7\" >0.6954</td>\n",
       "    </tr>\n",
       "    <tr>\n",
       "      <td id=\"T_a3b8c_row5_col0\" class=\"data row5 col0\" >KNeighbors</td>\n",
       "      <td id=\"T_a3b8c_row5_col1\" class=\"data row5 col1\" >0.6673</td>\n",
       "      <td id=\"T_a3b8c_row5_col2\" class=\"data row5 col2\" >0.0010</td>\n",
       "      <td id=\"T_a3b8c_row5_col3\" class=\"data row5 col3\" >0.0006</td>\n",
       "      <td id=\"T_a3b8c_row5_col4\" class=\"data row5 col4\" >0.6919</td>\n",
       "      <td id=\"T_a3b8c_row5_col5\" class=\"data row5 col5\" >0.6595</td>\n",
       "      <td id=\"T_a3b8c_row5_col6\" class=\"data row5 col6\" >0.6753</td>\n",
       "      <td id=\"T_a3b8c_row5_col7\" class=\"data row5 col7\" >0.7324</td>\n",
       "    </tr>\n",
       "  </tbody>\n",
       "</table>\n"
      ],
      "text/plain": [
       "<pandas.io.formats.style.Styler at 0x2d7c13520>"
      ]
     },
     "execution_count": 21,
     "metadata": {},
     "output_type": "execute_result"
    }
   ],
   "source": [
    "result_df = pd.DataFrame({'Model': model_pipeline.keys(), \n",
    "                          'Accuracy': acc_list,\n",
    "                          'Acc STD': std_acc_list,\n",
    "                          'Acc CI': conf_int_list,\n",
    "                          'Recall': recall_list,\n",
    "                          'Precision': precision_list, 'F1': f1_list, 'ROC AUC': roc_auc_list})\n",
    "result_df.style\\\n",
    "    .set_properties(**{'text-align': 'center'})\\\n",
    "    .apply(style_highlight_max)\\\n",
    "    .format(\n",
    "        {\n",
    "            'Accuracy': '{:,.4f}',\n",
    "            'Acc STD': '{:,.4f}',\n",
    "            'Acc CI': '{:,.4f}',\n",
    "            'Recall': '{:,.4f}',\n",
    "            'Precision': '{:,.4f}',\n",
    "            'F1': '{:,.4f}',\n",
    "            'ROC AUC': '{:,.4f}',\n",
    "        })\\\n",
    "    .set_caption(f'<br>Cross-Validation Scores with CV={k}<br>Fastrun enabled:{FASTRUN}')\\\n",
    "    .set_table_styles([{\n",
    "        'selector': 'caption',\n",
    "        'props': 'caption-side: bottom; font-size:0.9em;'}], overwrite=False)\\\n",
    "    .hide_index()\n",
    "\n"
   ]
  },
  {
   "cell_type": "markdown",
   "metadata": {
    "id": "BELdXJ1jkc_F"
   },
   "source": [
    "## Voting"
   ]
  },
  {
   "cell_type": "markdown",
   "metadata": {
    "id": "HC-NdUXfkc_F"
   },
   "source": [
    "Voting Classifier supports two types of votings.\n",
    "- **Hard Voting**: In hard voting, the predicted output class is a class with the highest majority of votes i.e the class which had the highest probability of being predicted by each of the classifiers. Suppose three classifiers predicted the output class(A, A, B), so here the majority predicted A as output. Hence A will be the final prediction.\n",
    "\n",
    "- **Soft Voting**: In soft voting, the output class is the prediction based on the average of probability given to that class. Suppose given some input to three models, the prediction probability for class A = (0.30, 0.47, 0.53) and B = (0.20, 0.32, 0.40). So the average for class A is 0.4333 and B is 0.3067, the winner is clearly class A because it had the highest probability averaged by each classifier."
   ]
  },
  {
   "cell_type": "code",
   "execution_count": 22,
   "metadata": {
    "id": "TWQG95EYkc_G"
   },
   "outputs": [
    {
     "data": {
      "text/plain": [
       "53"
      ]
     },
     "execution_count": 22,
     "metadata": {},
     "output_type": "execute_result"
    }
   ],
   "source": [
    "# Classifiers for voting classifier\n",
    "gc.collect()\n",
    "clf1 = ExtraTreesClassifier()\n",
    "clf2 = CatBoostClassifier(logging_level='Silent')\n",
    "clf3 = RandomForestClassifier(random_state=seed, n_jobs=cpu_count)\n",
    "clf4 = XGBClassifier()\n",
    "\n",
    "eclf1 = VotingClassifier(estimators=[('ExTrees', clf1), ('CatBoost', clf2), ('RF', clf3), ('XGB', clf4)], voting='soft')"
   ]
  },
  {
   "cell_type": "code",
   "execution_count": 23,
   "metadata": {
    "id": "nSB900aYkc_G"
   },
   "outputs": [
    {
     "ename": "KeyboardInterrupt",
     "evalue": "",
     "output_type": "error",
     "traceback": [
      "\u001B[0;31m---------------------------------------------------------------------------\u001B[0m",
      "\u001B[0;31mKeyboardInterrupt\u001B[0m                         Traceback (most recent call last)",
      "File \u001B[0;32m<timed exec>:15\u001B[0m\n",
      "File \u001B[0;32m~/Miniconda/miniconda3/envs/siads696/lib/python3.9/site-packages/sklearn/model_selection/_validation.py:266\u001B[0m, in \u001B[0;36mcross_validate\u001B[0;34m(estimator, X, y, groups, scoring, cv, n_jobs, verbose, fit_params, pre_dispatch, return_train_score, return_estimator, error_score)\u001B[0m\n\u001B[1;32m    263\u001B[0m \u001B[39m# We clone the estimator to make sure that all the folds are\u001B[39;00m\n\u001B[1;32m    264\u001B[0m \u001B[39m# independent, and that it is pickle-able.\u001B[39;00m\n\u001B[1;32m    265\u001B[0m parallel \u001B[39m=\u001B[39m Parallel(n_jobs\u001B[39m=\u001B[39mn_jobs, verbose\u001B[39m=\u001B[39mverbose, pre_dispatch\u001B[39m=\u001B[39mpre_dispatch)\n\u001B[0;32m--> 266\u001B[0m results \u001B[39m=\u001B[39m parallel(\n\u001B[1;32m    267\u001B[0m     delayed(_fit_and_score)(\n\u001B[1;32m    268\u001B[0m         clone(estimator),\n\u001B[1;32m    269\u001B[0m         X,\n\u001B[1;32m    270\u001B[0m         y,\n\u001B[1;32m    271\u001B[0m         scorers,\n\u001B[1;32m    272\u001B[0m         train,\n\u001B[1;32m    273\u001B[0m         test,\n\u001B[1;32m    274\u001B[0m         verbose,\n\u001B[1;32m    275\u001B[0m         \u001B[39mNone\u001B[39;49;00m,\n\u001B[1;32m    276\u001B[0m         fit_params,\n\u001B[1;32m    277\u001B[0m         return_train_score\u001B[39m=\u001B[39;49mreturn_train_score,\n\u001B[1;32m    278\u001B[0m         return_times\u001B[39m=\u001B[39;49m\u001B[39mTrue\u001B[39;49;00m,\n\u001B[1;32m    279\u001B[0m         return_estimator\u001B[39m=\u001B[39;49mreturn_estimator,\n\u001B[1;32m    280\u001B[0m         error_score\u001B[39m=\u001B[39;49merror_score,\n\u001B[1;32m    281\u001B[0m     )\n\u001B[1;32m    282\u001B[0m     \u001B[39mfor\u001B[39;49;00m train, test \u001B[39min\u001B[39;49;00m cv\u001B[39m.\u001B[39;49msplit(X, y, groups)\n\u001B[1;32m    283\u001B[0m )\n\u001B[1;32m    285\u001B[0m _warn_or_raise_about_fit_failures(results, error_score)\n\u001B[1;32m    287\u001B[0m \u001B[39m# For callabe scoring, the return type is only know after calling. If the\u001B[39;00m\n\u001B[1;32m    288\u001B[0m \u001B[39m# return type is a dictionary, the error scores can now be inserted with\u001B[39;00m\n\u001B[1;32m    289\u001B[0m \u001B[39m# the correct key.\u001B[39;00m\n",
      "File \u001B[0;32m~/Miniconda/miniconda3/envs/siads696/lib/python3.9/site-packages/sklearn/utils/parallel.py:63\u001B[0m, in \u001B[0;36mParallel.__call__\u001B[0;34m(self, iterable)\u001B[0m\n\u001B[1;32m     58\u001B[0m config \u001B[39m=\u001B[39m get_config()\n\u001B[1;32m     59\u001B[0m iterable_with_config \u001B[39m=\u001B[39m (\n\u001B[1;32m     60\u001B[0m     (_with_config(delayed_func, config), args, kwargs)\n\u001B[1;32m     61\u001B[0m     \u001B[39mfor\u001B[39;00m delayed_func, args, kwargs \u001B[39min\u001B[39;00m iterable\n\u001B[1;32m     62\u001B[0m )\n\u001B[0;32m---> 63\u001B[0m \u001B[39mreturn\u001B[39;00m \u001B[39msuper\u001B[39;49m()\u001B[39m.\u001B[39;49m\u001B[39m__call__\u001B[39;49m(iterable_with_config)\n",
      "File \u001B[0;32m~/Miniconda/miniconda3/envs/siads696/lib/python3.9/site-packages/joblib/parallel.py:1098\u001B[0m, in \u001B[0;36mParallel.__call__\u001B[0;34m(self, iterable)\u001B[0m\n\u001B[1;32m   1095\u001B[0m     \u001B[39mself\u001B[39m\u001B[39m.\u001B[39m_iterating \u001B[39m=\u001B[39m \u001B[39mFalse\u001B[39;00m\n\u001B[1;32m   1097\u001B[0m \u001B[39mwith\u001B[39;00m \u001B[39mself\u001B[39m\u001B[39m.\u001B[39m_backend\u001B[39m.\u001B[39mretrieval_context():\n\u001B[0;32m-> 1098\u001B[0m     \u001B[39mself\u001B[39;49m\u001B[39m.\u001B[39;49mretrieve()\n\u001B[1;32m   1099\u001B[0m \u001B[39m# Make sure that we get a last message telling us we are done\u001B[39;00m\n\u001B[1;32m   1100\u001B[0m elapsed_time \u001B[39m=\u001B[39m time\u001B[39m.\u001B[39mtime() \u001B[39m-\u001B[39m \u001B[39mself\u001B[39m\u001B[39m.\u001B[39m_start_time\n",
      "File \u001B[0;32m~/Miniconda/miniconda3/envs/siads696/lib/python3.9/site-packages/joblib/parallel.py:975\u001B[0m, in \u001B[0;36mParallel.retrieve\u001B[0;34m(self)\u001B[0m\n\u001B[1;32m    973\u001B[0m \u001B[39mtry\u001B[39;00m:\n\u001B[1;32m    974\u001B[0m     \u001B[39mif\u001B[39;00m \u001B[39mgetattr\u001B[39m(\u001B[39mself\u001B[39m\u001B[39m.\u001B[39m_backend, \u001B[39m'\u001B[39m\u001B[39msupports_timeout\u001B[39m\u001B[39m'\u001B[39m, \u001B[39mFalse\u001B[39;00m):\n\u001B[0;32m--> 975\u001B[0m         \u001B[39mself\u001B[39m\u001B[39m.\u001B[39m_output\u001B[39m.\u001B[39mextend(job\u001B[39m.\u001B[39;49mget(timeout\u001B[39m=\u001B[39;49m\u001B[39mself\u001B[39;49m\u001B[39m.\u001B[39;49mtimeout))\n\u001B[1;32m    976\u001B[0m     \u001B[39melse\u001B[39;00m:\n\u001B[1;32m    977\u001B[0m         \u001B[39mself\u001B[39m\u001B[39m.\u001B[39m_output\u001B[39m.\u001B[39mextend(job\u001B[39m.\u001B[39mget())\n",
      "File \u001B[0;32m~/Miniconda/miniconda3/envs/siads696/lib/python3.9/site-packages/joblib/_parallel_backends.py:567\u001B[0m, in \u001B[0;36mLokyBackend.wrap_future_result\u001B[0;34m(future, timeout)\u001B[0m\n\u001B[1;32m    564\u001B[0m \u001B[39m\u001B[39m\u001B[39m\"\"\"Wrapper for Future.result to implement the same behaviour as\u001B[39;00m\n\u001B[1;32m    565\u001B[0m \u001B[39mAsyncResults.get from multiprocessing.\"\"\"\u001B[39;00m\n\u001B[1;32m    566\u001B[0m \u001B[39mtry\u001B[39;00m:\n\u001B[0;32m--> 567\u001B[0m     \u001B[39mreturn\u001B[39;00m future\u001B[39m.\u001B[39;49mresult(timeout\u001B[39m=\u001B[39;49mtimeout)\n\u001B[1;32m    568\u001B[0m \u001B[39mexcept\u001B[39;00m CfTimeoutError \u001B[39mas\u001B[39;00m e:\n\u001B[1;32m    569\u001B[0m     \u001B[39mraise\u001B[39;00m \u001B[39mTimeoutError\u001B[39;00m \u001B[39mfrom\u001B[39;00m \u001B[39me\u001B[39;00m\n",
      "File \u001B[0;32m~/Miniconda/miniconda3/envs/siads696/lib/python3.9/concurrent/futures/_base.py:435\u001B[0m, in \u001B[0;36mFuture.result\u001B[0;34m(self, timeout)\u001B[0m\n\u001B[1;32m    432\u001B[0m \u001B[39melif\u001B[39;00m \u001B[39mself\u001B[39m\u001B[39m.\u001B[39m_state \u001B[39m==\u001B[39m FINISHED:\n\u001B[1;32m    433\u001B[0m     \u001B[39mreturn\u001B[39;00m \u001B[39mself\u001B[39m\u001B[39m.\u001B[39m__get_result()\n\u001B[0;32m--> 435\u001B[0m \u001B[39mself\u001B[39;49m\u001B[39m.\u001B[39;49m_condition\u001B[39m.\u001B[39;49mwait(timeout)\n\u001B[1;32m    437\u001B[0m \u001B[39mif\u001B[39;00m \u001B[39mself\u001B[39m\u001B[39m.\u001B[39m_state \u001B[39min\u001B[39;00m [CANCELLED, CANCELLED_AND_NOTIFIED]:\n\u001B[1;32m    438\u001B[0m     \u001B[39mraise\u001B[39;00m CancelledError()\n",
      "File \u001B[0;32m~/Miniconda/miniconda3/envs/siads696/lib/python3.9/threading.py:312\u001B[0m, in \u001B[0;36mCondition.wait\u001B[0;34m(self, timeout)\u001B[0m\n\u001B[1;32m    310\u001B[0m \u001B[39mtry\u001B[39;00m:    \u001B[39m# restore state no matter what (e.g., KeyboardInterrupt)\u001B[39;00m\n\u001B[1;32m    311\u001B[0m     \u001B[39mif\u001B[39;00m timeout \u001B[39mis\u001B[39;00m \u001B[39mNone\u001B[39;00m:\n\u001B[0;32m--> 312\u001B[0m         waiter\u001B[39m.\u001B[39;49macquire()\n\u001B[1;32m    313\u001B[0m         gotit \u001B[39m=\u001B[39m \u001B[39mTrue\u001B[39;00m\n\u001B[1;32m    314\u001B[0m     \u001B[39melse\u001B[39;00m:\n",
      "\u001B[0;31mKeyboardInterrupt\u001B[0m: "
     ]
    }
   ],
   "source": [
    "%%time\n",
    "gc.collect()\n",
    "\n",
    "acc_list = []\n",
    "roc_auc_list = []\n",
    "recall_list = []\n",
    "precision_list = []\n",
    "f1_list = []\n",
    "std_acc_list = []\n",
    "lower_bound_list = []\n",
    "upper_bound_list = []\n",
    "conf_int_list = []\n",
    "\n",
    "\n",
    "pipeline = Pipeline([('scaling', scaler), ('estimator', eclf1)])\n",
    "cv_results = cross_validate(pipeline, X, y, cv=skfold, scoring=scoring_list, \n",
    "                                return_estimator =True, error_score='raise', n_jobs=-1)\n",
    "\n",
    "acc_list.append(np.mean(cv_results['test_accuracy']))\n",
    "\n",
    "roc_auc_list.append(np.mean(cv_results['test_roc_auc']))\n",
    "recall_list.append(np.mean(cv_results['test_recall']))\n",
    "precision_list.append(np.mean(cv_results['test_precision']))\n",
    "f1_list.append(np.mean(cv_results['test_f1']))\n",
    "\n",
    "# Calculate mean and standard deviation of accuracy scores\n",
    "mean_acc = np.mean(cv_results['test_accuracy'])\n",
    "std_acc = np.std(cv_results['test_accuracy'])\n",
    "std_acc_list.append(std_acc)\n",
    "\n",
    "# Calculate 95% confidence interval of accuracy scores\n",
    "conf_int = 1.96 * std_acc / np.sqrt(len(cv_results['test_accuracy']))\n",
    "conf_int_list.append(conf_int)\n",
    "\n",
    "lower_bound = mean_acc - conf_int\n",
    "upper_bound = mean_acc + conf_int\n",
    "\n",
    "lower_bound_list.append(lower_bound)\n",
    "upper_bound_list.append(upper_bound)"
   ]
  },
  {
   "cell_type": "code",
   "execution_count": null,
   "metadata": {
    "id": "t5SWqXGGkc_G"
   },
   "outputs": [
    {
     "data": {
      "text/html": [
       "<style type=\"text/css\">\n",
       "#T_5c2bc caption {\n",
       "  caption-side: bottom;\n",
       "  font-size: 0.9em;\n",
       "}\n",
       "#T_5c2bc_row0_col0, #T_5c2bc_row0_col1, #T_5c2bc_row0_col2, #T_5c2bc_row0_col3, #T_5c2bc_row0_col4, #T_5c2bc_row0_col5, #T_5c2bc_row0_col6, #T_5c2bc_row0_col7 {\n",
       "  text-align: center;\n",
       "}\n",
       "</style>\n",
       "<table id=\"T_5c2bc\">\n",
       "  <caption><br>Cross-Validation Scores with CV=10<br>Fastrun enabled:False</caption>\n",
       "  <thead>\n",
       "    <tr>\n",
       "      <th id=\"T_5c2bc_level0_col0\" class=\"col_heading level0 col0\" >Model</th>\n",
       "      <th id=\"T_5c2bc_level0_col1\" class=\"col_heading level0 col1\" >Accuracy</th>\n",
       "      <th id=\"T_5c2bc_level0_col2\" class=\"col_heading level0 col2\" >Acc STD</th>\n",
       "      <th id=\"T_5c2bc_level0_col3\" class=\"col_heading level0 col3\" >Acc CI</th>\n",
       "      <th id=\"T_5c2bc_level0_col4\" class=\"col_heading level0 col4\" >Recall</th>\n",
       "      <th id=\"T_5c2bc_level0_col5\" class=\"col_heading level0 col5\" >Precision</th>\n",
       "      <th id=\"T_5c2bc_level0_col6\" class=\"col_heading level0 col6\" >F1</th>\n",
       "      <th id=\"T_5c2bc_level0_col7\" class=\"col_heading level0 col7\" >ROC AUC</th>\n",
       "    </tr>\n",
       "  </thead>\n",
       "  <tbody>\n",
       "    <tr>\n",
       "      <td id=\"T_5c2bc_row0_col0\" class=\"data row0 col0\" >Voting CLF</td>\n",
       "      <td id=\"T_5c2bc_row0_col1\" class=\"data row0 col1\" >0.7587</td>\n",
       "      <td id=\"T_5c2bc_row0_col2\" class=\"data row0 col2\" >0.0015</td>\n",
       "      <td id=\"T_5c2bc_row0_col3\" class=\"data row0 col3\" >0.0009</td>\n",
       "      <td id=\"T_5c2bc_row0_col4\" class=\"data row0 col4\" >0.7835</td>\n",
       "      <td id=\"T_5c2bc_row0_col5\" class=\"data row0 col5\" >0.7465</td>\n",
       "      <td id=\"T_5c2bc_row0_col6\" class=\"data row0 col6\" >0.7645</td>\n",
       "      <td id=\"T_5c2bc_row0_col7\" class=\"data row0 col7\" >0.8454</td>\n",
       "    </tr>\n",
       "  </tbody>\n",
       "</table>\n"
      ],
      "text/plain": [
       "<pandas.io.formats.style.Styler at 0x2e07736a0>"
      ]
     },
     "execution_count": 23,
     "metadata": {},
     "output_type": "execute_result"
    }
   ],
   "source": [
    "vc_result_df = pd.DataFrame({'Model': \"Voting CLF\", \n",
    "                          'Accuracy': acc_list,\n",
    "                          'Acc STD': std_acc_list,\n",
    "                          'Acc CI': conf_int_list,\n",
    "                          'Recall': recall_list,\n",
    "                          'Precision': precision_list, 'F1': f1_list, 'ROC AUC': roc_auc_list})\n",
    "vc_result_df.style\\\n",
    "    .set_properties(**{'text-align': 'center'})\\\n",
    "    .format(\n",
    "        {\n",
    "            'Accuracy': '{:,.4f}',\n",
    "            'Acc STD': '{:,.4f}',\n",
    "            'Acc CI': '{:,.4f}',\n",
    "            'Recall': '{:,.4f}',\n",
    "            'Precision': '{:,.4f}',\n",
    "            'F1': '{:,.4f}',\n",
    "            'ROC AUC': '{:,.4f}',\n",
    "        })\\\n",
    "    .set_caption(f'<br>Cross-Validation Scores with CV={k}<br>Fastrun enabled:{FASTRUN}')\\\n",
    "    .set_table_styles([{\n",
    "        'selector': 'caption',\n",
    "        'props': 'caption-side: bottom; font-size:0.9em;'}], overwrite=False)\\\n",
    "    .hide_index()"
   ]
  },
  {
   "cell_type": "code",
   "execution_count": null,
   "metadata": {},
   "outputs": [
    {
     "name": "stdout",
     "output_type": "stream",
     "text": [
      "55.68 minutes\n"
     ]
    }
   ],
   "source": [
    "t_end = time.time()\n",
    "calculate_duration(t_start, t_end);\n"
   ]
  },
  {
   "attachments": {},
   "cell_type": "markdown",
   "metadata": {},
   "source": [
    "# Export"
   ]
  },
  {
   "cell_type": "code",
   "execution_count": null,
   "metadata": {},
   "outputs": [
    {
     "data": {
      "text/html": [
       "<div>\n",
       "<style scoped>\n",
       "    .dataframe tbody tr th:only-of-type {\n",
       "        vertical-align: middle;\n",
       "    }\n",
       "\n",
       "    .dataframe tbody tr th {\n",
       "        vertical-align: top;\n",
       "    }\n",
       "\n",
       "    .dataframe thead th {\n",
       "        text-align: right;\n",
       "    }\n",
       "</style>\n",
       "<table border=\"1\" class=\"dataframe\">\n",
       "  <thead>\n",
       "    <tr style=\"text-align: right;\">\n",
       "      <th></th>\n",
       "      <th>Model</th>\n",
       "      <th>Accuracy</th>\n",
       "      <th>Acc STD</th>\n",
       "      <th>Acc CI</th>\n",
       "      <th>Recall</th>\n",
       "      <th>Precision</th>\n",
       "      <th>F1</th>\n",
       "      <th>ROC AUC</th>\n",
       "    </tr>\n",
       "  </thead>\n",
       "  <tbody>\n",
       "    <tr>\n",
       "      <th>0</th>\n",
       "      <td>Random Forerst</td>\n",
       "      <td>0.749127</td>\n",
       "      <td>0.001709</td>\n",
       "      <td>0.001059</td>\n",
       "      <td>0.763446</td>\n",
       "      <td>0.742195</td>\n",
       "      <td>0.752668</td>\n",
       "      <td>0.843610</td>\n",
       "    </tr>\n",
       "    <tr>\n",
       "      <th>1</th>\n",
       "      <td>Extra Trees</td>\n",
       "      <td>0.747562</td>\n",
       "      <td>0.002131</td>\n",
       "      <td>0.001321</td>\n",
       "      <td>0.762103</td>\n",
       "      <td>0.740570</td>\n",
       "      <td>0.751180</td>\n",
       "      <td>0.843518</td>\n",
       "    </tr>\n",
       "    <tr>\n",
       "      <th>2</th>\n",
       "      <td>XGBoost</td>\n",
       "      <td>0.696596</td>\n",
       "      <td>0.001062</td>\n",
       "      <td>0.000658</td>\n",
       "      <td>0.729019</td>\n",
       "      <td>0.684629</td>\n",
       "      <td>0.706122</td>\n",
       "      <td>0.772491</td>\n",
       "    </tr>\n",
       "    <tr>\n",
       "      <th>3</th>\n",
       "      <td>CatBoost</td>\n",
       "      <td>0.702851</td>\n",
       "      <td>0.001405</td>\n",
       "      <td>0.000871</td>\n",
       "      <td>0.734927</td>\n",
       "      <td>0.690623</td>\n",
       "      <td>0.712083</td>\n",
       "      <td>0.779150</td>\n",
       "    </tr>\n",
       "    <tr>\n",
       "      <th>4</th>\n",
       "      <td>Logistic Regression</td>\n",
       "      <td>0.665975</td>\n",
       "      <td>0.001532</td>\n",
       "      <td>0.000949</td>\n",
       "      <td>0.673545</td>\n",
       "      <td>0.663503</td>\n",
       "      <td>0.668481</td>\n",
       "      <td>0.720726</td>\n",
       "    </tr>\n",
       "    <tr>\n",
       "      <th>5</th>\n",
       "      <td>Gaussian NB</td>\n",
       "      <td>0.620009</td>\n",
       "      <td>0.001737</td>\n",
       "      <td>0.001077</td>\n",
       "      <td>0.747663</td>\n",
       "      <td>0.595614</td>\n",
       "      <td>0.663016</td>\n",
       "      <td>0.665560</td>\n",
       "    </tr>\n",
       "    <tr>\n",
       "      <th>6</th>\n",
       "      <td>Multinomial NB</td>\n",
       "      <td>0.613305</td>\n",
       "      <td>0.001686</td>\n",
       "      <td>0.001045</td>\n",
       "      <td>0.541817</td>\n",
       "      <td>0.632206</td>\n",
       "      <td>0.583529</td>\n",
       "      <td>0.669030</td>\n",
       "    </tr>\n",
       "    <tr>\n",
       "      <th>7</th>\n",
       "      <td>Decision Tree</td>\n",
       "      <td>0.693388</td>\n",
       "      <td>0.001602</td>\n",
       "      <td>0.000993</td>\n",
       "      <td>0.689794</td>\n",
       "      <td>0.694790</td>\n",
       "      <td>0.692281</td>\n",
       "      <td>0.694803</td>\n",
       "    </tr>\n",
       "    <tr>\n",
       "      <th>0</th>\n",
       "      <td>Voting CLF</td>\n",
       "      <td>0.758712</td>\n",
       "      <td>0.001496</td>\n",
       "      <td>0.000927</td>\n",
       "      <td>0.783481</td>\n",
       "      <td>0.746503</td>\n",
       "      <td>0.764544</td>\n",
       "      <td>0.845445</td>\n",
       "    </tr>\n",
       "  </tbody>\n",
       "</table>\n",
       "</div>"
      ],
      "text/plain": [
       "                 Model  Accuracy   Acc STD    Acc CI    Recall  Precision  \\\n",
       "0       Random Forerst  0.749127  0.001709  0.001059  0.763446   0.742195   \n",
       "1          Extra Trees  0.747562  0.002131  0.001321  0.762103   0.740570   \n",
       "2              XGBoost  0.696596  0.001062  0.000658  0.729019   0.684629   \n",
       "3             CatBoost  0.702851  0.001405  0.000871  0.734927   0.690623   \n",
       "4  Logistic Regression  0.665975  0.001532  0.000949  0.673545   0.663503   \n",
       "5          Gaussian NB  0.620009  0.001737  0.001077  0.747663   0.595614   \n",
       "6       Multinomial NB  0.613305  0.001686  0.001045  0.541817   0.632206   \n",
       "7        Decision Tree  0.693388  0.001602  0.000993  0.689794   0.694790   \n",
       "0           Voting CLF  0.758712  0.001496  0.000927  0.783481   0.746503   \n",
       "\n",
       "         F1   ROC AUC  \n",
       "0  0.752668  0.843610  \n",
       "1  0.751180  0.843518  \n",
       "2  0.706122  0.772491  \n",
       "3  0.712083  0.779150  \n",
       "4  0.668481  0.720726  \n",
       "5  0.663016  0.665560  \n",
       "6  0.583529  0.669030  \n",
       "7  0.692281  0.694803  \n",
       "0  0.764544  0.845445  "
      ]
     },
     "execution_count": 25,
     "metadata": {},
     "output_type": "execute_result"
    }
   ],
   "source": [
    "export_df = pd.concat([result_df, vc_result_df], axis=0)\n",
    "export_df"
   ]
  },
  {
   "cell_type": "code",
   "execution_count": null,
   "metadata": {},
   "outputs": [],
   "source": [
    "today = date.today()\n",
    "\n",
    "if not FASTRUN:\n",
    "    export_df.to_csv(\n",
    "        ROOT_PATH+PATH_DATA_REP+f\"{today}_base_models_CV{k}_scores_table_{notebook_no}.csv\", index=False)\n",
    "   "
   ]
  },
  {
   "cell_type": "markdown",
   "metadata": {
    "cell_id": "7cff3bd86533418a9c15c4f9dfcccde6",
    "deepnote_app_coordinates": {
     "h": 5,
     "w": 12,
     "x": 0,
     "y": 235
    },
    "deepnote_cell_type": "markdown",
    "id": "ti9wgudgBzw9"
   },
   "source": [
    "# Watermark"
   ]
  },
  {
   "cell_type": "code",
   "execution_count": null,
   "metadata": {
    "cell_id": "45a6cb036a284a63a571810ee439aeae",
    "deepnote_app_coordinates": {
     "h": 5,
     "w": 12,
     "x": 0,
     "y": 241
    },
    "deepnote_cell_type": "code",
    "deepnote_to_be_reexecuted": true,
    "execution_millis": 42,
    "execution_start": 1674563448577,
    "id": "f7PuaC1JBzw-",
    "source_hash": "ee060237"
   },
   "outputs": [
    {
     "name": "stdout",
     "output_type": "stream",
     "text": [
      "Last updated: 2023-02-20T20:31:34.156063+01:00\n",
      "\n",
      "Python implementation: CPython\n",
      "Python version       : 3.9.0\n",
      "IPython version      : 8.9.0\n",
      "\n",
      "Compiler    : Clang 11.0.0 \n",
      "OS          : Darwin\n",
      "Release     : 22.3.0\n",
      "Machine     : arm64\n",
      "Processor   : arm\n",
      "CPU cores   : 10\n",
      "Architecture: 64bit\n",
      "\n"
     ]
    }
   ],
   "source": [
    "%watermark"
   ]
  },
  {
   "cell_type": "code",
   "execution_count": null,
   "metadata": {
    "cell_id": "49184b42a9124b75992040c1edb02f3f",
    "deepnote_app_coordinates": {
     "h": 5,
     "w": 12,
     "x": 0,
     "y": 247
    },
    "deepnote_cell_type": "code",
    "deepnote_to_be_reexecuted": true,
    "execution_millis": 37,
    "execution_start": 1674563451701,
    "id": "SU12PVZ2BzxA",
    "source_hash": "82959e25"
   },
   "outputs": [
    {
     "name": "stdout",
     "output_type": "stream",
     "text": [
      "seaborn   : 0.12.2\n",
      "numpy     : 1.23.5\n",
      "pandas    : 1.5.3\n",
      "matplotlib: 3.6.3\n",
      "\n"
     ]
    }
   ],
   "source": [
    "%watermark --iversions"
   ]
  },
  {
   "cell_type": "code",
   "execution_count": null,
   "metadata": {},
   "outputs": [
    {
     "name": "stdout",
     "output_type": "stream",
     "text": [
      "[NbConvertApp] Converting notebook 03.01_modeling_base_models_with_CV_GC.ipynb to html\n",
      "[NbConvertApp] Writing 672161 bytes to ../reports/html/2023-02-20_03.01_modeling_base_models_with_CV_GC_03.01.html\n"
     ]
    }
   ],
   "source": [
    "output_file = f'{ROOT_PATH}{PATH_DATA_REP}/html/{today}_03.01_modeling_base_models_with_CV_GC_03.01.html'\n",
    "!jupyter nbconvert --to html \"03.01_modeling_base_models_with_CV.ipynb\" --output {output_file}\n",
    "#!jupyter nbconvert --to html --TemplateExporter.exclude_input=True --output exported_notebook.html notebook.ipynb"
   ]
  }
 ],
 "metadata": {
  "colab": {
   "collapsed_sections": [
    "FSazCCmDbqKg"
   ],
   "provenance": []
  },
  "deepnote": {},
  "deepnote_app_layout": "article",
  "deepnote_execution_queue": [],
  "deepnote_notebook_id": "9a9c04096ce744f096ec4c3e58773e56",
  "deepnote_persisted_session": {
   "createdAt": "2023-01-25T20:01:30.909Z"
  },
  "kernelspec": {
   "display_name": "siads696",
   "language": "python",
   "name": "python3"
  },
  "language_info": {
   "codemirror_mode": {
    "name": "ipython",
    "version": 3
   },
   "file_extension": ".py",
   "mimetype": "text/x-python",
   "name": "python",
   "nbconvert_exporter": "python",
   "pygments_lexer": "ipython3",
   "version": "3.9.0"
  },
  "vscode": {
   "interpreter": {
    "hash": "e06bb46ff2b522e8ed41cde06a3284743bf4ee3b709766dafa5d4f926bdfb013"
   }
  }
 },
 "nbformat": 4,
 "nbformat_minor": 0
}
