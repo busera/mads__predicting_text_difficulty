{
 "cells": [
  {
   "attachments": {},
   "cell_type": "markdown",
   "metadata": {},
   "source": [
    "v1.0"
   ]
  },
  {
   "cell_type": "markdown",
   "metadata": {
    "cell_id": "97e9abac2ee54b5c8ba21bcf1a802d4d",
    "deepnote_cell_type": "markdown",
    "id": "wd0JhzeqBzw0"
   },
   "source": [
    "- The objective of this **03.03** notebook is to perform the crossvaldiation for MultinomialNB and TfidfVectorizer."
   ]
  },
  {
   "cell_type": "code",
   "execution_count": null,
   "metadata": {
    "id": "n6ai8J0b047w"
   },
   "outputs": [],
   "source": [
    "import time\n",
    "t_start = time.time()"
   ]
  },
  {
   "cell_type": "code",
   "execution_count": null,
   "metadata": {},
   "outputs": [],
   "source": [
    "#!pip install icecream\n",
    "#!pip install watermark\n",
    "#!pip install fastparquet"
   ]
  },
  {
   "attachments": {},
   "cell_type": "markdown",
   "metadata": {
    "cell_id": "ac47ba3d7145431da2416323b62232e5",
    "deepnote_cell_type": "markdown",
    "id": "uZms1pauBzw0"
   },
   "source": [
    "# Setup Environment"
   ]
  },
  {
   "cell_type": "code",
   "execution_count": 1,
   "metadata": {
    "colab": {
     "base_uri": "https://localhost:8080/"
    },
    "executionInfo": {
     "elapsed": 11235,
     "status": "ok",
     "timestamp": 1677593672707,
     "user": {
      "displayName": "V A",
      "userId": "07747803009706112600"
     },
     "user_tz": -60
    },
    "id": "Rm3Gb6kqDeXv",
    "outputId": "ce831030-b515-456d-fb97-eb6c8c0b8170"
   },
   "outputs": [
    {
     "name": "stdout",
     "output_type": "stream",
     "text": [
      "Drive already mounted at /content/drive; to attempt to forcibly remount, call drive.mount(\"/content/drive\", force_remount=True).\n"
     ]
    }
   ],
   "source": [
    "import os\n",
    "import string\n",
    "import pandas as pd\n",
    "from sklearn.pipeline import Pipeline\n",
    "from sklearn.feature_extraction.text import TfidfVectorizer\n",
    "from sklearn.naive_bayes import MultinomialNB\n",
    "from sklearn.model_selection import cross_val_score\n",
    "\n",
    "# Mount Google Drive and set the path to the root directory of the project\n",
    "from google.colab import drive\n",
    "\n",
    "drive.mount('/content/drive')\n",
    "try:\n",
    "    PATH_ROOT = \"/content/drive/MyDrive/MADS/SIADS696/Environment/\"\n",
    "except:\n",
    "    print(\"Using shortcut location to load data.\")\n",
    "    PATH_ROOT = \"/content/drive/MyDrive/SIADS696/Environment/\"\n",
    "\n",
    "# Define the paths to different directories and files in the project\n",
    "PATHS = {\n",
    "    \"data\": os.path.join(PATH_ROOT, \"data\"),\n",
    "    \"data_raw\": os.path.join(PATH_ROOT, \"data\", \"raw\"),\n",
    "    \"data_int\": os.path.join(PATH_ROOT, \"data\", \"interim\"),\n",
    "    \"data_pro\": os.path.join(PATH_ROOT, \"data\", \"processed\"),\n",
    "    \"models\": os.path.join(PATH_ROOT, \"models\"),\n",
    "    \"reports\": os.path.join(PATH_ROOT, \"reports\"),\n",
    "    \"figures\": os.path.join(PATH_ROOT, \"reports\", \"figures\"),\n",
    "}\n",
    "\n",
    "# load each dataset and store it in a variable with the same name as its key in the DATASETS dictionary\n",
    "locals()[f\"df_training\"] = pd.read_csv(PATHS[\"data_raw\"] +\"/\" + \"WikiLarge_Train.csv\")"
   ]
  },
  {
   "attachments": {},
   "cell_type": "markdown",
   "metadata": {
    "cell_id": "f8befebe274f40b595ba4704155feb1e",
    "deepnote_cell_type": "markdown",
    "id": "6YBbHzbqBzw8"
   },
   "source": [
    "# Load Data and perform Crossvalidation"
   ]
  },
  {
   "cell_type": "code",
   "execution_count": null,
   "metadata": {
    "id": "BNRmQMwRDNl4"
   },
   "outputs": [],
   "source": [
    "# Split the data into text and labels\n",
    "text_data = df_training[\"original_text\"]\n",
    "labels = df_training[\"label\"]\n",
    "\n",
    "# Define a function to clean the text data\n",
    "def clean(doc):\n",
    "    # Remove punctuation and digits from the text\n",
    "    doc = \"\".join([char for char in doc if char not in string.punctuation and not char.isdigit()])\n",
    "    return doc\n",
    "\n",
    "# Define the pipeline\n",
    "pipeline = Pipeline([\n",
    "    # Use TfidfVectorizer to transform the text data into TF-IDF features\n",
    "    ('tfidf', TfidfVectorizer(ngram_range=(1,15), preprocessor=clean, binary=True, max_df=0.9)),\n",
    "    # Use MultinomialNB to make predictions based on the TF-IDF features\n",
    "    ('nb', MultinomialNB(alpha=0.9, fit_prior=False))\n",
    "])\n",
    "\n",
    "# Perform 10-fold cross-validation on the pipeline\n",
    "scores = cross_val_score(pipeline, text_data, labels, cv=10)\n",
    "\n",
    "# Compute the mean cross-validation score and print it\n",
    "mean_score = sum(scores) / len(scores)\n",
    "print(\"Mean cross-validation score:\", mean_score)"
   ]
  },
  {
   "attachments": {},
   "cell_type": "markdown",
   "metadata": {
    "cell_id": "a462da01ed494c7e8277477f4dbd7b9b",
    "deepnote_cell_type": "markdown",
    "id": "ti9wgudgBzw9"
   },
   "source": [
    "# Watermark"
   ]
  },
  {
   "cell_type": "code",
   "execution_count": null,
   "metadata": {
    "cell_id": "e269fc38ee844d49891383e27ce68fb2",
    "deepnote_cell_type": "code",
    "deepnote_to_be_reexecuted": true,
    "execution_millis": 31,
    "execution_start": 1674582478187,
    "id": "f7PuaC1JBzw-",
    "pycharm": {
     "is_executing": true
    },
    "source_hash": "ee060237"
   },
   "outputs": [],
   "source": [
    "% watermark"
   ]
  },
  {
   "cell_type": "code",
   "execution_count": null,
   "metadata": {
    "cell_id": "42f5e2903d7941a79bf882cea20bc6fb",
    "deepnote_cell_type": "code",
    "deepnote_to_be_reexecuted": true,
    "execution_millis": 36,
    "execution_start": 1674582478222,
    "id": "SU12PVZ2BzxA",
    "pycharm": {
     "is_executing": true
    },
    "source_hash": "82959e25"
   },
   "outputs": [],
   "source": [
    "% watermark --iversions"
   ]
  },
  {
   "cell_type": "code",
   "execution_count": null,
   "metadata": {
    "id": "jkNVu8bg047_",
    "pycharm": {
     "is_executing": true
    }
   },
   "outputs": [],
   "source": [
    "t_end = time.time()\n",
    "total_runtime = t_end - t_start\n",
    "total_runtime_min = round((total_runtime / 60), 2)\n",
    "print(str(total_runtime_min) + \" minutes\")"
   ]
  }
 ],
 "metadata": {
  "colab": {
   "provenance": [
    {
     "file_id": "1ltFfTUlAdljzu42Mm_1xAfRhYJQr2xWK",
     "timestamp": 1676876823544
    }
   ],
   "toc_visible": true
  },
  "deepnote": {},
  "deepnote_execution_queue": [],
  "deepnote_notebook_id": "946229b10e114987a52132227b87775b",
  "deepnote_persisted_session": {
   "createdAt": "2023-01-25T16:45:43.444Z"
  },
  "kernelspec": {
   "display_name": "siads696",
   "language": "python",
   "name": "python3"
  },
  "language_info": {
   "codemirror_mode": {
    "name": "ipython",
    "version": 3
   },
   "file_extension": ".py",
   "mimetype": "text/x-python",
   "name": "python",
   "nbconvert_exporter": "python",
   "pygments_lexer": "ipython3",
   "version": "3.10.8"
  },
  "orig_nbformat": 4,
  "vscode": {
   "interpreter": {
    "hash": "59ddafbde2cbc9f409f11cc6baa3199b0fa959330484e34d0262718829943402"
   }
  }
 },
 "nbformat": 4,
 "nbformat_minor": 0
}
