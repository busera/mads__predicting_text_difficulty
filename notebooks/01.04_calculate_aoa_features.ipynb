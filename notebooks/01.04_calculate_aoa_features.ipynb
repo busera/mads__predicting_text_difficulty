{
 "cells": [
  {
   "attachments": {},
   "cell_type": "markdown",
   "metadata": {},
   "source": [
    "v1.1"
   ]
  },
  {
   "cell_type": "markdown",
   "metadata": {
    "id": "Lvxxm8GgBzwz"
   },
   "source": [
    "## Objective"
   ]
  },
  {
   "cell_type": "markdown",
   "metadata": {
    "id": "wd0JhzeqBzw0"
   },
   "source": [
    "- The objective of this **01.04** notebook is to \n",
    "  - calculate the AoA features"
   ]
  },
  {
   "cell_type": "code",
   "execution_count": 1,
   "metadata": {
    "colab": {
     "base_uri": "https://localhost:8080/"
    },
    "executionInfo": {
     "elapsed": 30970,
     "status": "ok",
     "timestamp": 1675455105513,
     "user": {
      "displayName": "V A",
      "userId": "07747803009706112600"
     },
     "user_tz": -60
    },
    "id": "Bv6l2Ngqp690",
    "outputId": "b9e6ffb8-ef08-437b-fb37-5c2446e517da"
   },
   "outputs": [
    {
     "name": "stdout",
     "output_type": "stream",
     "text": [
      "Mounted at /content/drive\n"
     ]
    }
   ],
   "source": [
    "from google.colab import drive\n",
    "drive.mount('/content/drive')"
   ]
  },
  {
   "cell_type": "code",
   "execution_count": 2,
   "metadata": {
    "executionInfo": {
     "elapsed": 7,
     "status": "ok",
     "timestamp": 1675455105514,
     "user": {
      "displayName": "V A",
      "userId": "07747803009706112600"
     },
     "user_tz": -60
    },
    "id": "Psctt15Np4vj"
   },
   "outputs": [],
   "source": [
    "import time\n",
    "t_start = time.time()"
   ]
  },
  {
   "attachments": {},
   "cell_type": "markdown",
   "metadata": {
    "id": "uZms1pauBzw0"
   },
   "source": [
    "# Setup Environment"
   ]
  },
  {
   "cell_type": "markdown",
   "metadata": {
    "id": "FSazCCmDbqKg"
   },
   "source": [
    "## Install Modules"
   ]
  },
  {
   "cell_type": "code",
   "execution_count": 3,
   "metadata": {
    "colab": {
     "base_uri": "https://localhost:8080/"
    },
    "executionInfo": {
     "elapsed": 4771,
     "status": "ok",
     "timestamp": 1675455110279,
     "user": {
      "displayName": "V A",
      "userId": "07747803009706112600"
     },
     "user_tz": -60
    },
    "id": "1Vo8zBrWbqKg",
    "outputId": "c3f48fb0-f941-4175-cb2f-e63e85b4c767"
   },
   "outputs": [
    {
     "name": "stdout",
     "output_type": "stream",
     "text": [
      "Looking in indexes: https://pypi.org/simple, https://us-python.pkg.dev/colab-wheels/public/simple/\n",
      "Collecting watermark\n",
      "  Downloading watermark-2.3.1-py2.py3-none-any.whl (7.2 kB)\n",
      "Requirement already satisfied: ipython in /usr/local/lib/python3.8/dist-packages (from watermark) (7.9.0)\n",
      "Requirement already satisfied: decorator in /usr/local/lib/python3.8/dist-packages (from ipython->watermark) (4.4.2)\n",
      "Collecting jedi>=0.10\n",
      "  Downloading jedi-0.18.2-py2.py3-none-any.whl (1.6 MB)\n",
      "\u001B[2K     \u001B[90m━━━━━━━━━━━━━━━━━━━━━━━━━━━━━━━━━━━━━━━━\u001B[0m \u001B[32m1.6/1.6 MB\u001B[0m \u001B[31m59.9 MB/s\u001B[0m eta \u001B[36m0:00:00\u001B[0m\n",
      "\u001B[?25hRequirement already satisfied: pickleshare in /usr/local/lib/python3.8/dist-packages (from ipython->watermark) (0.7.5)\n",
      "Requirement already satisfied: traitlets>=4.2 in /usr/local/lib/python3.8/dist-packages (from ipython->watermark) (5.7.1)\n",
      "Requirement already satisfied: pygments in /usr/local/lib/python3.8/dist-packages (from ipython->watermark) (2.6.1)\n",
      "Requirement already satisfied: pexpect in /usr/local/lib/python3.8/dist-packages (from ipython->watermark) (4.8.0)\n",
      "Requirement already satisfied: backcall in /usr/local/lib/python3.8/dist-packages (from ipython->watermark) (0.2.0)\n",
      "Requirement already satisfied: prompt-toolkit<2.1.0,>=2.0.0 in /usr/local/lib/python3.8/dist-packages (from ipython->watermark) (2.0.10)\n",
      "Requirement already satisfied: setuptools>=18.5 in /usr/local/lib/python3.8/dist-packages (from ipython->watermark) (57.4.0)\n",
      "Requirement already satisfied: parso<0.9.0,>=0.8.0 in /usr/local/lib/python3.8/dist-packages (from jedi>=0.10->ipython->watermark) (0.8.3)\n",
      "Requirement already satisfied: six>=1.9.0 in /usr/local/lib/python3.8/dist-packages (from prompt-toolkit<2.1.0,>=2.0.0->ipython->watermark) (1.15.0)\n",
      "Requirement already satisfied: wcwidth in /usr/local/lib/python3.8/dist-packages (from prompt-toolkit<2.1.0,>=2.0.0->ipython->watermark) (0.2.6)\n",
      "Requirement already satisfied: ptyprocess>=0.5 in /usr/local/lib/python3.8/dist-packages (from pexpect->ipython->watermark) (0.7.0)\n",
      "Installing collected packages: jedi, watermark\n",
      "Successfully installed jedi-0.18.2 watermark-2.3.1\n"
     ]
    }
   ],
   "source": [
    "!pip install watermark"
   ]
  },
  {
   "cell_type": "markdown",
   "metadata": {
    "id": "hHwYAoFSBzw1"
   },
   "source": [
    "## Import Modules"
   ]
  },
  {
   "cell_type": "code",
   "execution_count": 4,
   "metadata": {
    "executionInfo": {
     "elapsed": 1274,
     "status": "ok",
     "timestamp": 1675455111549,
     "user": {
      "displayName": "V A",
      "userId": "07747803009706112600"
     },
     "user_tz": -60
    },
    "id": "nbk1jSYhBzw2"
   },
   "outputs": [],
   "source": [
    "# Base libraries\n",
    "import os\n",
    "import re\n",
    "from datetime import date\n",
    "\n",
    "# Scientific libraries\n",
    "import numpy as np\n",
    "import pandas as pd\n",
    "\n",
    "# Visualization\n",
    "import seaborn as sns\n",
    "sns.set(rc={'figure.figsize':(8,4)})\n",
    "sns.set(font_scale=0.8)\n",
    "\n",
    "# Helper libraries\n",
    "from tqdm import tqdm\n",
    "tqdm.pandas()\n",
    "from watermark import watermark\n",
    "import gc # garbage collection to optimize memory usage, use gc.collect()\n",
    "import warnings\n",
    "warnings.filterwarnings('ignore')\n",
    "\n",
    "# Pandas options\n",
    "pd.set_option('display.max_rows', None)\n",
    "pd.set_option('display.max_columns', None)\n",
    "pd.set_option('display.width', None)\n",
    "pd.set_option('display.max_colwidth', None)\n",
    "\n",
    "# Load magic commands\n",
    "%load_ext watermark"
   ]
  },
  {
   "cell_type": "markdown",
   "metadata": {
    "id": "C46IJ3IeBzw5"
   },
   "source": [
    "## Define Parameters"
   ]
  },
  {
   "cell_type": "code",
   "execution_count": 5,
   "metadata": {
    "executionInfo": {
     "elapsed": 5,
     "status": "ok",
     "timestamp": 1675455111550,
     "user": {
      "displayName": "V A",
      "userId": "07747803009706112600"
     },
     "user_tz": -60
    },
    "id": "yV-WhzJNp4vp"
   },
   "outputs": [],
   "source": [
    "today = date.today()"
   ]
  },
  {
   "cell_type": "markdown",
   "metadata": {
    "id": "y9VxfrbFp4vp"
   },
   "source": [
    "### Helper Functions"
   ]
  },
  {
   "cell_type": "code",
   "execution_count": 6,
   "metadata": {
    "executionInfo": {
     "elapsed": 4,
     "status": "ok",
     "timestamp": 1675455111550,
     "user": {
      "displayName": "V A",
      "userId": "07747803009706112600"
     },
     "user_tz": -60
    },
    "id": "B9d48WDip4vp"
   },
   "outputs": [],
   "source": [
    "import http.client\n",
    "import urllib\n",
    "\n",
    "\n",
    "def send_push(message):\n",
    "    \"\"\"Send push notifications to pushover service.\"\"\"\n",
    "    try:\n",
    "        conn = http.client.HTTPSConnection(\"api.pushover.net:443\")\n",
    "        conn.request(\"POST\", \"/1/messages.json\",\n",
    "                     urllib.parse.urlencode({\n",
    "                         \"token\": \"ahs1q4mwpnxe3645zeaqzas69whq7a\",  # ML Notifications Channel\n",
    "                         \"user\": \"u5vr1qkc9ghudg2ehuug153okeiz1d\",\n",
    "                         \"message\": message,\n",
    "                     }), {\"Content-type\": \"application/x-www-form-urlencoded\"})\n",
    "\n",
    "        conn.getresponse()\n",
    "\n",
    "    except:\n",
    "        print(\"There was a communication issue (pushover).\")\n"
   ]
  },
  {
   "attachments": {},
   "cell_type": "markdown",
   "metadata": {
    "id": "6YBbHzbqBzw8"
   },
   "source": [
    "# Load Data"
   ]
  },
  {
   "cell_type": "code",
   "execution_count": 7,
   "metadata": {
    "colab": {
     "base_uri": "https://localhost:8080/"
    },
    "executionInfo": {
     "elapsed": 1706,
     "status": "ok",
     "timestamp": 1675455113252,
     "user": {
      "displayName": "V A",
      "userId": "07747803009706112600"
     },
     "user_tz": -60
    },
    "id": "25I58FCbqUlA",
    "outputId": "4c6b475d-25b3-41e8-db9e-0ca44fa0c10d"
   },
   "outputs": [
    {
     "name": "stdout",
     "output_type": "stream",
     "text": [
      "Drive already mounted at /content/drive; to attempt to forcibly remount, call drive.mount(\"/content/drive\", force_remount=True).\n"
     ]
    }
   ],
   "source": [
    "from google.colab import drive\n",
    "drive.mount('/content/drive')"
   ]
  },
  {
   "cell_type": "code",
   "execution_count": 8,
   "metadata": {
    "executionInfo": {
     "elapsed": 4700,
     "status": "ok",
     "timestamp": 1675455118268,
     "user": {
      "displayName": "V A",
      "userId": "07747803009706112600"
     },
     "user_tz": -60
    },
    "id": "ce_sjoQYqUaG"
   },
   "outputs": [],
   "source": [
    "# Paths: Google Drive Setup\n",
    "try: \n",
    "  # Original Google Drive location (owner)\n",
    "  PATH_DATA = \"/content/drive/MyDrive/MADS/SIADS696/Environment/data/\"\n",
    "  PATH_DATA_RAW = \"/content/drive/MyDrive/MADS/SIADS696/Environment/data/raw/\"\n",
    "  PATH_DATA_INT = \"/content/drive/MyDrive/MADS/SIADS696/Environment/data/interim/\"\n",
    "  PATH_DATA_PRO = \"/content/drive/MyDrive/MADS/SIADS696/Environment/data/processed/\"\n",
    "  PATH_REP = \"/content/drive/MyDrive/MADS/SIADS696/Environment/reports/\"\n",
    "  PATH_FIGS = \"/content/drive/MyDrive/MADS/SIADS696/Environment/reports/figures/\"\n",
    "\n",
    "  df_wiki_train = pd.read_pickle(PATH_DATA_INT+\"train_features_clean_stats.pkl\")\n",
    "  df_wiki_test = pd.read_pickle(PATH_DATA_INT+\"test_features_clean_stats.pkl\")\n",
    "  df_aoa = pd.read_csv(PATH_DATA_RAW+\"AoA_51715_words.csv\", encoding = \"ISO-8859-1\")\n",
    "\n",
    "except:\n",
    "  # Location for \"shared with\" people\n",
    "  # create a shortcut of the shared folder in your Google Drive root folder\n",
    "  print(\"Using shortcut location to load data.\")\n",
    "  PATH_DATA = \"/content/drive/MyDrive/SIADS696/Environment/data/\"\n",
    "  PATH_DATA_RAW = \"/content/drive/MyDrive/SIADS696/Environment/data/raw/\"\n",
    "  PATH_DATA_INT = \"/content/drive/MyDrive/SIADS696/Environment/data/interim/\"\n",
    "  PATH_DATA_PRO = \"/content/drive/MyDrive/SIADS696/Environment/data/processed/\"\n",
    "  PATH_REP = \"/content/drive/MyDrive/SIADS696/Environment/reports/\"\n",
    "  PATH_FIGS = \"/content/drive/MyDrive/SIADS696/Environment/reports/figures/\"\n",
    "\n",
    "  df_wiki_train = pd.read_pickle(PATH_DATA_INT+\"train_features_clean_stats.pkl\")\n",
    "  df_wiki_test = pd.read_pickle(PATH_DATA_INT+\"test_features_clean_stats.pkl\")\n",
    "  df_aoa = pd.read_csv(PATH_DATA_RAW+\"AoA_51715_words.csv\", encoding = \"ISO-8859-1\")"
   ]
  },
  {
   "cell_type": "code",
   "execution_count": 9,
   "metadata": {
    "colab": {
     "base_uri": "https://localhost:8080/"
    },
    "executionInfo": {
     "elapsed": 29,
     "status": "ok",
     "timestamp": 1675455118275,
     "user": {
      "displayName": "V A",
      "userId": "07747803009706112600"
     },
     "user_tz": -60
    },
    "id": "zXywKpR-p4vr",
    "outputId": "697f4f46-fc90-402f-c27c-f41e96865443"
   },
   "outputs": [
    {
     "data": {
      "text/plain": [
       "(119092, 27)"
      ]
     },
     "execution_count": 9,
     "metadata": {},
     "output_type": "execute_result"
    }
   ],
   "source": [
    "df_wiki_train.shape\n",
    "df_wiki_test.shape"
   ]
  },
  {
   "cell_type": "code",
   "execution_count": 10,
   "metadata": {
    "colab": {
     "base_uri": "https://localhost:8080/"
    },
    "executionInfo": {
     "elapsed": 26,
     "status": "ok",
     "timestamp": 1675455118276,
     "user": {
      "displayName": "V A",
      "userId": "07747803009706112600"
     },
     "user_tz": -60
    },
    "id": "X0W3aUI0p4vs",
    "outputId": "e26a6e1f-3890-4b9d-a923-dbd65d8c5337"
   },
   "outputs": [
    {
     "name": "stdout",
     "output_type": "stream",
     "text": [
      "<class 'pandas.core.frame.DataFrame'>\n",
      "RangeIndex: 51715 entries, 0 to 51714\n",
      "Data columns (total 16 columns):\n",
      " #   Column                Non-Null Count  Dtype  \n",
      "---  ------                --------------  -----  \n",
      " 0   Word                  51714 non-null  object \n",
      " 1   Alternative.spelling  51714 non-null  object \n",
      " 2   Freq_pm               51046 non-null  float64\n",
      " 3   Dom_PoS_SUBTLEX       50963 non-null  object \n",
      " 4   Nletters              51715 non-null  int64  \n",
      " 5   Nphon                 51715 non-null  int64  \n",
      " 6   Nsyll                 51715 non-null  int64  \n",
      " 7   Lemma_highest_PoS     51714 non-null  object \n",
      " 8   AoA_Kup               31105 non-null  float64\n",
      " 9   Perc_known            31124 non-null  float64\n",
      " 10  AoA_Kup_lem           51695 non-null  float64\n",
      " 11  Perc_known_lem        51715 non-null  float64\n",
      " 12  AoA_Bird_lem          5421 non-null   float64\n",
      " 13  AoA_Bristol_lem       8061 non-null   float64\n",
      " 14  AoA_Cort_lem          8045 non-null   float64\n",
      " 15  AoA_Schock            7056 non-null   float64\n",
      "dtypes: float64(9), int64(3), object(4)\n",
      "memory usage: 6.3+ MB\n"
     ]
    },
    {
     "data": {
      "text/plain": [
       "(51715, 16)"
      ]
     },
     "execution_count": 10,
     "metadata": {},
     "output_type": "execute_result"
    }
   ],
   "source": [
    "df_aoa.head()\n",
    "df_aoa.info()\n",
    "df_aoa.shape"
   ]
  },
  {
   "attachments": {},
   "cell_type": "markdown",
   "metadata": {
    "id": "CL9zJrfHr_iA"
   },
   "source": [
    "# Data Cleaning and Feature Engineering"
   ]
  },
  {
   "cell_type": "markdown",
   "metadata": {
    "id": "opnYNWSrp4vs"
   },
   "source": [
    "**Tips on Creating Features**\n",
    "- Linear models learn sums and differences naturally, but can't learn anything more complex.\n",
    "- Ratios seem to be difficult for most models to learn. Ratio combinations often lead to some easy performance gains.\n",
    "- Linear models and neural nets generally do better with normalized features. Neural nets especially need features scaled to values not too far from 0. Tree-based models (like random forests and XGBoost) can sometimes benefit from normalization, but usually much less so.\n",
    "- Tree models can learn to approximate almost any combination of features, but when a combination is especially important they can still benefit from having it explicitly created, especially when data is limited.\n",
    "- Counts are especially helpful for tree models, since these models don't have a natural way of aggregating information across many features at once.\n",
    "[Source](https://www.kaggle.com/code/ryanholbrook/creating-features)"
   ]
  },
  {
   "cell_type": "markdown",
   "metadata": {
    "id": "cpMKz9-0p4vs"
   },
   "source": [
    "## Calculate AoA Features (aoa)"
   ]
  },
  {
   "cell_type": "code",
   "execution_count": 11,
   "metadata": {
    "colab": {
     "base_uri": "https://localhost:8080/",
     "height": 551
    },
    "executionInfo": {
     "elapsed": 23,
     "status": "ok",
     "timestamp": 1675455118276,
     "user": {
      "displayName": "V A",
      "userId": "07747803009706112600"
     },
     "user_tz": -60
    },
    "id": "N8ICPU_Ip4vs",
    "outputId": "b6480ab1-ec65-4b9c-8409-e4a450849d85"
   },
   "outputs": [
    {
     "data": {
      "text/html": [
       "\n",
       "  <div id=\"df-06e8d386-d423-4e1b-9df9-d7860817250c\">\n",
       "    <div class=\"colab-df-container\">\n",
       "      <div>\n",
       "<style scoped>\n",
       "    .dataframe tbody tr th:only-of-type {\n",
       "        vertical-align: middle;\n",
       "    }\n",
       "\n",
       "    .dataframe tbody tr th {\n",
       "        vertical-align: top;\n",
       "    }\n",
       "\n",
       "    .dataframe thead th {\n",
       "        text-align: right;\n",
       "    }\n",
       "</style>\n",
       "<table border=\"1\" class=\"dataframe\">\n",
       "  <thead>\n",
       "    <tr style=\"text-align: right;\">\n",
       "      <th></th>\n",
       "      <th>30369</th>\n",
       "      <th>17824</th>\n",
       "      <th>47614</th>\n",
       "      <th>25667</th>\n",
       "      <th>32409</th>\n",
       "    </tr>\n",
       "  </thead>\n",
       "  <tbody>\n",
       "    <tr>\n",
       "      <th>Word</th>\n",
       "      <td>nom</td>\n",
       "      <td>flibbertigibbet</td>\n",
       "      <td>trustworthy</td>\n",
       "      <td>lamb</td>\n",
       "      <td>paroled</td>\n",
       "    </tr>\n",
       "    <tr>\n",
       "      <th>Alternative.spelling</th>\n",
       "      <td>nom</td>\n",
       "      <td>flibbertigibbet</td>\n",
       "      <td>trustworthy</td>\n",
       "      <td>lamb</td>\n",
       "      <td>paroled</td>\n",
       "    </tr>\n",
       "    <tr>\n",
       "      <th>Freq_pm</th>\n",
       "      <td>0.33</td>\n",
       "      <td>0.08</td>\n",
       "      <td>1.84</td>\n",
       "      <td>10.63</td>\n",
       "      <td>0.92</td>\n",
       "    </tr>\n",
       "    <tr>\n",
       "      <th>Dom_PoS_SUBTLEX</th>\n",
       "      <td>Noun</td>\n",
       "      <td>Noun</td>\n",
       "      <td>Adjective</td>\n",
       "      <td>Noun</td>\n",
       "      <td>Verb</td>\n",
       "    </tr>\n",
       "    <tr>\n",
       "      <th>Nletters</th>\n",
       "      <td>3</td>\n",
       "      <td>15</td>\n",
       "      <td>11</td>\n",
       "      <td>4</td>\n",
       "      <td>7</td>\n",
       "    </tr>\n",
       "    <tr>\n",
       "      <th>Nphon</th>\n",
       "      <td>3</td>\n",
       "      <td>13</td>\n",
       "      <td>9</td>\n",
       "      <td>3</td>\n",
       "      <td>5</td>\n",
       "    </tr>\n",
       "    <tr>\n",
       "      <th>Nsyll</th>\n",
       "      <td>1</td>\n",
       "      <td>5</td>\n",
       "      <td>3</td>\n",
       "      <td>1</td>\n",
       "      <td>2</td>\n",
       "    </tr>\n",
       "    <tr>\n",
       "      <th>Lemma_highest_PoS</th>\n",
       "      <td>nom</td>\n",
       "      <td>flibbertigibbet</td>\n",
       "      <td>trustworthy</td>\n",
       "      <td>lamb</td>\n",
       "      <td>parole</td>\n",
       "    </tr>\n",
       "    <tr>\n",
       "      <th>AoA_Kup</th>\n",
       "      <td>12.17</td>\n",
       "      <td>13.25</td>\n",
       "      <td>8.05</td>\n",
       "      <td>4.15</td>\n",
       "      <td>NaN</td>\n",
       "    </tr>\n",
       "    <tr>\n",
       "      <th>Perc_known</th>\n",
       "      <td>0.67</td>\n",
       "      <td>0.44</td>\n",
       "      <td>1.0</td>\n",
       "      <td>1.0</td>\n",
       "      <td>NaN</td>\n",
       "    </tr>\n",
       "    <tr>\n",
       "      <th>AoA_Kup_lem</th>\n",
       "      <td>12.17</td>\n",
       "      <td>13.25</td>\n",
       "      <td>8.05</td>\n",
       "      <td>4.15</td>\n",
       "      <td>11.47</td>\n",
       "    </tr>\n",
       "    <tr>\n",
       "      <th>Perc_known_lem</th>\n",
       "      <td>0.67</td>\n",
       "      <td>0.44</td>\n",
       "      <td>1.0</td>\n",
       "      <td>1.0</td>\n",
       "      <td>0.95</td>\n",
       "    </tr>\n",
       "    <tr>\n",
       "      <th>AoA_Bird_lem</th>\n",
       "      <td>NaN</td>\n",
       "      <td>NaN</td>\n",
       "      <td>9.93</td>\n",
       "      <td>NaN</td>\n",
       "      <td>NaN</td>\n",
       "    </tr>\n",
       "    <tr>\n",
       "      <th>AoA_Bristol_lem</th>\n",
       "      <td>NaN</td>\n",
       "      <td>NaN</td>\n",
       "      <td>NaN</td>\n",
       "      <td>3.94</td>\n",
       "      <td>12.64</td>\n",
       "    </tr>\n",
       "    <tr>\n",
       "      <th>AoA_Cort_lem</th>\n",
       "      <td>NaN</td>\n",
       "      <td>NaN</td>\n",
       "      <td>NaN</td>\n",
       "      <td>4.67</td>\n",
       "      <td>NaN</td>\n",
       "    </tr>\n",
       "    <tr>\n",
       "      <th>AoA_Schock</th>\n",
       "      <td>NaN</td>\n",
       "      <td>NaN</td>\n",
       "      <td>NaN</td>\n",
       "      <td>NaN</td>\n",
       "      <td>11.49</td>\n",
       "    </tr>\n",
       "  </tbody>\n",
       "</table>\n",
       "</div>\n",
       "      <button class=\"colab-df-convert\" onclick=\"convertToInteractive('df-06e8d386-d423-4e1b-9df9-d7860817250c')\"\n",
       "              title=\"Convert this dataframe to an interactive table.\"\n",
       "              style=\"display:none;\">\n",
       "        \n",
       "  <svg xmlns=\"http://www.w3.org/2000/svg\" height=\"24px\"viewBox=\"0 0 24 24\"\n",
       "       width=\"24px\">\n",
       "    <path d=\"M0 0h24v24H0V0z\" fill=\"none\"/>\n",
       "    <path d=\"M18.56 5.44l.94 2.06.94-2.06 2.06-.94-2.06-.94-.94-2.06-.94 2.06-2.06.94zm-11 1L8.5 8.5l.94-2.06 2.06-.94-2.06-.94L8.5 2.5l-.94 2.06-2.06.94zm10 10l.94 2.06.94-2.06 2.06-.94-2.06-.94-.94-2.06-.94 2.06-2.06.94z\"/><path d=\"M17.41 7.96l-1.37-1.37c-.4-.4-.92-.59-1.43-.59-.52 0-1.04.2-1.43.59L10.3 9.45l-7.72 7.72c-.78.78-.78 2.05 0 2.83L4 21.41c.39.39.9.59 1.41.59.51 0 1.02-.2 1.41-.59l7.78-7.78 2.81-2.81c.8-.78.8-2.07 0-2.86zM5.41 20L4 18.59l7.72-7.72 1.47 1.35L5.41 20z\"/>\n",
       "  </svg>\n",
       "      </button>\n",
       "      \n",
       "  <style>\n",
       "    .colab-df-container {\n",
       "      display:flex;\n",
       "      flex-wrap:wrap;\n",
       "      gap: 12px;\n",
       "    }\n",
       "\n",
       "    .colab-df-convert {\n",
       "      background-color: #E8F0FE;\n",
       "      border: none;\n",
       "      border-radius: 50%;\n",
       "      cursor: pointer;\n",
       "      display: none;\n",
       "      fill: #1967D2;\n",
       "      height: 32px;\n",
       "      padding: 0 0 0 0;\n",
       "      width: 32px;\n",
       "    }\n",
       "\n",
       "    .colab-df-convert:hover {\n",
       "      background-color: #E2EBFA;\n",
       "      box-shadow: 0px 1px 2px rgba(60, 64, 67, 0.3), 0px 1px 3px 1px rgba(60, 64, 67, 0.15);\n",
       "      fill: #174EA6;\n",
       "    }\n",
       "\n",
       "    [theme=dark] .colab-df-convert {\n",
       "      background-color: #3B4455;\n",
       "      fill: #D2E3FC;\n",
       "    }\n",
       "\n",
       "    [theme=dark] .colab-df-convert:hover {\n",
       "      background-color: #434B5C;\n",
       "      box-shadow: 0px 1px 3px 1px rgba(0, 0, 0, 0.15);\n",
       "      filter: drop-shadow(0px 1px 2px rgba(0, 0, 0, 0.3));\n",
       "      fill: #FFFFFF;\n",
       "    }\n",
       "  </style>\n",
       "\n",
       "      <script>\n",
       "        const buttonEl =\n",
       "          document.querySelector('#df-06e8d386-d423-4e1b-9df9-d7860817250c button.colab-df-convert');\n",
       "        buttonEl.style.display =\n",
       "          google.colab.kernel.accessAllowed ? 'block' : 'none';\n",
       "\n",
       "        async function convertToInteractive(key) {\n",
       "          const element = document.querySelector('#df-06e8d386-d423-4e1b-9df9-d7860817250c');\n",
       "          const dataTable =\n",
       "            await google.colab.kernel.invokeFunction('convertToInteractive',\n",
       "                                                     [key], {});\n",
       "          if (!dataTable) return;\n",
       "\n",
       "          const docLinkHtml = 'Like what you see? Visit the ' +\n",
       "            '<a target=\"_blank\" href=https://colab.research.google.com/notebooks/data_table.ipynb>data table notebook</a>'\n",
       "            + ' to learn more about interactive tables.';\n",
       "          element.innerHTML = '';\n",
       "          dataTable['output_type'] = 'display_data';\n",
       "          await google.colab.output.renderOutput(dataTable, element);\n",
       "          const docLink = document.createElement('div');\n",
       "          docLink.innerHTML = docLinkHtml;\n",
       "          element.appendChild(docLink);\n",
       "        }\n",
       "      </script>\n",
       "    </div>\n",
       "  </div>\n",
       "  "
      ],
      "text/plain": [
       "                      30369            17824        47614  25667    32409\n",
       "Word                    nom  flibbertigibbet  trustworthy   lamb  paroled\n",
       "Alternative.spelling    nom  flibbertigibbet  trustworthy   lamb  paroled\n",
       "Freq_pm                0.33             0.08         1.84  10.63     0.92\n",
       "Dom_PoS_SUBTLEX        Noun             Noun    Adjective   Noun     Verb\n",
       "Nletters                  3               15           11      4        7\n",
       "Nphon                     3               13            9      3        5\n",
       "Nsyll                     1                5            3      1        2\n",
       "Lemma_highest_PoS       nom  flibbertigibbet  trustworthy   lamb   parole\n",
       "AoA_Kup               12.17            13.25         8.05   4.15      NaN\n",
       "Perc_known             0.67             0.44          1.0    1.0      NaN\n",
       "AoA_Kup_lem           12.17            13.25         8.05   4.15    11.47\n",
       "Perc_known_lem         0.67             0.44          1.0    1.0     0.95\n",
       "AoA_Bird_lem            NaN              NaN         9.93    NaN      NaN\n",
       "AoA_Bristol_lem         NaN              NaN          NaN   3.94    12.64\n",
       "AoA_Cort_lem            NaN              NaN          NaN   4.67      NaN\n",
       "AoA_Schock              NaN              NaN          NaN    NaN    11.49"
      ]
     },
     "execution_count": 11,
     "metadata": {},
     "output_type": "execute_result"
    }
   ],
   "source": [
    "df_aoa.sample(5).T"
   ]
  },
  {
   "cell_type": "code",
   "execution_count": 12,
   "metadata": {
    "executionInfo": {
     "elapsed": 342,
     "status": "ok",
     "timestamp": 1675455118605,
     "user": {
      "displayName": "V A",
      "userId": "07747803009706112600"
     },
     "user_tz": -60
    },
    "id": "EfQCUUAqp4vt"
   },
   "outputs": [],
   "source": [
    "def calculate_aoa_feature(text, column, df_aoa, calculation):\n",
    "    word_list = text.split()  # create word list\n",
    "\n",
    "    # subset aoa dataframe to get only the words (and values)\n",
    "    df_temp = df_aoa[(df_aoa['Word'].isin(word_list) | (df_aoa['Alternative.spelling'].isin(word_list)))]\n",
    "    \n",
    "    if calculation == 'sum':\n",
    "        result = df_temp[column].sum()\n",
    "        if result <= 0:\n",
    "            #print(result)       # --> enable to see \"dirty\" samples\n",
    "            #print(word_list)    # --> enable to see \"dirty\" samples\n",
    "            return -1  # returning -1 instead 0, because 0 means no matched words\n",
    "        else:\n",
    "          try:\n",
    "            return result.round(2)\n",
    "          except:\n",
    "            print(\"Failed to return SUM\", word_list)\n",
    "            return -1\n",
    "            \n",
    "    elif calculation == 'mean':\n",
    "        result = df_temp[column].mean() # cannot convert to integer here, because of NAN returns: for no matched words\n",
    "        if np.isnan(result):\n",
    "            #print(result)       # --> enable to see \"dirty\" samples\n",
    "            #print(word_list)    # --> enable to see \"dirty\" samples\n",
    "            return -1\n",
    "        else:\n",
    "          try:\n",
    "            return result.round(2)\n",
    "          except:\n",
    "            print(\"Failed to return MEAN\", word_list)\n",
    "            return -1\n",
    "\n",
    "    elif calculation == 'max':\n",
    "        result = df_temp[column].max() # cannot convert to integer here, because of NAN returns: for no matched words\n",
    "        if np.isnan(result):\n",
    "            #print(result)       # --> enable to see \"dirty\" samples\n",
    "            #print(word_list)    # --> enable to see \"dirty\" samples\n",
    "            return -1\n",
    "        else:\n",
    "          try:\n",
    "            return result.round(2)\n",
    "          except:\n",
    "            print(\"Failed to return MAX\", word_list)\n",
    "            return -1\n",
    "\n",
    "\n",
    "    elif calculation == 'min':\n",
    "        result = df_temp[column].min() # cannot convert to integer here, because of NAN returns: for no matched words\n",
    "        if np.isnan(result):\n",
    "            #print(result)       # --> enable to see \"dirty\" samples\n",
    "            #print(word_list)    # --> enable to see \"dirty\" samples\n",
    "            return -1\n",
    "        else:\n",
    "          try:\n",
    "            return result.round(2)\n",
    "          except:\n",
    "            print(\"Failed to return MIN\", word_list)\n",
    "            return -1"
   ]
  },
  {
   "cell_type": "code",
   "execution_count": 13,
   "metadata": {
    "executionInfo": {
     "elapsed": 6,
     "status": "ok",
     "timestamp": 1675455118605,
     "user": {
      "displayName": "V A",
      "userId": "07747803009706112600"
     },
     "user_tz": -60
    },
    "id": "I09tDEhXp4vt"
   },
   "outputs": [],
   "source": [
    "from sklearn.preprocessing import LabelEncoder\n",
    "le = LabelEncoder()"
   ]
  },
  {
   "cell_type": "code",
   "execution_count": 14,
   "metadata": {
    "executionInfo": {
     "elapsed": 6,
     "status": "ok",
     "timestamp": 1675455118606,
     "user": {
      "displayName": "V A",
      "userId": "07747803009706112600"
     },
     "user_tz": -60
    },
    "id": "M06-EoVgp4vt"
   },
   "outputs": [],
   "source": [
    "df_aoa['Dom_PoS_SUBTLEX'] = le.fit_transform(df_aoa['Dom_PoS_SUBTLEX'])"
   ]
  },
  {
   "cell_type": "code",
   "execution_count": 15,
   "metadata": {
    "colab": {
     "base_uri": "https://localhost:8080/",
     "height": 551
    },
    "executionInfo": {
     "elapsed": 294,
     "status": "ok",
     "timestamp": 1675455118894,
     "user": {
      "displayName": "V A",
      "userId": "07747803009706112600"
     },
     "user_tz": -60
    },
    "id": "_T769mXbp4vt",
    "outputId": "22873ee0-f759-40d0-bf64-1716348b22d2"
   },
   "outputs": [
    {
     "data": {
      "text/html": [
       "\n",
       "  <div id=\"df-2c8fcbdf-b07b-4481-91ec-08fdbc871b2b\">\n",
       "    <div class=\"colab-df-container\">\n",
       "      <div>\n",
       "<style scoped>\n",
       "    .dataframe tbody tr th:only-of-type {\n",
       "        vertical-align: middle;\n",
       "    }\n",
       "\n",
       "    .dataframe tbody tr th {\n",
       "        vertical-align: top;\n",
       "    }\n",
       "\n",
       "    .dataframe thead th {\n",
       "        text-align: right;\n",
       "    }\n",
       "</style>\n",
       "<table border=\"1\" class=\"dataframe\">\n",
       "  <thead>\n",
       "    <tr style=\"text-align: right;\">\n",
       "      <th></th>\n",
       "      <th>17042</th>\n",
       "      <th>6228</th>\n",
       "      <th>42079</th>\n",
       "      <th>12127</th>\n",
       "    </tr>\n",
       "  </thead>\n",
       "  <tbody>\n",
       "    <tr>\n",
       "      <th>Word</th>\n",
       "      <td>faxes</td>\n",
       "      <td>cadences</td>\n",
       "      <td>smelling</td>\n",
       "      <td>democrat</td>\n",
       "    </tr>\n",
       "    <tr>\n",
       "      <th>Alternative.spelling</th>\n",
       "      <td>faxes</td>\n",
       "      <td>cadences</td>\n",
       "      <td>smelling</td>\n",
       "      <td>democrat</td>\n",
       "    </tr>\n",
       "    <tr>\n",
       "      <th>Freq_pm</th>\n",
       "      <td>0.53</td>\n",
       "      <td>0.02</td>\n",
       "      <td>4.96</td>\n",
       "      <td>1.69</td>\n",
       "    </tr>\n",
       "    <tr>\n",
       "      <th>Dom_PoS_SUBTLEX</th>\n",
       "      <td>56</td>\n",
       "      <td>56</td>\n",
       "      <td>62</td>\n",
       "      <td>56</td>\n",
       "    </tr>\n",
       "    <tr>\n",
       "      <th>Nletters</th>\n",
       "      <td>5</td>\n",
       "      <td>8</td>\n",
       "      <td>8</td>\n",
       "      <td>8</td>\n",
       "    </tr>\n",
       "    <tr>\n",
       "      <th>Nphon</th>\n",
       "      <td>6</td>\n",
       "      <td>8</td>\n",
       "      <td>6</td>\n",
       "      <td>8</td>\n",
       "    </tr>\n",
       "    <tr>\n",
       "      <th>Nsyll</th>\n",
       "      <td>2</td>\n",
       "      <td>3</td>\n",
       "      <td>2</td>\n",
       "      <td>3</td>\n",
       "    </tr>\n",
       "    <tr>\n",
       "      <th>Lemma_highest_PoS</th>\n",
       "      <td>fax</td>\n",
       "      <td>cadence</td>\n",
       "      <td>smell</td>\n",
       "      <td>democrat</td>\n",
       "    </tr>\n",
       "    <tr>\n",
       "      <th>AoA_Kup</th>\n",
       "      <td>NaN</td>\n",
       "      <td>NaN</td>\n",
       "      <td>NaN</td>\n",
       "      <td>11.21</td>\n",
       "    </tr>\n",
       "    <tr>\n",
       "      <th>Perc_known</th>\n",
       "      <td>NaN</td>\n",
       "      <td>NaN</td>\n",
       "      <td>NaN</td>\n",
       "      <td>1.0</td>\n",
       "    </tr>\n",
       "    <tr>\n",
       "      <th>AoA_Kup_lem</th>\n",
       "      <td>9.68</td>\n",
       "      <td>13.06</td>\n",
       "      <td>4.22</td>\n",
       "      <td>11.21</td>\n",
       "    </tr>\n",
       "    <tr>\n",
       "      <th>Perc_known_lem</th>\n",
       "      <td>1.0</td>\n",
       "      <td>0.95</td>\n",
       "      <td>1.0</td>\n",
       "      <td>1.0</td>\n",
       "    </tr>\n",
       "    <tr>\n",
       "      <th>AoA_Bird_lem</th>\n",
       "      <td>NaN</td>\n",
       "      <td>NaN</td>\n",
       "      <td>4.68</td>\n",
       "      <td>12.68</td>\n",
       "    </tr>\n",
       "    <tr>\n",
       "      <th>AoA_Bristol_lem</th>\n",
       "      <td>NaN</td>\n",
       "      <td>NaN</td>\n",
       "      <td>4.05</td>\n",
       "      <td>NaN</td>\n",
       "    </tr>\n",
       "    <tr>\n",
       "      <th>AoA_Cort_lem</th>\n",
       "      <td>NaN</td>\n",
       "      <td>NaN</td>\n",
       "      <td>4.27</td>\n",
       "      <td>NaN</td>\n",
       "    </tr>\n",
       "    <tr>\n",
       "      <th>AoA_Schock</th>\n",
       "      <td>NaN</td>\n",
       "      <td>NaN</td>\n",
       "      <td>NaN</td>\n",
       "      <td>NaN</td>\n",
       "    </tr>\n",
       "  </tbody>\n",
       "</table>\n",
       "</div>\n",
       "      <button class=\"colab-df-convert\" onclick=\"convertToInteractive('df-2c8fcbdf-b07b-4481-91ec-08fdbc871b2b')\"\n",
       "              title=\"Convert this dataframe to an interactive table.\"\n",
       "              style=\"display:none;\">\n",
       "        \n",
       "  <svg xmlns=\"http://www.w3.org/2000/svg\" height=\"24px\"viewBox=\"0 0 24 24\"\n",
       "       width=\"24px\">\n",
       "    <path d=\"M0 0h24v24H0V0z\" fill=\"none\"/>\n",
       "    <path d=\"M18.56 5.44l.94 2.06.94-2.06 2.06-.94-2.06-.94-.94-2.06-.94 2.06-2.06.94zm-11 1L8.5 8.5l.94-2.06 2.06-.94-2.06-.94L8.5 2.5l-.94 2.06-2.06.94zm10 10l.94 2.06.94-2.06 2.06-.94-2.06-.94-.94-2.06-.94 2.06-2.06.94z\"/><path d=\"M17.41 7.96l-1.37-1.37c-.4-.4-.92-.59-1.43-.59-.52 0-1.04.2-1.43.59L10.3 9.45l-7.72 7.72c-.78.78-.78 2.05 0 2.83L4 21.41c.39.39.9.59 1.41.59.51 0 1.02-.2 1.41-.59l7.78-7.78 2.81-2.81c.8-.78.8-2.07 0-2.86zM5.41 20L4 18.59l7.72-7.72 1.47 1.35L5.41 20z\"/>\n",
       "  </svg>\n",
       "      </button>\n",
       "      \n",
       "  <style>\n",
       "    .colab-df-container {\n",
       "      display:flex;\n",
       "      flex-wrap:wrap;\n",
       "      gap: 12px;\n",
       "    }\n",
       "\n",
       "    .colab-df-convert {\n",
       "      background-color: #E8F0FE;\n",
       "      border: none;\n",
       "      border-radius: 50%;\n",
       "      cursor: pointer;\n",
       "      display: none;\n",
       "      fill: #1967D2;\n",
       "      height: 32px;\n",
       "      padding: 0 0 0 0;\n",
       "      width: 32px;\n",
       "    }\n",
       "\n",
       "    .colab-df-convert:hover {\n",
       "      background-color: #E2EBFA;\n",
       "      box-shadow: 0px 1px 2px rgba(60, 64, 67, 0.3), 0px 1px 3px 1px rgba(60, 64, 67, 0.15);\n",
       "      fill: #174EA6;\n",
       "    }\n",
       "\n",
       "    [theme=dark] .colab-df-convert {\n",
       "      background-color: #3B4455;\n",
       "      fill: #D2E3FC;\n",
       "    }\n",
       "\n",
       "    [theme=dark] .colab-df-convert:hover {\n",
       "      background-color: #434B5C;\n",
       "      box-shadow: 0px 1px 3px 1px rgba(0, 0, 0, 0.15);\n",
       "      filter: drop-shadow(0px 1px 2px rgba(0, 0, 0, 0.3));\n",
       "      fill: #FFFFFF;\n",
       "    }\n",
       "  </style>\n",
       "\n",
       "      <script>\n",
       "        const buttonEl =\n",
       "          document.querySelector('#df-2c8fcbdf-b07b-4481-91ec-08fdbc871b2b button.colab-df-convert');\n",
       "        buttonEl.style.display =\n",
       "          google.colab.kernel.accessAllowed ? 'block' : 'none';\n",
       "\n",
       "        async function convertToInteractive(key) {\n",
       "          const element = document.querySelector('#df-2c8fcbdf-b07b-4481-91ec-08fdbc871b2b');\n",
       "          const dataTable =\n",
       "            await google.colab.kernel.invokeFunction('convertToInteractive',\n",
       "                                                     [key], {});\n",
       "          if (!dataTable) return;\n",
       "\n",
       "          const docLinkHtml = 'Like what you see? Visit the ' +\n",
       "            '<a target=\"_blank\" href=https://colab.research.google.com/notebooks/data_table.ipynb>data table notebook</a>'\n",
       "            + ' to learn more about interactive tables.';\n",
       "          element.innerHTML = '';\n",
       "          dataTable['output_type'] = 'display_data';\n",
       "          await google.colab.output.renderOutput(dataTable, element);\n",
       "          const docLink = document.createElement('div');\n",
       "          docLink.innerHTML = docLinkHtml;\n",
       "          element.appendChild(docLink);\n",
       "        }\n",
       "      </script>\n",
       "    </div>\n",
       "  </div>\n",
       "  "
      ],
      "text/plain": [
       "                      17042     6228      42079     12127\n",
       "Word                  faxes  cadences  smelling  democrat\n",
       "Alternative.spelling  faxes  cadences  smelling  democrat\n",
       "Freq_pm                0.53      0.02      4.96      1.69\n",
       "Dom_PoS_SUBTLEX          56        56        62        56\n",
       "Nletters                  5         8         8         8\n",
       "Nphon                     6         8         6         8\n",
       "Nsyll                     2         3         2         3\n",
       "Lemma_highest_PoS       fax   cadence     smell  democrat\n",
       "AoA_Kup                 NaN       NaN       NaN     11.21\n",
       "Perc_known              NaN       NaN       NaN       1.0\n",
       "AoA_Kup_lem            9.68     13.06      4.22     11.21\n",
       "Perc_known_lem          1.0      0.95       1.0       1.0\n",
       "AoA_Bird_lem            NaN       NaN      4.68     12.68\n",
       "AoA_Bristol_lem         NaN       NaN      4.05       NaN\n",
       "AoA_Cort_lem            NaN       NaN      4.27       NaN\n",
       "AoA_Schock              NaN       NaN       NaN       NaN"
      ]
     },
     "execution_count": 15,
     "metadata": {},
     "output_type": "execute_result"
    }
   ],
   "source": [
    "df_aoa.sample(4).T"
   ]
  },
  {
   "cell_type": "code",
   "execution_count": 16,
   "metadata": {
    "executionInfo": {
     "elapsed": 5,
     "status": "ok",
     "timestamp": 1675455118895,
     "user": {
      "displayName": "V A",
      "userId": "07747803009706112600"
     },
     "user_tz": -60
    },
    "id": "vLBaojpzp4vu"
   },
   "outputs": [],
   "source": [
    "aoa_feature_list = [\n",
    "    'Freq_pm',\n",
    "    'Dom_PoS_SUBTLEX',\n",
    "    'AoA_Kup',\n",
    "    'Perc_known',\n",
    "    'AoA_Kup_lem',\n",
    "    'Perc_known_lem',\n",
    "    'AoA_Bird_lem',\n",
    "    'AoA_Bristol_lem',\n",
    "    'AoA_Cort_lem',\n",
    "    'AoA_Schock'\n",
    "]"
   ]
  },
  {
   "cell_type": "code",
   "execution_count": 17,
   "metadata": {
    "executionInfo": {
     "elapsed": 4,
     "status": "ok",
     "timestamp": 1675455118895,
     "user": {
      "displayName": "V A",
      "userId": "07747803009706112600"
     },
     "user_tz": -60
    },
    "id": "Cy7qOJ7Ip4vu"
   },
   "outputs": [],
   "source": [
    "calculation_list = ['sum', 'mean', 'max', 'min']"
   ]
  },
  {
   "cell_type": "markdown",
   "metadata": {
    "id": "ZmuHRt1huZPP"
   },
   "source": [
    "Removed first for-loop for \"aoa_feature_list\" to have more control over debugging and execution progress."
   ]
  },
  {
   "cell_type": "code",
   "execution_count": null,
   "metadata": {
    "colab": {
     "background_save": true,
     "base_uri": "https://localhost:8080/"
    },
    "id": "mr8AFuY8rVif"
   },
   "outputs": [
    {
     "name": "stdout",
     "output_type": "stream",
     "text": [
      "Calcualting stats for Freq_pm\n",
      "aoa_freq_pm_sum\n",
      "for df_wiki_train\n"
     ]
    },
    {
     "name": "stderr",
     "output_type": "stream",
     "text": [
      "100%|██████████| 416768/416768 [46:36<00:00, 149.03it/s]\n"
     ]
    },
    {
     "data": {
      "text/plain": [
       "404254    57722.98\n",
       "373459    75833.65\n",
       "Name: aoa_freq_pm_sum, dtype: float64"
      ]
     },
     "metadata": {},
     "output_type": "display_data"
    },
    {
     "name": "stdout",
     "output_type": "stream",
     "text": [
      "for df_wiki_test\n"
     ]
    },
    {
     "name": "stderr",
     "output_type": "stream",
     "text": [
      "100%|██████████| 119092/119092 [13:01<00:00, 152.33it/s]\n"
     ]
    },
    {
     "data": {
      "text/plain": [
       "5337     78892.27\n",
       "31246    34166.20\n",
       "Name: aoa_freq_pm_sum, dtype: float64"
      ]
     },
     "metadata": {},
     "output_type": "display_data"
    },
    {
     "name": "stdout",
     "output_type": "stream",
     "text": [
      "aoa_freq_pm_mean\n",
      "for df_wiki_train\n"
     ]
    },
    {
     "name": "stderr",
     "output_type": "stream",
     "text": [
      "100%|██████████| 416768/416768 [46:20<00:00, 149.91it/s]\n"
     ]
    },
    {
     "data": {
      "text/plain": [
       "187092    6983.83\n",
       "41770     3834.28\n",
       "Name: aoa_freq_pm_mean, dtype: float64"
      ]
     },
     "metadata": {},
     "output_type": "display_data"
    },
    {
     "name": "stdout",
     "output_type": "stream",
     "text": [
      "for df_wiki_test\n"
     ]
    },
    {
     "name": "stderr",
     "output_type": "stream",
     "text": [
      "100%|██████████| 119092/119092 [13:33<00:00, 146.43it/s]\n"
     ]
    },
    {
     "data": {
      "text/plain": [
       "92479    4869.24\n",
       "54381    5420.65\n",
       "Name: aoa_freq_pm_mean, dtype: float64"
      ]
     },
     "metadata": {},
     "output_type": "display_data"
    },
    {
     "name": "stdout",
     "output_type": "stream",
     "text": [
      "aoa_freq_pm_max\n",
      "for df_wiki_train\n"
     ]
    },
    {
     "name": "stderr",
     "output_type": "stream",
     "text": [
      "100%|██████████| 416768/416768 [46:02<00:00, 150.84it/s]\n"
     ]
    },
    {
     "data": {
      "text/plain": [
       "385500    29449.18\n",
       "101862    20415.27\n",
       "Name: aoa_freq_pm_max, dtype: float64"
      ]
     },
     "metadata": {},
     "output_type": "display_data"
    },
    {
     "name": "stdout",
     "output_type": "stream",
     "text": [
      "for df_wiki_test\n"
     ]
    },
    {
     "name": "stderr",
     "output_type": "stream",
     "text": [
      "100%|██████████| 119092/119092 [13:26<00:00, 147.63it/s]\n"
     ]
    },
    {
     "data": {
      "text/plain": [
       "33362    29449.18\n",
       "29305    20415.27\n",
       "Name: aoa_freq_pm_max, dtype: float64"
      ]
     },
     "metadata": {},
     "output_type": "display_data"
    },
    {
     "name": "stdout",
     "output_type": "stream",
     "text": [
      "aoa_freq_pm_min\n",
      "for df_wiki_train\n"
     ]
    },
    {
     "name": "stderr",
     "output_type": "stream",
     "text": [
      " 65%|██████▌   | 272438/416768 [31:10<15:24, 156.16it/s]"
     ]
    }
   ],
   "source": [
    "%%time\n",
    "# Colab Pro:\n",
    "\n",
    "aoa_feature = 'Freq_pm'\n",
    "print(\"Calcualting stats for\", aoa_feature)\n",
    "for calc in calculation_list:\n",
    "    column_name = (\"aoa_\"+aoa_feature+\"_\"+calc).lower()\n",
    "    print(column_name)\n",
    "    \n",
    "    print(\"for df_wiki_train\")        \n",
    "    df_wiki_train[column_name] = df_wiki_train['cleaned_text'].progress_apply(\n",
    "        lambda x: calculate_aoa_feature(x, aoa_feature, df_aoa, calc))\n",
    "\n",
    "    display(df_wiki_train[column_name].sample(2))\n",
    "\n",
    "    print(\"for df_wiki_test\")\n",
    "    df_wiki_test[column_name] = df_wiki_test['cleaned_text'].progress_apply(\n",
    "        lambda x: calculate_aoa_feature(x, aoa_feature, df_aoa, calc))\n",
    "    \n",
    "    display(df_wiki_test[column_name].sample(2))   "
   ]
  },
  {
   "cell_type": "code",
   "execution_count": null,
   "metadata": {
    "id": "sku68YJVvM10"
   },
   "outputs": [],
   "source": [
    "# Export AoA features\n",
    "column_name = (\"aoa_\"+aoa_feature+\"_\").lower()\n",
    "columns = df_wiki_train.columns.to_list()\n",
    "feature_columns = sorted([x for x in columns if x.startswith(column_name)])\n",
    "print(feature_columns)\n",
    "\n",
    "df_export = df_wiki_train[feature_columns]\n",
    "df_export.to_csv(PATH_DATA_INT+f\"train_features_{column_name}.csv\", index=False)\n",
    "\n",
    "df_export = df_wiki_test[feature_columns]\n",
    "df_export.to_csv(PATH_DATA_INT+f\"test_features_{column_name}.csv\", index=False)"
   ]
  },
  {
   "cell_type": "code",
   "execution_count": null,
   "metadata": {
    "id": "OLvGAfdaujtz"
   },
   "outputs": [],
   "source": [
    "%%time\n",
    "# Colab Pro:\n",
    "\n",
    "aoa_feature = 'Dom_PoS_SUBTLEX'\n",
    "print(\"Calcualting stats for\", aoa_feature)\n",
    "for calc in calculation_list:\n",
    "    column_name = (\"aoa_\"+aoa_feature+\"_\"+calc).lower()\n",
    "    print(column_name)\n",
    "    \n",
    "    print(\"for df_wiki_train\")        \n",
    "    df_wiki_train[column_name] = df_wiki_train['cleaned_text'].progress_apply(\n",
    "        lambda x: calculate_aoa_feature(x, aoa_feature, df_aoa, calc))\n",
    "\n",
    "    display(df_wiki_train[column_name].sample(2))\n",
    "\n",
    "    print(\"for df_wiki_test\")\n",
    "    df_wiki_test[column_name] = df_wiki_test['cleaned_text'].progress_apply(\n",
    "        lambda x: calculate_aoa_feature(x, aoa_feature, df_aoa, calc))\n",
    "    \n",
    "    display(df_wiki_test[column_name].sample(2))   "
   ]
  },
  {
   "cell_type": "code",
   "execution_count": null,
   "metadata": {
    "id": "5zvqVuWLv6MV"
   },
   "outputs": [],
   "source": [
    "# Export AoA features\n",
    "column_name = (\"aoa_\"+aoa_feature+\"_\").lower()\n",
    "columns = df_wiki_train.columns.to_list()\n",
    "feature_columns = sorted([x for x in columns if x.startswith(column_name)])\n",
    "print(feature_columns)\n",
    "\n",
    "df_export = df_wiki_train[feature_columns]\n",
    "df_export.to_csv(PATH_DATA_INT+f\"train_features_{column_name}.csv\", index=False)\n",
    "\n",
    "df_export = df_wiki_test[feature_columns]\n",
    "df_export.to_csv(PATH_DATA_INT+f\"test_features_{column_name}.csv\", index=False)"
   ]
  },
  {
   "cell_type": "code",
   "execution_count": null,
   "metadata": {
    "colab": {
     "background_save": true
    },
    "id": "_Vm_mIz_rd8q"
   },
   "outputs": [
    {
     "name": "stdout",
     "output_type": "stream",
     "text": [
      "Calcualting stats for AoA_Kup\n",
      "aoa_aoa_kup_sum\n",
      "for df_wiki_train\n"
     ]
    },
    {
     "name": "stderr",
     "output_type": "stream",
     "text": [
      "100%|██████████| 416768/416768 [47:30<00:00, 146.22it/s]\n"
     ]
    },
    {
     "data": {
      "text/plain": [
       "190780    57.02\n",
       "52903     54.66\n",
       "Name: aoa_aoa_kup_sum, dtype: float64"
      ]
     },
     "metadata": {},
     "output_type": "display_data"
    },
    {
     "name": "stdout",
     "output_type": "stream",
     "text": [
      "for df_wiki_test\n"
     ]
    },
    {
     "name": "stderr",
     "output_type": "stream",
     "text": [
      "100%|██████████| 119092/119092 [13:24<00:00, 148.10it/s]\n"
     ]
    },
    {
     "data": {
      "text/plain": [
       "79816    135.98\n",
       "80441     42.57\n",
       "Name: aoa_aoa_kup_sum, dtype: float64"
      ]
     },
     "metadata": {},
     "output_type": "display_data"
    },
    {
     "name": "stdout",
     "output_type": "stream",
     "text": [
      "aoa_aoa_kup_mean\n",
      "for df_wiki_train\n"
     ]
    },
    {
     "name": "stderr",
     "output_type": "stream",
     "text": [
      "100%|██████████| 416768/416768 [47:51<00:00, 145.16it/s]\n"
     ]
    },
    {
     "data": {
      "text/plain": [
       "224814    5.91\n",
       "386185    6.08\n",
       "Name: aoa_aoa_kup_mean, dtype: float64"
      ]
     },
     "metadata": {},
     "output_type": "display_data"
    },
    {
     "name": "stdout",
     "output_type": "stream",
     "text": [
      "for df_wiki_test\n"
     ]
    },
    {
     "name": "stderr",
     "output_type": "stream",
     "text": [
      "100%|██████████| 119092/119092 [14:09<00:00, 140.26it/s]\n"
     ]
    },
    {
     "data": {
      "text/plain": [
       "116062    8.03\n",
       "19727     5.91\n",
       "Name: aoa_aoa_kup_mean, dtype: float64"
      ]
     },
     "metadata": {},
     "output_type": "display_data"
    },
    {
     "name": "stdout",
     "output_type": "stream",
     "text": [
      "aoa_aoa_kup_max\n",
      "for df_wiki_train\n"
     ]
    },
    {
     "name": "stderr",
     "output_type": "stream",
     "text": [
      "100%|██████████| 416768/416768 [46:40<00:00, 148.84it/s]\n"
     ]
    },
    {
     "data": {
      "text/plain": [
       "107685    10.85\n",
       "143134    13.68\n",
       "Name: aoa_aoa_kup_max, dtype: float64"
      ]
     },
     "metadata": {},
     "output_type": "display_data"
    },
    {
     "name": "stdout",
     "output_type": "stream",
     "text": [
      "for df_wiki_test\n"
     ]
    },
    {
     "name": "stderr",
     "output_type": "stream",
     "text": [
      " 79%|███████▉  | 94489/119092 [10:39<03:09, 129.53it/s]"
     ]
    }
   ],
   "source": [
    "%%time\n",
    "# Colab Pro:\n",
    "\n",
    "aoa_feature = 'AoA_Kup'\n",
    "print(\"Calcualting stats for\", aoa_feature)\n",
    "for calc in calculation_list:\n",
    "    column_name = (\"aoa_\"+aoa_feature+\"_\"+calc).lower()\n",
    "    print(column_name)\n",
    "    \n",
    "    print(\"for df_wiki_train\")        \n",
    "    df_wiki_train[column_name] = df_wiki_train['cleaned_text'].progress_apply(\n",
    "        lambda x: calculate_aoa_feature(x, aoa_feature, df_aoa, calc))\n",
    "\n",
    "    display(df_wiki_train[column_name].sample(2))\n",
    "\n",
    "    print(\"for df_wiki_test\")\n",
    "    df_wiki_test[column_name] = df_wiki_test['cleaned_text'].progress_apply(\n",
    "        lambda x: calculate_aoa_feature(x, aoa_feature, df_aoa, calc))\n",
    "    \n",
    "    display(df_wiki_test[column_name].sample(2))   "
   ]
  },
  {
   "cell_type": "code",
   "execution_count": null,
   "metadata": {
    "id": "bg5vTOFFv77x"
   },
   "outputs": [],
   "source": [
    "# Export AoA features\n",
    "column_name = (\"aoa_\"+aoa_feature+\"_\").lower()\n",
    "columns = df_wiki_train.columns.to_list()\n",
    "feature_columns = sorted([x for x in columns if x.startswith(column_name)])\n",
    "print(feature_columns)\n",
    "\n",
    "df_export = df_wiki_train[feature_columns]\n",
    "df_export.to_csv(PATH_DATA_INT+f\"train_features_{column_name}.csv\", index=False)\n",
    "\n",
    "df_export = df_wiki_test[feature_columns]\n",
    "df_export.to_csv(PATH_DATA_INT+f\"test_features_{column_name}.csv\", index=False)"
   ]
  },
  {
   "cell_type": "code",
   "execution_count": null,
   "metadata": {
    "id": "_HwfzVZMt3rW"
   },
   "outputs": [],
   "source": [
    "%%time\n",
    "# Colab Pro:\n",
    "\n",
    "aoa_feature = 'Perc_known'\n",
    "print(\"Calcualting stats for\", aoa_feature)\n",
    "for calc in calculation_list:\n",
    "    column_name = (\"aoa_\"+aoa_feature+\"_\"+calc).lower()\n",
    "    print(column_name)\n",
    "    \n",
    "    print(\"for df_wiki_train\")        \n",
    "    df_wiki_train[column_name] = df_wiki_train['cleaned_text'].progress_apply(\n",
    "        lambda x: calculate_aoa_feature(x, aoa_feature, df_aoa, calc))\n",
    "\n",
    "    display(df_wiki_train[column_name].sample(2))\n",
    "\n",
    "    print(\"for df_wiki_test\")\n",
    "    df_wiki_test[column_name] = df_wiki_test['cleaned_text'].progress_apply(\n",
    "        lambda x: calculate_aoa_feature(x, aoa_feature, df_aoa, calc))\n",
    "    \n",
    "    display(df_wiki_test[column_name].sample(2))   "
   ]
  },
  {
   "cell_type": "code",
   "execution_count": null,
   "metadata": {
    "id": "JEqlIWCrv8e8"
   },
   "outputs": [],
   "source": [
    "# Export AoA features\n",
    "column_name = (\"aoa_\"+aoa_feature+\"_\").lower()\n",
    "columns = df_wiki_train.columns.to_list()\n",
    "feature_columns = sorted([x for x in columns if x.startswith(column_name)])\n",
    "print(feature_columns)\n",
    "\n",
    "df_export = df_wiki_train[feature_columns]\n",
    "df_export.to_csv(PATH_DATA_INT+f\"train_features_{column_name}.csv\", index=False)\n",
    "\n",
    "df_export = df_wiki_test[feature_columns]\n",
    "df_export.to_csv(PATH_DATA_INT+f\"test_features_{column_name}.csv\", index=False)"
   ]
  },
  {
   "cell_type": "code",
   "execution_count": null,
   "metadata": {
    "id": "CHXb2dijt3oL"
   },
   "outputs": [],
   "source": [
    "%%time\n",
    "# Colab Pro:\n",
    "\n",
    "aoa_feature = 'AoA_Kup_lem'\n",
    "print(\"Calcualting stats for\", aoa_feature)\n",
    "for calc in calculation_list:\n",
    "    column_name = (\"aoa_\"+aoa_feature+\"_\"+calc).lower()\n",
    "    print(column_name)\n",
    "    \n",
    "    print(\"for df_wiki_train\")        \n",
    "    df_wiki_train[column_name] = df_wiki_train['cleaned_text'].progress_apply(\n",
    "        lambda x: calculate_aoa_feature(x, aoa_feature, df_aoa, calc))\n",
    "\n",
    "    display(df_wiki_train[column_name].sample(2))\n",
    "\n",
    "    print(\"for df_wiki_test\")\n",
    "    df_wiki_test[column_name] = df_wiki_test['cleaned_text'].progress_apply(\n",
    "        lambda x: calculate_aoa_feature(x, aoa_feature, df_aoa, calc))\n",
    "    \n",
    "    display(df_wiki_test[column_name].sample(2))   "
   ]
  },
  {
   "cell_type": "code",
   "execution_count": null,
   "metadata": {
    "id": "zJ-ihZfmv89t"
   },
   "outputs": [],
   "source": [
    "# Export AoA features\n",
    "column_name = (\"aoa_\"+aoa_feature+\"_\").lower()\n",
    "columns = df_wiki_train.columns.to_list()\n",
    "feature_columns = sorted([x for x in columns if x.startswith(column_name)])\n",
    "print(feature_columns)\n",
    "\n",
    "df_export = df_wiki_train[feature_columns]\n",
    "df_export.to_csv(PATH_DATA_INT+f\"train_features_{column_name}.csv\", index=False)\n",
    "\n",
    "df_export = df_wiki_test[feature_columns]\n",
    "df_export.to_csv(PATH_DATA_INT+f\"test_features_{column_name}.csv\", index=False)"
   ]
  },
  {
   "cell_type": "code",
   "execution_count": null,
   "metadata": {
    "id": "9hGvUbPEt3jo"
   },
   "outputs": [],
   "source": [
    "%%time\n",
    "# Colab Pro:\n",
    "\n",
    "aoa_feature = 'Perc_known_lem'\n",
    "print(\"Calcualting stats for\", aoa_feature)\n",
    "for calc in calculation_list:\n",
    "    column_name = (\"aoa_\"+aoa_feature+\"_\"+calc).lower()\n",
    "    print(column_name)\n",
    "    \n",
    "    print(\"for df_wiki_train\")        \n",
    "    df_wiki_train[column_name] = df_wiki_train['cleaned_text'].progress_apply(\n",
    "        lambda x: calculate_aoa_feature(x, aoa_feature, df_aoa, calc))\n",
    "\n",
    "    display(df_wiki_train[column_name].sample(2))\n",
    "\n",
    "    print(\"for df_wiki_test\")\n",
    "    df_wiki_test[column_name] = df_wiki_test['cleaned_text'].progress_apply(\n",
    "        lambda x: calculate_aoa_feature(x, aoa_feature, df_aoa, calc))\n",
    "    \n",
    "    display(df_wiki_test[column_name].sample(2))   "
   ]
  },
  {
   "cell_type": "code",
   "execution_count": null,
   "metadata": {
    "id": "nD7TxOn6v9b7"
   },
   "outputs": [],
   "source": [
    "# Export AoA features\n",
    "column_name = (\"aoa_\"+aoa_feature+\"_\").lower()\n",
    "columns = df_wiki_train.columns.to_list()\n",
    "feature_columns = sorted([x for x in columns if x.startswith(column_name)])\n",
    "print(feature_columns)\n",
    "\n",
    "df_export = df_wiki_train[feature_columns]\n",
    "df_export.to_csv(PATH_DATA_INT+f\"train_features_{column_name}.csv\", index=False)\n",
    "\n",
    "df_export = df_wiki_test[feature_columns]\n",
    "df_export.to_csv(PATH_DATA_INT+f\"test_features_{column_name}.csv\", index=False)"
   ]
  },
  {
   "cell_type": "code",
   "execution_count": null,
   "metadata": {
    "id": "qmJpdRixt3cE"
   },
   "outputs": [],
   "source": [
    "%%time\n",
    "# Colab Pro:\n",
    "\n",
    "aoa_feature = 'AoA_Bird_lem'\n",
    "print(\"Calcualting stats for\", aoa_feature)\n",
    "for calc in calculation_list:\n",
    "    column_name = (\"aoa_\"+aoa_feature+\"_\"+calc).lower()\n",
    "    print(column_name)\n",
    "    \n",
    "    print(\"for df_wiki_train\")        \n",
    "    df_wiki_train[column_name] = df_wiki_train['cleaned_text'].progress_apply(\n",
    "        lambda x: calculate_aoa_feature(x, aoa_feature, df_aoa, calc))\n",
    "\n",
    "    display(df_wiki_train[column_name].sample(2))\n",
    "\n",
    "    print(\"for df_wiki_test\")\n",
    "    df_wiki_test[column_name] = df_wiki_test['cleaned_text'].progress_apply(\n",
    "        lambda x: calculate_aoa_feature(x, aoa_feature, df_aoa, calc))\n",
    "    \n",
    "    display(df_wiki_test[column_name].sample(2))   "
   ]
  },
  {
   "cell_type": "code",
   "execution_count": null,
   "metadata": {
    "id": "6V--Avyqv9-Z"
   },
   "outputs": [],
   "source": [
    "# Export AoA features\n",
    "column_name = (\"aoa_\"+aoa_feature+\"_\").lower()\n",
    "columns = df_wiki_train.columns.to_list()\n",
    "feature_columns = sorted([x for x in columns if x.startswith(column_name)])\n",
    "print(feature_columns)\n",
    "\n",
    "df_export = df_wiki_train[feature_columns]\n",
    "df_export.to_csv(PATH_DATA_INT+f\"train_features_{column_name}.csv\", index=False)\n",
    "\n",
    "df_export = df_wiki_test[feature_columns]\n",
    "df_export.to_csv(PATH_DATA_INT+f\"test_features_{column_name}.csv\", index=False)"
   ]
  },
  {
   "cell_type": "code",
   "execution_count": null,
   "metadata": {
    "id": "CnpD9dHVuJoQ"
   },
   "outputs": [],
   "source": [
    "%%time\n",
    "# Colab Pro:\n",
    "\n",
    "aoa_feature = 'AoA_Bristol_lem'\n",
    "print(\"Calcualting stats for\", aoa_feature)\n",
    "for calc in calculation_list:\n",
    "    column_name = (\"aoa_\"+aoa_feature+\"_\"+calc).lower()\n",
    "    print(column_name)\n",
    "    \n",
    "    print(\"for df_wiki_train\")        \n",
    "    df_wiki_train[column_name] = df_wiki_train['cleaned_text'].progress_apply(\n",
    "        lambda x: calculate_aoa_feature(x, aoa_feature, df_aoa, calc))\n",
    "\n",
    "    display(df_wiki_train[column_name].sample(2))\n",
    "\n",
    "    print(\"for df_wiki_test\")\n",
    "    df_wiki_test[column_name] = df_wiki_test['cleaned_text'].progress_apply(\n",
    "        lambda x: calculate_aoa_feature(x, aoa_feature, df_aoa, calc))\n",
    "    \n",
    "    display(df_wiki_test[column_name].sample(2)) "
   ]
  },
  {
   "cell_type": "code",
   "execution_count": null,
   "metadata": {
    "id": "Yr_cPTb2v-j0"
   },
   "outputs": [],
   "source": [
    "# Export AoA features\n",
    "column_name = (\"aoa_\"+aoa_feature+\"_\").lower()\n",
    "columns = df_wiki_train.columns.to_list()\n",
    "feature_columns = sorted([x for x in columns if x.startswith(column_name)])\n",
    "print(feature_columns)\n",
    "\n",
    "df_export = df_wiki_train[feature_columns]\n",
    "df_export.to_csv(PATH_DATA_INT+f\"train_features_{column_name}.csv\", index=False)\n",
    "\n",
    "df_export = df_wiki_test[feature_columns]\n",
    "df_export.to_csv(PATH_DATA_INT+f\"test_features_{column_name}.csv\", index=False)"
   ]
  },
  {
   "cell_type": "code",
   "execution_count": null,
   "metadata": {
    "id": "RQI4gOFZuJlU"
   },
   "outputs": [],
   "source": [
    "%%time\n",
    "# Colab Pro:\n",
    "\n",
    "aoa_feature = 'AoA_Cort_lem'\n",
    "print(\"Calcualting stats for\", aoa_feature)\n",
    "for calc in calculation_list:\n",
    "    column_name = (\"aoa_\"+aoa_feature+\"_\"+calc).lower()\n",
    "    print(column_name)\n",
    "    \n",
    "    print(\"for df_wiki_train\")        \n",
    "    df_wiki_train[column_name] = df_wiki_train['cleaned_text'].progress_apply(\n",
    "        lambda x: calculate_aoa_feature(x, aoa_feature, df_aoa, calc))\n",
    "\n",
    "    display(df_wiki_train[column_name].sample(2))\n",
    "\n",
    "    print(\"for df_wiki_test\")\n",
    "    df_wiki_test[column_name] = df_wiki_test['cleaned_text'].progress_apply(\n",
    "        lambda x: calculate_aoa_feature(x, aoa_feature, df_aoa, calc))\n",
    "    \n",
    "    display(df_wiki_test[column_name].sample(2)) "
   ]
  },
  {
   "cell_type": "code",
   "execution_count": null,
   "metadata": {
    "id": "tgxV8_Gpv_EL"
   },
   "outputs": [],
   "source": [
    "# Export AoA features\n",
    "column_name = (\"aoa_\"+aoa_feature+\"_\").lower()\n",
    "columns = df_wiki_train.columns.to_list()\n",
    "feature_columns = sorted([x for x in columns if x.startswith(column_name)])\n",
    "print(feature_columns)\n",
    "\n",
    "df_export = df_wiki_train[feature_columns]\n",
    "df_export.to_csv(PATH_DATA_INT+f\"train_features_{column_name}.csv\", index=False)\n",
    "\n",
    "df_export = df_wiki_test[feature_columns]\n",
    "df_export.to_csv(PATH_DATA_INT+f\"test_features_{column_name}.csv\", index=False)"
   ]
  },
  {
   "cell_type": "code",
   "execution_count": null,
   "metadata": {
    "id": "FIfx6lJ5uJiH"
   },
   "outputs": [],
   "source": [
    "%%time\n",
    "# Colab Pro:\n",
    "\n",
    "aoa_feature = 'AoA_Schock'\n",
    "print(\"Calcualting stats for\", aoa_feature)\n",
    "for calc in calculation_list:\n",
    "    column_name = (\"aoa_\"+aoa_feature+\"_\"+calc).lower()\n",
    "    print(column_name)\n",
    "    \n",
    "    print(\"for df_wiki_train\")        \n",
    "    df_wiki_train[column_name] = df_wiki_train['cleaned_text'].progress_apply(\n",
    "        lambda x: calculate_aoa_feature(x, aoa_feature, df_aoa, calc))\n",
    "\n",
    "    display(df_wiki_train[column_name].sample(2))\n",
    "\n",
    "    print(\"for df_wiki_test\")\n",
    "    df_wiki_test[column_name] = df_wiki_test['cleaned_text'].progress_apply(\n",
    "        lambda x: calculate_aoa_feature(x, aoa_feature, df_aoa, calc))\n",
    "    \n",
    "    display(df_wiki_test[column_name].sample(2)) "
   ]
  },
  {
   "cell_type": "code",
   "execution_count": null,
   "metadata": {
    "id": "0xLrwkcgv_mH"
   },
   "outputs": [],
   "source": [
    "# Export AoA features\n",
    "column_name = (\"aoa_\"+aoa_feature+\"_\").lower()\n",
    "columns = df_wiki_train.columns.to_list()\n",
    "feature_columns = sorted([x for x in columns if x.startswith(column_name)])\n",
    "print(feature_columns)\n",
    "\n",
    "df_export = df_wiki_train[feature_columns]\n",
    "df_export.to_csv(PATH_DATA_INT+f\"train_features_{column_name}.csv\", index=False)\n",
    "\n",
    "df_export = df_wiki_test[feature_columns]\n",
    "df_export.to_csv(PATH_DATA_INT+f\"test_features_{column_name}.csv\", index=False)"
   ]
  },
  {
   "cell_type": "code",
   "execution_count": null,
   "metadata": {
    "id": "sP95y5g4p4vu"
   },
   "outputs": [],
   "source": [
    "df_wiki_train.sample(1).T"
   ]
  },
  {
   "cell_type": "code",
   "execution_count": null,
   "metadata": {
    "id": "h5X1jv1tp4vv"
   },
   "outputs": [],
   "source": [
    "df_wiki_train.sample(1).T"
   ]
  },
  {
   "attachments": {},
   "cell_type": "markdown",
   "metadata": {
    "id": "xjBxesfBr_iG"
   },
   "source": [
    "# Export"
   ]
  },
  {
   "cell_type": "code",
   "execution_count": null,
   "metadata": {
    "id": "OCWa_Apqri58"
   },
   "outputs": [],
   "source": [
    "columns = df_wiki_train.columns.to_list()\n",
    "feature_columns = sorted([x for x in columns if x.startswith(\"aoa_\")])\n",
    "\n",
    "print(len(feature_columns))\n",
    "print(feature_columns)"
   ]
  },
  {
   "cell_type": "code",
   "execution_count": null,
   "metadata": {
    "id": "oPOST4pop4vv"
   },
   "outputs": [],
   "source": [
    "# Export AoA features\n",
    "df_export = df_wiki_train[feature_columns]\n",
    "df_export.to_csv(PATH_DATA_INT+\"train_features_aoa.csv\", index=False)\n",
    "\n",
    "df_export = df_wiki_test[feature_columns]\n",
    "df_export.to_csv(PATH_DATA_INT+\"test_features_aoa.csv\", index=False)"
   ]
  },
  {
   "attachments": {},
   "cell_type": "markdown",
   "metadata": {
    "id": "ti9wgudgBzw9"
   },
   "source": [
    "# Watermark"
   ]
  },
  {
   "cell_type": "code",
   "execution_count": null,
   "metadata": {
    "id": "f7PuaC1JBzw-"
   },
   "outputs": [],
   "source": [
    "%watermark"
   ]
  },
  {
   "cell_type": "code",
   "execution_count": null,
   "metadata": {
    "id": "SU12PVZ2BzxA"
   },
   "outputs": [],
   "source": [
    "%watermark --iversions"
   ]
  },
  {
   "cell_type": "code",
   "execution_count": null,
   "metadata": {
    "id": "yPYlpYuHp4vw"
   },
   "outputs": [],
   "source": [
    "t_end = time.time()\n",
    "total_runtime = t_end-t_start\n",
    "total_runtime_min = round((total_runtime/60),2)\n",
    "print(str(total_runtime_min)+\" minutes\")"
   ]
  },
  {
   "cell_type": "code",
   "execution_count": null,
   "metadata": {
    "id": "xYiveSNbp4vw"
   },
   "outputs": [],
   "source": [
    "send_push(f\"Calculate AoA features finished in: {total_runtime_min}\")"
   ]
  }
 ],
 "metadata": {
  "colab": {
   "collapsed_sections": [
    "Fkm1Nh1PjkGk",
    "FSazCCmDbqKg"
   ],
   "name": "",
   "toc_visible": true,
   "version": ""
  },
  "deepnote": {},
  "deepnote_execution_queue": [],
  "deepnote_notebook_id": "946229b10e114987a52132227b87775b",
  "deepnote_persisted_session": {
   "createdAt": "2023-01-25T16:45:43.444Z"
  },
  "gpuClass": "standard",
  "kernelspec": {
   "display_name": "Python 3",
   "language": "python",
   "name": "python3"
  },
  "language_info": {
   "codemirror_mode": {
    "name": "ipython",
    "version": 3
   },
   "file_extension": ".py",
   "mimetype": "text/x-python",
   "name": "python",
   "nbconvert_exporter": "python",
   "pygments_lexer": "ipython3",
   "version": "3.9.6"
  },
  "vscode": {
   "interpreter": {
    "hash": "31f2aee4e71d21fbe5cf8b01ff0e069b9275f58929596ceb00d14d90e3e16cd6"
   }
  }
 },
 "nbformat": 4,
 "nbformat_minor": 0
}
