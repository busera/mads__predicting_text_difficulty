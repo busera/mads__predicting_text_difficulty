{
 "cells": [
  {
   "attachments": {},
   "cell_type": "markdown",
   "metadata": {},
   "source": [
    "v1.0"
   ]
  },
  {
   "attachments": {},
   "cell_type": "markdown",
   "metadata": {},
   "source": [
    "The objective of this notebook is to:\n",
    "- calculate and plot the **learning curve**"
   ]
  },
  {
   "attachments": {},
   "cell_type": "markdown",
   "metadata": {},
   "source": [
    "# Pre-checks"
   ]
  },
  {
   "cell_type": "code",
   "execution_count": 1,
   "metadata": {
    "id": "WYr9Yqm_R0l7",
    "outputId": "140b5e6d-25b2-442b-fcf7-9ad7b542248c"
   },
   "outputs": [
    {
     "name": "stdout",
     "output_type": "stream",
     "text": [
      "Not a Goolge Drive Environment.\n"
     ]
    }
   ],
   "source": [
    "## Check for Google Drive Connectivity\n",
    "try:\n",
    "    from google.colab import drive\n",
    "    drive.mount('/content/drive')\n",
    "    google_env = True\n",
    "except:\n",
    "    print(\"Not a Goolge Drive Environment.\")\n",
    "    google_env = False"
   ]
  },
  {
   "cell_type": "code",
   "execution_count": 2,
   "metadata": {
    "id": "T_FulwOgR0l8"
   },
   "outputs": [],
   "source": [
    "import time\n",
    "t_start = time.time()"
   ]
  },
  {
   "cell_type": "code",
   "execution_count": 3,
   "metadata": {
    "id": "RxZajmxMR0l9",
    "outputId": "4c3865f2-f919-4810-8721-9cf23dca833a"
   },
   "outputs": [
    {
     "name": "stdout",
     "output_type": "stream",
     "text": [
      "========================================================================================================================\n",
      "Fastrun enabled: False\n",
      "========================================================================================================================\n"
     ]
    }
   ],
   "source": [
    "# Use parameters to enable/disable the fastrun\n",
    "\n",
    "FASTRUN = False\n",
    "#FASTRUN = True\n",
    "\n",
    "# Size of the fastrun dataframe\n",
    "sample_fraction = 0.1\n",
    "print(\"===\"*40)\n",
    "print(\"Fastrun enabled:\", FASTRUN)\n",
    "if FASTRUN: print(\"Sample size:\",sample_fraction)\n",
    "print(\"===\"*40)\n"
   ]
  },
  {
   "cell_type": "markdown",
   "metadata": {
    "id": "uZms1pauBzw0"
   },
   "source": [
    "# Setup Environment"
   ]
  },
  {
   "cell_type": "markdown",
   "metadata": {
    "id": "FSazCCmDbqKg"
   },
   "source": [
    "## Install Modules"
   ]
  },
  {
   "cell_type": "code",
   "execution_count": 4,
   "metadata": {
    "id": "1Vo8zBrWbqKg"
   },
   "outputs": [],
   "source": [
    "#!pip install icecream\n",
    "#!pip install watermark\n",
    "#!pip install fastparquet"
   ]
  },
  {
   "cell_type": "markdown",
   "metadata": {
    "id": "hHwYAoFSBzw1"
   },
   "source": [
    "## Import Modules"
   ]
  },
  {
   "cell_type": "code",
   "execution_count": 5,
   "metadata": {
    "id": "nbk1jSYhBzw2"
   },
   "outputs": [],
   "source": [
    "# Base libraries\n",
    "import os\n",
    "from datetime import date\n",
    "\n",
    "# Scientific libraries\n",
    "import numpy as np\n",
    "import pandas as pd\n",
    "\n",
    "# Visualization\n",
    "import seaborn as sns\n",
    "import matplotlib.pyplot as plt\n",
    "plt.rcParams[\"figure.figsize\"] = (12,8)\n",
    "\n",
    "sns.set(rc={'figure.figsize':(12,8)})\n",
    "sns.set(font_scale=0.8)\n",
    "\n",
    "# Helper libraries\n",
    "from watermark import watermark\n",
    "from icecream import ic\n",
    "import gc # garbage collection to optimize memory usage: use \"gc.collect()\"\n",
    "import warnings\n",
    "warnings.filterwarnings('ignore')\n",
    "\n",
    "# Pandas options\n",
    "pd.set_option('display.max_rows', None)\n",
    "pd.set_option('display.max_columns', None)\n",
    "pd.set_option('display.width', None)\n",
    "pd.set_option('display.max_colwidth', None)\n",
    "\n",
    "from IPython.core.interactiveshell import InteractiveShell\n",
    "InteractiveShell.ast_node_interactivity = 'all'\n",
    "\n",
    "# Load magic commands\n",
    "%load_ext watermark"
   ]
  },
  {
   "attachments": {},
   "cell_type": "markdown",
   "metadata": {
    "id": "C46IJ3IeBzw5"
   },
   "source": [
    "## Global Parameters"
   ]
  },
  {
   "cell_type": "code",
   "execution_count": 6,
   "metadata": {
    "id": "rVPFKtMUBzw6"
   },
   "outputs": [],
   "source": [
    "seed = 42\n",
    "cpu_count = os.cpu_count()\n",
    "cpu_count = cpu_count-2  # to keep machine responsive when fitting the models\n",
    "notebook_no = \"07.01\""
   ]
  },
  {
   "attachments": {},
   "cell_type": "markdown",
   "metadata": {
    "id": "SdUPJZbDR0mA"
   },
   "source": [
    "## Global Helper Functions"
   ]
  },
  {
   "cell_type": "code",
   "execution_count": 7,
   "metadata": {
    "id": "EdpbueLMR0mA"
   },
   "outputs": [],
   "source": [
    "import http.client\n",
    "import urllib\n",
    "\n",
    "\n",
    "def send_push(message):\n",
    "    \"\"\"Send push notifications to pushover service.\"\"\"\n",
    "    try:\n",
    "        conn = http.client.HTTPSConnection(\"api.pushover.net:443\")\n",
    "        conn.request(\"POST\", \"/1/messages.json\",\n",
    "                     urllib.parse.urlencode({\n",
    "                         \"token\": \"ahs1q4mwpnxe3645zeaqzas69whq7a\",  # ML Notifications Channel\n",
    "                         \"user\": \"u5vr1qkc9ghudg2ehuug153okeiz1d\",\n",
    "                         \"message\": message,\n",
    "                     }), {\"Content-type\": \"application/x-www-form-urlencoded\"})\n",
    "\n",
    "        conn.getresponse()\n",
    "\n",
    "    except:\n",
    "        print(\"There was a communication issue (pushover).\")\n"
   ]
  },
  {
   "cell_type": "code",
   "execution_count": 8,
   "metadata": {
    "id": "fYeTVfQeR0mA"
   },
   "outputs": [],
   "source": [
    "def fast_run_sampling(df, sample_fraction):\n",
    "    \"\"\"Return a fraction of the dataset.\"\"\"\n",
    "    print(\"Labels before sampling:\\n\", df['label'].value_counts())\n",
    "    df = df.groupby('label').sample(frac=sample_fraction, random_state=seed) \n",
    "    #df = df.sample(n=sample_size, random_state=seed).reset_index(drop=True)\n",
    "    print(\"Labels after sampling:\\n\", df['label'].value_counts())\n",
    "    return df\n",
    "    "
   ]
  },
  {
   "cell_type": "code",
   "execution_count": 9,
   "metadata": {},
   "outputs": [],
   "source": [
    "def calculate_duration(t_start, t_end):\n",
    "    \"\"\"Return run time in minutes.\"\"\"\n",
    "    total_runtime = t_end-t_start\n",
    "    total_runtime_min = round((total_runtime/60), 2)\n",
    "    print(str(total_runtime_min)+\" minutes\")\n",
    "\n",
    "    return total_runtime_min\n"
   ]
  },
  {
   "cell_type": "markdown",
   "metadata": {
    "id": "6YBbHzbqBzw8"
   },
   "source": [
    "# 3.0 Load Data"
   ]
  },
  {
   "cell_type": "code",
   "execution_count": 10,
   "metadata": {
    "id": "QUyCYBdWdeWq",
    "outputId": "a05ad7b5-365e-4110-d00f-ab95996998b9"
   },
   "outputs": [
    {
     "name": "stdout",
     "output_type": "stream",
     "text": [
      "Not a Google Drive Environment. Loading local files.\n"
     ]
    }
   ],
   "source": [
    "# Load Data\n",
    "if google_env:\n",
    "    # Location for \"shared with\" people\n",
    "    # create a shortcut of the shared folder in your Google Drive root folder\n",
    "    ROOT_PATH = \"/content/drive/MyDrive/SIADS696/Environment/\"\n",
    "else:\n",
    "    ROOT_PATH = \"../\"\n",
    "    print(\"Not a Google Drive Environment. Loading local files.\")\n",
    "\n",
    "PATH_DATA = \"data/\"\n",
    "PATH_DATA_RAW = \"data/raw/\"\n",
    "PATH_DATA_INT = \"data/interim/\"\n",
    "PATH_DATA_PRO = \"data/processed/\"\n",
    "PATH_DATA_MOD = \"models/\"\n",
    "PATH_DATA_REP = \"reports/\"\n",
    "PATH_DATA_FIG = \"reports/figures/\"\n",
    "PATH_DATA_HTML = \"reports/html/\"\n",
    "\n",
    "# Dictionary to store file names and their corresponding dataframes\n",
    "files = {\n",
    "    \"train_features_clean_stats.parquet.gzip\": \"df_wiki_train_stats\",\n",
    "    \"test_features_clean_stats.parquet.gzip\": \"df_wiki_test_stats\",\n",
    "    \"train_features_rs.parquet.gzip\": \"df_wiki_train_rs\",\n",
    "    \"test_features_rs.parquet.gzip\": \"df_wiki_test_rs\",\n",
    "    \"train_features_nltk.parquet.gzip\": \"df_wiki_train_nltk\",\n",
    "    \"test_features_nltk.parquet.gzip\": \"df_wiki_test_nltk\",\n",
    "    \"train_features_aoa.parquet.gzip\": \"df_wiki_train_aoa\",\n",
    "    \"test_features_aoa.parquet.gzip\": \"df_wiki_test_aoa\",\n",
    "    \"train_features_crb.parquet.gzip\": \"df_wiki_train_crb\",\n",
    "    \"test_features_crb.parquet.gzip\": \"df_wiki_test_crb\",\n",
    "    \"train_features_w2v.parquet.gzip\": \"df_wiki_train_w2v\",\n",
    "    \"test_features_w2v.parquet.gzip\": \"df_wiki_test_w2v\",\n",
    "   # \"train_mNB_predict.parquet.gzip\": \"df_wiki_train_MNB\",  # data leakage risk\n",
    "   # \"test_mNB_predict.parquet.gzip\": \"df_wiki_test_MNB\",    # data leakage risk\n",
    "}\n",
    "\n",
    "# Load data into corresponding dataframes\n",
    "for file, df_name in files.items():\n",
    "    if df_name not in globals():\n",
    "        globals()[df_name] = pd.read_parquet(ROOT_PATH + PATH_DATA_INT + file)\n"
   ]
  },
  {
   "cell_type": "code",
   "execution_count": 11,
   "metadata": {
    "id": "rlyIC3wER0mC",
    "outputId": "3db7f66c-6a63-4258-9a17-c4997d4df92e"
   },
   "outputs": [],
   "source": [
    "# Combine dataframes into one\n",
    "df_train = pd.DataFrame()\n",
    "df_train = pd.concat([df_train, df_wiki_train_stats], axis=1)\n",
    "df_train = pd.concat([df_train, df_wiki_train_rs], axis=1)\n",
    "df_train = pd.concat([df_train, df_wiki_train_nltk], axis=1)\n",
    "df_train = pd.concat([df_train, df_wiki_train_aoa], axis=1)\n",
    "df_train = pd.concat([df_train, df_wiki_train_crb], axis=1)\n",
    "df_train = pd.concat([df_train, df_wiki_train_w2v], axis=1)\n",
    "\n",
    "if FASTRUN:\n",
    "    df_train = fast_run_sampling(df_train, sample_fraction)\n"
   ]
  },
  {
   "cell_type": "code",
   "execution_count": 12,
   "metadata": {
    "id": "Z4lZLG9IR0mC",
    "outputId": "ac96f14b-c261-4707-a600-8b8cef3919e9"
   },
   "outputs": [
    {
     "data": {
      "text/plain": [
       "(416768, 155)"
      ]
     },
     "execution_count": 12,
     "metadata": {},
     "output_type": "execute_result"
    }
   ],
   "source": [
    "df_train.shape"
   ]
  },
  {
   "cell_type": "code",
   "execution_count": 13,
   "metadata": {},
   "outputs": [
    {
     "name": "stderr",
     "output_type": "stream",
     "text": [
      "ic| len(rfecv_selected_feature): 125\n"
     ]
    }
   ],
   "source": [
    "df_rfecv_selected_feature = pd.read_csv(ROOT_PATH+PATH_DATA_INT+\"RFECV10-RF-selected_features-table_04.02.csv\")\n",
    "rfecv_selected_feature = sorted(df_rfecv_selected_feature['Selected Features'].to_list())\n",
    "ic(len(rfecv_selected_feature));\n"
   ]
  },
  {
   "attachments": {},
   "cell_type": "markdown",
   "metadata": {
    "id": "e2HJrw_6R0mE"
   },
   "source": [
    "# Calculate Learning Curve"
   ]
  },
  {
   "cell_type": "code",
   "execution_count": 14,
   "metadata": {},
   "outputs": [],
   "source": [
    "from sklearn.ensemble import RandomForestClassifier\n",
    "from sklearn.model_selection import learning_curve, StratifiedKFold\n",
    "from sklearn.model_selection import cross_val_score\n",
    "from sklearn.preprocessing import MinMaxScaler\n",
    "from sklearn.pipeline import Pipeline\n"
   ]
  },
  {
   "cell_type": "code",
   "execution_count": 15,
   "metadata": {},
   "outputs": [],
   "source": [
    "# load dataset\n",
    "def load_dataset(df, n_samples, rfecv_selected_feature):\n",
    "    ic(n_samples);\n",
    "    n_samples = int(n_samples/2)\n",
    "    df_split = df.groupby('label').sample(n=n_samples, random_state=seed) \n",
    "\n",
    "    X_columns = df_split.columns.to_list()\n",
    "    X_columns = list(set(X_columns) -\n",
    "                        {\"label\", \"original_text\", \"cleaned_text\", \"stats_language_code\"})\n",
    "\n",
    "    X = df_split[rfecv_selected_feature].copy()\n",
    "    y = df_split[\"label\"]\n",
    "\n",
    "    ic(X.shape);\n",
    "    ic(y.shape);\n",
    "\n",
    "    return X, y"
   ]
  },
  {
   "cell_type": "code",
   "execution_count": 16,
   "metadata": {},
   "outputs": [],
   "source": [
    "# evaluate a model\n",
    "def evaluate_model(X, y, k):\n",
    "    start_time_eval = time.time()\n",
    "    # define model evaluation procedure\n",
    "    skfold = StratifiedKFold(n_splits=k)\n",
    "    scaler = MinMaxScaler((0, 1))\n",
    "    rf = RandomForestClassifier(random_state=42, n_jobs=-1)\n",
    "\n",
    "    # define pipeline\n",
    "    pipeline = Pipeline([('scaler', scaler), ('estimator', rf)])\n",
    "    \n",
    "    # evaluate model\n",
    "    scores = cross_val_score(pipeline, X, y, scoring='accuracy', cv=skfold, n_jobs=-1)\n",
    "    \n",
    "    end_time_eval = time.time()\n",
    "    calculate_duration(start_time_eval, end_time_eval)\n",
    "\n",
    "    # return summary stats\n",
    "    return [scores.mean(), scores.std()]\n",
    " "
   ]
  },
  {
   "cell_type": "code",
   "execution_count": 17,
   "metadata": {},
   "outputs": [
    {
     "name": "stderr",
     "output_type": "stream",
     "text": [
      "ic| sizes: [42000, 83000, 125000, 167000, 208000, 250000, 292000, 333000, 375000]\n"
     ]
    }
   ],
   "source": [
    "# define number of samples to consider\n",
    "start_size = int(len(df_train))/10\n",
    "max_size =  int(len(df_train))\n",
    "sizes = np.arange(start_size, max_size, start_size)\n",
    "sizes = [int(round(no/1000) * 1000) for no in sizes]\n",
    "\n",
    "ic(sizes);\n"
   ]
  },
  {
   "cell_type": "code",
   "execution_count": 18,
   "metadata": {},
   "outputs": [
    {
     "data": {
      "text/plain": [
       "69"
      ]
     },
     "execution_count": 18,
     "metadata": {},
     "output_type": "execute_result"
    },
    {
     "name": "stderr",
     "output_type": "stream",
     "text": [
      "ic| n_samples: 42000\n",
      "ic| X.shape: (42000, 125)\n",
      "ic| y.shape: (42000,)\n"
     ]
    },
    {
     "name": "stdout",
     "output_type": "stream",
     "text": [
      "0.56 minutes\n",
      ">42000: 0.672 (0.008)\n"
     ]
    },
    {
     "data": {
      "text/plain": [
       "227"
      ]
     },
     "execution_count": 18,
     "metadata": {},
     "output_type": "execute_result"
    },
    {
     "name": "stderr",
     "output_type": "stream",
     "text": [
      "ic| n_samples: 83000\n",
      "ic| X.shape: (83000, 125)\n",
      "ic| y.shape: (83000,)\n"
     ]
    },
    {
     "name": "stdout",
     "output_type": "stream",
     "text": [
      "1.09 minutes\n",
      ">83000: 0.680 (0.004)\n"
     ]
    },
    {
     "data": {
      "text/plain": [
       "227"
      ]
     },
     "execution_count": 18,
     "metadata": {},
     "output_type": "execute_result"
    },
    {
     "name": "stderr",
     "output_type": "stream",
     "text": [
      "ic| n_samples: 125000\n",
      "ic| X.shape: (125000, 125)\n",
      "ic| y.shape: (125000,)\n"
     ]
    },
    {
     "name": "stdout",
     "output_type": "stream",
     "text": [
      "1.72 minutes\n",
      ">125000: 0.689 (0.003)\n"
     ]
    },
    {
     "data": {
      "text/plain": [
       "227"
      ]
     },
     "execution_count": 18,
     "metadata": {},
     "output_type": "execute_result"
    },
    {
     "name": "stderr",
     "output_type": "stream",
     "text": [
      "ic| n_samples: 167000\n",
      "ic| X.shape: (167000, 125)\n",
      "ic| y.shape: (167000,)\n"
     ]
    },
    {
     "name": "stdout",
     "output_type": "stream",
     "text": [
      "2.38 minutes\n",
      ">167000: 0.696 (0.003)\n"
     ]
    },
    {
     "data": {
      "text/plain": [
       "227"
      ]
     },
     "execution_count": 18,
     "metadata": {},
     "output_type": "execute_result"
    },
    {
     "name": "stderr",
     "output_type": "stream",
     "text": [
      "ic| n_samples: 208000\n",
      "ic| X.shape: (208000, 125)\n",
      "ic| y.shape: (208000,)\n"
     ]
    },
    {
     "name": "stdout",
     "output_type": "stream",
     "text": [
      "3.09 minutes\n",
      ">208000: 0.701 (0.003)\n"
     ]
    },
    {
     "data": {
      "text/plain": [
       "227"
      ]
     },
     "execution_count": 18,
     "metadata": {},
     "output_type": "execute_result"
    },
    {
     "name": "stderr",
     "output_type": "stream",
     "text": [
      "ic| n_samples: 250000\n",
      "ic| X.shape: (250000, 125)\n",
      "ic| y.shape: (250000,)\n"
     ]
    },
    {
     "name": "stdout",
     "output_type": "stream",
     "text": [
      "3.78 minutes\n",
      ">250000: 0.705 (0.002)\n"
     ]
    },
    {
     "data": {
      "text/plain": [
       "227"
      ]
     },
     "execution_count": 18,
     "metadata": {},
     "output_type": "execute_result"
    },
    {
     "name": "stderr",
     "output_type": "stream",
     "text": [
      "ic| n_samples: 292000\n",
      "ic| X.shape: (292000, 125)\n",
      "ic| y.shape: (292000,)\n"
     ]
    },
    {
     "name": "stdout",
     "output_type": "stream",
     "text": [
      "4.54 minutes\n",
      ">292000: 0.710 (0.001)\n"
     ]
    },
    {
     "data": {
      "text/plain": [
       "227"
      ]
     },
     "execution_count": 18,
     "metadata": {},
     "output_type": "execute_result"
    },
    {
     "name": "stderr",
     "output_type": "stream",
     "text": [
      "ic| n_samples: 333000\n",
      "ic| X.shape: (333000, 125)\n",
      "ic| y.shape: (333000,)\n"
     ]
    },
    {
     "name": "stdout",
     "output_type": "stream",
     "text": [
      "5.31 minutes\n",
      ">333000: 0.713 (0.002)\n"
     ]
    },
    {
     "data": {
      "text/plain": [
       "227"
      ]
     },
     "execution_count": 18,
     "metadata": {},
     "output_type": "execute_result"
    },
    {
     "name": "stderr",
     "output_type": "stream",
     "text": [
      "ic| n_samples: 375000\n",
      "ic| X.shape: (375000, 125)\n",
      "ic| y.shape: (375000,)\n"
     ]
    },
    {
     "name": "stdout",
     "output_type": "stream",
     "text": [
      "6.15 minutes\n",
      ">375000: 0.716 (0.002)\n"
     ]
    }
   ],
   "source": [
    "# evaluate each number of samples\n",
    "means = list()\n",
    "stds = list()\n",
    "err = list()\n",
    "k = 10\n",
    "\n",
    "for n_samples in sizes:\n",
    "    gc.collect()\n",
    "    # get a dataset\n",
    "    X, y = load_dataset(df_train, n_samples, rfecv_selected_feature)\n",
    "    # evaluate a model on this dataset size\n",
    "    mean, std = evaluate_model(X, y, k)\n",
    "    # store\n",
    "    means.append(mean)\n",
    "    stds.append(std)\n",
    "    # summarize performance\n",
    "    print('>%d: %.3f (%.3f)' % (n_samples, mean, std))\n",
    "\n",
    "# define error bar as 2 standard deviations from the mean or 95%\n",
    "err = [min(1, s * 2) for s in stds]"
   ]
  },
  {
   "cell_type": "code",
   "execution_count": 19,
   "metadata": {},
   "outputs": [
    {
     "data": {
      "text/html": [
       "<div>\n",
       "<style scoped>\n",
       "    .dataframe tbody tr th:only-of-type {\n",
       "        vertical-align: middle;\n",
       "    }\n",
       "\n",
       "    .dataframe tbody tr th {\n",
       "        vertical-align: top;\n",
       "    }\n",
       "\n",
       "    .dataframe thead th {\n",
       "        text-align: right;\n",
       "    }\n",
       "</style>\n",
       "<table border=\"1\" class=\"dataframe\">\n",
       "  <thead>\n",
       "    <tr style=\"text-align: right;\">\n",
       "      <th></th>\n",
       "      <th>Training Samples</th>\n",
       "      <th>Training Samples (log)</th>\n",
       "      <th>Accuracy Score</th>\n",
       "      <th>STD</th>\n",
       "      <th>Err</th>\n",
       "    </tr>\n",
       "  </thead>\n",
       "  <tbody>\n",
       "    <tr>\n",
       "      <th>0</th>\n",
       "      <td>42000</td>\n",
       "      <td>10.645425</td>\n",
       "      <td>0.672000</td>\n",
       "      <td>0.001561</td>\n",
       "      <td>0.015020</td>\n",
       "    </tr>\n",
       "    <tr>\n",
       "      <th>1</th>\n",
       "      <td>83000</td>\n",
       "      <td>11.326596</td>\n",
       "      <td>0.680253</td>\n",
       "      <td>0.001561</td>\n",
       "      <td>0.007953</td>\n",
       "    </tr>\n",
       "    <tr>\n",
       "      <th>2</th>\n",
       "      <td>125000</td>\n",
       "      <td>11.736069</td>\n",
       "      <td>0.688976</td>\n",
       "      <td>0.001561</td>\n",
       "      <td>0.005301</td>\n",
       "    </tr>\n",
       "    <tr>\n",
       "      <th>3</th>\n",
       "      <td>167000</td>\n",
       "      <td>12.025749</td>\n",
       "      <td>0.696347</td>\n",
       "      <td>0.001561</td>\n",
       "      <td>0.005061</td>\n",
       "    </tr>\n",
       "    <tr>\n",
       "      <th>4</th>\n",
       "      <td>208000</td>\n",
       "      <td>12.245293</td>\n",
       "      <td>0.701072</td>\n",
       "      <td>0.001561</td>\n",
       "      <td>0.005845</td>\n",
       "    </tr>\n",
       "    <tr>\n",
       "      <th>5</th>\n",
       "      <td>250000</td>\n",
       "      <td>12.429216</td>\n",
       "      <td>0.704900</td>\n",
       "      <td>0.001561</td>\n",
       "      <td>0.003171</td>\n",
       "    </tr>\n",
       "    <tr>\n",
       "      <th>6</th>\n",
       "      <td>292000</td>\n",
       "      <td>12.584509</td>\n",
       "      <td>0.709894</td>\n",
       "      <td>0.001561</td>\n",
       "      <td>0.002271</td>\n",
       "    </tr>\n",
       "    <tr>\n",
       "      <th>7</th>\n",
       "      <td>333000</td>\n",
       "      <td>12.715898</td>\n",
       "      <td>0.713162</td>\n",
       "      <td>0.001561</td>\n",
       "      <td>0.004475</td>\n",
       "    </tr>\n",
       "    <tr>\n",
       "      <th>8</th>\n",
       "      <td>375000</td>\n",
       "      <td>12.834681</td>\n",
       "      <td>0.716016</td>\n",
       "      <td>0.001561</td>\n",
       "      <td>0.003121</td>\n",
       "    </tr>\n",
       "  </tbody>\n",
       "</table>\n",
       "</div>"
      ],
      "text/plain": [
       "   Training Samples  Training Samples (log)  Accuracy Score       STD  \\\n",
       "0             42000               10.645425        0.672000  0.001561   \n",
       "1             83000               11.326596        0.680253  0.001561   \n",
       "2            125000               11.736069        0.688976  0.001561   \n",
       "3            167000               12.025749        0.696347  0.001561   \n",
       "4            208000               12.245293        0.701072  0.001561   \n",
       "5            250000               12.429216        0.704900  0.001561   \n",
       "6            292000               12.584509        0.709894  0.001561   \n",
       "7            333000               12.715898        0.713162  0.001561   \n",
       "8            375000               12.834681        0.716016  0.001561   \n",
       "\n",
       "        Err  \n",
       "0  0.015020  \n",
       "1  0.007953  \n",
       "2  0.005301  \n",
       "3  0.005061  \n",
       "4  0.005845  \n",
       "5  0.003171  \n",
       "6  0.002271  \n",
       "7  0.004475  \n",
       "8  0.003121  "
      ]
     },
     "execution_count": 19,
     "metadata": {},
     "output_type": "execute_result"
    }
   ],
   "source": [
    "df_results = pd.DataFrame(\n",
    "    {\n",
    "    'Training Samples': sizes,\n",
    "    'Training Samples (log)': np.log(sizes),\n",
    "    'Accuracy Score': means, \n",
    "    'STD': std,\n",
    "    'Err': err,\n",
    "    }\n",
    ")\n",
    "\n",
    "df_results"
   ]
  },
  {
   "cell_type": "code",
   "execution_count": 20,
   "metadata": {},
   "outputs": [
    {
     "data": {
      "image/png": "[encoded data removed]",
      "text/plain": [
       "<Figure size 1200x800 with 1 Axes>"
      ]
     },
     "metadata": {},
     "output_type": "display_data"
    }
   ],
   "source": [
    "# plot dataset size vs mean performance with error bars\n",
    "plt.errorbar(sizes, means, yerr=err, fmt='-o', label='Model Performance')\n",
    "#plt.rcParams[\"figure.figsize\"] = (4,4)\n",
    "\n",
    "# change the scale of the x-axis to log\n",
    "ax = plt.gca()\n",
    "ax.set_xscale(\"log\", nonpositive='clip')\n",
    "\n",
    "# add labels and titles to the plot\n",
    "plt.title('Random Forest Model Performance vs Dataset Size', fontsize=11)\n",
    "plt.xlabel('Training Samples (log scale)', fontsize=10)\n",
    "plt.ylabel('Cross-Validation Accuracy', fontsize=10)\n",
    "plt.legend()\n",
    "\n",
    "# show the plot\n",
    "plt.show();"
   ]
  },
  {
   "cell_type": "code",
   "execution_count": 21,
   "metadata": {},
   "outputs": [
    {
     "name": "stdout",
     "output_type": "stream",
     "text": [
      "28.88 minutes\n"
     ]
    }
   ],
   "source": [
    "t_end = time.time()\n",
    "calculate_duration(t_start, t_end);\n"
   ]
  },
  {
   "attachments": {},
   "cell_type": "markdown",
   "metadata": {},
   "source": [
    "# Export"
   ]
  },
  {
   "cell_type": "code",
   "execution_count": 22,
   "metadata": {},
   "outputs": [
    {
     "data": {
      "text/plain": [
       "<Figure size 1200x800 with 0 Axes>"
      ]
     },
     "metadata": {},
     "output_type": "display_data"
    }
   ],
   "source": [
    "today = date.today()\n",
    "# Save the figure\n",
    "if not FASTRUN:\n",
    "    plt.savefig(ROOT_PATH+PATH_DATA_FIG+f'{today}_Learning_curve_CV{k}_chart_07.01.png');"
   ]
  },
  {
   "cell_type": "code",
   "execution_count": 23,
   "metadata": {},
   "outputs": [],
   "source": [
    "if not FASTRUN:\n",
    "    df_results.to_csv(ROOT_PATH+PATH_DATA_REP+f'{today}_Learning_curve_CV{k}_table_07.01.csv', index=False)\n",
    " "
   ]
  },
  {
   "cell_type": "markdown",
   "metadata": {
    "id": "ti9wgudgBzw9"
   },
   "source": [
    "# Watermark"
   ]
  },
  {
   "cell_type": "code",
   "execution_count": 24,
   "metadata": {
    "id": "f7PuaC1JBzw-",
    "outputId": "aafeadff-3431-44e5-fa8f-d94281a641d6"
   },
   "outputs": [
    {
     "name": "stdout",
     "output_type": "stream",
     "text": [
      "Last updated: 2023-02-24T23:32:51.098328+01:00\n",
      "\n",
      "Python implementation: CPython\n",
      "Python version       : 3.10.8\n",
      "IPython version      : 8.8.0\n",
      "\n",
      "Compiler    : MSC v.1929 64 bit (AMD64)\n",
      "OS          : Windows\n",
      "Release     : 10\n",
      "Machine     : AMD64\n",
      "Processor   : Intel64 Family 6 Model 158 Stepping 13, GenuineIntel\n",
      "CPU cores   : 8\n",
      "Architecture: 64bit\n",
      "\n"
     ]
    }
   ],
   "source": [
    "%watermark"
   ]
  },
  {
   "cell_type": "code",
   "execution_count": 25,
   "metadata": {
    "id": "SU12PVZ2BzxA",
    "outputId": "35145233-ba98-423f-ca77-95011e8cd3af"
   },
   "outputs": [
    {
     "name": "stdout",
     "output_type": "stream",
     "text": [
      "numpy     : 1.24.1\n",
      "seaborn   : 0.12.2\n",
      "matplotlib: 3.6.3\n",
      "pandas    : 1.5.3\n",
      "\n"
     ]
    }
   ],
   "source": [
    "%watermark --iversions"
   ]
  },
  {
   "cell_type": "markdown",
   "metadata": {
    "id": "BdlIIXzYnOiW"
   },
   "source": [
    "-----\n"
   ]
  },
  {
   "cell_type": "code",
   "execution_count": 26,
   "metadata": {},
   "outputs": [
    {
     "name": "stderr",
     "output_type": "stream",
     "text": [
      "[NbConvertApp] Converting notebook 07.01_model_evaluation_learning_curve_GC.ipynb to html\n",
      "[NbConvertApp] Writing 632804 bytes to ..\\reports\\html\\2023-02-24_07.01_model_evaluation_learning_curve_GC.html\n"
     ]
    }
   ],
   "source": [
    "output_file = f'{ROOT_PATH}{PATH_DATA_HTML}{today}_07.01_model_evaluation_learning_curve.html'\n",
    "!jupyter nbconvert --to html \"07.01_model_evaluation_learning_curve.ipynb\" --output {output_file}"
   ]
  }
 ],
 "metadata": {
  "colab": {
   "provenance": []
  },
  "deepnote": {},
  "deepnote_app_layout": "article",
  "deepnote_execution_queue": [],
  "deepnote_notebook_id": "9a9c04096ce744f096ec4c3e58773e56",
  "deepnote_persisted_session": {
   "createdAt": "2023-01-25T20:01:30.909Z"
  },
  "kernelspec": {
   "display_name": "siads696",
   "language": "python",
   "name": "python3"
  },
  "language_info": {
   "codemirror_mode": {
    "name": "ipython",
    "version": 3
   },
   "file_extension": ".py",
   "mimetype": "text/x-python",
   "name": "python",
   "nbconvert_exporter": "python",
   "pygments_lexer": "ipython3",
   "version": "3.9.0"
  },
  "vscode": {
   "interpreter": {
    "hash": "e06bb46ff2b522e8ed41cde06a3284743bf4ee3b709766dafa5d4f926bdfb013"
   }
  }
 },
 "nbformat": 4,
 "nbformat_minor": 0
}
