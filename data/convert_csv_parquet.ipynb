{
 "cells": [
  {
   "cell_type": "code",
   "execution_count": 1,
   "metadata": {},
   "outputs": [
    {
     "name": "stdout",
     "output_type": "stream",
     "text": [
      "['train_features_w2v.csv', 'test_features_aoa_aoa_bird_lem.csv', 'train_features_nltk.csv', 'test_features_aoa_aoa_bristol_lem.csv', 'test_features_aoa_aoa_schock.csv', 'test_features_aoa_dom_pos_subtlex.csv', 'train_features_rs.csv', 'train_features_aoa_freq_pm.csv', 'train_features_aoa_dom_pos_subtlex.csv', 'train_features_aoa_aoa_bristol_lem.csv', 'test_features_aoa_aoa_kup.csv', 'test_features_nltk.csv', 'train_features_aoa_perc_known.csv', 'test_features_aoa_perc_known_lem.csv', 'test_features_aoa.csv', 'train_features_crb.csv', 'test_features_aoa_aoa_cort_lem.csv', 'train_features_aoa_aoa_kup.csv', 'test_features_w2v.csv', 'train_features_aoa_perc_known_lem.csv', 'train_features_aoa_freq_pm_.csv', 'train_features_aoa_aoa_schock.csv', 'train_features_aoa_aoa_cort_lem.csv', 'test_features_aoa_aoa_kup_lem.csv', 'train_features_aoa_aoa_kup_lem.csv', 'test_features_rs.csv', 'train_features_aoa_aoa_bird_lem.csv', 'test_features_aoa_perc_known.csv', 'test_features_aoa_freq_pm.csv', 'train_high_variance_features.csv', 'train_features_aoa.csv', 'test_features_crb.csv']\n",
      "\n",
      "Converting: train_features_w2v.csv\n",
      "Converting: test_features_aoa_aoa_bird_lem.csv\n",
      "Converting: train_features_nltk.csv\n",
      "Converting: test_features_aoa_aoa_bristol_lem.csv\n",
      "Converting: test_features_aoa_aoa_schock.csv\n",
      "Converting: test_features_aoa_dom_pos_subtlex.csv\n",
      "Converting: train_features_rs.csv\n",
      "Converting: train_features_aoa_freq_pm.csv\n",
      "Converting: train_features_aoa_dom_pos_subtlex.csv\n",
      "Converting: train_features_aoa_aoa_bristol_lem.csv\n",
      "Converting: test_features_aoa_aoa_kup.csv\n",
      "Converting: test_features_nltk.csv\n",
      "Converting: train_features_aoa_perc_known.csv\n",
      "Converting: test_features_aoa_perc_known_lem.csv\n",
      "Converting: test_features_aoa.csv\n",
      "Converting: train_features_crb.csv\n",
      "Converting: test_features_aoa_aoa_cort_lem.csv\n",
      "Converting: train_features_aoa_aoa_kup.csv\n",
      "Converting: test_features_w2v.csv\n",
      "Converting: train_features_aoa_perc_known_lem.csv\n",
      "Converting: train_features_aoa_freq_pm_.csv\n",
      "Converting: train_features_aoa_aoa_schock.csv\n",
      "Converting: train_features_aoa_aoa_cort_lem.csv\n",
      "Converting: test_features_aoa_aoa_kup_lem.csv\n",
      "Converting: train_features_aoa_aoa_kup_lem.csv\n",
      "Converting: test_features_rs.csv\n",
      "Converting: train_features_aoa_aoa_bird_lem.csv\n",
      "Converting: test_features_aoa_perc_known.csv\n",
      "Converting: test_features_aoa_freq_pm.csv\n",
      "Converting: train_high_variance_features.csv\n",
      "Converting: train_features_aoa.csv\n",
      "Converting: test_features_crb.csv\n"
     ]
    }
   ],
   "source": [
    "import pandas as pd\n",
    "import os\n",
    "\n",
    "# Define the input and output folders\n",
    "input_folder = 'interim/'\n",
    "output_folder = 'interim/'\n",
    "\n",
    "# Get a list of all the CSV files in the input folder\n",
    "csv_files = [file for file in os.listdir(input_folder) if file.endswith('.csv')]\n",
    "print(csv_files)\n",
    "print()\n",
    "\n",
    "# Loop through each CSV file, convert it to a DataFrame, and export it as a Parquet file\n",
    "for file in csv_files:\n",
    "    print(\"Converting:\",file)\n",
    "    # Read in the CSV file as a DataFrame\n",
    "    df = pd.read_csv(input_folder + file)\n",
    "    \n",
    "    # Export the DataFrame as a compressed Parquet file\n",
    "    df.to_parquet(output_folder + file.replace('.csv', '.parquet.gzip'), compression='gzip')\n"
   ]
  }
 ],
 "metadata": {
  "kernelspec": {
   "display_name": "siads696",
   "language": "python",
   "name": "python3"
  },
  "language_info": {
   "codemirror_mode": {
    "name": "ipython",
    "version": 3
   },
   "file_extension": ".py",
   "mimetype": "text/x-python",
   "name": "python",
   "nbconvert_exporter": "python",
   "pygments_lexer": "ipython3",
   "version": "3.9.0"
  },
  "orig_nbformat": 4,
  "vscode": {
   "interpreter": {
    "hash": "e06bb46ff2b522e8ed41cde06a3284743bf4ee3b709766dafa5d4f926bdfb013"
   }
  }
 },
 "nbformat": 4,
 "nbformat_minor": 2
}
